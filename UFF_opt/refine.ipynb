{
 "cells": [
  {
   "cell_type": "code",
   "execution_count": 7,
   "metadata": {},
   "outputs": [
    {
     "name": "stderr",
     "output_type": "stream",
     "text": [
      "Warning on use of the timeseries module: If the inherent timescales of the system are long compared to those being analyzed, this statistical inefficiency may be an underestimate.  The estimate presumes the use of many statistically independent samples.  Tests should be performed to assess whether this condition is satisfied.   Be cautious in the interpretation of the data.\n"
     ]
    }
   ],
   "source": [
    "import openmm.app as app\n",
    "import openmm as mm\n",
    "import openmm.unit as unit\n",
    "import numpy as np\n",
    "import jax\n",
    "import jax.numpy as jnp\n",
    "import dmff\n",
    "from dmff.api.xmlio import XMLIO\n",
    "from dmff.api.paramset import ParamSet\n",
    "from dmff.generators.classical import CoulombGenerator, LennardJonesGenerator\n",
    "from dmff.api.hamiltonian import Hamiltonian\n",
    "from dmff.operators import ParmedLennardJonesOperator\n",
    "from dmff import NeighborListFreud\n",
    "from dmff.mbar import ReweightEstimator\n",
    "import mdtraj as md\n",
    "from tqdm import tqdm, trange\n",
    "import parmed\n",
    "import sys\n",
    "import os\n",
    "from dmff.api.topology import DMFFTopology"
   ]
  },
  {
   "cell_type": "markdown",
   "metadata": {},
   "source": [
    "Here I construct the initial force field Lenard-Jone potential and Coulume potential from UFF and MIL-120 from aiida-plugin\n",
    "\n",
    "The force field file in RASPA: epsilon units (Kelvin); sigma(Angstrom)\n",
    "\n",
    "Al_     LENNARD_JONES   254.152 4.0082\n",
    "C_      LENNARD_JONES   52.8435 3.4309\n",
    "H_      LENNARD_JONES   22.1439 2.5711\n",
    "O_      LENNARD_JONES   30.1963 3.1181\n",
    "O_co2   LENNARD_JONES   79.0    3.05\n",
    "C_co2   LENNARD_JONES   27.0    2.80\n",
    "\n",
    "The force field file in OpenMM: epsilon units (KJ/mol); sigma(nm)\n",
    "\n",
    "Al_     LENNARD_JONES   2.1019    0.40082\n",
    "C_      LENNARD_JONES   0.4400    0.34309\n",
    "H_      LENNARD_JONES   0.1841    0.25711\n",
    "O_      LENNARD_JONES   0.2513    0.31181\n",
    "O_co2   LENNARD_JONES   0.6577    0.30500\n",
    "C_co2   LENNARD_JONES   0.2249    0.28000\n",
    "\n"
   ]
  },
  {
   "cell_type": "code",
   "execution_count": 69,
   "metadata": {},
   "outputs": [
    {
     "name": "stdout",
     "output_type": "stream",
     "text": [
      "[{'label': 'Al', 'charge': 1.65857, 'position': array([0.29166, 0.29186, 0.58401]), 'epsilon': 2.1019, 'sigma': 0.40082}, {'label': 'Al', 'charge': 1.65856, 'position': array([0.70833, 0.70814, 0.416  ]), 'epsilon': 2.1019, 'sigma': 0.40082}, {'label': 'Al', 'charge': 1.64626, 'position': array([-0. ,  0.5,  0.5]), 'epsilon': 2.1019, 'sigma': 0.40082}, {'label': 'Al', 'charge': 1.64749, 'position': array([ 0.5, -0. ,  0.5]), 'epsilon': 2.1019, 'sigma': 0.40082}, {'label': 'H', 'charge': 0.41785, 'position': array([0.01775, 0.34267, 0.67087]), 'epsilon': 0.1841, 'sigma': 0.25711}, {'label': 'H', 'charge': 0.41373, 'position': array([0.14093, 0.93835, 0.4632 ]), 'epsilon': 0.1841, 'sigma': 0.25711}, {'label': 'H', 'charge': 0.41657, 'position': array([0.65156, 0.32865, 0.67108]), 'epsilon': 0.1841, 'sigma': 0.25711}, {'label': 'H', 'charge': 0.41461, 'position': array([0.32343, 0.52517, 0.46387]), 'epsilon': 0.1841, 'sigma': 0.25711}, {'label': 'H', 'charge': 0.41773, 'position': array([0.98225, 0.65733, 0.32913]), 'epsilon': 0.1841, 'sigma': 0.25711}, {'label': 'H', 'charge': 0.41364, 'position': array([0.85906, 0.06165, 0.5368 ]), 'epsilon': 0.1841, 'sigma': 0.25711}, {'label': 'H', 'charge': 0.41658, 'position': array([0.34843, 0.67135, 0.32893]), 'epsilon': 0.1841, 'sigma': 0.25711}, {'label': 'H', 'charge': 0.41466, 'position': array([0.67656, 0.47484, 0.53613]), 'epsilon': 0.1841, 'sigma': 0.25711}, {'label': 'H', 'charge': 0.12728, 'position': array([5.4939e-01, 3.3475e-01, 1.2000e-04]), 'epsilon': 0.1841, 'sigma': 0.25711}, {'label': 'H', 'charge': 0.12726, 'position': array([ 4.5061e-01,  6.6525e-01, -1.2000e-04]), 'epsilon': 0.1841, 'sigma': 0.25711}, {'label': 'C', 'charge': 0.62462, 'position': array([0.42015, 0.06973, 0.75015]), 'epsilon': 0.44, 'sigma': 0.34309}, {'label': 'C', 'charge': -0.02738, 'position': array([0.45269, 0.03396, 0.87898]), 'epsilon': 0.44, 'sigma': 0.34309}, {'label': 'C', 'charge': 0.62697, 'position': array([0.32795, 0.68022, 0.75035]), 'epsilon': 0.44, 'sigma': 0.34309}, {'label': 'C', 'charge': -0.0317, 'position': array([0.42485, 0.84504, 0.87896]), 'epsilon': 0.44, 'sigma': 0.34309}, {'label': 'C', 'charge': 0.62454, 'position': array([0.57984, 0.93027, 0.24985]), 'epsilon': 0.44, 'sigma': 0.34309}, {'label': 'C', 'charge': -0.02728, 'position': array([0.54731, 0.96605, 0.12102]), 'epsilon': 0.44, 'sigma': 0.34309}, {'label': 'C', 'charge': 0.62705, 'position': array([0.67205, 0.31978, 0.24965]), 'epsilon': 0.44, 'sigma': 0.34309}, {'label': 'C', 'charge': -0.03187, 'position': array([0.57514, 0.15496, 0.12104]), 'epsilon': 0.44, 'sigma': 0.34309}, {'label': 'C', 'charge': -0.11722, 'position': array([5.2612e-01, 1.8828e-01, 2.0000e-05]), 'epsilon': 0.44, 'sigma': 0.34309}, {'label': 'C', 'charge': -0.11724, 'position': array([ 4.7387e-01,  8.1172e-01, -2.0000e-05]), 'epsilon': 0.44, 'sigma': 0.34309}, {'label': 'O', 'charge': -0.9263, 'position': array([0.02467, 0.30506, 0.58107]), 'epsilon': 0.2513, 'sigma': 0.31181}, {'label': 'O', 'charge': -0.97561, 'position': array([0.24059, 0.04034, 0.46407]), 'epsilon': 0.2513, 'sigma': 0.31181}, {'label': 'O', 'charge': -0.60514, 'position': array([0.32432, 0.19875, 0.73318]), 'epsilon': 0.2513, 'sigma': 0.31181}, {'label': 'O', 'charge': -0.57838, 'position': array([0.50078, 0.9746 , 0.67062]), 'epsilon': 0.2513, 'sigma': 0.31181}, {'label': 'O', 'charge': -0.92481, 'position': array([0.55599, 0.27576, 0.58107]), 'epsilon': 0.2513, 'sigma': 0.31181}, {'label': 'O', 'charge': -0.97588, 'position': array([0.22401, 0.42427, 0.4644 ]), 'epsilon': 0.2513, 'sigma': 0.31181}, {'label': 'O', 'charge': -0.60682, 'position': array([0.40724, 0.53436, 0.73313]), 'epsilon': 0.2513, 'sigma': 0.31181}, {'label': 'O', 'charge': -0.57781, 'position': array([0.1675 , 0.6954 , 0.67145]), 'epsilon': 0.2513, 'sigma': 0.31181}, {'label': 'O', 'charge': -0.92626, 'position': array([0.97532, 0.69494, 0.41893]), 'epsilon': 0.2513, 'sigma': 0.31181}, {'label': 'O', 'charge': -0.97553, 'position': array([0.7594 , 0.95966, 0.53594]), 'epsilon': 0.2513, 'sigma': 0.31181}, {'label': 'O', 'charge': -0.60522, 'position': array([0.67568, 0.80125, 0.26682]), 'epsilon': 0.2513, 'sigma': 0.31181}, {'label': 'O', 'charge': -0.57825, 'position': array([0.49922, 0.02541, 0.32938]), 'epsilon': 0.2513, 'sigma': 0.31181}, {'label': 'O', 'charge': -0.92474, 'position': array([0.444  , 0.72424, 0.41894]), 'epsilon': 0.2513, 'sigma': 0.31181}, {'label': 'O', 'charge': -0.97585, 'position': array([0.77598, 0.57573, 0.5356 ]), 'epsilon': 0.2513, 'sigma': 0.31181}, {'label': 'O', 'charge': -0.60674, 'position': array([0.59276, 0.46565, 0.26687]), 'epsilon': 0.2513, 'sigma': 0.31181}, {'label': 'O', 'charge': -0.57792, 'position': array([0.83249, 0.3046 , 0.32855]), 'epsilon': 0.2513, 'sigma': 0.31181}]\n"
     ]
    }
   ],
   "source": [
    "# masses for different elements\n",
    "elem_masses = {\n",
    "    'Al': 26.9815386,  # Mass of Aluminum (Al) in amu\n",
    "    'O': 15.999,       # Mass of Oxygen (O) in amu\n",
    "    'C': 12.011,       # Mass of Carbon (C) in amu\n",
    "    'H': 1.00784       # Mass of Hydrogen (H) in amu\n",
    "}\n",
    "\n",
    "# get Lenard-Jones potential parameters according to different element from def file\n",
    "\n",
    "lj_parameters = {\n",
    "    'Al_': {\n",
    "        'epsilon': 2.1019,  # kJ/mol\n",
    "        'sigma': 0.40082  # nm\n",
    "    },\n",
    "    'C_': {\n",
    "        'epsilon': 0.4400,  # kJ/mol\n",
    "        'sigma': 0.34309  # nm\n",
    "    },\n",
    "    'H_': {\n",
    "        'epsilon': 0.1841,  # kJ/mol\n",
    "        'sigma': 0.25711  # nm\n",
    "    },\n",
    "    'O_': {\n",
    "        'epsilon': 0.2513,  # kJ/mol\n",
    "        'sigma': 0.31181  # nm\n",
    "    },\n",
    "    'O_co2': {\n",
    "        'epsilon': 0.6577,  # kJ/mol\n",
    "        'sigma': 0.30500  # nm\n",
    "    },\n",
    "    'C_co2': {\n",
    "        'epsilon': 0.2249,  # kJ/mol\n",
    "        'sigma': 0.28000  # nm\n",
    "    }\n",
    "}\n",
    "\n",
    "# get atomic information from cif files\n",
    "\n",
    "# firstly, I construct the system for the MIL-120 framework\n",
    "\n",
    "from CifFile import ReadCif\n",
    "\n",
    "# Load the CIF file\n",
    "cif_file = \"/home/yutao/softwares/RASPA2/../MIL-120/MIL-120.cif\"\n",
    "\n",
    "# Read the CIF file\n",
    "cif_data = ReadCif(cif_file)\n",
    "\n",
    "# Extract information for each atom\n",
    "atom_data = []\n",
    "\n",
    "# Loop through the CIF data blocks\n",
    "for block in cif_data:\n",
    "    if '_atom_site_label' in block and '_atom_site_charge' in block and '_atom_site_fract_x' in block and '_atom_site_fract_y' in block and '_atom_site_fract_z' in block:\n",
    "        labels = block['_atom_site_label']\n",
    "        charge_values = block['_atom_site_charge']\n",
    "        x_positions = block['_atom_site_fract_x']\n",
    "        y_positions = block['_atom_site_fract_y']\n",
    "        z_positions = block['_atom_site_fract_z']\n",
    "\n",
    "        for label, charge, x, y, z in zip(labels, charge_values, x_positions, y_positions, z_positions):\n",
    "            atom_data.append({\n",
    "                'label': label,\n",
    "                'charge': float(charge),\n",
    "                'position': np.array([float(x), float(y), float(z)]),\n",
    "                'epsilon': lj_parameters[label+'_']['epsilon'],\n",
    "                'sigma': lj_parameters[label+'_']['sigma']\n",
    "            })\n",
    "\n",
    "# Now you have a list of dictionaries, each containing label, charge, and position\n",
    "print(atom_data)"
   ]
  },
  {
   "cell_type": "code",
   "execution_count": 4,
   "metadata": {},
   "outputs": [
    {
     "name": "stderr",
     "output_type": "stream",
     "text": [
      "==============================\n",
      "*** Open Babel Warning  in parseAtomRecord\n",
      "  WARNING: Problems reading a PDB file\n",
      "  Problems reading a HETATM or ATOM record.\n",
      "  According to the PDB specification,\n",
      "  columns 79-80 should contain charge of the atom\n",
      "  but OpenBabel found '_c' (atom 41).\n",
      "==============================\n",
      "*** Open Babel Warning  in parseAtomRecord\n",
      "  WARNING: Problems reading a PDB file\n",
      "  Problems reading a HETATM or ATOM record.\n",
      "  According to the PDB specification,\n",
      "  columns 79-80 should contain charge of the atom\n",
      "  but OpenBabel found '_c' (atom 42).\n",
      "==============================\n",
      "*** Open Babel Warning  in parseAtomRecord\n",
      "  WARNING: Problems reading a PDB file\n",
      "  Problems reading a HETATM or ATOM record.\n",
      "  According to the PDB specification,\n",
      "  columns 79-80 should contain charge of the atom\n",
      "  but OpenBabel found '_c' (atom 43).\n"
     ]
    },
    {
     "data": {
      "text/plain": [
       "True"
      ]
     },
     "execution_count": 4,
     "metadata": {},
     "output_type": "execute_result"
    }
   ],
   "source": [
    "from openbabel import openbabel as ob\n",
    "# Create an Open Babel molecule object\n",
    "\n",
    "mol = ob.OBMol()\n",
    "\n",
    "# Read the input MOL file\n",
    "input_pdbfile = \"MIL120_loading.pdb\"\n",
    "input_format = \"pdb\"\n",
    "obConversion = ob.OBConversion()\n",
    "obConversion.SetInAndOutFormats(input_format, input_format)\n",
    "obConversion.ReadFile(mol, input_pdbfile)\n",
    "\n",
    "# Remove CONECT lines\n",
    "for atom in ob.OBMolAtomIter(mol):\n",
    "    atom.DeleteData(\"connect\")\n",
    "\n",
    "# Write the modified molecule to a new PDB file\n",
    "output_pdbfile = \"MIL120_loading.mol2\"\n",
    "output_format = \"mol2\"\n",
    "obConversion.SetInAndOutFormats(output_format, output_format)\n",
    "obConversion.WriteFile(mol, output_pdbfile)\n"
   ]
  },
  {
   "cell_type": "code",
   "execution_count": 3,
   "metadata": {},
   "outputs": [
    {
     "data": {
      "text/plain": [
       "True"
      ]
     },
     "execution_count": 3,
     "metadata": {},
     "output_type": "execute_result"
    }
   ],
   "source": [
    "output_pdbfile = \"MIL-120-new.gro\"\n",
    "output_format = \"gro\"\n",
    "obConversion.SetInAndOutFormats(output_format, output_format)\n",
    "obConversion.WriteFile(mol, output_pdbfile)"
   ]
  },
  {
   "cell_type": "code",
   "execution_count": 2,
   "metadata": {},
   "outputs": [
    {
     "ename": "",
     "evalue": "",
     "output_type": "error",
     "traceback": [
      "\u001b[1;31mThe Kernel crashed while executing code in the the current cell or a previous cell. Please review the code in the cell(s) to identify a possible cause of the failure. Click <a href='https://aka.ms/vscodeJupyterKernelCrash'>here</a> for more info. View Jupyter <a href='command:jupyter.viewOutput'>log</a> for further details."
     ]
    }
   ],
   "source": [
    "import openbabel\n",
    "import subprocess\n",
    "\n",
    "import shutil\n",
    "\n",
    "# Step 1: Convert MOL2 to GRO\n",
    "\n",
    "obConversion = openbabel.OBConversion()\n",
    "obConversion.SetInAndOutFormats(\"mol2\", \"gro\")\n",
    "\n",
    "mol = openbabel.OBMol()\n",
    "obConversion.ReadFile(mol, \"MIL-120-new.mol2\")\n",
    "obConversion.WriteFile(mol, \"MIL-120-new.gro\")"
   ]
  },
  {
   "cell_type": "code",
   "execution_count": null,
   "metadata": {},
   "outputs": [],
   "source": [
    "from openbabel import openbabel as ob\n",
    "# Create an Open Babel molecule object\n",
    "mol = ob.OBMol()\n",
    "\n",
    "# Read the input MOL file\n",
    "input_pdbfile = \"Framework_final.pdb\"\n",
    "input_format = \"pdb\"\n",
    "obConversion = ob.OBConversion()\n",
    "obConversion.SetInAndOutFormats(input_format, input_format)\n",
    "obConversion.ReadFile(mol, input_pdbfile)\n",
    "\n",
    "# Remove CONECT lines\n",
    "for atom in ob.OBMolAtomIter(mol):\n",
    "    atom.DeleteData(\"connect\")\n",
    "\n",
    "# Write the modified molecule to a new PDB file\n",
    "output_pdbfile = \"MIL-120-new.pdb\"\n",
    "output_format = \"pdb\"\n",
    "obConversion.SetInAndOutFormats(output_format, output_format)\n",
    "obConversion.WriteFile(mol, output_pdbfile)\n"
   ]
  },
  {
   "cell_type": "code",
   "execution_count": 64,
   "metadata": {},
   "outputs": [
    {
     "name": "stdout",
     "output_type": "stream",
     "text": [
      "XML file created: custom_forcefield.xml\n"
     ]
    }
   ],
   "source": [
    "\"\"\"\n",
    "\n",
    "Construct Lenard-Jones potential part for MIL-120 structure.\n",
    "\n",
    "\"\"\"\n",
    "\n",
    "\n",
    "\n",
    "import xml.etree.ElementTree as ET\n",
    "import xml.dom.minidom as minidom\n",
    "\n",
    "# Create the root element\n",
    "root = ET.Element(\"ForceField\")\n",
    "\n",
    "# Create the LennardJonesForce element\n",
    "lj_force = ET.SubElement(root, \"LennardJonesForce\")\n",
    "lj_force.set(\"lj14scale\", \"0.50000\")\n",
    "\n",
    "\n",
    "# Add Atom elements for each atom\n",
    "for symbol in lj_parameters.keys():\n",
    "    atom = ET.SubElement(lj_force, \"Atom\")\n",
    "    atom.set(\"epsilon\", str(lj_parameters[symbol][\"epsilon\"]))\n",
    "    atom.set(\"sigma\", str(lj_parameters[symbol][\"sigma\"]))\n",
    "    atom.set(\"type\", symbol)\n",
    "\n",
    "# Create an ElementTree\n",
    "tree = ET.ElementTree(root)\n",
    "\n",
    "# Convert the ElementTree to a formatted string with line breaks\n",
    "xml_string = minidom.parseString(ET.tostring(root)).toprettyxml(indent=\"    \")\n",
    "\n",
    "# Remove the XML declaration line\n",
    "xml_lines = xml_string.split(\"\\n\")[1:]\n",
    "\n",
    "# Write the formatted XML string to a file\n",
    "with open(\"custom_forcefield_new.xml\", \"w\") as xml_file:\n",
    "    xml_file.write(\"\\n\".join(xml_lines))\n",
    "\n",
    "print(\"XML file created: custom_forcefield.xml\")\n"
   ]
  },
  {
   "cell_type": "code",
   "execution_count": null,
   "metadata": {},
   "outputs": [],
   "source": [
    "particle_number =  500             #液体pdb文件中的分子数\n",
    "target_han= 50.52                  #拟合的目标蒸发焓\n",
    "SET_temperature=  293.15           #温度设定\n",
    "time_gap=   2                      #分子动力学模拟过程中每一个frame的时间间隔，单位是皮秒picosecond   推荐2-4ps\n",
    "loop_time =   50                   #迭代循环次数    推荐50-100\n",
    "save_step =   125                  #保存的frame数  推荐150-200\n",
    "skip_step =    25                   #计算各种物理常数之前，达到平衡所需要的步数\n",
    "length_step = (skip_step+save_step) #分子动力学模拟生成的dcd文件存储的frame个数，与time_gap共同决定总模拟的时长，总时长=length_step*time_gap"
   ]
  },
  {
   "cell_type": "code",
   "execution_count": 113,
   "metadata": {},
   "outputs": [],
   "source": [
    "pdb = app.PDBFile(\"MIL120_loading.pdb\")\n",
    "\n",
    "# Add print statements for debugging\n",
    "for atom in pdb.topology.atoms():\n",
    "    continue\n",
    "    print(f\"Atom: {atom.name}, Residue: {atom.residue.name}, Atom Type: {atom.element}\")\n",
    "ff = app.ForceField(\"custom_forcefield_new.xml\")\n",
    "system = ff.createSystem(pdb.topology, nonbondedMethod=app.Ewald, constraints=None, removeCMMotion=False)\n"
   ]
  },
  {
   "cell_type": "code",
   "execution_count": 109,
   "metadata": {},
   "outputs": [
    {
     "name": "stdout",
     "output_type": "stream",
     "text": [
      "Atom: Al1, Residue: MOL, Atom Type: <Element aluminum>\n",
      "Atom: Al2, Residue: MOL, Atom Type: <Element aluminum>\n",
      "Atom: Al3, Residue: MOL, Atom Type: <Element aluminum>\n",
      "Atom: Al4, Residue: MOL, Atom Type: <Element aluminum>\n",
      "Atom: H1, Residue: MOL, Atom Type: <Element hydrogen>\n",
      "Atom: H2, Residue: MOL, Atom Type: <Element hydrogen>\n",
      "Atom: H3, Residue: MOL, Atom Type: <Element hydrogen>\n",
      "Atom: H4, Residue: MOL, Atom Type: <Element hydrogen>\n",
      "Atom: H5, Residue: MOL, Atom Type: <Element hydrogen>\n",
      "Atom: H6, Residue: MOL, Atom Type: <Element hydrogen>\n",
      "Atom: H7, Residue: MOL, Atom Type: <Element hydrogen>\n",
      "Atom: H8, Residue: MOL, Atom Type: <Element hydrogen>\n",
      "Atom: H9, Residue: MOL, Atom Type: <Element hydrogen>\n",
      "Atom: H10, Residue: MOL, Atom Type: <Element hydrogen>\n",
      "Atom: C1, Residue: MOL, Atom Type: <Element carbon>\n",
      "Atom: C2, Residue: MOL, Atom Type: <Element carbon>\n",
      "Atom: C3, Residue: MOL, Atom Type: <Element carbon>\n",
      "Atom: C4, Residue: MOL, Atom Type: <Element carbon>\n",
      "Atom: C5, Residue: MOL, Atom Type: <Element carbon>\n",
      "Atom: C6, Residue: MOL, Atom Type: <Element carbon>\n",
      "Atom: C7, Residue: MOL, Atom Type: <Element carbon>\n",
      "Atom: C8, Residue: MOL, Atom Type: <Element carbon>\n",
      "Atom: C9, Residue: MOL, Atom Type: <Element carbon>\n",
      "Atom: C10, Residue: MOL, Atom Type: <Element carbon>\n",
      "Atom: O1, Residue: MOL, Atom Type: <Element oxygen>\n",
      "Atom: O2, Residue: MOL, Atom Type: <Element oxygen>\n",
      "Atom: O3, Residue: MOL, Atom Type: <Element oxygen>\n",
      "Atom: O4, Residue: MOL, Atom Type: <Element oxygen>\n",
      "Atom: O5, Residue: MOL, Atom Type: <Element oxygen>\n",
      "Atom: O6, Residue: MOL, Atom Type: <Element oxygen>\n",
      "Atom: O7, Residue: MOL, Atom Type: <Element oxygen>\n",
      "Atom: O8, Residue: MOL, Atom Type: <Element oxygen>\n",
      "Atom: O9, Residue: MOL, Atom Type: <Element oxygen>\n",
      "Atom: O10, Residue: MOL, Atom Type: <Element oxygen>\n",
      "Atom: O11, Residue: MOL, Atom Type: <Element oxygen>\n",
      "Atom: O12, Residue: MOL, Atom Type: <Element oxygen>\n",
      "Atom: O13, Residue: MOL, Atom Type: <Element oxygen>\n",
      "Atom: O14, Residue: MOL, Atom Type: <Element oxygen>\n",
      "Atom: O15, Residue: MOL, Atom Type: <Element oxygen>\n",
      "Atom: O16, Residue: MOL, Atom Type: <Element oxygen>\n",
      "Atom: O17, Residue: GAS, Atom Type: <Element oxygen>\n",
      "Atom: C18, Residue: GAS, Atom Type: <Element carbon>\n",
      "Atom: O19, Residue: GAS, Atom Type: <Element oxygen>\n"
     ]
    }
   ],
   "source": [
    "pdb = app.PDBFile(\"MIL120_loading.pdb\")\n",
    "\n",
    "# Add print statements for debugging\n",
    "for atom in pdb.topology.atoms():\n",
    "    print(f\"Atom: {atom.name}, Residue: {atom.residue.name}, Atom Type: {atom.element}\")"
   ]
  },
  {
   "cell_type": "code",
   "execution_count": 72,
   "metadata": {},
   "outputs": [
    {
     "name": "stdout",
     "output_type": "stream",
     "text": [
      "<class 'openmm.app.forcefield.ForceField'>\n"
     ]
    }
   ],
   "source": [
    "for force_index in range(system.getNumForces()):\n",
    "    force = system.getForce(force_index)\n",
    "    if isinstance(force, openmm.NonbondedForce):\n",
    "        for particle_index in range(force.getNumParticles()):\n",
    "            charge, sigma, epsilon = force.getParticleParameters(particle_index)\n",
    "            print(f'Particle {particle_index}: Charge={charge}, Sigma={sigma}, Epsilon={epsilon}')"
   ]
  },
  {
   "cell_type": "code",
   "execution_count": 115,
   "metadata": {},
   "outputs": [
    {
     "name": "stdout",
     "output_type": "stream",
     "text": [
      "[Quantity(value=1.65857, unit=elementary charge), Quantity(value=0.40082, unit=nanometer), Quantity(value=2.1019, unit=kilojoule/mole)]\n",
      "Particle 1: Mass = 0.0 Da, Charge = 1.65857 e\n",
      "[Quantity(value=1.65856, unit=elementary charge), Quantity(value=0.40082, unit=nanometer), Quantity(value=2.1019, unit=kilojoule/mole)]\n",
      "Particle 2: Mass = 0.0 Da, Charge = 1.65856 e\n",
      "[Quantity(value=1.64626, unit=elementary charge), Quantity(value=0.40082, unit=nanometer), Quantity(value=2.1019, unit=kilojoule/mole)]\n",
      "Particle 3: Mass = 0.0 Da, Charge = 1.64626 e\n",
      "[Quantity(value=1.64749, unit=elementary charge), Quantity(value=0.40082, unit=nanometer), Quantity(value=2.1019, unit=kilojoule/mole)]\n",
      "Particle 4: Mass = 0.0 Da, Charge = 1.64749 e\n",
      "[Quantity(value=0.41785, unit=elementary charge), Quantity(value=0.25711, unit=nanometer), Quantity(value=0.1841, unit=kilojoule/mole)]\n",
      "Particle 5: Mass = 0.0 Da, Charge = 0.41785 e\n",
      "[Quantity(value=0.41373, unit=elementary charge), Quantity(value=0.25711, unit=nanometer), Quantity(value=0.1841, unit=kilojoule/mole)]\n",
      "Particle 6: Mass = 0.0 Da, Charge = 0.41373 e\n",
      "[Quantity(value=0.41657, unit=elementary charge), Quantity(value=0.25711, unit=nanometer), Quantity(value=0.1841, unit=kilojoule/mole)]\n",
      "Particle 7: Mass = 0.0 Da, Charge = 0.41657 e\n",
      "[Quantity(value=0.41461, unit=elementary charge), Quantity(value=0.25711, unit=nanometer), Quantity(value=0.1841, unit=kilojoule/mole)]\n",
      "Particle 8: Mass = 0.0 Da, Charge = 0.41461 e\n",
      "[Quantity(value=0.41773, unit=elementary charge), Quantity(value=0.25711, unit=nanometer), Quantity(value=0.1841, unit=kilojoule/mole)]\n",
      "Particle 9: Mass = 0.0 Da, Charge = 0.41773 e\n",
      "[Quantity(value=0.41364, unit=elementary charge), Quantity(value=0.25711, unit=nanometer), Quantity(value=0.1841, unit=kilojoule/mole)]\n",
      "Particle 10: Mass = 0.0 Da, Charge = 0.41364 e\n",
      "[Quantity(value=0.41658, unit=elementary charge), Quantity(value=0.25711, unit=nanometer), Quantity(value=0.1841, unit=kilojoule/mole)]\n",
      "Particle 11: Mass = 0.0 Da, Charge = 0.41658 e\n",
      "[Quantity(value=0.41466, unit=elementary charge), Quantity(value=0.25711, unit=nanometer), Quantity(value=0.1841, unit=kilojoule/mole)]\n",
      "Particle 12: Mass = 0.0 Da, Charge = 0.41466 e\n",
      "[Quantity(value=0.12728, unit=elementary charge), Quantity(value=0.25711, unit=nanometer), Quantity(value=0.1841, unit=kilojoule/mole)]\n",
      "Particle 13: Mass = 0.0 Da, Charge = 0.12728 e\n",
      "[Quantity(value=0.12726, unit=elementary charge), Quantity(value=0.25711, unit=nanometer), Quantity(value=0.1841, unit=kilojoule/mole)]\n",
      "Particle 14: Mass = 0.0 Da, Charge = 0.12726 e\n",
      "[Quantity(value=0.62462, unit=elementary charge), Quantity(value=0.34309, unit=nanometer), Quantity(value=0.44, unit=kilojoule/mole)]\n",
      "Particle 15: Mass = 0.0 Da, Charge = 0.62462 e\n",
      "[Quantity(value=-0.02738, unit=elementary charge), Quantity(value=0.34309, unit=nanometer), Quantity(value=0.44, unit=kilojoule/mole)]\n",
      "Particle 16: Mass = 0.0 Da, Charge = -0.02738 e\n",
      "[Quantity(value=0.62697, unit=elementary charge), Quantity(value=0.34309, unit=nanometer), Quantity(value=0.44, unit=kilojoule/mole)]\n",
      "Particle 17: Mass = 0.0 Da, Charge = 0.62697 e\n",
      "[Quantity(value=-0.0317, unit=elementary charge), Quantity(value=0.34309, unit=nanometer), Quantity(value=0.44, unit=kilojoule/mole)]\n",
      "Particle 18: Mass = 0.0 Da, Charge = -0.0317 e\n",
      "[Quantity(value=0.62454, unit=elementary charge), Quantity(value=0.34309, unit=nanometer), Quantity(value=0.44, unit=kilojoule/mole)]\n",
      "Particle 19: Mass = 0.0 Da, Charge = 0.62454 e\n",
      "[Quantity(value=-0.02728, unit=elementary charge), Quantity(value=0.34309, unit=nanometer), Quantity(value=0.44, unit=kilojoule/mole)]\n",
      "Particle 20: Mass = 0.0 Da, Charge = -0.02728 e\n",
      "[Quantity(value=0.62705, unit=elementary charge), Quantity(value=0.34309, unit=nanometer), Quantity(value=0.44, unit=kilojoule/mole)]\n",
      "Particle 21: Mass = 0.0 Da, Charge = 0.62705 e\n",
      "[Quantity(value=-0.03187, unit=elementary charge), Quantity(value=0.34309, unit=nanometer), Quantity(value=0.44, unit=kilojoule/mole)]\n",
      "Particle 22: Mass = 0.0 Da, Charge = -0.03187 e\n",
      "[Quantity(value=-0.11722, unit=elementary charge), Quantity(value=0.34309, unit=nanometer), Quantity(value=0.44, unit=kilojoule/mole)]\n",
      "Particle 23: Mass = 0.0 Da, Charge = -0.11722 e\n",
      "[Quantity(value=-0.11724, unit=elementary charge), Quantity(value=0.34309, unit=nanometer), Quantity(value=0.44, unit=kilojoule/mole)]\n",
      "Particle 24: Mass = 0.0 Da, Charge = -0.11724 e\n",
      "[Quantity(value=-0.9263, unit=elementary charge), Quantity(value=0.31181, unit=nanometer), Quantity(value=0.2513, unit=kilojoule/mole)]\n",
      "Particle 25: Mass = 0.0 Da, Charge = -0.9263 e\n",
      "[Quantity(value=-0.97561, unit=elementary charge), Quantity(value=0.31181, unit=nanometer), Quantity(value=0.2513, unit=kilojoule/mole)]\n",
      "Particle 26: Mass = 0.0 Da, Charge = -0.97561 e\n",
      "[Quantity(value=-0.60514, unit=elementary charge), Quantity(value=0.31181, unit=nanometer), Quantity(value=0.2513, unit=kilojoule/mole)]\n",
      "Particle 27: Mass = 0.0 Da, Charge = -0.60514 e\n",
      "[Quantity(value=-0.57838, unit=elementary charge), Quantity(value=0.31181, unit=nanometer), Quantity(value=0.2513, unit=kilojoule/mole)]\n",
      "Particle 28: Mass = 0.0 Da, Charge = -0.57838 e\n",
      "[Quantity(value=-0.92481, unit=elementary charge), Quantity(value=0.31181, unit=nanometer), Quantity(value=0.2513, unit=kilojoule/mole)]\n",
      "Particle 29: Mass = 0.0 Da, Charge = -0.92481 e\n",
      "[Quantity(value=-0.97588, unit=elementary charge), Quantity(value=0.31181, unit=nanometer), Quantity(value=0.2513, unit=kilojoule/mole)]\n",
      "Particle 30: Mass = 0.0 Da, Charge = -0.97588 e\n",
      "[Quantity(value=-0.60682, unit=elementary charge), Quantity(value=0.31181, unit=nanometer), Quantity(value=0.2513, unit=kilojoule/mole)]\n",
      "Particle 31: Mass = 0.0 Da, Charge = -0.60682 e\n",
      "[Quantity(value=-0.57781, unit=elementary charge), Quantity(value=0.31181, unit=nanometer), Quantity(value=0.2513, unit=kilojoule/mole)]\n",
      "Particle 32: Mass = 0.0 Da, Charge = -0.57781 e\n",
      "[Quantity(value=-0.92626, unit=elementary charge), Quantity(value=0.31181, unit=nanometer), Quantity(value=0.2513, unit=kilojoule/mole)]\n",
      "Particle 33: Mass = 0.0 Da, Charge = -0.92626 e\n",
      "[Quantity(value=-0.97553, unit=elementary charge), Quantity(value=0.31181, unit=nanometer), Quantity(value=0.2513, unit=kilojoule/mole)]\n",
      "Particle 34: Mass = 0.0 Da, Charge = -0.97553 e\n",
      "[Quantity(value=-0.60522, unit=elementary charge), Quantity(value=0.31181, unit=nanometer), Quantity(value=0.2513, unit=kilojoule/mole)]\n",
      "Particle 35: Mass = 0.0 Da, Charge = -0.60522 e\n",
      "[Quantity(value=-0.57825, unit=elementary charge), Quantity(value=0.31181, unit=nanometer), Quantity(value=0.2513, unit=kilojoule/mole)]\n",
      "Particle 36: Mass = 0.0 Da, Charge = -0.57825 e\n",
      "[Quantity(value=-0.92474, unit=elementary charge), Quantity(value=0.31181, unit=nanometer), Quantity(value=0.2513, unit=kilojoule/mole)]\n",
      "Particle 37: Mass = 0.0 Da, Charge = -0.92474 e\n",
      "[Quantity(value=-0.97585, unit=elementary charge), Quantity(value=0.31181, unit=nanometer), Quantity(value=0.2513, unit=kilojoule/mole)]\n",
      "Particle 38: Mass = 0.0 Da, Charge = -0.97585 e\n",
      "[Quantity(value=-0.60674, unit=elementary charge), Quantity(value=0.31181, unit=nanometer), Quantity(value=0.2513, unit=kilojoule/mole)]\n",
      "Particle 39: Mass = 0.0 Da, Charge = -0.60674 e\n",
      "[Quantity(value=-0.57792, unit=elementary charge), Quantity(value=0.31181, unit=nanometer), Quantity(value=0.2513, unit=kilojoule/mole)]\n",
      "Particle 40: Mass = 0.0 Da, Charge = -0.57792 e\n",
      "[Quantity(value=-0.35, unit=elementary charge), Quantity(value=0.305, unit=nanometer), Quantity(value=0.6577, unit=kilojoule/mole)]\n",
      "Particle 41: Mass = 15.999 Da, Charge = -0.35 e\n",
      "[Quantity(value=0.7, unit=elementary charge), Quantity(value=0.28, unit=nanometer), Quantity(value=0.2249, unit=kilojoule/mole)]\n",
      "Particle 42: Mass = 12.01 Da, Charge = 0.7 e\n",
      "[Quantity(value=-0.35, unit=elementary charge), Quantity(value=0.305, unit=nanometer), Quantity(value=0.6577, unit=kilojoule/mole)]\n",
      "Particle 43: Mass = 15.999 Da, Charge = -0.35 e\n"
     ]
    }
   ],
   "source": [
    "# Assuming you have a CustomNonbondedForce in the system\n",
    "for force_index in range(system.getNumForces()):\n",
    "    force = system.getForce(force_index)\n",
    "    if isinstance(force, mm.NonbondedForce):\n",
    "        for particle_index in range(force.getNumParticles()):\n",
    "            parameters = force.getParticleParameters(particle_index)\n",
    "            print(parameters)\n",
    "            mass = system.getParticleMass(particle_index)\n",
    "            charge = parameters[0]  # Assuming charge is the first parameter\n",
    "            print(f\"Particle {particle_index + 1}: Mass = {mass}, Charge = {charge}\")"
   ]
  },
  {
   "cell_type": "code",
   "execution_count": 104,
   "metadata": {},
   "outputs": [
    {
     "name": "stdout",
     "output_type": "stream",
     "text": [
      "(5.0, 1.0, 1.0)\n",
      "Particle 1: Mass = 0.0 Da, Charge = 5.0\n",
      "(5.0, 1.0, 1.0)\n",
      "Particle 2: Mass = 0.0 Da, Charge = 5.0\n",
      "(5.0, 1.0, 1.0)\n",
      "Particle 3: Mass = 0.0 Da, Charge = 5.0\n",
      "(5.0, 1.0, 1.0)\n",
      "Particle 4: Mass = 0.0 Da, Charge = 5.0\n",
      "(5.0, 1.0, 1.0)\n",
      "Particle 5: Mass = 0.0 Da, Charge = 5.0\n",
      "(5.0, 1.0, 1.0)\n",
      "Particle 6: Mass = 0.0 Da, Charge = 5.0\n",
      "(5.0, 1.0, 1.0)\n",
      "Particle 7: Mass = 0.0 Da, Charge = 5.0\n",
      "(5.0, 1.0, 1.0)\n",
      "Particle 8: Mass = 0.0 Da, Charge = 5.0\n",
      "(5.0, 1.0, 1.0)\n",
      "Particle 9: Mass = 0.0 Da, Charge = 5.0\n",
      "(5.0, 1.0, 1.0)\n",
      "Particle 10: Mass = 0.0 Da, Charge = 5.0\n",
      "(5.0, 1.0, 1.0)\n",
      "Particle 11: Mass = 0.0 Da, Charge = 5.0\n",
      "(5.0, 1.0, 1.0)\n",
      "Particle 12: Mass = 0.0 Da, Charge = 5.0\n",
      "(5.0, 1.0, 1.0)\n",
      "Particle 13: Mass = 0.0 Da, Charge = 5.0\n",
      "(5.0, 1.0, 1.0)\n",
      "Particle 14: Mass = 0.0 Da, Charge = 5.0\n",
      "(5.0, 1.0, 1.0)\n",
      "Particle 15: Mass = 0.0 Da, Charge = 5.0\n",
      "(5.0, 1.0, 1.0)\n",
      "Particle 16: Mass = 0.0 Da, Charge = 5.0\n",
      "(5.0, 1.0, 1.0)\n",
      "Particle 17: Mass = 0.0 Da, Charge = 5.0\n",
      "(5.0, 1.0, 1.0)\n",
      "Particle 18: Mass = 0.0 Da, Charge = 5.0\n",
      "(5.0, 1.0, 1.0)\n",
      "Particle 19: Mass = 0.0 Da, Charge = 5.0\n",
      "(5.0, 1.0, 1.0)\n",
      "Particle 20: Mass = 0.0 Da, Charge = 5.0\n",
      "(5.0, 1.0, 1.0)\n",
      "Particle 21: Mass = 0.0 Da, Charge = 5.0\n",
      "(5.0, 1.0, 1.0)\n",
      "Particle 22: Mass = 0.0 Da, Charge = 5.0\n",
      "(5.0, 1.0, 1.0)\n",
      "Particle 23: Mass = 0.0 Da, Charge = 5.0\n",
      "(5.0, 1.0, 1.0)\n",
      "Particle 24: Mass = 0.0 Da, Charge = 5.0\n",
      "(5.0, 1.0, 1.0)\n",
      "Particle 25: Mass = 0.0 Da, Charge = 5.0\n",
      "(5.0, 1.0, 1.0)\n",
      "Particle 26: Mass = 0.0 Da, Charge = 5.0\n",
      "(5.0, 1.0, 1.0)\n",
      "Particle 27: Mass = 0.0 Da, Charge = 5.0\n",
      "(5.0, 1.0, 1.0)\n",
      "Particle 28: Mass = 0.0 Da, Charge = 5.0\n",
      "(5.0, 1.0, 1.0)\n",
      "Particle 29: Mass = 0.0 Da, Charge = 5.0\n",
      "(5.0, 1.0, 1.0)\n",
      "Particle 30: Mass = 0.0 Da, Charge = 5.0\n",
      "(5.0, 1.0, 1.0)\n",
      "Particle 31: Mass = 0.0 Da, Charge = 5.0\n",
      "(5.0, 1.0, 1.0)\n",
      "Particle 32: Mass = 0.0 Da, Charge = 5.0\n",
      "(5.0, 1.0, 1.0)\n",
      "Particle 33: Mass = 0.0 Da, Charge = 5.0\n",
      "(5.0, 1.0, 1.0)\n",
      "Particle 34: Mass = 0.0 Da, Charge = 5.0\n",
      "(5.0, 1.0, 1.0)\n",
      "Particle 35: Mass = 0.0 Da, Charge = 5.0\n",
      "(5.0, 1.0, 1.0)\n",
      "Particle 36: Mass = 0.0 Da, Charge = 5.0\n",
      "(5.0, 1.0, 1.0)\n",
      "Particle 37: Mass = 0.0 Da, Charge = 5.0\n",
      "(5.0, 1.0, 1.0)\n",
      "Particle 38: Mass = 0.0 Da, Charge = 5.0\n",
      "(5.0, 1.0, 1.0)\n",
      "Particle 39: Mass = 0.0 Da, Charge = 5.0\n",
      "(5.0, 1.0, 1.0)\n",
      "Particle 40: Mass = 0.0 Da, Charge = 5.0\n",
      "(5.0, 1.0, 1.0)\n",
      "Particle 41: Mass = 15.999 Da, Charge = 5.0\n",
      "(5.0, 1.0, 1.0)\n",
      "Particle 42: Mass = 12.01 Da, Charge = 5.0\n",
      "(5.0, 1.0, 1.0)\n",
      "Particle 43: Mass = 15.999 Da, Charge = 5.0\n"
     ]
    }
   ],
   "source": [
    "# Assuming you have a CustomNonbondedForce in the system\n",
    "for force_index in range(system.getNumForces()):\n",
    "    force = system.getForce(force_index)\n",
    "    if isinstance(force, mm.CustomNonbondedForce):\n",
    "        for particle_index in range(force.getNumParticles()):\n",
    "            force.setParticleParameters(particle_index, (5,1,1))\n",
    "            parameters = force.getParticleParameters(particle_index)\n",
    "            print(parameters)\n",
    "            mass = system.getParticleMass(particle_index)\n",
    "            charge = parameters[0]  # Assuming charge is the first parameter\n",
    "            print(f\"Particle {particle_index + 1}: Mass = {mass}, Charge = {charge}\")\n"
   ]
  },
  {
   "cell_type": "code",
   "execution_count": 65,
   "metadata": {},
   "outputs": [],
   "source": [
    "\n",
    "# Load the PDB file\n",
    "pdb = app.PDBFile(\"MIL120_loading_new.pdb\")\n",
    "\n",
    "# Add print statements for debugging\n",
    "ff = app.ForceField(\"custom_forcefield.xml\")\n",
    "# Load the force field from the XML file\n",
    "forcefield = app.ForceField(\"custom_forcefield.xml\")\n",
    "\n",
    "# Create the system\n",
    "system = forcefield.createSystem(pdb.topology, nonbondedMethod=app.Ewald, constraints=None, removeCMMotion=False)\n"
   ]
  },
  {
   "cell_type": "code",
   "execution_count": 70,
   "metadata": {},
   "outputs": [
    {
     "ename": "AttributeError",
     "evalue": "'System' object has no attribute 'setParticleParameters'",
     "output_type": "error",
     "traceback": [
      "\u001b[0;31m---------------------------------------------------------------------------\u001b[0m",
      "\u001b[0;31mAttributeError\u001b[0m                            Traceback (most recent call last)",
      "Cell \u001b[0;32mIn[70], line 23\u001b[0m\n\u001b[1;32m     21\u001b[0m     \u001b[39m# Manually set charge and mass in the OpenMM system\u001b[39;00m\n\u001b[1;32m     22\u001b[0m     system\u001b[39m.\u001b[39msetParticleMass(i, mass)\n\u001b[0;32m---> 23\u001b[0m     system\u001b[39m.\u001b[39;49msetParticleParameters(i, charge, \u001b[39m0.0\u001b[39m, \u001b[39m0.0\u001b[39m)  \u001b[39m# Assuming 0.0 for the sigma and epsilon parameters\u001b[39;00m\n\u001b[1;32m     25\u001b[0m \u001b[39m# Now the system should have the correct charges and masses\u001b[39;00m\n",
      "\u001b[0;31mAttributeError\u001b[0m: 'System' object has no attribute 'setParticleParameters'"
     ]
    }
   ],
   "source": [
    "import openmm\n",
    "# Load the PDB file\n",
    "pdb = app.PDBFile(\"MIL120_loading_new.pdb\")\n",
    "\n",
    "# Load the force field from the XML file\n",
    "forcefield = app.ForceField(\"custom_forcefield.xml\")\n",
    "\n",
    "# Create the system\n",
    "system = forcefield.createSystem(pdb.topology, nonbondedMethod=app.Ewald, constraints=None, removeCMMotion=False)\n",
    "\n",
    "# Manually set charges and masses\n",
    "for i, atom in enumerate(pdb.topology.atoms()):\n",
    "    # Get the atom name and residue name\n",
    "    atom_name = atom.name\n",
    "    residue_name = atom.residue.name\n",
    "\n",
    "    # Get the charge and mass from the force field\n",
    "    charge = 1 # Assuming charge is the first parameter\n",
    "    mass = 12\n",
    "\n",
    "    # Manually set charge and mass in the OpenMM system\n",
    "    system.setParticleMass(i, mass)\n",
    "    system.setParticleParameters(i, charge, 0.0, 0.0)  # Assuming 0.0 for the sigma and epsilon parameters\n",
    "\n",
    "# Now the system should have the correct charges and masses\n"
   ]
  },
  {
   "cell_type": "code",
   "execution_count": 69,
   "metadata": {},
   "outputs": [
    {
     "ename": "AttributeError",
     "evalue": "'ForceField' object has no attribute 'getParticleParameters'",
     "output_type": "error",
     "traceback": [
      "\u001b[0;31m---------------------------------------------------------------------------\u001b[0m",
      "\u001b[0;31mAttributeError\u001b[0m                            Traceback (most recent call last)",
      "Cell \u001b[0;32mIn[69], line 1\u001b[0m\n\u001b[0;32m----> 1\u001b[0m forcefield\u001b[39m.\u001b[39;49mgetParticleParameters\n",
      "\u001b[0;31mAttributeError\u001b[0m: 'ForceField' object has no attribute 'getParticleParameters'"
     ]
    }
   ],
   "source": [
    "forcefield.getParticleParameters"
   ]
  },
  {
   "cell_type": "code",
   "execution_count": 54,
   "metadata": {},
   "outputs": [
    {
     "data": {
      "text/plain": [
       "<openmm.openmm.CustomNonbondedForce; proxy of <Swig Object of type 'OpenMM::CustomNonbondedForce *' at 0x7f2471ff2430> >"
      ]
     },
     "execution_count": 54,
     "metadata": {},
     "output_type": "execute_result"
    }
   ],
   "source": [
    "force.getNumComputedValues"
   ]
  },
  {
   "cell_type": "code",
   "execution_count": 52,
   "metadata": {},
   "outputs": [],
   "source": [
    "# Assuming you have a NonbondedForce in the system\n",
    "for force_index in range(system.getNumForces()):\n",
    "    force = system.getForce(force_index)\n",
    "    if isinstance(force, mm.NonbondedForce):\n",
    "        for particle_index in range(force.getNumParticles()):\n",
    "            charge, sigma, epsilon = force.getParticleParameters(particle_index)\n",
    "            mass = system.getParticleMass(particle_index)\n",
    "            print(f\"Particle {particle_index + 1}: Mass = {mass}, Charge = {charge}\")\n"
   ]
  },
  {
   "cell_type": "code",
   "execution_count": 41,
   "metadata": {},
   "outputs": [
    {
     "name": "stdout",
     "output_type": "stream",
     "text": [
      "Atom: Al1, Residue: MOL, Residue Index: 0 Atom: Al\n",
      "Atom: Al2, Residue: MOL, Residue Index: 0 Atom: Al\n",
      "Atom: Al3, Residue: MOL, Residue Index: 0 Atom: Al\n",
      "Atom: Al4, Residue: MOL, Residue Index: 0 Atom: Al\n",
      "Atom: H1, Residue: MOL, Residue Index: 0 Atom: H\n",
      "Atom: H2, Residue: MOL, Residue Index: 0 Atom: H\n",
      "Atom: H3, Residue: MOL, Residue Index: 0 Atom: H\n",
      "Atom: H4, Residue: MOL, Residue Index: 0 Atom: H\n",
      "Atom: H5, Residue: MOL, Residue Index: 0 Atom: H\n",
      "Atom: H6, Residue: MOL, Residue Index: 0 Atom: H\n",
      "Atom: H7, Residue: MOL, Residue Index: 0 Atom: H\n",
      "Atom: H8, Residue: MOL, Residue Index: 0 Atom: H\n",
      "Atom: H9, Residue: MOL, Residue Index: 0 Atom: H\n",
      "Atom: H10, Residue: MOL, Residue Index: 0 Atom: H\n",
      "Atom: C1, Residue: MOL, Residue Index: 0 Atom: C\n",
      "Atom: C2, Residue: MOL, Residue Index: 0 Atom: C\n",
      "Atom: C3, Residue: MOL, Residue Index: 0 Atom: C\n",
      "Atom: C4, Residue: MOL, Residue Index: 0 Atom: C\n",
      "Atom: C5, Residue: MOL, Residue Index: 0 Atom: C\n",
      "Atom: C6, Residue: MOL, Residue Index: 0 Atom: C\n",
      "Atom: C7, Residue: MOL, Residue Index: 0 Atom: C\n",
      "Atom: C8, Residue: MOL, Residue Index: 0 Atom: C\n",
      "Atom: C9, Residue: MOL, Residue Index: 0 Atom: C\n",
      "Atom: C10, Residue: MOL, Residue Index: 0 Atom: C\n",
      "Atom: O1, Residue: MOL, Residue Index: 0 Atom: O\n",
      "Atom: O2, Residue: MOL, Residue Index: 0 Atom: O\n",
      "Atom: O3, Residue: MOL, Residue Index: 0 Atom: O\n",
      "Atom: O4, Residue: MOL, Residue Index: 0 Atom: O\n",
      "Atom: O5, Residue: MOL, Residue Index: 0 Atom: O\n",
      "Atom: O6, Residue: MOL, Residue Index: 0 Atom: O\n",
      "Atom: O7, Residue: MOL, Residue Index: 0 Atom: O\n",
      "Atom: O8, Residue: MOL, Residue Index: 0 Atom: O\n",
      "Atom: O9, Residue: MOL, Residue Index: 0 Atom: O\n",
      "Atom: O10, Residue: MOL, Residue Index: 0 Atom: O\n",
      "Atom: O11, Residue: MOL, Residue Index: 0 Atom: O\n",
      "Atom: O12, Residue: MOL, Residue Index: 0 Atom: O\n",
      "Atom: O13, Residue: MOL, Residue Index: 0 Atom: O\n",
      "Atom: O14, Residue: MOL, Residue Index: 0 Atom: O\n",
      "Atom: O15, Residue: MOL, Residue Index: 0 Atom: O\n",
      "Atom: O16, Residue: MOL, Residue Index: 0 Atom: O\n",
      "Atom: O17, Residue: GAS, Residue Index: 1 Atom: O\n",
      "Atom: C18, Residue: GAS, Residue Index: 1 Atom: C\n",
      "Atom: O19, Residue: GAS, Residue Index: 1 Atom: O\n"
     ]
    }
   ],
   "source": [
    "import simtk.openmm.app as app\n",
    "\n",
    "# Load PDB file\n",
    "pdb = app.PDBFile(\"MIL120_loading_new.pdb\")\n",
    "\n",
    "# Print atom and residue information\n",
    "for atom in pdb.topology.atoms():\n",
    "    print(f\"Atom: {atom.name}, Residue: {atom.residue.name}, Residue Index: {atom.residue.index} Atom: {atom.element.symbol}\")\n"
   ]
  },
  {
   "cell_type": "code",
   "execution_count": 38,
   "metadata": {},
   "outputs": [
    {
     "data": {
      "text/plain": [
       "<Topology; 1 chains, 2 residues, 43 atoms, 0 bonds>"
      ]
     },
     "execution_count": 38,
     "metadata": {},
     "output_type": "execute_result"
    }
   ],
   "source": [
    "pdb.topology"
   ]
  },
  {
   "cell_type": "code",
   "execution_count": 24,
   "metadata": {},
   "outputs": [
    {
     "ename": "AttributeError",
     "evalue": "'CustomNonbondedForce' object has no attribute 'setUseDispersionCorrection'",
     "output_type": "error",
     "traceback": [
      "\u001b[0;31m---------------------------------------------------------------------------\u001b[0m",
      "\u001b[0;31mAttributeError\u001b[0m                            Traceback (most recent call last)",
      "Cell \u001b[0;32mIn[24], line 2\u001b[0m\n\u001b[1;32m      1\u001b[0m force \u001b[39m=\u001b[39m system\u001b[39m.\u001b[39mgetForces()[\u001b[39m0\u001b[39m]\n\u001b[0;32m----> 2\u001b[0m force\u001b[39m.\u001b[39;49msetUseDispersionCorrection(\u001b[39mFalse\u001b[39;00m)\n",
      "\u001b[0;31mAttributeError\u001b[0m: 'CustomNonbondedForce' object has no attribute 'setUseDispersionCorrection'"
     ]
    }
   ],
   "source": [
    "force = system.getForces()[0]\n",
    "force.setUseDispersionCorrection(False)"
   ]
  },
  {
   "cell_type": "code",
   "execution_count": 25,
   "metadata": {},
   "outputs": [
    {
     "data": {
      "text/plain": [
       "Quantity(value=[Vec3(x=0.2013, y=-0.18580000000000002, z=0.5), Vec3(x=-0.046400000000000004, y=0.12290000000000001, z=0.9998), Vec3(x=-0.041800000000000004, y=0.2318, z=0.9999000000000001), Vec3(x=0.46870000000000006, y=0.1043, z=0.3285), Vec3(x=0.3159, y=0.21450000000000002, z=0.8331), Vec3(x=0.3234, y=0.33020000000000005, z=0.8338)], unit=nanometer)"
      ]
     },
     "execution_count": 25,
     "metadata": {},
     "output_type": "execute_result"
    }
   ],
   "source": [
    "pdb.positions"
   ]
  },
  {
   "cell_type": "code",
   "execution_count": 103,
   "metadata": {},
   "outputs": [],
   "source": [
    "# Load a force field\n",
    "forcefield = app.ForceField(\"custom_forcefield.xml\")\n",
    "\n",
    "# Create a System based on the force field\n",
    "system = forcefield.createSystem(pdb.topology)\n",
    "\n",
    "# Access the NonbondedForce (assuming it's used in the force field)\n",
    "for force_index in range(system.getNumForces()):\n",
    "    force = system.getForce(force_index)\n",
    "    if isinstance(force, mm.NonbondedForce):\n",
    "        custom_force = mm.CustomNonbondedForce(\"charge*q\")\n",
    "        custom_force.addPerParticleParameter(\"charge\")\n",
    "        \n",
    "        # Copy existing particles and parameters\n",
    "        for i in range(force.getNumParticles()):\n",
    "            params = force.getParticleParameters(i)\n",
    "            custom_force.addParticle(params)\n",
    "        \n",
    "        # Replace the existing NonbondedForce with the CustomNonbondedForce\n",
    "        system.removeForce(force_index)\n",
    "        system.addForce(custom_force)\n",
    "        break"
   ]
  },
  {
   "cell_type": "code",
   "execution_count": 105,
   "metadata": {},
   "outputs": [
    {
     "data": {
      "text/plain": [
       "False"
      ]
     },
     "execution_count": 105,
     "metadata": {},
     "output_type": "execute_result"
    }
   ],
   "source": [
    "isinstance(force, mm.NonbondedForce)"
   ]
  },
  {
   "cell_type": "code",
   "execution_count": 29,
   "metadata": {},
   "outputs": [
    {
     "name": "stdout",
     "output_type": "stream",
     "text": [
      "Number of atoms in the PDB file: 6\n"
     ]
    }
   ],
   "source": [
    "\n",
    "\n",
    "# Load PDB file\n",
    "pdb = app.PDBFile(\"MIL120_loading.pdb\")\n",
    "\n",
    "# Get the topology from the PDB file\n",
    "topology = pdb.topology\n",
    "\n",
    "# Get the number of atoms\n",
    "num_atoms = topology.getNumAtoms()\n",
    "\n",
    "print(f\"Number of atoms in the PDB file: {num_atoms}\")\n"
   ]
  },
  {
   "cell_type": "code",
   "execution_count": 32,
   "metadata": {},
   "outputs": [
    {
     "name": "stdout",
     "output_type": "stream",
     "text": [
      "<Atom 0 (Al) of chain 0 residue 0 (MOL)>\n",
      "<Atom 1 (H) of chain 0 residue 0 (MOL)>\n",
      "<Atom 2 (C) of chain 0 residue 0 (MOL)>\n",
      "<Atom 3 (O) of chain 0 residue 0 (MOL)>\n",
      "<Atom 4 (O) of chain 0 residue 1 (GAS)>\n",
      "<Atom 5 (C) of chain 0 residue 1 (GAS)>\n"
     ]
    }
   ],
   "source": [
    "for i in pdb.topology.atoms():\n",
    "    print(i)"
   ]
  },
  {
   "cell_type": "code",
   "execution_count": 104,
   "metadata": {},
   "outputs": [
    {
     "ename": "NameError",
     "evalue": "name 'custom_force' is not defined",
     "output_type": "error",
     "traceback": [
      "\u001b[0;31m---------------------------------------------------------------------------\u001b[0m",
      "\u001b[0;31mNameError\u001b[0m                                 Traceback (most recent call last)",
      "Cell \u001b[0;32mIn[104], line 1\u001b[0m\n\u001b[0;32m----> 1\u001b[0m custom_force\u001b[39m.\u001b[39msetParticleParameters(\u001b[39m0\u001b[39m, [\u001b[39m1.0\u001b[39m])\n",
      "\u001b[0;31mNameError\u001b[0m: name 'custom_force' is not defined"
     ]
    }
   ],
   "source": [
    "custom_force.setParticleParameters(0, [1.0])"
   ]
  },
  {
   "cell_type": "code",
   "execution_count": 100,
   "metadata": {},
   "outputs": [
    {
     "data": {
      "text/plain": [
       "<bound method System.setParticleMass of <openmm.openmm.System; proxy of <Swig Object of type 'OpenMM::System *' at 0x7fea49aecba0> >>"
      ]
     },
     "execution_count": 100,
     "metadata": {},
     "output_type": "execute_result"
    }
   ],
   "source": [
    "system.setParticleMass"
   ]
  },
  {
   "cell_type": "code",
   "execution_count": 101,
   "metadata": {},
   "outputs": [
    {
     "ename": "AttributeError",
     "evalue": "'System' object has no attribute 'setParticleCharge'",
     "output_type": "error",
     "traceback": [
      "\u001b[0;31m---------------------------------------------------------------------------\u001b[0m",
      "\u001b[0;31mAttributeError\u001b[0m                            Traceback (most recent call last)",
      "Cell \u001b[0;32mIn[101], line 1\u001b[0m\n\u001b[0;32m----> 1\u001b[0m system\u001b[39m.\u001b[39;49msetParticleCharge\n",
      "\u001b[0;31mAttributeError\u001b[0m: 'System' object has no attribute 'setParticleCharge'"
     ]
    }
   ],
   "source": [
    "system.setParticleCharge"
   ]
  },
  {
   "cell_type": "code",
   "execution_count": 86,
   "metadata": {},
   "outputs": [
    {
     "ename": "AttributeError",
     "evalue": "'PDBFile' object has no attribute 'atoms'",
     "output_type": "error",
     "traceback": [
      "\u001b[0;31m---------------------------------------------------------------------------\u001b[0m",
      "\u001b[0;31mAttributeError\u001b[0m                            Traceback (most recent call last)",
      "Cell \u001b[0;32mIn[86], line 1\u001b[0m\n\u001b[0;32m----> 1\u001b[0m \u001b[39mfor\u001b[39;00m index, atom \u001b[39min\u001b[39;00m \u001b[39menumerate\u001b[39m(pdb\u001b[39m.\u001b[39;49matoms()):\n\u001b[1;32m      2\u001b[0m     atom\u001b[39m.\u001b[39mcharge\u001b[39m=\u001b[39m\u001b[39m0\u001b[39m\n\u001b[1;32m      3\u001b[0m     \u001b[39mprint\u001b[39m(atom, index)\n",
      "\u001b[0;31mAttributeError\u001b[0m: 'PDBFile' object has no attribute 'atoms'"
     ]
    }
   ],
   "source": [
    "for index, atom in enumerate(pdb.topology.atoms()):\n",
    "    atom.charge=0\n",
    "    print(atom, index)\n",
    "    #ff.registerAtom(index, atom.name, atom.residue.name, atom.element.symbol, charge)"
   ]
  },
  {
   "cell_type": "code",
   "execution_count": 109,
   "metadata": {},
   "outputs": [
    {
     "ename": "AttributeError",
     "evalue": "'Atom' object has no attribute 'charges'",
     "output_type": "error",
     "traceback": [
      "\u001b[0;31m---------------------------------------------------------------------------\u001b[0m",
      "\u001b[0;31mAttributeError\u001b[0m                            Traceback (most recent call last)",
      "Cell \u001b[0;32mIn[109], line 2\u001b[0m\n\u001b[1;32m      1\u001b[0m \u001b[39mfor\u001b[39;00m i \u001b[39min\u001b[39;00m pdb\u001b[39m.\u001b[39mtopology\u001b[39m.\u001b[39matoms():\n\u001b[0;32m----> 2\u001b[0m     \u001b[39mprint\u001b[39m(i\u001b[39m.\u001b[39;49mcharges)\n",
      "\u001b[0;31mAttributeError\u001b[0m: 'Atom' object has no attribute 'charges'"
     ]
    }
   ],
   "source": [
    "for i in pdb.topology.atoms():\n",
    "    print()"
   ]
  },
  {
   "cell_type": "code",
   "execution_count": 93,
   "metadata": {},
   "outputs": [
    {
     "name": "stdout",
     "output_type": "stream",
     "text": [
      "one times\n",
      "one times\n",
      "one times\n",
      "one times\n",
      "one times\n",
      "one times\n"
     ]
    }
   ],
   "source": [
    "new_topology = app.Topology()\n",
    "for chain in pdb.topology.chains():\n",
    "    new_chain = new_topology.addChain()\n",
    "    for residue in chain.residues():\n",
    "        new_residue = new_topology.addResidue(residue.name, new_chain)\n",
    "        for atom in residue.atoms():\n",
    "            new_atom = new_topology.addAtom(atom.name, atom.element, new_residue)\n",
    "            new_atom.charge = 1\n",
    "            print(\"one times\")\n"
   ]
  },
  {
   "cell_type": "code",
   "execution_count": null,
   "metadata": {},
   "outputs": [],
   "source": [
    "def runMD_gas_NVT(topfile, pdbfile, trajfile, length):\n",
    "    try:\n",
    "        os.remove(\"GAS.top\")\n",
    "    except:\n",
    "        pass\n",
    "    top_prm = parmed.load_file(topfile)\n",
    "    top_GAS = top_prm \n",
    "    top_GAS.save(\"GAS.top\")\n",
    "    pdb = app.PDBFile(pdbfile)\n",
    "    top = app.GromacsTopFile(\"GAS.top\")\n",
    "    top.topology.setPeriodicBoxVectors(pdb.topology.getPeriodicBoxVectors())\n",
    "    system = top.createSystem(nonbondedMethod=app.PME, nonbondedCutoff=1.0*unit.nanometer, constraints=app.HBonds, hydrogenMass=3*unit.dalton)\n",
    "    for force in system.getForces():\n",
    "        if isinstance(force, mm.NonbondedForce):\n",
    "            force.setUseDispersionCorrection(False)\n",
    "    integ = mm.LangevinIntegrator(SET_temperature*unit.kelvin, 1/unit.picosecond, 2.5*unit.femtosecond)\n",
    "    simulation = app.Simulation(top.topology, system, integ)\n",
    "    simulation.reporters.append(app.StateDataReporter(sys.stdout, gap_step, time=True, potentialEnergy=True, temperature=True, density=True, speed=True, remainingTime=True, totalSteps=int(length) * gap_step))\n",
    "    simulation.reporters.append(app.DCDReporter(trajfile, gap_step))\n",
    "    simulation.context.setPositions(pdb.getPositions())\n",
    "    simulation.minimizeEnergy(maxIterations=200)\n",
    "    simulation.step(int(length) * gap_step)\n",
    "    os.remove(\"GAS.top\")"
   ]
  },
  {
   "cell_type": "code",
   "execution_count": 44,
   "metadata": {},
   "outputs": [
    {
     "data": {
      "text/plain": [
       "[<openmm.openmm.NonbondedForce; proxy of <Swig Object of type 'OpenMM::NonbondedForce *' at 0x7f11bcff5770> >]"
      ]
     },
     "execution_count": 44,
     "metadata": {},
     "output_type": "execute_result"
    }
   ],
   "source": [
    "\n",
    "# Create a System and a NonbondedForce\n",
    "system = mm.System()\n",
    "nonbonded_force = mm.NonbondedForce()\n",
    "\n",
    "# You can set the Nonbonded method and cutoff here if needed\n",
    "# nonbonded_force.setNonbondedMethod(openmm.NonbondedForce.CutoffNonPeriodic)\n",
    "# nonbonded_force.setCutoffDistance(1.0)\n",
    "\n",
    "# Add particles to the system with their parameters one by one\n",
    "masses = [1.0, 12.0, 1.0, 16.0, 16.0, 12.0]  # Particle masses in atomic mass units (amu)\n",
    "\n",
    "# Iterate through your atom data and add them to the NonbondedForce\n",
    "for atom in atom_data:\n",
    "    particle_index = system.addParticle(elem_masses[atom['label']])\n",
    "    # Charge is set to 0.0 for LJ-only interactions\n",
    "    nonbonded_force.addParticle(atom['charge'], atom['epsilon'], atom['sigma'])  # charge, sigma (nm), epsilon (kJ/mol)\n",
    "\n",
    "# Add the NonbondedForce to the system\n",
    "system.addForce(nonbonded_force)\n",
    "system.getForces()"
   ]
  },
  {
   "cell_type": "code",
   "execution_count": 45,
   "metadata": {},
   "outputs": [
    {
     "name": "stdout",
     "output_type": "stream",
     "text": [
      "NonbondedForce parameters saved to nonbonded_force.xml\n"
     ]
    }
   ],
   "source": [
    "import xml.etree.ElementTree as ET\n",
    "\n",
    "from simtk.openmm import app, NonbondedForce\n",
    "\n",
    "# Create a NonbondedForce object (replace this with your actual NonbondedForce object)\n",
    "#nonbonded_force = NonbondedForce()\n",
    "\n",
    "# Create an XML ElementTree\n",
    "root = ET.Element(\"NonbondedForce\")\n",
    "\n",
    "# Iterate through particles in the NonbondedForce and add their parameters to the XML\n",
    "for i in range(nonbonded_force.getNumParticles()):\n",
    "    charge, sigma, epsilon = nonbonded_force.getParticleParameters(i)\n",
    "    particle_elem = ET.SubElement(root, \"Particle\")\n",
    "    particle_elem.set(\"index\", str(i))\n",
    "    particle_elem.set(\"charge\", str(charge))\n",
    "    particle_elem.set(\"sigma\", str(sigma))\n",
    "    particle_elem.set(\"epsilon\", str(epsilon))\n",
    "\n",
    "# Create an ElementTree and write it to an XML file\n",
    "tree = ET.ElementTree(root)\n",
    "tree.write(\"nonbonded_force.xml\")\n",
    "\n",
    "print(\"NonbondedForce parameters saved to nonbonded_force.xml\")\n"
   ]
  },
  {
   "cell_type": "code",
   "execution_count": 56,
   "metadata": {},
   "outputs": [
    {
     "name": "stdout",
     "output_type": "stream",
     "text": [
      "XML file created: custom_forcefield.xml\n"
     ]
    }
   ],
   "source": [
    "import xml.etree.ElementTree as ET\n",
    "import xml.dom.minidom as minidom\n",
    "\n",
    "# Create the root element\n",
    "root = ET.Element(\"ForceField\")\n",
    "\n",
    "# Create the LennardJonesForce element\n",
    "lj_force = ET.SubElement(root, \"LennardJonesForce\")\n",
    "lj_force.set(\"lj14scale\", \"0.50000\")\n",
    "\n",
    "# Define atom data\n",
    "atom_data = [\n",
    "    {\"epsilon\": \"0.359824\", \"sigma\": \"0.3399670000000001\", \"type\": \"ca\"},\n",
    "    {\"epsilon\": \"0.06276\", \"sigma\": \"0.25996400000000003\", \"type\": \"ha\"},\n",
    "    {\"epsilon\": \"0.45773\", \"sigma\": \"0.3399670000000001\", \"type\": \"c3\"},\n",
    "    {\"epsilon\": \"0.0656888\", \"sigma\": \"0.247135\", \"type\": \"h1\"},\n",
    "    {\"epsilon\": \"0.880314\", \"sigma\": \"0.306647\", \"type\": \"oh\"},\n",
    "    {\"epsilon\": \"0.0\", \"sigma\": \"0.0\", \"type\": \"ho\"},\n",
    "]\n",
    "\n",
    "# Add Atom elements for each atom\n",
    "for atom_info in atom_data:\n",
    "    atom = ET.SubElement(lj_force, \"Atom\")\n",
    "    atom.set(\"epsilon\", atom_info[\"epsilon\"])\n",
    "    atom.set(\"sigma\", atom_info[\"sigma\"])\n",
    "    atom.set(\"type\", atom_info[\"type\"])\n",
    "\n",
    "# Create an ElementTree\n",
    "tree = ET.ElementTree(root)\n",
    "\n",
    "# Convert the ElementTree to a formatted string with line breaks\n",
    "xml_string = minidom.parseString(ET.tostring(root)).toprettyxml(indent=\"    \")\n",
    "\n",
    "# Remove the XML declaration line\n",
    "xml_lines = xml_string.split(\"\\n\")[1:]\n",
    "\n",
    "# Write the formatted XML string to a file\n",
    "with open(\"custom_forcefield.xml\", \"w\") as xml_file:\n",
    "    xml_file.write(\"\\n\".join(xml_lines))\n",
    "\n",
    "print(\"XML file created: custom_forcefield.xml\")\n"
   ]
  },
  {
   "cell_type": "code",
   "execution_count": 50,
   "metadata": {},
   "outputs": [],
   "source": [
    "xmlio = XMLIO()\n",
    "xmlio.loadXML(\"openmm_forcefield.xml\")"
   ]
  },
  {
   "cell_type": "code",
   "execution_count": 81,
   "metadata": {},
   "outputs": [
    {
     "name": "stdout",
     "output_type": "stream",
     "text": [
      "['O', 'C', 'O'] [[ 4.13272685 -2.97431954  8.34502069]\n",
      " [ 3.23378102  3.30204889  8.3380211 ]\n",
      " [ 3.15856622  2.14451582  8.3310215 ]]\n"
     ]
    }
   ],
   "source": [
    "from ase.io import read, write\n",
    "atoms = read(\"/home/yutao/project/MIL-120/adsoption/site1/co2_1.cif\")\n",
    "print(atoms.get_chemical_symbols(), atoms.get_positions())"
   ]
  },
  {
   "cell_type": "code",
   "execution_count": 12,
   "metadata": {},
   "outputs": [
    {
     "ename": "FileNotFoundError",
     "evalue": "[Errno 2] No such file or directory: 'Lig_500.top'",
     "output_type": "error",
     "traceback": [
      "\u001b[0;31m---------------------------------------------------------------------------\u001b[0m",
      "\u001b[0;31mFileNotFoundError\u001b[0m                         Traceback (most recent call last)",
      "Cell \u001b[0;32mIn[12], line 1\u001b[0m\n\u001b[0;32m----> 1\u001b[0m top \u001b[39m=\u001b[39m app\u001b[39m.\u001b[39;49mGromacsTopFile(\u001b[39m\"\u001b[39;49m\u001b[39mLig_500.top\u001b[39;49m\u001b[39m\"\u001b[39;49m)\n\u001b[1;32m      2\u001b[0m top\u001b[39m.\u001b[39mtopology\u001b[39m.\u001b[39msetPeriodicBoxVectors(pdb\u001b[39m.\u001b[39mtopology\u001b[39m.\u001b[39mgetPeriodicBoxVectors())\n",
      "File \u001b[0;32m~/anaconda3/envs/dmff/lib/python3.11/site-packages/openmm/app/gromacstopfile.py:537\u001b[0m, in \u001b[0;36mGromacsTopFile.__init__\u001b[0;34m(self, file, periodicBoxVectors, unitCellDimensions, includeDir, defines)\u001b[0m\n\u001b[1;32m    535\u001b[0m \u001b[39mself\u001b[39m\u001b[39m.\u001b[39m_cmapTypes \u001b[39m=\u001b[39m {}\n\u001b[1;32m    536\u001b[0m \u001b[39mself\u001b[39m\u001b[39m.\u001b[39m_nonbondTypes \u001b[39m=\u001b[39m {}\n\u001b[0;32m--> 537\u001b[0m \u001b[39mself\u001b[39;49m\u001b[39m.\u001b[39;49m_processFile(file)\n\u001b[1;32m    539\u001b[0m \u001b[39m# Create the Topology from it.\u001b[39;00m\n\u001b[1;32m    541\u001b[0m top \u001b[39m=\u001b[39m Topology()\n",
      "File \u001b[0;32m~/anaconda3/envs/dmff/lib/python3.11/site-packages/openmm/app/gromacstopfile.py:127\u001b[0m, in \u001b[0;36mGromacsTopFile._processFile\u001b[0;34m(self, file)\u001b[0m\n\u001b[1;32m    125\u001b[0m \u001b[39mdef\u001b[39;00m \u001b[39m_processFile\u001b[39m(\u001b[39mself\u001b[39m, file):\n\u001b[1;32m    126\u001b[0m     append \u001b[39m=\u001b[39m \u001b[39m'\u001b[39m\u001b[39m'\u001b[39m\n\u001b[0;32m--> 127\u001b[0m     \u001b[39mfor\u001b[39;00m line \u001b[39min\u001b[39;00m \u001b[39mopen\u001b[39;49m(file):\n\u001b[1;32m    128\u001b[0m         \u001b[39mif\u001b[39;00m line\u001b[39m.\u001b[39mstrip()\u001b[39m.\u001b[39mendswith(\u001b[39m'\u001b[39m\u001b[39m\\\\\u001b[39;00m\u001b[39m'\u001b[39m):\n\u001b[1;32m    129\u001b[0m             append \u001b[39m=\u001b[39m \u001b[39m'\u001b[39m\u001b[39m%s\u001b[39;00m\u001b[39m \u001b[39m\u001b[39m%s\u001b[39;00m\u001b[39m'\u001b[39m \u001b[39m%\u001b[39m (append, line[:line\u001b[39m.\u001b[39mrfind(\u001b[39m'\u001b[39m\u001b[39m\\\\\u001b[39;00m\u001b[39m'\u001b[39m)])\n",
      "\u001b[0;31mFileNotFoundError\u001b[0m: [Errno 2] No such file or directory: 'Lig_500.top'"
     ]
    }
   ],
   "source": [
    "top = app.GromacsTopFile(\"Lig_500.top\")\n",
    "top.topology.setPeriodicBoxVectors(pdb.topology.getPeriodicBoxVectors())"
   ]
  },
  {
   "cell_type": "code",
   "execution_count": 13,
   "metadata": {},
   "outputs": [
    {
     "name": "stdout",
     "output_type": "stream",
     "text": [
      "\u001b[0;31mSignature:\u001b[0m\n",
      "\u001b[0mff\u001b[0m\u001b[0;34m.\u001b[0m\u001b[0mcreateSystem\u001b[0m\u001b[0;34m(\u001b[0m\u001b[0;34m\u001b[0m\n",
      "\u001b[0;34m\u001b[0m    \u001b[0mtopology\u001b[0m\u001b[0;34m,\u001b[0m\u001b[0;34m\u001b[0m\n",
      "\u001b[0;34m\u001b[0m    \u001b[0mnonbondedMethod\u001b[0m\u001b[0;34m=\u001b[0m\u001b[0mNoCutoff\u001b[0m\u001b[0;34m,\u001b[0m\u001b[0;34m\u001b[0m\n",
      "\u001b[0;34m\u001b[0m    \u001b[0mnonbondedCutoff\u001b[0m\u001b[0;34m=\u001b[0m\u001b[0mQuantity\u001b[0m\u001b[0;34m(\u001b[0m\u001b[0mvalue\u001b[0m\u001b[0;34m=\u001b[0m\u001b[0;36m1.0\u001b[0m\u001b[0;34m,\u001b[0m \u001b[0munit\u001b[0m\u001b[0;34m=\u001b[0m\u001b[0mnanometer\u001b[0m\u001b[0;34m)\u001b[0m\u001b[0;34m,\u001b[0m\u001b[0;34m\u001b[0m\n",
      "\u001b[0;34m\u001b[0m    \u001b[0mconstraints\u001b[0m\u001b[0;34m=\u001b[0m\u001b[0;32mNone\u001b[0m\u001b[0;34m,\u001b[0m\u001b[0;34m\u001b[0m\n",
      "\u001b[0;34m\u001b[0m    \u001b[0mrigidWater\u001b[0m\u001b[0;34m=\u001b[0m\u001b[0;32mNone\u001b[0m\u001b[0;34m,\u001b[0m\u001b[0;34m\u001b[0m\n",
      "\u001b[0;34m\u001b[0m    \u001b[0mremoveCMMotion\u001b[0m\u001b[0;34m=\u001b[0m\u001b[0;32mTrue\u001b[0m\u001b[0;34m,\u001b[0m\u001b[0;34m\u001b[0m\n",
      "\u001b[0;34m\u001b[0m    \u001b[0mhydrogenMass\u001b[0m\u001b[0;34m=\u001b[0m\u001b[0;32mNone\u001b[0m\u001b[0;34m,\u001b[0m\u001b[0;34m\u001b[0m\n",
      "\u001b[0;34m\u001b[0m    \u001b[0mresidueTemplates\u001b[0m\u001b[0;34m=\u001b[0m\u001b[0;34m{\u001b[0m\u001b[0;34m}\u001b[0m\u001b[0;34m,\u001b[0m\u001b[0;34m\u001b[0m\n",
      "\u001b[0;34m\u001b[0m    \u001b[0mignoreExternalBonds\u001b[0m\u001b[0;34m=\u001b[0m\u001b[0;32mFalse\u001b[0m\u001b[0;34m,\u001b[0m\u001b[0;34m\u001b[0m\n",
      "\u001b[0;34m\u001b[0m    \u001b[0mswitchDistance\u001b[0m\u001b[0;34m=\u001b[0m\u001b[0;32mNone\u001b[0m\u001b[0;34m,\u001b[0m\u001b[0;34m\u001b[0m\n",
      "\u001b[0;34m\u001b[0m    \u001b[0mflexibleConstraints\u001b[0m\u001b[0;34m=\u001b[0m\u001b[0;32mFalse\u001b[0m\u001b[0;34m,\u001b[0m\u001b[0;34m\u001b[0m\n",
      "\u001b[0;34m\u001b[0m    \u001b[0mdrudeMass\u001b[0m\u001b[0;34m=\u001b[0m\u001b[0mQuantity\u001b[0m\u001b[0;34m(\u001b[0m\u001b[0mvalue\u001b[0m\u001b[0;34m=\u001b[0m\u001b[0;36m0.4\u001b[0m\u001b[0;34m,\u001b[0m \u001b[0munit\u001b[0m\u001b[0;34m=\u001b[0m\u001b[0mdalton\u001b[0m\u001b[0;34m)\u001b[0m\u001b[0;34m,\u001b[0m\u001b[0;34m\u001b[0m\n",
      "\u001b[0;34m\u001b[0m    \u001b[0;34m**\u001b[0m\u001b[0margs\u001b[0m\u001b[0;34m,\u001b[0m\u001b[0;34m\u001b[0m\n",
      "\u001b[0;34m\u001b[0m\u001b[0;34m)\u001b[0m\u001b[0;34m\u001b[0m\u001b[0;34m\u001b[0m\u001b[0m\n",
      "\u001b[0;31mSource:\u001b[0m   \n",
      "    \u001b[0;32mdef\u001b[0m \u001b[0mcreateSystem\u001b[0m\u001b[0;34m(\u001b[0m\u001b[0mself\u001b[0m\u001b[0;34m,\u001b[0m \u001b[0mtopology\u001b[0m\u001b[0;34m,\u001b[0m \u001b[0mnonbondedMethod\u001b[0m\u001b[0;34m=\u001b[0m\u001b[0mNoCutoff\u001b[0m\u001b[0;34m,\u001b[0m \u001b[0mnonbondedCutoff\u001b[0m\u001b[0;34m=\u001b[0m\u001b[0;36m1.0\u001b[0m\u001b[0;34m*\u001b[0m\u001b[0munit\u001b[0m\u001b[0;34m.\u001b[0m\u001b[0mnanometer\u001b[0m\u001b[0;34m,\u001b[0m\u001b[0;34m\u001b[0m\n",
      "\u001b[0;34m\u001b[0m                     \u001b[0mconstraints\u001b[0m\u001b[0;34m=\u001b[0m\u001b[0;32mNone\u001b[0m\u001b[0;34m,\u001b[0m \u001b[0mrigidWater\u001b[0m\u001b[0;34m=\u001b[0m\u001b[0;32mNone\u001b[0m\u001b[0;34m,\u001b[0m \u001b[0mremoveCMMotion\u001b[0m\u001b[0;34m=\u001b[0m\u001b[0;32mTrue\u001b[0m\u001b[0;34m,\u001b[0m \u001b[0mhydrogenMass\u001b[0m\u001b[0;34m=\u001b[0m\u001b[0;32mNone\u001b[0m\u001b[0;34m,\u001b[0m \u001b[0mresidueTemplates\u001b[0m\u001b[0;34m=\u001b[0m\u001b[0mdict\u001b[0m\u001b[0;34m(\u001b[0m\u001b[0;34m)\u001b[0m\u001b[0;34m,\u001b[0m\u001b[0;34m\u001b[0m\n",
      "\u001b[0;34m\u001b[0m                     \u001b[0mignoreExternalBonds\u001b[0m\u001b[0;34m=\u001b[0m\u001b[0;32mFalse\u001b[0m\u001b[0;34m,\u001b[0m \u001b[0mswitchDistance\u001b[0m\u001b[0;34m=\u001b[0m\u001b[0;32mNone\u001b[0m\u001b[0;34m,\u001b[0m \u001b[0mflexibleConstraints\u001b[0m\u001b[0;34m=\u001b[0m\u001b[0;32mFalse\u001b[0m\u001b[0;34m,\u001b[0m \u001b[0mdrudeMass\u001b[0m\u001b[0;34m=\u001b[0m\u001b[0;36m0.4\u001b[0m\u001b[0;34m*\u001b[0m\u001b[0munit\u001b[0m\u001b[0;34m.\u001b[0m\u001b[0mamu\u001b[0m\u001b[0;34m,\u001b[0m \u001b[0;34m**\u001b[0m\u001b[0margs\u001b[0m\u001b[0;34m)\u001b[0m\u001b[0;34m:\u001b[0m\u001b[0;34m\u001b[0m\n",
      "\u001b[0;34m\u001b[0m        \u001b[0;34m\"\"\"Construct an OpenMM System representing a Topology with this force field.\u001b[0m\n",
      "\u001b[0;34m\u001b[0m\n",
      "\u001b[0;34m        Parameters\u001b[0m\n",
      "\u001b[0;34m        ----------\u001b[0m\n",
      "\u001b[0;34m        topology : Topology\u001b[0m\n",
      "\u001b[0;34m            The Topology for which to create a System\u001b[0m\n",
      "\u001b[0;34m        nonbondedMethod : object=NoCutoff\u001b[0m\n",
      "\u001b[0;34m            The method to use for nonbonded interactions.  Allowed values are\u001b[0m\n",
      "\u001b[0;34m            NoCutoff, CutoffNonPeriodic, CutoffPeriodic, Ewald, PME, or LJPME.\u001b[0m\n",
      "\u001b[0;34m        nonbondedCutoff : distance=1*nanometer\u001b[0m\n",
      "\u001b[0;34m            The cutoff distance to use for nonbonded interactions\u001b[0m\n",
      "\u001b[0;34m        constraints : object=None\u001b[0m\n",
      "\u001b[0;34m            Specifies which bonds and angles should be implemented with constraints.\u001b[0m\n",
      "\u001b[0;34m            Allowed values are None, HBonds, AllBonds, or HAngles.\u001b[0m\n",
      "\u001b[0;34m        rigidWater : boolean=None\u001b[0m\n",
      "\u001b[0;34m            If true, water molecules will be fully rigid regardless of the value\u001b[0m\n",
      "\u001b[0;34m            passed for the constraints argument.  If None (the default), it uses the\u001b[0m\n",
      "\u001b[0;34m            default behavior for this force field's water model.\u001b[0m\n",
      "\u001b[0;34m        removeCMMotion : boolean=True\u001b[0m\n",
      "\u001b[0;34m            If true, a CMMotionRemover will be added to the System\u001b[0m\n",
      "\u001b[0;34m        hydrogenMass : mass=None\u001b[0m\n",
      "\u001b[0;34m            The mass to use for hydrogen atoms bound to heavy atoms.  Any mass\u001b[0m\n",
      "\u001b[0;34m            added to a hydrogen is subtracted from the heavy atom to keep\u001b[0m\n",
      "\u001b[0;34m            their total mass the same.  If rigidWater is used to make water molecules\u001b[0m\n",
      "\u001b[0;34m            rigid, then water hydrogens are not altered.\u001b[0m\n",
      "\u001b[0;34m        residueTemplates : dict=dict()\u001b[0m\n",
      "\u001b[0;34m            Key: Topology Residue object\u001b[0m\n",
      "\u001b[0;34m            Value: string, name of _TemplateData residue template object to use for (Key) residue.\u001b[0m\n",
      "\u001b[0;34m            This allows user to specify which template to apply to particular Residues\u001b[0m\n",
      "\u001b[0;34m            in the event that multiple matching templates are available (e.g Fe2+ and Fe3+\u001b[0m\n",
      "\u001b[0;34m            templates in the ForceField for a monoatomic iron ion in the topology).\u001b[0m\n",
      "\u001b[0;34m        ignoreExternalBonds : boolean=False\u001b[0m\n",
      "\u001b[0;34m            If true, ignore external bonds when matching residues to templates.  This is\u001b[0m\n",
      "\u001b[0;34m            useful when the Topology represents one piece of a larger molecule, so chains are\u001b[0m\n",
      "\u001b[0;34m            not terminated properly.  This option can create ambiguities where multiple\u001b[0m\n",
      "\u001b[0;34m            templates match the same residue.  If that happens, use the residueTemplates\u001b[0m\n",
      "\u001b[0;34m            argument to specify which one to use.\u001b[0m\n",
      "\u001b[0;34m        switchDistance : float=None\u001b[0m\n",
      "\u001b[0;34m            The distance at which the potential energy switching function is turned on for\u001b[0m\n",
      "\u001b[0;34m            Lennard-Jones interactions. If this is None, no switching function will be used.\u001b[0m\n",
      "\u001b[0;34m        flexibleConstraints : boolean=False\u001b[0m\n",
      "\u001b[0;34m            If True, parameters for constrained degrees of freedom will be added to the System\u001b[0m\n",
      "\u001b[0;34m        drudeMass : mass=0.4*amu\u001b[0m\n",
      "\u001b[0;34m            The mass to use for Drude particles.  Any mass added to a Drude particle is\u001b[0m\n",
      "\u001b[0;34m            subtracted from its parent atom to keep their total mass the same.\u001b[0m\n",
      "\u001b[0;34m        args\u001b[0m\n",
      "\u001b[0;34m            Arbitrary additional keyword arguments may also be specified.\u001b[0m\n",
      "\u001b[0;34m            This allows extra parameters to be specified that are specific to\u001b[0m\n",
      "\u001b[0;34m            particular force fields.\u001b[0m\n",
      "\u001b[0;34m\u001b[0m\n",
      "\u001b[0;34m        Returns\u001b[0m\n",
      "\u001b[0;34m        -------\u001b[0m\n",
      "\u001b[0;34m        system\u001b[0m\n",
      "\u001b[0;34m            the newly created System\u001b[0m\n",
      "\u001b[0;34m        \"\"\"\u001b[0m\u001b[0;34m\u001b[0m\n",
      "\u001b[0;34m\u001b[0m        \u001b[0margs\u001b[0m\u001b[0;34m[\u001b[0m\u001b[0;34m'switchDistance'\u001b[0m\u001b[0;34m]\u001b[0m \u001b[0;34m=\u001b[0m \u001b[0mswitchDistance\u001b[0m\u001b[0;34m\u001b[0m\n",
      "\u001b[0;34m\u001b[0m        \u001b[0margs\u001b[0m\u001b[0;34m[\u001b[0m\u001b[0;34m'flexibleConstraints'\u001b[0m\u001b[0;34m]\u001b[0m \u001b[0;34m=\u001b[0m \u001b[0mflexibleConstraints\u001b[0m\u001b[0;34m\u001b[0m\n",
      "\u001b[0;34m\u001b[0m        \u001b[0margs\u001b[0m\u001b[0;34m[\u001b[0m\u001b[0;34m'drudeMass'\u001b[0m\u001b[0;34m]\u001b[0m \u001b[0;34m=\u001b[0m \u001b[0mdrudeMass\u001b[0m\u001b[0;34m\u001b[0m\n",
      "\u001b[0;34m\u001b[0m        \u001b[0margs\u001b[0m \u001b[0;34m=\u001b[0m \u001b[0mArgTracker\u001b[0m\u001b[0;34m(\u001b[0m\u001b[0margs\u001b[0m\u001b[0;34m)\u001b[0m\u001b[0;34m\u001b[0m\n",
      "\u001b[0;34m\u001b[0m        \u001b[0mdata\u001b[0m \u001b[0;34m=\u001b[0m \u001b[0mForceField\u001b[0m\u001b[0;34m.\u001b[0m\u001b[0m_SystemData\u001b[0m\u001b[0;34m(\u001b[0m\u001b[0mtopology\u001b[0m\u001b[0;34m)\u001b[0m\u001b[0;34m\u001b[0m\n",
      "\u001b[0;34m\u001b[0m        \u001b[0mrigidResidue\u001b[0m \u001b[0;34m=\u001b[0m \u001b[0;34m[\u001b[0m\u001b[0;32mFalse\u001b[0m\u001b[0;34m]\u001b[0m\u001b[0;34m*\u001b[0m\u001b[0mtopology\u001b[0m\u001b[0;34m.\u001b[0m\u001b[0mgetNumResidues\u001b[0m\u001b[0;34m(\u001b[0m\u001b[0;34m)\u001b[0m\u001b[0;34m\u001b[0m\n",
      "\u001b[0;34m\u001b[0m\u001b[0;34m\u001b[0m\n",
      "\u001b[0;34m\u001b[0m        \u001b[0;31m# Find the template matching each residue and assign atom types.\u001b[0m\u001b[0;34m\u001b[0m\n",
      "\u001b[0;34m\u001b[0m\u001b[0;34m\u001b[0m\n",
      "\u001b[0;34m\u001b[0m        \u001b[0mtemplateForResidue\u001b[0m \u001b[0;34m=\u001b[0m \u001b[0mself\u001b[0m\u001b[0;34m.\u001b[0m\u001b[0m_matchAllResiduesToTemplates\u001b[0m\u001b[0;34m(\u001b[0m\u001b[0mdata\u001b[0m\u001b[0;34m,\u001b[0m \u001b[0mtopology\u001b[0m\u001b[0;34m,\u001b[0m \u001b[0mresidueTemplates\u001b[0m\u001b[0;34m,\u001b[0m \u001b[0mignoreExternalBonds\u001b[0m\u001b[0;34m)\u001b[0m\u001b[0;34m\u001b[0m\n",
      "\u001b[0;34m\u001b[0m        \u001b[0;32mfor\u001b[0m \u001b[0mres\u001b[0m \u001b[0;32min\u001b[0m \u001b[0mtopology\u001b[0m\u001b[0;34m.\u001b[0m\u001b[0mresidues\u001b[0m\u001b[0;34m(\u001b[0m\u001b[0;34m)\u001b[0m\u001b[0;34m:\u001b[0m\u001b[0;34m\u001b[0m\n",
      "\u001b[0;34m\u001b[0m            \u001b[0;32mif\u001b[0m \u001b[0mres\u001b[0m\u001b[0;34m.\u001b[0m\u001b[0mname\u001b[0m \u001b[0;34m==\u001b[0m \u001b[0;34m'HOH'\u001b[0m\u001b[0;34m:\u001b[0m\u001b[0;34m\u001b[0m\n",
      "\u001b[0;34m\u001b[0m                \u001b[0;31m# Determine whether this should be a rigid water.\u001b[0m\u001b[0;34m\u001b[0m\n",
      "\u001b[0;34m\u001b[0m\u001b[0;34m\u001b[0m\n",
      "\u001b[0;34m\u001b[0m                \u001b[0;32mif\u001b[0m \u001b[0mrigidWater\u001b[0m \u001b[0;32mis\u001b[0m \u001b[0;32mNone\u001b[0m\u001b[0;34m:\u001b[0m\u001b[0;34m\u001b[0m\n",
      "\u001b[0;34m\u001b[0m                    \u001b[0mrigidResidue\u001b[0m\u001b[0;34m[\u001b[0m\u001b[0mres\u001b[0m\u001b[0;34m.\u001b[0m\u001b[0mindex\u001b[0m\u001b[0;34m]\u001b[0m \u001b[0;34m=\u001b[0m \u001b[0mtemplateForResidue\u001b[0m\u001b[0;34m[\u001b[0m\u001b[0mres\u001b[0m\u001b[0;34m.\u001b[0m\u001b[0mindex\u001b[0m\u001b[0;34m]\u001b[0m\u001b[0;34m.\u001b[0m\u001b[0mrigidWater\u001b[0m\u001b[0;34m\u001b[0m\n",
      "\u001b[0;34m\u001b[0m                \u001b[0;32melif\u001b[0m \u001b[0mrigidWater\u001b[0m\u001b[0;34m:\u001b[0m\u001b[0;34m\u001b[0m\n",
      "\u001b[0;34m\u001b[0m                    \u001b[0mrigidResidue\u001b[0m\u001b[0;34m[\u001b[0m\u001b[0mres\u001b[0m\u001b[0;34m.\u001b[0m\u001b[0mindex\u001b[0m\u001b[0;34m]\u001b[0m \u001b[0;34m=\u001b[0m \u001b[0;32mTrue\u001b[0m\u001b[0;34m\u001b[0m\n",
      "\u001b[0;34m\u001b[0m\u001b[0;34m\u001b[0m\n",
      "\u001b[0;34m\u001b[0m        \u001b[0;31m# Create the System and add atoms\u001b[0m\u001b[0;34m\u001b[0m\n",
      "\u001b[0;34m\u001b[0m\u001b[0;34m\u001b[0m\n",
      "\u001b[0;34m\u001b[0m        \u001b[0msys\u001b[0m \u001b[0;34m=\u001b[0m \u001b[0mmm\u001b[0m\u001b[0;34m.\u001b[0m\u001b[0mSystem\u001b[0m\u001b[0;34m(\u001b[0m\u001b[0;34m)\u001b[0m\u001b[0;34m\u001b[0m\n",
      "\u001b[0;34m\u001b[0m        \u001b[0;32mfor\u001b[0m \u001b[0matom\u001b[0m \u001b[0;32min\u001b[0m \u001b[0mtopology\u001b[0m\u001b[0;34m.\u001b[0m\u001b[0matoms\u001b[0m\u001b[0;34m(\u001b[0m\u001b[0;34m)\u001b[0m\u001b[0;34m:\u001b[0m\u001b[0;34m\u001b[0m\n",
      "\u001b[0;34m\u001b[0m            \u001b[0;31m# Look up the atom type name, returning a helpful error message if it cannot be found.\u001b[0m\u001b[0;34m\u001b[0m\n",
      "\u001b[0;34m\u001b[0m            \u001b[0;32mif\u001b[0m \u001b[0matom\u001b[0m \u001b[0;32mnot\u001b[0m \u001b[0;32min\u001b[0m \u001b[0mdata\u001b[0m\u001b[0;34m.\u001b[0m\u001b[0matomType\u001b[0m\u001b[0;34m:\u001b[0m\u001b[0;34m\u001b[0m\n",
      "\u001b[0;34m\u001b[0m                \u001b[0;32mraise\u001b[0m \u001b[0mException\u001b[0m\u001b[0;34m(\u001b[0m\u001b[0;34m\"Could not identify atom type for atom '%s'.\"\u001b[0m \u001b[0;34m%\u001b[0m \u001b[0mstr\u001b[0m\u001b[0;34m(\u001b[0m\u001b[0matom\u001b[0m\u001b[0;34m)\u001b[0m\u001b[0;34m)\u001b[0m\u001b[0;34m\u001b[0m\n",
      "\u001b[0;34m\u001b[0m            \u001b[0mtypename\u001b[0m \u001b[0;34m=\u001b[0m \u001b[0mdata\u001b[0m\u001b[0;34m.\u001b[0m\u001b[0matomType\u001b[0m\u001b[0;34m[\u001b[0m\u001b[0matom\u001b[0m\u001b[0;34m]\u001b[0m\u001b[0;34m\u001b[0m\n",
      "\u001b[0;34m\u001b[0m\u001b[0;34m\u001b[0m\n",
      "\u001b[0;34m\u001b[0m            \u001b[0;31m# Look up the type name in the list of registered atom types, returning a helpful error message if it cannot be found.\u001b[0m\u001b[0;34m\u001b[0m\n",
      "\u001b[0;34m\u001b[0m            \u001b[0;32mif\u001b[0m \u001b[0mtypename\u001b[0m \u001b[0;32mnot\u001b[0m \u001b[0;32min\u001b[0m \u001b[0mself\u001b[0m\u001b[0;34m.\u001b[0m\u001b[0m_atomTypes\u001b[0m\u001b[0;34m:\u001b[0m\u001b[0;34m\u001b[0m\n",
      "\u001b[0;34m\u001b[0m                \u001b[0mmsg\u001b[0m  \u001b[0;34m=\u001b[0m \u001b[0;34m\"Could not find typename '%s' for atom '%s' in list of known atom types.\\n\"\u001b[0m \u001b[0;34m%\u001b[0m \u001b[0;34m(\u001b[0m\u001b[0mtypename\u001b[0m\u001b[0;34m,\u001b[0m \u001b[0mstr\u001b[0m\u001b[0;34m(\u001b[0m\u001b[0matom\u001b[0m\u001b[0;34m)\u001b[0m\u001b[0;34m)\u001b[0m\u001b[0;34m\u001b[0m\n",
      "\u001b[0;34m\u001b[0m                \u001b[0mmsg\u001b[0m \u001b[0;34m+=\u001b[0m \u001b[0;34m\"Known atom types are: %s\"\u001b[0m \u001b[0;34m%\u001b[0m \u001b[0mstr\u001b[0m\u001b[0;34m(\u001b[0m\u001b[0mself\u001b[0m\u001b[0;34m.\u001b[0m\u001b[0m_atomTypes\u001b[0m\u001b[0;34m.\u001b[0m\u001b[0mkeys\u001b[0m\u001b[0;34m(\u001b[0m\u001b[0;34m)\u001b[0m\u001b[0;34m)\u001b[0m\u001b[0;34m\u001b[0m\n",
      "\u001b[0;34m\u001b[0m                \u001b[0;32mraise\u001b[0m \u001b[0mException\u001b[0m\u001b[0;34m(\u001b[0m\u001b[0mmsg\u001b[0m\u001b[0;34m)\u001b[0m\u001b[0;34m\u001b[0m\n",
      "\u001b[0;34m\u001b[0m\u001b[0;34m\u001b[0m\n",
      "\u001b[0;34m\u001b[0m            \u001b[0;31m# Add the particle to the OpenMM system.\u001b[0m\u001b[0;34m\u001b[0m\n",
      "\u001b[0;34m\u001b[0m            \u001b[0mmass\u001b[0m \u001b[0;34m=\u001b[0m \u001b[0mself\u001b[0m\u001b[0;34m.\u001b[0m\u001b[0m_atomTypes\u001b[0m\u001b[0;34m[\u001b[0m\u001b[0mtypename\u001b[0m\u001b[0;34m]\u001b[0m\u001b[0;34m.\u001b[0m\u001b[0mmass\u001b[0m\u001b[0;34m\u001b[0m\n",
      "\u001b[0;34m\u001b[0m            \u001b[0msys\u001b[0m\u001b[0;34m.\u001b[0m\u001b[0maddParticle\u001b[0m\u001b[0;34m(\u001b[0m\u001b[0mmass\u001b[0m\u001b[0;34m)\u001b[0m\u001b[0;34m\u001b[0m\n",
      "\u001b[0;34m\u001b[0m\u001b[0;34m\u001b[0m\n",
      "\u001b[0;34m\u001b[0m        \u001b[0;31m# Adjust hydrogen masses if requested.\u001b[0m\u001b[0;34m\u001b[0m\n",
      "\u001b[0;34m\u001b[0m\u001b[0;34m\u001b[0m\n",
      "\u001b[0;34m\u001b[0m        \u001b[0;32mif\u001b[0m \u001b[0mhydrogenMass\u001b[0m \u001b[0;32mis\u001b[0m \u001b[0;32mnot\u001b[0m \u001b[0;32mNone\u001b[0m\u001b[0;34m:\u001b[0m\u001b[0;34m\u001b[0m\n",
      "\u001b[0;34m\u001b[0m            \u001b[0;32mif\u001b[0m \u001b[0;32mnot\u001b[0m \u001b[0munit\u001b[0m\u001b[0;34m.\u001b[0m\u001b[0mis_quantity\u001b[0m\u001b[0;34m(\u001b[0m\u001b[0mhydrogenMass\u001b[0m\u001b[0;34m)\u001b[0m\u001b[0;34m:\u001b[0m\u001b[0;34m\u001b[0m\n",
      "\u001b[0;34m\u001b[0m                \u001b[0mhydrogenMass\u001b[0m \u001b[0;34m*=\u001b[0m \u001b[0munit\u001b[0m\u001b[0;34m.\u001b[0m\u001b[0mdalton\u001b[0m\u001b[0;34m\u001b[0m\n",
      "\u001b[0;34m\u001b[0m            \u001b[0;32mfor\u001b[0m \u001b[0matom1\u001b[0m\u001b[0;34m,\u001b[0m \u001b[0matom2\u001b[0m \u001b[0;32min\u001b[0m \u001b[0mtopology\u001b[0m\u001b[0;34m.\u001b[0m\u001b[0mbonds\u001b[0m\u001b[0;34m(\u001b[0m\u001b[0;34m)\u001b[0m\u001b[0;34m:\u001b[0m\u001b[0;34m\u001b[0m\n",
      "\u001b[0;34m\u001b[0m                \u001b[0;32mif\u001b[0m \u001b[0matom1\u001b[0m\u001b[0;34m.\u001b[0m\u001b[0melement\u001b[0m \u001b[0;32mis\u001b[0m \u001b[0melem\u001b[0m\u001b[0;34m.\u001b[0m\u001b[0mhydrogen\u001b[0m\u001b[0;34m:\u001b[0m\u001b[0;34m\u001b[0m\n",
      "\u001b[0;34m\u001b[0m                    \u001b[0;34m(\u001b[0m\u001b[0matom1\u001b[0m\u001b[0;34m,\u001b[0m \u001b[0matom2\u001b[0m\u001b[0;34m)\u001b[0m \u001b[0;34m=\u001b[0m \u001b[0;34m(\u001b[0m\u001b[0matom2\u001b[0m\u001b[0;34m,\u001b[0m \u001b[0matom1\u001b[0m\u001b[0;34m)\u001b[0m\u001b[0;34m\u001b[0m\n",
      "\u001b[0;34m\u001b[0m                \u001b[0;32mif\u001b[0m \u001b[0matom2\u001b[0m\u001b[0;34m.\u001b[0m\u001b[0melement\u001b[0m \u001b[0;32mis\u001b[0m \u001b[0melem\u001b[0m\u001b[0;34m.\u001b[0m\u001b[0mhydrogen\u001b[0m \u001b[0;32mand\u001b[0m \u001b[0matom1\u001b[0m\u001b[0;34m.\u001b[0m\u001b[0melement\u001b[0m \u001b[0;32mnot\u001b[0m \u001b[0;32min\u001b[0m \u001b[0;34m(\u001b[0m\u001b[0melem\u001b[0m\u001b[0;34m.\u001b[0m\u001b[0mhydrogen\u001b[0m\u001b[0;34m,\u001b[0m \u001b[0;32mNone\u001b[0m\u001b[0;34m)\u001b[0m \u001b[0;32mand\u001b[0m \u001b[0;32mnot\u001b[0m \u001b[0mrigidResidue\u001b[0m\u001b[0;34m[\u001b[0m\u001b[0matom2\u001b[0m\u001b[0;34m.\u001b[0m\u001b[0mresidue\u001b[0m\u001b[0;34m.\u001b[0m\u001b[0mindex\u001b[0m\u001b[0;34m]\u001b[0m\u001b[0;34m:\u001b[0m\u001b[0;34m\u001b[0m\n",
      "\u001b[0;34m\u001b[0m                    \u001b[0mtransferMass\u001b[0m \u001b[0;34m=\u001b[0m \u001b[0mhydrogenMass\u001b[0m\u001b[0;34m-\u001b[0m\u001b[0msys\u001b[0m\u001b[0;34m.\u001b[0m\u001b[0mgetParticleMass\u001b[0m\u001b[0;34m(\u001b[0m\u001b[0matom2\u001b[0m\u001b[0;34m.\u001b[0m\u001b[0mindex\u001b[0m\u001b[0;34m)\u001b[0m\u001b[0;34m\u001b[0m\n",
      "\u001b[0;34m\u001b[0m                    \u001b[0msys\u001b[0m\u001b[0;34m.\u001b[0m\u001b[0msetParticleMass\u001b[0m\u001b[0;34m(\u001b[0m\u001b[0matom2\u001b[0m\u001b[0;34m.\u001b[0m\u001b[0mindex\u001b[0m\u001b[0;34m,\u001b[0m \u001b[0mhydrogenMass\u001b[0m\u001b[0;34m)\u001b[0m\u001b[0;34m\u001b[0m\n",
      "\u001b[0;34m\u001b[0m                    \u001b[0msys\u001b[0m\u001b[0;34m.\u001b[0m\u001b[0msetParticleMass\u001b[0m\u001b[0;34m(\u001b[0m\u001b[0matom1\u001b[0m\u001b[0;34m.\u001b[0m\u001b[0mindex\u001b[0m\u001b[0;34m,\u001b[0m \u001b[0msys\u001b[0m\u001b[0;34m.\u001b[0m\u001b[0mgetParticleMass\u001b[0m\u001b[0;34m(\u001b[0m\u001b[0matom1\u001b[0m\u001b[0;34m.\u001b[0m\u001b[0mindex\u001b[0m\u001b[0;34m)\u001b[0m\u001b[0;34m-\u001b[0m\u001b[0mtransferMass\u001b[0m\u001b[0;34m)\u001b[0m\u001b[0;34m\u001b[0m\n",
      "\u001b[0;34m\u001b[0m\u001b[0;34m\u001b[0m\n",
      "\u001b[0;34m\u001b[0m        \u001b[0;31m# Set periodic boundary conditions.\u001b[0m\u001b[0;34m\u001b[0m\n",
      "\u001b[0;34m\u001b[0m\u001b[0;34m\u001b[0m\n",
      "\u001b[0;34m\u001b[0m        \u001b[0mboxVectors\u001b[0m \u001b[0;34m=\u001b[0m \u001b[0mtopology\u001b[0m\u001b[0;34m.\u001b[0m\u001b[0mgetPeriodicBoxVectors\u001b[0m\u001b[0;34m(\u001b[0m\u001b[0;34m)\u001b[0m\u001b[0;34m\u001b[0m\n",
      "\u001b[0;34m\u001b[0m        \u001b[0;32mif\u001b[0m \u001b[0mboxVectors\u001b[0m \u001b[0;32mis\u001b[0m \u001b[0;32mnot\u001b[0m \u001b[0;32mNone\u001b[0m\u001b[0;34m:\u001b[0m\u001b[0;34m\u001b[0m\n",
      "\u001b[0;34m\u001b[0m            \u001b[0msys\u001b[0m\u001b[0;34m.\u001b[0m\u001b[0msetDefaultPeriodicBoxVectors\u001b[0m\u001b[0;34m(\u001b[0m\u001b[0mboxVectors\u001b[0m\u001b[0;34m[\u001b[0m\u001b[0;36m0\u001b[0m\u001b[0;34m]\u001b[0m\u001b[0;34m,\u001b[0m \u001b[0mboxVectors\u001b[0m\u001b[0;34m[\u001b[0m\u001b[0;36m1\u001b[0m\u001b[0;34m]\u001b[0m\u001b[0;34m,\u001b[0m \u001b[0mboxVectors\u001b[0m\u001b[0;34m[\u001b[0m\u001b[0;36m2\u001b[0m\u001b[0;34m]\u001b[0m\u001b[0;34m)\u001b[0m\u001b[0;34m\u001b[0m\n",
      "\u001b[0;34m\u001b[0m        \u001b[0;32melif\u001b[0m \u001b[0mnonbondedMethod\u001b[0m \u001b[0;32mnot\u001b[0m \u001b[0;32min\u001b[0m \u001b[0;34m[\u001b[0m\u001b[0mNoCutoff\u001b[0m\u001b[0;34m,\u001b[0m \u001b[0mCutoffNonPeriodic\u001b[0m\u001b[0;34m]\u001b[0m\u001b[0;34m:\u001b[0m\u001b[0;34m\u001b[0m\n",
      "\u001b[0;34m\u001b[0m            \u001b[0;32mraise\u001b[0m \u001b[0mValueError\u001b[0m\u001b[0;34m(\u001b[0m\u001b[0;34m'Requested periodic boundary conditions for a Topology that does not specify periodic box dimensions'\u001b[0m\u001b[0;34m)\u001b[0m\u001b[0;34m\u001b[0m\n",
      "\u001b[0;34m\u001b[0m\u001b[0;34m\u001b[0m\n",
      "\u001b[0;34m\u001b[0m        \u001b[0;31m# Make a list of all unique angles\u001b[0m\u001b[0;34m\u001b[0m\n",
      "\u001b[0;34m\u001b[0m\u001b[0;34m\u001b[0m\n",
      "\u001b[0;34m\u001b[0m        \u001b[0muniqueAngles\u001b[0m \u001b[0;34m=\u001b[0m \u001b[0mset\u001b[0m\u001b[0;34m(\u001b[0m\u001b[0;34m)\u001b[0m\u001b[0;34m\u001b[0m\n",
      "\u001b[0;34m\u001b[0m        \u001b[0;32mfor\u001b[0m \u001b[0mbond\u001b[0m \u001b[0;32min\u001b[0m \u001b[0mdata\u001b[0m\u001b[0;34m.\u001b[0m\u001b[0mbonds\u001b[0m\u001b[0;34m:\u001b[0m\u001b[0;34m\u001b[0m\n",
      "\u001b[0;34m\u001b[0m            \u001b[0;32mfor\u001b[0m \u001b[0matom\u001b[0m \u001b[0;32min\u001b[0m \u001b[0mdata\u001b[0m\u001b[0;34m.\u001b[0m\u001b[0mbondedToAtom\u001b[0m\u001b[0;34m[\u001b[0m\u001b[0mbond\u001b[0m\u001b[0;34m.\u001b[0m\u001b[0matom1\u001b[0m\u001b[0;34m]\u001b[0m\u001b[0;34m:\u001b[0m\u001b[0;34m\u001b[0m\n",
      "\u001b[0;34m\u001b[0m                \u001b[0;32mif\u001b[0m \u001b[0matom\u001b[0m \u001b[0;34m!=\u001b[0m \u001b[0mbond\u001b[0m\u001b[0;34m.\u001b[0m\u001b[0matom2\u001b[0m\u001b[0;34m:\u001b[0m\u001b[0;34m\u001b[0m\n",
      "\u001b[0;34m\u001b[0m                    \u001b[0;32mif\u001b[0m \u001b[0matom\u001b[0m \u001b[0;34m<\u001b[0m \u001b[0mbond\u001b[0m\u001b[0;34m.\u001b[0m\u001b[0matom2\u001b[0m\u001b[0;34m:\u001b[0m\u001b[0;34m\u001b[0m\n",
      "\u001b[0;34m\u001b[0m                        \u001b[0muniqueAngles\u001b[0m\u001b[0;34m.\u001b[0m\u001b[0madd\u001b[0m\u001b[0;34m(\u001b[0m\u001b[0;34m(\u001b[0m\u001b[0matom\u001b[0m\u001b[0;34m,\u001b[0m \u001b[0mbond\u001b[0m\u001b[0;34m.\u001b[0m\u001b[0matom1\u001b[0m\u001b[0;34m,\u001b[0m \u001b[0mbond\u001b[0m\u001b[0;34m.\u001b[0m\u001b[0matom2\u001b[0m\u001b[0;34m)\u001b[0m\u001b[0;34m)\u001b[0m\u001b[0;34m\u001b[0m\n",
      "\u001b[0;34m\u001b[0m                    \u001b[0;32melse\u001b[0m\u001b[0;34m:\u001b[0m\u001b[0;34m\u001b[0m\n",
      "\u001b[0;34m\u001b[0m                        \u001b[0muniqueAngles\u001b[0m\u001b[0;34m.\u001b[0m\u001b[0madd\u001b[0m\u001b[0;34m(\u001b[0m\u001b[0;34m(\u001b[0m\u001b[0mbond\u001b[0m\u001b[0;34m.\u001b[0m\u001b[0matom2\u001b[0m\u001b[0;34m,\u001b[0m \u001b[0mbond\u001b[0m\u001b[0;34m.\u001b[0m\u001b[0matom1\u001b[0m\u001b[0;34m,\u001b[0m \u001b[0matom\u001b[0m\u001b[0;34m)\u001b[0m\u001b[0;34m)\u001b[0m\u001b[0;34m\u001b[0m\n",
      "\u001b[0;34m\u001b[0m            \u001b[0;32mfor\u001b[0m \u001b[0matom\u001b[0m \u001b[0;32min\u001b[0m \u001b[0mdata\u001b[0m\u001b[0;34m.\u001b[0m\u001b[0mbondedToAtom\u001b[0m\u001b[0;34m[\u001b[0m\u001b[0mbond\u001b[0m\u001b[0;34m.\u001b[0m\u001b[0matom2\u001b[0m\u001b[0;34m]\u001b[0m\u001b[0;34m:\u001b[0m\u001b[0;34m\u001b[0m\n",
      "\u001b[0;34m\u001b[0m                \u001b[0;32mif\u001b[0m \u001b[0matom\u001b[0m \u001b[0;34m!=\u001b[0m \u001b[0mbond\u001b[0m\u001b[0;34m.\u001b[0m\u001b[0matom1\u001b[0m\u001b[0;34m:\u001b[0m\u001b[0;34m\u001b[0m\n",
      "\u001b[0;34m\u001b[0m                    \u001b[0;32mif\u001b[0m \u001b[0matom\u001b[0m \u001b[0;34m>\u001b[0m \u001b[0mbond\u001b[0m\u001b[0;34m.\u001b[0m\u001b[0matom1\u001b[0m\u001b[0;34m:\u001b[0m\u001b[0;34m\u001b[0m\n",
      "\u001b[0;34m\u001b[0m                        \u001b[0muniqueAngles\u001b[0m\u001b[0;34m.\u001b[0m\u001b[0madd\u001b[0m\u001b[0;34m(\u001b[0m\u001b[0;34m(\u001b[0m\u001b[0mbond\u001b[0m\u001b[0;34m.\u001b[0m\u001b[0matom1\u001b[0m\u001b[0;34m,\u001b[0m \u001b[0mbond\u001b[0m\u001b[0;34m.\u001b[0m\u001b[0matom2\u001b[0m\u001b[0;34m,\u001b[0m \u001b[0matom\u001b[0m\u001b[0;34m)\u001b[0m\u001b[0;34m)\u001b[0m\u001b[0;34m\u001b[0m\n",
      "\u001b[0;34m\u001b[0m                    \u001b[0;32melse\u001b[0m\u001b[0;34m:\u001b[0m\u001b[0;34m\u001b[0m\n",
      "\u001b[0;34m\u001b[0m                        \u001b[0muniqueAngles\u001b[0m\u001b[0;34m.\u001b[0m\u001b[0madd\u001b[0m\u001b[0;34m(\u001b[0m\u001b[0;34m(\u001b[0m\u001b[0matom\u001b[0m\u001b[0;34m,\u001b[0m \u001b[0mbond\u001b[0m\u001b[0;34m.\u001b[0m\u001b[0matom2\u001b[0m\u001b[0;34m,\u001b[0m \u001b[0mbond\u001b[0m\u001b[0;34m.\u001b[0m\u001b[0matom1\u001b[0m\u001b[0;34m)\u001b[0m\u001b[0;34m)\u001b[0m\u001b[0;34m\u001b[0m\n",
      "\u001b[0;34m\u001b[0m        \u001b[0mdata\u001b[0m\u001b[0;34m.\u001b[0m\u001b[0mangles\u001b[0m \u001b[0;34m=\u001b[0m \u001b[0msorted\u001b[0m\u001b[0;34m(\u001b[0m\u001b[0mlist\u001b[0m\u001b[0;34m(\u001b[0m\u001b[0muniqueAngles\u001b[0m\u001b[0;34m)\u001b[0m\u001b[0;34m)\u001b[0m\u001b[0;34m\u001b[0m\n",
      "\u001b[0;34m\u001b[0m\u001b[0;34m\u001b[0m\n",
      "\u001b[0;34m\u001b[0m        \u001b[0;31m# Make a list of all unique proper torsions\u001b[0m\u001b[0;34m\u001b[0m\n",
      "\u001b[0;34m\u001b[0m\u001b[0;34m\u001b[0m\n",
      "\u001b[0;34m\u001b[0m        \u001b[0muniquePropers\u001b[0m \u001b[0;34m=\u001b[0m \u001b[0mset\u001b[0m\u001b[0;34m(\u001b[0m\u001b[0;34m)\u001b[0m\u001b[0;34m\u001b[0m\n",
      "\u001b[0;34m\u001b[0m        \u001b[0;32mfor\u001b[0m \u001b[0mangle\u001b[0m \u001b[0;32min\u001b[0m \u001b[0mdata\u001b[0m\u001b[0;34m.\u001b[0m\u001b[0mangles\u001b[0m\u001b[0;34m:\u001b[0m\u001b[0;34m\u001b[0m\n",
      "\u001b[0;34m\u001b[0m            \u001b[0;32mfor\u001b[0m \u001b[0matom\u001b[0m \u001b[0;32min\u001b[0m \u001b[0mdata\u001b[0m\u001b[0;34m.\u001b[0m\u001b[0mbondedToAtom\u001b[0m\u001b[0;34m[\u001b[0m\u001b[0mangle\u001b[0m\u001b[0;34m[\u001b[0m\u001b[0;36m0\u001b[0m\u001b[0;34m]\u001b[0m\u001b[0;34m]\u001b[0m\u001b[0;34m:\u001b[0m\u001b[0;34m\u001b[0m\n",
      "\u001b[0;34m\u001b[0m                \u001b[0;32mif\u001b[0m \u001b[0matom\u001b[0m \u001b[0;32mnot\u001b[0m \u001b[0;32min\u001b[0m \u001b[0mangle\u001b[0m\u001b[0;34m:\u001b[0m\u001b[0;34m\u001b[0m\n",
      "\u001b[0;34m\u001b[0m                    \u001b[0;32mif\u001b[0m \u001b[0matom\u001b[0m \u001b[0;34m<\u001b[0m \u001b[0mangle\u001b[0m\u001b[0;34m[\u001b[0m\u001b[0;36m2\u001b[0m\u001b[0;34m]\u001b[0m\u001b[0;34m:\u001b[0m\u001b[0;34m\u001b[0m\n",
      "\u001b[0;34m\u001b[0m                        \u001b[0muniquePropers\u001b[0m\u001b[0;34m.\u001b[0m\u001b[0madd\u001b[0m\u001b[0;34m(\u001b[0m\u001b[0;34m(\u001b[0m\u001b[0matom\u001b[0m\u001b[0;34m,\u001b[0m \u001b[0mangle\u001b[0m\u001b[0;34m[\u001b[0m\u001b[0;36m0\u001b[0m\u001b[0;34m]\u001b[0m\u001b[0;34m,\u001b[0m \u001b[0mangle\u001b[0m\u001b[0;34m[\u001b[0m\u001b[0;36m1\u001b[0m\u001b[0;34m]\u001b[0m\u001b[0;34m,\u001b[0m \u001b[0mangle\u001b[0m\u001b[0;34m[\u001b[0m\u001b[0;36m2\u001b[0m\u001b[0;34m]\u001b[0m\u001b[0;34m)\u001b[0m\u001b[0;34m)\u001b[0m\u001b[0;34m\u001b[0m\n",
      "\u001b[0;34m\u001b[0m                    \u001b[0;32melse\u001b[0m\u001b[0;34m:\u001b[0m\u001b[0;34m\u001b[0m\n",
      "\u001b[0;34m\u001b[0m                        \u001b[0muniquePropers\u001b[0m\u001b[0;34m.\u001b[0m\u001b[0madd\u001b[0m\u001b[0;34m(\u001b[0m\u001b[0;34m(\u001b[0m\u001b[0mangle\u001b[0m\u001b[0;34m[\u001b[0m\u001b[0;36m2\u001b[0m\u001b[0;34m]\u001b[0m\u001b[0;34m,\u001b[0m \u001b[0mangle\u001b[0m\u001b[0;34m[\u001b[0m\u001b[0;36m1\u001b[0m\u001b[0;34m]\u001b[0m\u001b[0;34m,\u001b[0m \u001b[0mangle\u001b[0m\u001b[0;34m[\u001b[0m\u001b[0;36m0\u001b[0m\u001b[0;34m]\u001b[0m\u001b[0;34m,\u001b[0m \u001b[0matom\u001b[0m\u001b[0;34m)\u001b[0m\u001b[0;34m)\u001b[0m\u001b[0;34m\u001b[0m\n",
      "\u001b[0;34m\u001b[0m            \u001b[0;32mfor\u001b[0m \u001b[0matom\u001b[0m \u001b[0;32min\u001b[0m \u001b[0mdata\u001b[0m\u001b[0;34m.\u001b[0m\u001b[0mbondedToAtom\u001b[0m\u001b[0;34m[\u001b[0m\u001b[0mangle\u001b[0m\u001b[0;34m[\u001b[0m\u001b[0;36m2\u001b[0m\u001b[0;34m]\u001b[0m\u001b[0;34m]\u001b[0m\u001b[0;34m:\u001b[0m\u001b[0;34m\u001b[0m\n",
      "\u001b[0;34m\u001b[0m                \u001b[0;32mif\u001b[0m \u001b[0matom\u001b[0m \u001b[0;32mnot\u001b[0m \u001b[0;32min\u001b[0m \u001b[0mangle\u001b[0m\u001b[0;34m:\u001b[0m\u001b[0;34m\u001b[0m\n",
      "\u001b[0;34m\u001b[0m                    \u001b[0;32mif\u001b[0m \u001b[0matom\u001b[0m \u001b[0;34m>\u001b[0m \u001b[0mangle\u001b[0m\u001b[0;34m[\u001b[0m\u001b[0;36m0\u001b[0m\u001b[0;34m]\u001b[0m\u001b[0;34m:\u001b[0m\u001b[0;34m\u001b[0m\n",
      "\u001b[0;34m\u001b[0m                        \u001b[0muniquePropers\u001b[0m\u001b[0;34m.\u001b[0m\u001b[0madd\u001b[0m\u001b[0;34m(\u001b[0m\u001b[0;34m(\u001b[0m\u001b[0mangle\u001b[0m\u001b[0;34m[\u001b[0m\u001b[0;36m0\u001b[0m\u001b[0;34m]\u001b[0m\u001b[0;34m,\u001b[0m \u001b[0mangle\u001b[0m\u001b[0;34m[\u001b[0m\u001b[0;36m1\u001b[0m\u001b[0;34m]\u001b[0m\u001b[0;34m,\u001b[0m \u001b[0mangle\u001b[0m\u001b[0;34m[\u001b[0m\u001b[0;36m2\u001b[0m\u001b[0;34m]\u001b[0m\u001b[0;34m,\u001b[0m \u001b[0matom\u001b[0m\u001b[0;34m)\u001b[0m\u001b[0;34m)\u001b[0m\u001b[0;34m\u001b[0m\n",
      "\u001b[0;34m\u001b[0m                    \u001b[0;32melse\u001b[0m\u001b[0;34m:\u001b[0m\u001b[0;34m\u001b[0m\n",
      "\u001b[0;34m\u001b[0m                        \u001b[0muniquePropers\u001b[0m\u001b[0;34m.\u001b[0m\u001b[0madd\u001b[0m\u001b[0;34m(\u001b[0m\u001b[0;34m(\u001b[0m\u001b[0matom\u001b[0m\u001b[0;34m,\u001b[0m \u001b[0mangle\u001b[0m\u001b[0;34m[\u001b[0m\u001b[0;36m2\u001b[0m\u001b[0;34m]\u001b[0m\u001b[0;34m,\u001b[0m \u001b[0mangle\u001b[0m\u001b[0;34m[\u001b[0m\u001b[0;36m1\u001b[0m\u001b[0;34m]\u001b[0m\u001b[0;34m,\u001b[0m \u001b[0mangle\u001b[0m\u001b[0;34m[\u001b[0m\u001b[0;36m0\u001b[0m\u001b[0;34m]\u001b[0m\u001b[0;34m)\u001b[0m\u001b[0;34m)\u001b[0m\u001b[0;34m\u001b[0m\n",
      "\u001b[0;34m\u001b[0m        \u001b[0mdata\u001b[0m\u001b[0;34m.\u001b[0m\u001b[0mpropers\u001b[0m \u001b[0;34m=\u001b[0m \u001b[0msorted\u001b[0m\u001b[0;34m(\u001b[0m\u001b[0mlist\u001b[0m\u001b[0;34m(\u001b[0m\u001b[0muniquePropers\u001b[0m\u001b[0;34m)\u001b[0m\u001b[0;34m)\u001b[0m\u001b[0;34m\u001b[0m\n",
      "\u001b[0;34m\u001b[0m\u001b[0;34m\u001b[0m\n",
      "\u001b[0;34m\u001b[0m        \u001b[0;31m# Make a list of all unique improper torsions\u001b[0m\u001b[0;34m\u001b[0m\n",
      "\u001b[0;34m\u001b[0m\u001b[0;34m\u001b[0m\n",
      "\u001b[0;34m\u001b[0m        \u001b[0;32mfor\u001b[0m \u001b[0matom\u001b[0m \u001b[0;32min\u001b[0m \u001b[0mrange\u001b[0m\u001b[0;34m(\u001b[0m\u001b[0mlen\u001b[0m\u001b[0;34m(\u001b[0m\u001b[0mdata\u001b[0m\u001b[0;34m.\u001b[0m\u001b[0mbondedToAtom\u001b[0m\u001b[0;34m)\u001b[0m\u001b[0;34m)\u001b[0m\u001b[0;34m:\u001b[0m\u001b[0;34m\u001b[0m\n",
      "\u001b[0;34m\u001b[0m            \u001b[0mbondedTo\u001b[0m \u001b[0;34m=\u001b[0m \u001b[0mdata\u001b[0m\u001b[0;34m.\u001b[0m\u001b[0mbondedToAtom\u001b[0m\u001b[0;34m[\u001b[0m\u001b[0matom\u001b[0m\u001b[0;34m]\u001b[0m\u001b[0;34m\u001b[0m\n",
      "\u001b[0;34m\u001b[0m            \u001b[0;32mif\u001b[0m \u001b[0mlen\u001b[0m\u001b[0;34m(\u001b[0m\u001b[0mbondedTo\u001b[0m\u001b[0;34m)\u001b[0m \u001b[0;34m>\u001b[0m \u001b[0;36m2\u001b[0m\u001b[0;34m:\u001b[0m\u001b[0;34m\u001b[0m\n",
      "\u001b[0;34m\u001b[0m                \u001b[0;32mfor\u001b[0m \u001b[0msubset\u001b[0m \u001b[0;32min\u001b[0m \u001b[0mitertools\u001b[0m\u001b[0;34m.\u001b[0m\u001b[0mcombinations\u001b[0m\u001b[0;34m(\u001b[0m\u001b[0mbondedTo\u001b[0m\u001b[0;34m,\u001b[0m \u001b[0;36m3\u001b[0m\u001b[0;34m)\u001b[0m\u001b[0;34m:\u001b[0m\u001b[0;34m\u001b[0m\n",
      "\u001b[0;34m\u001b[0m                    \u001b[0mdata\u001b[0m\u001b[0;34m.\u001b[0m\u001b[0mimpropers\u001b[0m\u001b[0;34m.\u001b[0m\u001b[0mappend\u001b[0m\u001b[0;34m(\u001b[0m\u001b[0;34m(\u001b[0m\u001b[0matom\u001b[0m\u001b[0;34m,\u001b[0m \u001b[0msubset\u001b[0m\u001b[0;34m[\u001b[0m\u001b[0;36m0\u001b[0m\u001b[0;34m]\u001b[0m\u001b[0;34m,\u001b[0m \u001b[0msubset\u001b[0m\u001b[0;34m[\u001b[0m\u001b[0;36m1\u001b[0m\u001b[0;34m]\u001b[0m\u001b[0;34m,\u001b[0m \u001b[0msubset\u001b[0m\u001b[0;34m[\u001b[0m\u001b[0;36m2\u001b[0m\u001b[0;34m]\u001b[0m\u001b[0;34m)\u001b[0m\u001b[0;34m)\u001b[0m\u001b[0;34m\u001b[0m\n",
      "\u001b[0;34m\u001b[0m\u001b[0;34m\u001b[0m\n",
      "\u001b[0;34m\u001b[0m        \u001b[0;31m# Identify bonds that should be implemented with constraints\u001b[0m\u001b[0;34m\u001b[0m\n",
      "\u001b[0;34m\u001b[0m\u001b[0;34m\u001b[0m\n",
      "\u001b[0;34m\u001b[0m        \u001b[0;32mif\u001b[0m \u001b[0mconstraints\u001b[0m \u001b[0;34m==\u001b[0m \u001b[0mAllBonds\u001b[0m \u001b[0;32mor\u001b[0m \u001b[0mconstraints\u001b[0m \u001b[0;34m==\u001b[0m \u001b[0mHAngles\u001b[0m\u001b[0;34m:\u001b[0m\u001b[0;34m\u001b[0m\n",
      "\u001b[0;34m\u001b[0m            \u001b[0;32mfor\u001b[0m \u001b[0mbond\u001b[0m \u001b[0;32min\u001b[0m \u001b[0mdata\u001b[0m\u001b[0;34m.\u001b[0m\u001b[0mbonds\u001b[0m\u001b[0;34m:\u001b[0m\u001b[0;34m\u001b[0m\n",
      "\u001b[0;34m\u001b[0m                \u001b[0mbond\u001b[0m\u001b[0;34m.\u001b[0m\u001b[0misConstrained\u001b[0m \u001b[0;34m=\u001b[0m \u001b[0;32mTrue\u001b[0m\u001b[0;34m\u001b[0m\n",
      "\u001b[0;34m\u001b[0m        \u001b[0;32melif\u001b[0m \u001b[0mconstraints\u001b[0m \u001b[0;34m==\u001b[0m \u001b[0mHBonds\u001b[0m\u001b[0;34m:\u001b[0m\u001b[0;34m\u001b[0m\n",
      "\u001b[0;34m\u001b[0m            \u001b[0;32mfor\u001b[0m \u001b[0mbond\u001b[0m \u001b[0;32min\u001b[0m \u001b[0mdata\u001b[0m\u001b[0;34m.\u001b[0m\u001b[0mbonds\u001b[0m\u001b[0;34m:\u001b[0m\u001b[0;34m\u001b[0m\n",
      "\u001b[0;34m\u001b[0m                \u001b[0matom1\u001b[0m \u001b[0;34m=\u001b[0m \u001b[0mdata\u001b[0m\u001b[0;34m.\u001b[0m\u001b[0matoms\u001b[0m\u001b[0;34m[\u001b[0m\u001b[0mbond\u001b[0m\u001b[0;34m.\u001b[0m\u001b[0matom1\u001b[0m\u001b[0;34m]\u001b[0m\u001b[0;34m\u001b[0m\n",
      "\u001b[0;34m\u001b[0m                \u001b[0matom2\u001b[0m \u001b[0;34m=\u001b[0m \u001b[0mdata\u001b[0m\u001b[0;34m.\u001b[0m\u001b[0matoms\u001b[0m\u001b[0;34m[\u001b[0m\u001b[0mbond\u001b[0m\u001b[0;34m.\u001b[0m\u001b[0matom2\u001b[0m\u001b[0;34m]\u001b[0m\u001b[0;34m\u001b[0m\n",
      "\u001b[0;34m\u001b[0m                \u001b[0mbond\u001b[0m\u001b[0;34m.\u001b[0m\u001b[0misConstrained\u001b[0m \u001b[0;34m=\u001b[0m \u001b[0matom1\u001b[0m\u001b[0;34m.\u001b[0m\u001b[0melement\u001b[0m \u001b[0;32mis\u001b[0m \u001b[0melem\u001b[0m\u001b[0;34m.\u001b[0m\u001b[0mhydrogen\u001b[0m \u001b[0;32mor\u001b[0m \u001b[0matom2\u001b[0m\u001b[0;34m.\u001b[0m\u001b[0melement\u001b[0m \u001b[0;32mis\u001b[0m \u001b[0melem\u001b[0m\u001b[0;34m.\u001b[0m\u001b[0mhydrogen\u001b[0m\u001b[0;34m\u001b[0m\n",
      "\u001b[0;34m\u001b[0m        \u001b[0;32mfor\u001b[0m \u001b[0mbond\u001b[0m \u001b[0;32min\u001b[0m \u001b[0mdata\u001b[0m\u001b[0;34m.\u001b[0m\u001b[0mbonds\u001b[0m\u001b[0;34m:\u001b[0m\u001b[0;34m\u001b[0m\n",
      "\u001b[0;34m\u001b[0m            \u001b[0matom1\u001b[0m \u001b[0;34m=\u001b[0m \u001b[0mdata\u001b[0m\u001b[0;34m.\u001b[0m\u001b[0matoms\u001b[0m\u001b[0;34m[\u001b[0m\u001b[0mbond\u001b[0m\u001b[0;34m.\u001b[0m\u001b[0matom1\u001b[0m\u001b[0;34m]\u001b[0m\u001b[0;34m\u001b[0m\n",
      "\u001b[0;34m\u001b[0m            \u001b[0matom2\u001b[0m \u001b[0;34m=\u001b[0m \u001b[0mdata\u001b[0m\u001b[0;34m.\u001b[0m\u001b[0matoms\u001b[0m\u001b[0;34m[\u001b[0m\u001b[0mbond\u001b[0m\u001b[0;34m.\u001b[0m\u001b[0matom2\u001b[0m\u001b[0;34m]\u001b[0m\u001b[0;34m\u001b[0m\n",
      "\u001b[0;34m\u001b[0m            \u001b[0;32mif\u001b[0m \u001b[0mrigidResidue\u001b[0m\u001b[0;34m[\u001b[0m\u001b[0matom1\u001b[0m\u001b[0;34m.\u001b[0m\u001b[0mresidue\u001b[0m\u001b[0;34m.\u001b[0m\u001b[0mindex\u001b[0m\u001b[0;34m]\u001b[0m \u001b[0;32mand\u001b[0m \u001b[0mrigidResidue\u001b[0m\u001b[0;34m[\u001b[0m\u001b[0matom2\u001b[0m\u001b[0;34m.\u001b[0m\u001b[0mresidue\u001b[0m\u001b[0;34m.\u001b[0m\u001b[0mindex\u001b[0m\u001b[0;34m]\u001b[0m\u001b[0;34m:\u001b[0m\u001b[0;34m\u001b[0m\n",
      "\u001b[0;34m\u001b[0m                \u001b[0mbond\u001b[0m\u001b[0;34m.\u001b[0m\u001b[0misConstrained\u001b[0m \u001b[0;34m=\u001b[0m \u001b[0;32mTrue\u001b[0m\u001b[0;34m\u001b[0m\n",
      "\u001b[0;34m\u001b[0m\u001b[0;34m\u001b[0m\n",
      "\u001b[0;34m\u001b[0m        \u001b[0;31m# Identify angles that should be implemented with constraints\u001b[0m\u001b[0;34m\u001b[0m\n",
      "\u001b[0;34m\u001b[0m\u001b[0;34m\u001b[0m\n",
      "\u001b[0;34m\u001b[0m        \u001b[0;32mif\u001b[0m \u001b[0mconstraints\u001b[0m \u001b[0;34m==\u001b[0m \u001b[0mHAngles\u001b[0m\u001b[0;34m:\u001b[0m\u001b[0;34m\u001b[0m\n",
      "\u001b[0;34m\u001b[0m            \u001b[0;32mfor\u001b[0m \u001b[0mangle\u001b[0m \u001b[0;32min\u001b[0m \u001b[0mdata\u001b[0m\u001b[0;34m.\u001b[0m\u001b[0mangles\u001b[0m\u001b[0;34m:\u001b[0m\u001b[0;34m\u001b[0m\n",
      "\u001b[0;34m\u001b[0m                \u001b[0matom1\u001b[0m \u001b[0;34m=\u001b[0m \u001b[0mdata\u001b[0m\u001b[0;34m.\u001b[0m\u001b[0matoms\u001b[0m\u001b[0;34m[\u001b[0m\u001b[0mangle\u001b[0m\u001b[0;34m[\u001b[0m\u001b[0;36m0\u001b[0m\u001b[0;34m]\u001b[0m\u001b[0;34m]\u001b[0m\u001b[0;34m\u001b[0m\n",
      "\u001b[0;34m\u001b[0m                \u001b[0matom2\u001b[0m \u001b[0;34m=\u001b[0m \u001b[0mdata\u001b[0m\u001b[0;34m.\u001b[0m\u001b[0matoms\u001b[0m\u001b[0;34m[\u001b[0m\u001b[0mangle\u001b[0m\u001b[0;34m[\u001b[0m\u001b[0;36m1\u001b[0m\u001b[0;34m]\u001b[0m\u001b[0;34m]\u001b[0m\u001b[0;34m\u001b[0m\n",
      "\u001b[0;34m\u001b[0m                \u001b[0matom3\u001b[0m \u001b[0;34m=\u001b[0m \u001b[0mdata\u001b[0m\u001b[0;34m.\u001b[0m\u001b[0matoms\u001b[0m\u001b[0;34m[\u001b[0m\u001b[0mangle\u001b[0m\u001b[0;34m[\u001b[0m\u001b[0;36m2\u001b[0m\u001b[0;34m]\u001b[0m\u001b[0;34m]\u001b[0m\u001b[0;34m\u001b[0m\n",
      "\u001b[0;34m\u001b[0m                \u001b[0mnumH\u001b[0m \u001b[0;34m=\u001b[0m \u001b[0;36m0\u001b[0m\u001b[0;34m\u001b[0m\n",
      "\u001b[0;34m\u001b[0m                \u001b[0;32mif\u001b[0m \u001b[0matom1\u001b[0m\u001b[0;34m.\u001b[0m\u001b[0melement\u001b[0m \u001b[0;32mis\u001b[0m \u001b[0melem\u001b[0m\u001b[0;34m.\u001b[0m\u001b[0mhydrogen\u001b[0m\u001b[0;34m:\u001b[0m\u001b[0;34m\u001b[0m\n",
      "\u001b[0;34m\u001b[0m                    \u001b[0mnumH\u001b[0m \u001b[0;34m+=\u001b[0m \u001b[0;36m1\u001b[0m\u001b[0;34m\u001b[0m\n",
      "\u001b[0;34m\u001b[0m                \u001b[0;32mif\u001b[0m \u001b[0matom3\u001b[0m\u001b[0;34m.\u001b[0m\u001b[0melement\u001b[0m \u001b[0;32mis\u001b[0m \u001b[0melem\u001b[0m\u001b[0;34m.\u001b[0m\u001b[0mhydrogen\u001b[0m\u001b[0;34m:\u001b[0m\u001b[0;34m\u001b[0m\n",
      "\u001b[0;34m\u001b[0m                    \u001b[0mnumH\u001b[0m \u001b[0;34m+=\u001b[0m \u001b[0;36m1\u001b[0m\u001b[0;34m\u001b[0m\n",
      "\u001b[0;34m\u001b[0m                \u001b[0mdata\u001b[0m\u001b[0;34m.\u001b[0m\u001b[0misAngleConstrained\u001b[0m\u001b[0;34m.\u001b[0m\u001b[0mappend\u001b[0m\u001b[0;34m(\u001b[0m\u001b[0mnumH\u001b[0m \u001b[0;34m==\u001b[0m \u001b[0;36m2\u001b[0m \u001b[0;32mor\u001b[0m \u001b[0;34m(\u001b[0m\u001b[0mnumH\u001b[0m \u001b[0;34m==\u001b[0m \u001b[0;36m1\u001b[0m \u001b[0;32mand\u001b[0m \u001b[0matom2\u001b[0m\u001b[0;34m.\u001b[0m\u001b[0melement\u001b[0m \u001b[0;32mis\u001b[0m \u001b[0melem\u001b[0m\u001b[0;34m.\u001b[0m\u001b[0moxygen\u001b[0m\u001b[0;34m)\u001b[0m\u001b[0;34m)\u001b[0m\u001b[0;34m\u001b[0m\n",
      "\u001b[0;34m\u001b[0m        \u001b[0;32melse\u001b[0m\u001b[0;34m:\u001b[0m\u001b[0;34m\u001b[0m\n",
      "\u001b[0;34m\u001b[0m            \u001b[0mdata\u001b[0m\u001b[0;34m.\u001b[0m\u001b[0misAngleConstrained\u001b[0m \u001b[0;34m=\u001b[0m \u001b[0mlen\u001b[0m\u001b[0;34m(\u001b[0m\u001b[0mdata\u001b[0m\u001b[0;34m.\u001b[0m\u001b[0mangles\u001b[0m\u001b[0;34m)\u001b[0m\u001b[0;34m*\u001b[0m\u001b[0;34m[\u001b[0m\u001b[0;32mFalse\u001b[0m\u001b[0;34m]\u001b[0m\u001b[0;34m\u001b[0m\n",
      "\u001b[0;34m\u001b[0m        \u001b[0;32mfor\u001b[0m \u001b[0mi\u001b[0m \u001b[0;32min\u001b[0m \u001b[0mrange\u001b[0m\u001b[0;34m(\u001b[0m\u001b[0mlen\u001b[0m\u001b[0;34m(\u001b[0m\u001b[0mdata\u001b[0m\u001b[0;34m.\u001b[0m\u001b[0mangles\u001b[0m\u001b[0;34m)\u001b[0m\u001b[0;34m)\u001b[0m\u001b[0;34m:\u001b[0m\u001b[0;34m\u001b[0m\n",
      "\u001b[0;34m\u001b[0m            \u001b[0mangle\u001b[0m \u001b[0;34m=\u001b[0m \u001b[0mdata\u001b[0m\u001b[0;34m.\u001b[0m\u001b[0mangles\u001b[0m\u001b[0;34m[\u001b[0m\u001b[0mi\u001b[0m\u001b[0;34m]\u001b[0m\u001b[0;34m\u001b[0m\n",
      "\u001b[0;34m\u001b[0m            \u001b[0matom1\u001b[0m \u001b[0;34m=\u001b[0m \u001b[0mdata\u001b[0m\u001b[0;34m.\u001b[0m\u001b[0matoms\u001b[0m\u001b[0;34m[\u001b[0m\u001b[0mangle\u001b[0m\u001b[0;34m[\u001b[0m\u001b[0;36m0\u001b[0m\u001b[0;34m]\u001b[0m\u001b[0;34m]\u001b[0m\u001b[0;34m\u001b[0m\n",
      "\u001b[0;34m\u001b[0m            \u001b[0matom2\u001b[0m \u001b[0;34m=\u001b[0m \u001b[0mdata\u001b[0m\u001b[0;34m.\u001b[0m\u001b[0matoms\u001b[0m\u001b[0;34m[\u001b[0m\u001b[0mangle\u001b[0m\u001b[0;34m[\u001b[0m\u001b[0;36m1\u001b[0m\u001b[0;34m]\u001b[0m\u001b[0;34m]\u001b[0m\u001b[0;34m\u001b[0m\n",
      "\u001b[0;34m\u001b[0m            \u001b[0matom3\u001b[0m \u001b[0;34m=\u001b[0m \u001b[0mdata\u001b[0m\u001b[0;34m.\u001b[0m\u001b[0matoms\u001b[0m\u001b[0;34m[\u001b[0m\u001b[0mangle\u001b[0m\u001b[0;34m[\u001b[0m\u001b[0;36m2\u001b[0m\u001b[0;34m]\u001b[0m\u001b[0;34m]\u001b[0m\u001b[0;34m\u001b[0m\n",
      "\u001b[0;34m\u001b[0m            \u001b[0;32mif\u001b[0m \u001b[0mrigidResidue\u001b[0m\u001b[0;34m[\u001b[0m\u001b[0matom1\u001b[0m\u001b[0;34m.\u001b[0m\u001b[0mresidue\u001b[0m\u001b[0;34m.\u001b[0m\u001b[0mindex\u001b[0m\u001b[0;34m]\u001b[0m \u001b[0;32mand\u001b[0m \u001b[0mrigidResidue\u001b[0m\u001b[0;34m[\u001b[0m\u001b[0matom2\u001b[0m\u001b[0;34m.\u001b[0m\u001b[0mresidue\u001b[0m\u001b[0;34m.\u001b[0m\u001b[0mindex\u001b[0m\u001b[0;34m]\u001b[0m \u001b[0;32mand\u001b[0m \u001b[0mrigidResidue\u001b[0m\u001b[0;34m[\u001b[0m\u001b[0matom3\u001b[0m\u001b[0;34m.\u001b[0m\u001b[0mresidue\u001b[0m\u001b[0;34m.\u001b[0m\u001b[0mindex\u001b[0m\u001b[0;34m]\u001b[0m\u001b[0;34m:\u001b[0m\u001b[0;34m\u001b[0m\n",
      "\u001b[0;34m\u001b[0m                \u001b[0mdata\u001b[0m\u001b[0;34m.\u001b[0m\u001b[0misAngleConstrained\u001b[0m\u001b[0;34m[\u001b[0m\u001b[0mi\u001b[0m\u001b[0;34m]\u001b[0m \u001b[0;34m=\u001b[0m \u001b[0;32mTrue\u001b[0m\u001b[0;34m\u001b[0m\n",
      "\u001b[0;34m\u001b[0m\u001b[0;34m\u001b[0m\n",
      "\u001b[0;34m\u001b[0m        \u001b[0;31m# Add virtual sites\u001b[0m\u001b[0;34m\u001b[0m\n",
      "\u001b[0;34m\u001b[0m\u001b[0;34m\u001b[0m\n",
      "\u001b[0;34m\u001b[0m        \u001b[0;32mfor\u001b[0m \u001b[0matom\u001b[0m \u001b[0;32min\u001b[0m \u001b[0mdata\u001b[0m\u001b[0;34m.\u001b[0m\u001b[0mvirtualSites\u001b[0m\u001b[0;34m:\u001b[0m\u001b[0;34m\u001b[0m\n",
      "\u001b[0;34m\u001b[0m            \u001b[0;34m(\u001b[0m\u001b[0msite\u001b[0m\u001b[0;34m,\u001b[0m \u001b[0matoms\u001b[0m\u001b[0;34m,\u001b[0m \u001b[0mexcludeWith\u001b[0m\u001b[0;34m)\u001b[0m \u001b[0;34m=\u001b[0m \u001b[0mdata\u001b[0m\u001b[0;34m.\u001b[0m\u001b[0mvirtualSites\u001b[0m\u001b[0;34m[\u001b[0m\u001b[0matom\u001b[0m\u001b[0;34m]\u001b[0m\u001b[0;34m\u001b[0m\n",
      "\u001b[0;34m\u001b[0m            \u001b[0mindex\u001b[0m \u001b[0;34m=\u001b[0m \u001b[0matom\u001b[0m\u001b[0;34m.\u001b[0m\u001b[0mindex\u001b[0m\u001b[0;34m\u001b[0m\n",
      "\u001b[0;34m\u001b[0m            \u001b[0mdata\u001b[0m\u001b[0;34m.\u001b[0m\u001b[0mexcludeAtomWith\u001b[0m\u001b[0;34m[\u001b[0m\u001b[0mexcludeWith\u001b[0m\u001b[0;34m]\u001b[0m\u001b[0;34m.\u001b[0m\u001b[0mappend\u001b[0m\u001b[0;34m(\u001b[0m\u001b[0mindex\u001b[0m\u001b[0;34m)\u001b[0m\u001b[0;34m\u001b[0m\n",
      "\u001b[0;34m\u001b[0m            \u001b[0;32mif\u001b[0m \u001b[0msite\u001b[0m\u001b[0;34m.\u001b[0m\u001b[0mtype\u001b[0m \u001b[0;34m==\u001b[0m \u001b[0;34m'average2'\u001b[0m\u001b[0;34m:\u001b[0m\u001b[0;34m\u001b[0m\n",
      "\u001b[0;34m\u001b[0m                \u001b[0msys\u001b[0m\u001b[0;34m.\u001b[0m\u001b[0msetVirtualSite\u001b[0m\u001b[0;34m(\u001b[0m\u001b[0mindex\u001b[0m\u001b[0;34m,\u001b[0m \u001b[0mmm\u001b[0m\u001b[0;34m.\u001b[0m\u001b[0mTwoParticleAverageSite\u001b[0m\u001b[0;34m(\u001b[0m\u001b[0matoms\u001b[0m\u001b[0;34m[\u001b[0m\u001b[0;36m0\u001b[0m\u001b[0;34m]\u001b[0m\u001b[0;34m,\u001b[0m \u001b[0matoms\u001b[0m\u001b[0;34m[\u001b[0m\u001b[0;36m1\u001b[0m\u001b[0;34m]\u001b[0m\u001b[0;34m,\u001b[0m \u001b[0msite\u001b[0m\u001b[0;34m.\u001b[0m\u001b[0mweights\u001b[0m\u001b[0;34m[\u001b[0m\u001b[0;36m0\u001b[0m\u001b[0;34m]\u001b[0m\u001b[0;34m,\u001b[0m \u001b[0msite\u001b[0m\u001b[0;34m.\u001b[0m\u001b[0mweights\u001b[0m\u001b[0;34m[\u001b[0m\u001b[0;36m1\u001b[0m\u001b[0;34m]\u001b[0m\u001b[0;34m)\u001b[0m\u001b[0;34m)\u001b[0m\u001b[0;34m\u001b[0m\n",
      "\u001b[0;34m\u001b[0m            \u001b[0;32melif\u001b[0m \u001b[0msite\u001b[0m\u001b[0;34m.\u001b[0m\u001b[0mtype\u001b[0m \u001b[0;34m==\u001b[0m \u001b[0;34m'average3'\u001b[0m\u001b[0;34m:\u001b[0m\u001b[0;34m\u001b[0m\n",
      "\u001b[0;34m\u001b[0m                \u001b[0msys\u001b[0m\u001b[0;34m.\u001b[0m\u001b[0msetVirtualSite\u001b[0m\u001b[0;34m(\u001b[0m\u001b[0mindex\u001b[0m\u001b[0;34m,\u001b[0m \u001b[0mmm\u001b[0m\u001b[0;34m.\u001b[0m\u001b[0mThreeParticleAverageSite\u001b[0m\u001b[0;34m(\u001b[0m\u001b[0matoms\u001b[0m\u001b[0;34m[\u001b[0m\u001b[0;36m0\u001b[0m\u001b[0;34m]\u001b[0m\u001b[0;34m,\u001b[0m \u001b[0matoms\u001b[0m\u001b[0;34m[\u001b[0m\u001b[0;36m1\u001b[0m\u001b[0;34m]\u001b[0m\u001b[0;34m,\u001b[0m \u001b[0matoms\u001b[0m\u001b[0;34m[\u001b[0m\u001b[0;36m2\u001b[0m\u001b[0;34m]\u001b[0m\u001b[0;34m,\u001b[0m \u001b[0msite\u001b[0m\u001b[0;34m.\u001b[0m\u001b[0mweights\u001b[0m\u001b[0;34m[\u001b[0m\u001b[0;36m0\u001b[0m\u001b[0;34m]\u001b[0m\u001b[0;34m,\u001b[0m \u001b[0msite\u001b[0m\u001b[0;34m.\u001b[0m\u001b[0mweights\u001b[0m\u001b[0;34m[\u001b[0m\u001b[0;36m1\u001b[0m\u001b[0;34m]\u001b[0m\u001b[0;34m,\u001b[0m \u001b[0msite\u001b[0m\u001b[0;34m.\u001b[0m\u001b[0mweights\u001b[0m\u001b[0;34m[\u001b[0m\u001b[0;36m2\u001b[0m\u001b[0;34m]\u001b[0m\u001b[0;34m)\u001b[0m\u001b[0;34m)\u001b[0m\u001b[0;34m\u001b[0m\n",
      "\u001b[0;34m\u001b[0m            \u001b[0;32melif\u001b[0m \u001b[0msite\u001b[0m\u001b[0;34m.\u001b[0m\u001b[0mtype\u001b[0m \u001b[0;34m==\u001b[0m \u001b[0;34m'outOfPlane'\u001b[0m\u001b[0;34m:\u001b[0m\u001b[0;34m\u001b[0m\n",
      "\u001b[0;34m\u001b[0m                \u001b[0msys\u001b[0m\u001b[0;34m.\u001b[0m\u001b[0msetVirtualSite\u001b[0m\u001b[0;34m(\u001b[0m\u001b[0mindex\u001b[0m\u001b[0;34m,\u001b[0m \u001b[0mmm\u001b[0m\u001b[0;34m.\u001b[0m\u001b[0mOutOfPlaneSite\u001b[0m\u001b[0;34m(\u001b[0m\u001b[0matoms\u001b[0m\u001b[0;34m[\u001b[0m\u001b[0;36m0\u001b[0m\u001b[0;34m]\u001b[0m\u001b[0;34m,\u001b[0m \u001b[0matoms\u001b[0m\u001b[0;34m[\u001b[0m\u001b[0;36m1\u001b[0m\u001b[0;34m]\u001b[0m\u001b[0;34m,\u001b[0m \u001b[0matoms\u001b[0m\u001b[0;34m[\u001b[0m\u001b[0;36m2\u001b[0m\u001b[0;34m]\u001b[0m\u001b[0;34m,\u001b[0m \u001b[0msite\u001b[0m\u001b[0;34m.\u001b[0m\u001b[0mweights\u001b[0m\u001b[0;34m[\u001b[0m\u001b[0;36m0\u001b[0m\u001b[0;34m]\u001b[0m\u001b[0;34m,\u001b[0m \u001b[0msite\u001b[0m\u001b[0;34m.\u001b[0m\u001b[0mweights\u001b[0m\u001b[0;34m[\u001b[0m\u001b[0;36m1\u001b[0m\u001b[0;34m]\u001b[0m\u001b[0;34m,\u001b[0m \u001b[0msite\u001b[0m\u001b[0;34m.\u001b[0m\u001b[0mweights\u001b[0m\u001b[0;34m[\u001b[0m\u001b[0;36m2\u001b[0m\u001b[0;34m]\u001b[0m\u001b[0;34m)\u001b[0m\u001b[0;34m)\u001b[0m\u001b[0;34m\u001b[0m\n",
      "\u001b[0;34m\u001b[0m            \u001b[0;32melif\u001b[0m \u001b[0msite\u001b[0m\u001b[0;34m.\u001b[0m\u001b[0mtype\u001b[0m \u001b[0;34m==\u001b[0m \u001b[0;34m'localCoords'\u001b[0m\u001b[0;34m:\u001b[0m\u001b[0;34m\u001b[0m\n",
      "\u001b[0;34m\u001b[0m                \u001b[0msys\u001b[0m\u001b[0;34m.\u001b[0m\u001b[0msetVirtualSite\u001b[0m\u001b[0;34m(\u001b[0m\u001b[0mindex\u001b[0m\u001b[0;34m,\u001b[0m \u001b[0mmm\u001b[0m\u001b[0;34m.\u001b[0m\u001b[0mLocalCoordinatesSite\u001b[0m\u001b[0;34m(\u001b[0m\u001b[0matoms\u001b[0m\u001b[0;34m,\u001b[0m \u001b[0msite\u001b[0m\u001b[0;34m.\u001b[0m\u001b[0moriginWeights\u001b[0m\u001b[0;34m,\u001b[0m \u001b[0msite\u001b[0m\u001b[0;34m.\u001b[0m\u001b[0mxWeights\u001b[0m\u001b[0;34m,\u001b[0m \u001b[0msite\u001b[0m\u001b[0;34m.\u001b[0m\u001b[0myWeights\u001b[0m\u001b[0;34m,\u001b[0m \u001b[0msite\u001b[0m\u001b[0;34m.\u001b[0m\u001b[0mlocalPos\u001b[0m\u001b[0;34m)\u001b[0m\u001b[0;34m)\u001b[0m\u001b[0;34m\u001b[0m\n",
      "\u001b[0;34m\u001b[0m\u001b[0;34m\u001b[0m\n",
      "\u001b[0;34m\u001b[0m        \u001b[0;31m# Add forces to the System\u001b[0m\u001b[0;34m\u001b[0m\n",
      "\u001b[0;34m\u001b[0m\u001b[0;34m\u001b[0m\n",
      "\u001b[0;34m\u001b[0m        \u001b[0;32mfor\u001b[0m \u001b[0mforce\u001b[0m \u001b[0;32min\u001b[0m \u001b[0mself\u001b[0m\u001b[0;34m.\u001b[0m\u001b[0m_forces\u001b[0m\u001b[0;34m:\u001b[0m\u001b[0;34m\u001b[0m\n",
      "\u001b[0;34m\u001b[0m            \u001b[0mforce\u001b[0m\u001b[0;34m.\u001b[0m\u001b[0mcreateForce\u001b[0m\u001b[0;34m(\u001b[0m\u001b[0msys\u001b[0m\u001b[0;34m,\u001b[0m \u001b[0mdata\u001b[0m\u001b[0;34m,\u001b[0m \u001b[0mnonbondedMethod\u001b[0m\u001b[0;34m,\u001b[0m \u001b[0mnonbondedCutoff\u001b[0m\u001b[0;34m,\u001b[0m \u001b[0margs\u001b[0m\u001b[0;34m)\u001b[0m\u001b[0;34m\u001b[0m\n",
      "\u001b[0;34m\u001b[0m        \u001b[0;32mif\u001b[0m \u001b[0mremoveCMMotion\u001b[0m\u001b[0;34m:\u001b[0m\u001b[0;34m\u001b[0m\n",
      "\u001b[0;34m\u001b[0m            \u001b[0msys\u001b[0m\u001b[0;34m.\u001b[0m\u001b[0maddForce\u001b[0m\u001b[0;34m(\u001b[0m\u001b[0mmm\u001b[0m\u001b[0;34m.\u001b[0m\u001b[0mCMMotionRemover\u001b[0m\u001b[0;34m(\u001b[0m\u001b[0;34m)\u001b[0m\u001b[0;34m)\u001b[0m\u001b[0;34m\u001b[0m\n",
      "\u001b[0;34m\u001b[0m\u001b[0;34m\u001b[0m\n",
      "\u001b[0;34m\u001b[0m        \u001b[0;31m# Let force generators do postprocessing\u001b[0m\u001b[0;34m\u001b[0m\n",
      "\u001b[0;34m\u001b[0m\u001b[0;34m\u001b[0m\n",
      "\u001b[0;34m\u001b[0m        \u001b[0;32mfor\u001b[0m \u001b[0mforce\u001b[0m \u001b[0;32min\u001b[0m \u001b[0mself\u001b[0m\u001b[0;34m.\u001b[0m\u001b[0m_forces\u001b[0m\u001b[0;34m:\u001b[0m\u001b[0;34m\u001b[0m\n",
      "\u001b[0;34m\u001b[0m            \u001b[0;32mif\u001b[0m \u001b[0;34m'postprocessSystem'\u001b[0m \u001b[0;32min\u001b[0m \u001b[0mdir\u001b[0m\u001b[0;34m(\u001b[0m\u001b[0mforce\u001b[0m\u001b[0;34m)\u001b[0m\u001b[0;34m:\u001b[0m\u001b[0;34m\u001b[0m\n",
      "\u001b[0;34m\u001b[0m                \u001b[0mforce\u001b[0m\u001b[0;34m.\u001b[0m\u001b[0mpostprocessSystem\u001b[0m\u001b[0;34m(\u001b[0m\u001b[0msys\u001b[0m\u001b[0;34m,\u001b[0m \u001b[0mdata\u001b[0m\u001b[0;34m,\u001b[0m \u001b[0margs\u001b[0m\u001b[0;34m)\u001b[0m\u001b[0;34m\u001b[0m\n",
      "\u001b[0;34m\u001b[0m\u001b[0;34m\u001b[0m\n",
      "\u001b[0;34m\u001b[0m        \u001b[0;31m# Execute scripts found in the XML files.\u001b[0m\u001b[0;34m\u001b[0m\n",
      "\u001b[0;34m\u001b[0m\u001b[0;34m\u001b[0m\n",
      "\u001b[0;34m\u001b[0m        \u001b[0;32mfor\u001b[0m \u001b[0mscript\u001b[0m \u001b[0;32min\u001b[0m \u001b[0mself\u001b[0m\u001b[0;34m.\u001b[0m\u001b[0m_scripts\u001b[0m\u001b[0;34m:\u001b[0m\u001b[0;34m\u001b[0m\n",
      "\u001b[0;34m\u001b[0m            \u001b[0mexec\u001b[0m\u001b[0;34m(\u001b[0m\u001b[0mscript\u001b[0m\u001b[0;34m,\u001b[0m \u001b[0mlocals\u001b[0m\u001b[0;34m(\u001b[0m\u001b[0;34m)\u001b[0m\u001b[0;34m)\u001b[0m\u001b[0;34m\u001b[0m\n",
      "\u001b[0;34m\u001b[0m        \u001b[0margs\u001b[0m\u001b[0;34m.\u001b[0m\u001b[0mcheckArgs\u001b[0m\u001b[0;34m(\u001b[0m\u001b[0mself\u001b[0m\u001b[0;34m.\u001b[0m\u001b[0mcreateSystem\u001b[0m\u001b[0;34m)\u001b[0m\u001b[0;34m\u001b[0m\n",
      "\u001b[0;34m\u001b[0m        \u001b[0;32mreturn\u001b[0m \u001b[0msys\u001b[0m\u001b[0;34m\u001b[0m\u001b[0;34m\u001b[0m\u001b[0m\n",
      "\u001b[0;31mFile:\u001b[0m      ~/anaconda3/envs/dmff/lib/python3.11/site-packages/openmm/app/forcefield.py\n",
      "\u001b[0;31mType:\u001b[0m      method"
     ]
    }
   ],
   "source": [
    "ff.createSystem??"
   ]
  },
  {
   "cell_type": "markdown",
   "metadata": {},
   "source": [
    "This part use a structure from UFF optimization and run geometry optimization "
   ]
  },
  {
   "cell_type": "code",
   "execution_count": 80,
   "metadata": {},
   "outputs": [],
   "source": [
    "def runMD(topfile, pdbfile, trajfile, length):\n",
    "    try:\n",
    "        os.remove(\"Lig_500.top\")\n",
    "    except:\n",
    "        pass\n",
    "    top_prm = parmed.load_file(topfile)\n",
    "    top_500 = top_prm * 500\n",
    "    top_500.save(\"Lig_500.top\")\n",
    "    pdb = app.PDBFile(pdbfile)\n",
    "    top = app.GromacsTopFile(\"Lig_500.top\")\n",
    "    top.topology.setPeriodicBoxVectors(pdb.topology.getPeriodicBoxVectors())\n",
    "    system = top.createSystem(nonbondedMethod=app.PME, nonbondedCutoff=1.0*unit.nanometer, constraints=app.HBonds, hydrogenMass=3*unit.dalton)\n",
    "    for force in system.getForces():\n",
    "        if isinstance(force, mm.NonbondedForce):\n",
    "            force.setUseDispersionCorrection(False)\n",
    "    integ = mm.LangevinIntegrator(200 *unit.kelvin, 1/unit.picosecond, 2.5*unit.femtosecond)\n",
    "    simulation = app.Simulation(top.topology, system, integ)\n",
    "    simulation.reporters.append(app.StateDataReporter(sys.stdout, 400, time=True, potentialEnergy=True, temperature=True, density=True, speed=True, remainingTime=True, totalSteps=int(length) * 400))\n",
    "    simulation.reporters.append(app.DCDReporter(trajfile, 400))\n",
    "    simulation.context.setPositions(pdb.getPositions())\n",
    "    simulation.minimizeEnergy(maxIterations=200)\n",
    "    simulation.step(int(length) * 400)\n",
    "    os.remove(\"Lig_500.top\")\n",
    "\n",
    "# runMD(\"Lig.top\", \"init.pdb\", \"traj.dcd\", 100)"
   ]
  },
  {
   "cell_type": "code",
   "execution_count": 19,
   "metadata": {},
   "outputs": [
    {
     "data": {
      "text/plain": [
       "[<openmm.openmm.NonbondedForce; proxy of <Swig Object of type 'OpenMM::NonbondedForce *' at 0x7f24735d0540> >,\n",
       " <openmm.openmm.CMMotionRemover; proxy of <Swig Object of type 'OpenMM::CMMotionRemover *' at 0x7f24735d0210> >]"
      ]
     },
     "execution_count": 19,
     "metadata": {},
     "output_type": "execute_result"
    }
   ],
   "source": [
    "system.getForces()"
   ]
  },
  {
   "cell_type": "code",
   "execution_count": 14,
   "metadata": {},
   "outputs": [
    {
     "ename": "ValueError",
     "evalue": "Found [ atoms ] section before [ moleculetype ]",
     "output_type": "error",
     "traceback": [
      "\u001b[0;31m---------------------------------------------------------------------------\u001b[0m",
      "\u001b[0;31mValueError\u001b[0m                                Traceback (most recent call last)",
      "Cell \u001b[0;32mIn[14], line 1\u001b[0m\n\u001b[0;32m----> 1\u001b[0m top \u001b[39m=\u001b[39m app\u001b[39m.\u001b[39;49mGromacsTopFile(\u001b[39m\"\u001b[39;49m\u001b[39mMIL120.top\u001b[39;49m\u001b[39m\"\u001b[39;49m)\n\u001b[1;32m      2\u001b[0m top\u001b[39m.\u001b[39mtopology\u001b[39m.\u001b[39msetPeriodicBoxVectors(pdb\u001b[39m.\u001b[39mtopology\u001b[39m.\u001b[39mgetPeriodicBoxVectors())\n\u001b[1;32m      3\u001b[0m system \u001b[39m=\u001b[39m top\u001b[39m.\u001b[39mcreateSystem(nonbondedMethod\u001b[39m=\u001b[39mapp\u001b[39m.\u001b[39mPME, nonbondedCutoff\u001b[39m=\u001b[39m\u001b[39m1.0\u001b[39m\u001b[39m*\u001b[39munit\u001b[39m.\u001b[39mnanometer, constraints\u001b[39m=\u001b[39mapp\u001b[39m.\u001b[39mHBonds, hydrogenMass\u001b[39m=\u001b[39m\u001b[39m3\u001b[39m\u001b[39m*\u001b[39munit\u001b[39m.\u001b[39mdalton)\n",
      "File \u001b[0;32m~/anaconda3/envs/dmff/lib/python3.11/site-packages/openmm/app/gromacstopfile.py:537\u001b[0m, in \u001b[0;36mGromacsTopFile.__init__\u001b[0;34m(self, file, periodicBoxVectors, unitCellDimensions, includeDir, defines)\u001b[0m\n\u001b[1;32m    535\u001b[0m \u001b[39mself\u001b[39m\u001b[39m.\u001b[39m_cmapTypes \u001b[39m=\u001b[39m {}\n\u001b[1;32m    536\u001b[0m \u001b[39mself\u001b[39m\u001b[39m.\u001b[39m_nonbondTypes \u001b[39m=\u001b[39m {}\n\u001b[0;32m--> 537\u001b[0m \u001b[39mself\u001b[39;49m\u001b[39m.\u001b[39;49m_processFile(file)\n\u001b[1;32m    539\u001b[0m \u001b[39m# Create the Topology from it.\u001b[39;00m\n\u001b[1;32m    541\u001b[0m top \u001b[39m=\u001b[39m Topology()\n",
      "File \u001b[0;32m~/anaconda3/envs/dmff/lib/python3.11/site-packages/openmm/app/gromacstopfile.py:131\u001b[0m, in \u001b[0;36mGromacsTopFile._processFile\u001b[0;34m(self, file)\u001b[0m\n\u001b[1;32m    129\u001b[0m     append \u001b[39m=\u001b[39m \u001b[39m'\u001b[39m\u001b[39m%s\u001b[39;00m\u001b[39m \u001b[39m\u001b[39m%s\u001b[39;00m\u001b[39m'\u001b[39m \u001b[39m%\u001b[39m (append, line[:line\u001b[39m.\u001b[39mrfind(\u001b[39m'\u001b[39m\u001b[39m\\\\\u001b[39;00m\u001b[39m'\u001b[39m)])\n\u001b[1;32m    130\u001b[0m \u001b[39melse\u001b[39;00m:\n\u001b[0;32m--> 131\u001b[0m     \u001b[39mself\u001b[39;49m\u001b[39m.\u001b[39;49m_processLine(append\u001b[39m+\u001b[39;49m\u001b[39m'\u001b[39;49m\u001b[39m \u001b[39;49m\u001b[39m'\u001b[39;49m\u001b[39m+\u001b[39;49mline, file)\n\u001b[1;32m    132\u001b[0m     append \u001b[39m=\u001b[39m \u001b[39m'\u001b[39m\u001b[39m'\u001b[39m\n",
      "File \u001b[0;32m~/anaconda3/envs/dmff/lib/python3.11/site-packages/openmm/app/gromacstopfile.py:230\u001b[0m, in \u001b[0;36mGromacsTopFile._processLine\u001b[0;34m(self, line, file)\u001b[0m\n\u001b[1;32m    228\u001b[0m     \u001b[39mself\u001b[39m\u001b[39m.\u001b[39m_processMolecule(line)\n\u001b[1;32m    229\u001b[0m \u001b[39melif\u001b[39;00m \u001b[39mself\u001b[39m\u001b[39m.\u001b[39m_currentCategory \u001b[39m==\u001b[39m \u001b[39m'\u001b[39m\u001b[39matoms\u001b[39m\u001b[39m'\u001b[39m:\n\u001b[0;32m--> 230\u001b[0m     \u001b[39mself\u001b[39;49m\u001b[39m.\u001b[39;49m_processAtom(line)\n\u001b[1;32m    231\u001b[0m \u001b[39melif\u001b[39;00m \u001b[39mself\u001b[39m\u001b[39m.\u001b[39m_currentCategory \u001b[39m==\u001b[39m \u001b[39m'\u001b[39m\u001b[39mbonds\u001b[39m\u001b[39m'\u001b[39m:\n\u001b[1;32m    232\u001b[0m     \u001b[39mself\u001b[39m\u001b[39m.\u001b[39m_processBond(line)\n",
      "File \u001b[0;32m~/anaconda3/envs/dmff/lib/python3.11/site-packages/openmm/app/gromacstopfile.py:308\u001b[0m, in \u001b[0;36mGromacsTopFile._processAtom\u001b[0;34m(self, line)\u001b[0m\n\u001b[1;32m    306\u001b[0m \u001b[39m\u001b[39m\u001b[39m\"\"\"Process a line in the [ atoms ] category.\"\"\"\u001b[39;00m\n\u001b[1;32m    307\u001b[0m \u001b[39mif\u001b[39;00m \u001b[39mself\u001b[39m\u001b[39m.\u001b[39m_currentMoleculeType \u001b[39mis\u001b[39;00m \u001b[39mNone\u001b[39;00m:\n\u001b[0;32m--> 308\u001b[0m     \u001b[39mraise\u001b[39;00m \u001b[39mValueError\u001b[39;00m(\u001b[39m'\u001b[39m\u001b[39mFound [ atoms ] section before [ moleculetype ]\u001b[39m\u001b[39m'\u001b[39m)\n\u001b[1;32m    309\u001b[0m fields \u001b[39m=\u001b[39m line\u001b[39m.\u001b[39msplit()\n\u001b[1;32m    310\u001b[0m \u001b[39mif\u001b[39;00m \u001b[39mlen\u001b[39m(fields) \u001b[39m<\u001b[39m \u001b[39m5\u001b[39m:\n",
      "\u001b[0;31mValueError\u001b[0m: Found [ atoms ] section before [ moleculetype ]"
     ]
    }
   ],
   "source": [
    "top = app.GromacsTopFile(\"MIL120.top\")\n",
    "top.topology.setPeriodicBoxVectors(pdb.topology.getPeriodicBoxVectors())\n",
    "system = top.createSystem(nonbondedMethod=app.PME, nonbondedCutoff=1.0*unit.nanometer, constraints=app.HBonds, hydrogenMass=3*unit.dalton)"
   ]
  },
  {
   "cell_type": "code",
   "execution_count": null,
   "metadata": {},
   "outputs": [],
   "source": [
    "os.system(\"cp Lig.top loop-0.top\")\n",
    "for nloop in range(1, 51):\n",
    "    # sample\n",
    "    print(\"SAMPLE\")\n",
    "    runMD(f\"loop-{nloop-1}.top\", \"init.pdb\", f\"loop-{nloop}.dcd\", length=70)\n",
    "    print(\"RERUN\")\n",
    "    ener = rerun_energy(\"init.pdb\", f\"loop-{nloop}.dcd\", f\"loop-{nloop-1}.top\", removeLJ=False, skip=20)\n",
    "    ener_no_lj = rerun_energy(\"init.pdb\", f\"loop-{nloop}.dcd\", f\"loop-{nloop-1}.top\", skip=20)\n",
    "    print(\"ESTIMATOR\")\n",
    "    traj = md.load(f\"loop-{nloop}.dcd\", top=\"init.pdb\")[20:]\n",
    "    estimator = ReweightEstimator(ener, base_energies=ener_no_lj, volume=traj.unitcell_volumes)\n",
    "\n",
    "    print(\"CALC DENSE\")\n",
    "    density = md.density(traj) * 0.001\n",
    "\n",
    "    # get loss & grad\n",
    "    def loss(paramset):\n",
    "        lj_jax = rerun_dmff_lennard_jones(paramset, \"init.pdb\", f\"loop-{nloop}.dcd\", lj_force, skip=20)\n",
    "        weight = estimator.estimate_weight(lj_jax)\n",
    "        dens = weight * density\n",
    "        dens = dens.mean()\n",
    "        return jnp.power(dens - 0.85, 2)\n",
    "    \n",
    "    v_and_g = jax.value_and_grad(loss, 0)\n",
    "    v, g = v_and_g(paramset)\n",
    "    print(\"Loss:\", v)\n",
    "    # update parameters\n",
    "    updates, opt_state = optimizer.update(g, opt_state)\n",
    "    paramset = optax.apply_updates(paramset, updates)\n",
    "    paramset = jax.tree_map(lambda x: jnp.clip(x, 0.0, 1e8), paramset)\n",
    "    \n",
    "    # upate ffinfo\n",
    "    lj_gen.overwrite(paramset)\n",
    "    prmop.overwriteLennardJones(prm_top, lj_gen.ffinfo)\n",
    "    prm_top.save(f\"loop-{nloop}.top\")"
   ]
  },
  {
   "cell_type": "code",
   "execution_count": 51,
   "metadata": {},
   "outputs": [
    {
     "ename": "KeyError",
     "evalue": "'LennardJonesForce'",
     "output_type": "error",
     "traceback": [
      "\u001b[0;31m---------------------------------------------------------------------------\u001b[0m",
      "\u001b[0;31mKeyError\u001b[0m                                  Traceback (most recent call last)",
      "Cell \u001b[0;32mIn[51], line 4\u001b[0m\n\u001b[1;32m      1\u001b[0m ffinfo \u001b[39m=\u001b[39m xmlio\u001b[39m.\u001b[39mparseXML()\n\u001b[1;32m      3\u001b[0m paramset \u001b[39m=\u001b[39m ParamSet()\n\u001b[0;32m----> 4\u001b[0m lj_gen \u001b[39m=\u001b[39m LennardJonesGenerator(ffinfo, paramset)\n",
      "File \u001b[0;32m~/project/github/DMFF/dmff/generators/classical.py:1197\u001b[0m, in \u001b[0;36mLennardJonesGenerator.__init__\u001b[0;34m(self, ffinfo, paramset)\u001b[0m\n\u001b[1;32m   1194\u001b[0m \u001b[39mself\u001b[39m\u001b[39m.\u001b[39mname \u001b[39m=\u001b[39m \u001b[39m\"\u001b[39m\u001b[39mLennardJonesForce\u001b[39m\u001b[39m\"\u001b[39m\n\u001b[1;32m   1195\u001b[0m \u001b[39mself\u001b[39m\u001b[39m.\u001b[39mffinfo \u001b[39m=\u001b[39m ffinfo\n\u001b[1;32m   1196\u001b[0m \u001b[39mself\u001b[39m\u001b[39m.\u001b[39mlj14scale \u001b[39m=\u001b[39m \u001b[39mfloat\u001b[39m(\n\u001b[0;32m-> 1197\u001b[0m     \u001b[39mself\u001b[39;49m\u001b[39m.\u001b[39;49mffinfo[\u001b[39m\"\u001b[39;49m\u001b[39mForces\u001b[39;49m\u001b[39m\"\u001b[39;49m][\u001b[39mself\u001b[39;49m\u001b[39m.\u001b[39;49mname][\u001b[39m\"\u001b[39m\u001b[39mmeta\u001b[39m\u001b[39m\"\u001b[39m][\u001b[39m\"\u001b[39m\u001b[39mlj14scale\u001b[39m\u001b[39m\"\u001b[39m])\n\u001b[1;32m   1198\u001b[0m \u001b[39mself\u001b[39m\u001b[39m.\u001b[39mnbfix_to_idx \u001b[39m=\u001b[39m {}\n\u001b[1;32m   1199\u001b[0m \u001b[39mself\u001b[39m\u001b[39m.\u001b[39matype_to_idx \u001b[39m=\u001b[39m {}\n",
      "\u001b[0;31mKeyError\u001b[0m: 'LennardJonesForce'"
     ]
    }
   ],
   "source": [
    "ffinfo = xmlio.parseXML()\n",
    "\n",
    "paramset = ParamSet()\n",
    "lj_gen = LennardJonesGenerator(ffinfo, paramset)"
   ]
  },
  {
   "cell_type": "code",
   "execution_count": 49,
   "metadata": {},
   "outputs": [
    {
     "data": {
      "text/plain": [
       "{'Operators': {},\n",
       " 'AtomTypes': [{'name': 'Al', 'class': 'Al', 'element': 'Al'},\n",
       "  {'name': 'C', 'class': 'C', 'element': 'C'},\n",
       "  {'name': 'H', 'class': 'H', 'element': 'H'},\n",
       "  {'name': 'O', 'class': 'O', 'element': 'O'},\n",
       "  {'name': 'O_co2', 'class': 'O_co2', 'element': 'O'},\n",
       "  {'name': 'C_co2', 'class': 'C_co2', 'element': 'C'}],\n",
       " 'Residues': [],\n",
       " 'Forces': {'NonbondedForce': {'meta': {'coulomb14scale': '0.833333',\n",
       "    'lj14scale': '0.5'},\n",
       "   'node': [{'name': 'Atom',\n",
       "     'attrib': {'type': 'Al',\n",
       "      'charge': '0.0',\n",
       "      'sigma': '4.0082',\n",
       "      'epsilon': '254.152'}},\n",
       "    {'name': 'Atom',\n",
       "     'attrib': {'type': 'C',\n",
       "      'charge': '0.0',\n",
       "      'sigma': '3.4309',\n",
       "      'epsilon': '52.8435'}},\n",
       "    {'name': 'Atom',\n",
       "     'attrib': {'type': 'H',\n",
       "      'charge': '0.0',\n",
       "      'sigma': '2.5711',\n",
       "      'epsilon': '22.1439'}},\n",
       "    {'name': 'Atom',\n",
       "     'attrib': {'type': 'O',\n",
       "      'charge': '0.0',\n",
       "      'sigma': '3.1181',\n",
       "      'epsilon': '30.1963'}},\n",
       "    {'name': 'Atom',\n",
       "     'attrib': {'type': 'O_co2',\n",
       "      'charge': '0.0',\n",
       "      'sigma': '3.05',\n",
       "      'epsilon': '79.0'}},\n",
       "    {'name': 'Atom',\n",
       "     'attrib': {'type': 'C_co2',\n",
       "      'charge': '0.0',\n",
       "      'sigma': '2.80',\n",
       "      'epsilon': '27.0'}}]}},\n",
       " 'ClassToType': {'Al': ['Al'],\n",
       "  'C': ['C'],\n",
       "  'H': ['H'],\n",
       "  'O': ['O'],\n",
       "  'O_co2': ['O_co2'],\n",
       "  'C_co2': ['C_co2']}}"
      ]
     },
     "execution_count": 49,
     "metadata": {},
     "output_type": "execute_result"
    }
   ],
   "source": [
    "ffinfo"
   ]
  },
  {
   "cell_type": "code",
   "execution_count": 37,
   "metadata": {},
   "outputs": [
    {
     "ename": "AttributeError",
     "evalue": "'ForceField' object has no attribute 'registerParticle'",
     "output_type": "error",
     "traceback": [
      "\u001b[0;31m---------------------------------------------------------------------------\u001b[0m",
      "\u001b[0;31mAttributeError\u001b[0m                            Traceback (most recent call last)",
      "Cell \u001b[0;32mIn[37], line 16\u001b[0m\n\u001b[1;32m      8\u001b[0m atom_data \u001b[39m=\u001b[39m [\n\u001b[1;32m      9\u001b[0m     {\u001b[39m'\u001b[39m\u001b[39mlabel\u001b[39m\u001b[39m'\u001b[39m: \u001b[39m'\u001b[39m\u001b[39mAl\u001b[39m\u001b[39m'\u001b[39m, \u001b[39m'\u001b[39m\u001b[39mcharge\u001b[39m\u001b[39m'\u001b[39m: \u001b[39m0.0\u001b[39m, \u001b[39m'\u001b[39m\u001b[39mepsilon\u001b[39m\u001b[39m'\u001b[39m: \u001b[39m2.1019\u001b[39m, \u001b[39m'\u001b[39m\u001b[39msigma\u001b[39m\u001b[39m'\u001b[39m: \u001b[39m0.40082\u001b[39m},\n\u001b[1;32m     10\u001b[0m     {\u001b[39m'\u001b[39m\u001b[39mlabel\u001b[39m\u001b[39m'\u001b[39m: \u001b[39m'\u001b[39m\u001b[39mC\u001b[39m\u001b[39m'\u001b[39m, \u001b[39m'\u001b[39m\u001b[39mcharge\u001b[39m\u001b[39m'\u001b[39m: \u001b[39m0.0\u001b[39m, \u001b[39m'\u001b[39m\u001b[39mepsilon\u001b[39m\u001b[39m'\u001b[39m: \u001b[39m0.4400\u001b[39m, \u001b[39m'\u001b[39m\u001b[39msigma\u001b[39m\u001b[39m'\u001b[39m: \u001b[39m0.34309\u001b[39m},\n\u001b[1;32m     11\u001b[0m     {\u001b[39m'\u001b[39m\u001b[39mlabel\u001b[39m\u001b[39m'\u001b[39m: \u001b[39m'\u001b[39m\u001b[39mH\u001b[39m\u001b[39m'\u001b[39m, \u001b[39m'\u001b[39m\u001b[39mcharge\u001b[39m\u001b[39m'\u001b[39m: \u001b[39m0.0\u001b[39m, \u001b[39m'\u001b[39m\u001b[39mepsilon\u001b[39m\u001b[39m'\u001b[39m: \u001b[39m0.1841\u001b[39m, \u001b[39m'\u001b[39m\u001b[39msigma\u001b[39m\u001b[39m'\u001b[39m: \u001b[39m0.25711\u001b[39m},\n\u001b[1;32m     12\u001b[0m     {\u001b[39m'\u001b[39m\u001b[39mlabel\u001b[39m\u001b[39m'\u001b[39m: \u001b[39m'\u001b[39m\u001b[39mO\u001b[39m\u001b[39m'\u001b[39m, \u001b[39m'\u001b[39m\u001b[39mcharge\u001b[39m\u001b[39m'\u001b[39m: \u001b[39m0.0\u001b[39m, \u001b[39m'\u001b[39m\u001b[39mepsilon\u001b[39m\u001b[39m'\u001b[39m: \u001b[39m0.2513\u001b[39m, \u001b[39m'\u001b[39m\u001b[39msigma\u001b[39m\u001b[39m'\u001b[39m: \u001b[39m0.31181\u001b[39m}\n\u001b[1;32m     13\u001b[0m ]\n\u001b[1;32m     15\u001b[0m \u001b[39mfor\u001b[39;00m atom \u001b[39min\u001b[39;00m atom_data:\n\u001b[0;32m---> 16\u001b[0m     forcefield\u001b[39m.\u001b[39;49mregisterParticle(\n\u001b[1;32m     17\u001b[0m         atom[\u001b[39m'\u001b[39m\u001b[39mlabel\u001b[39m\u001b[39m'\u001b[39m],\n\u001b[1;32m     18\u001b[0m         atom[\u001b[39m'\u001b[39m\u001b[39mepsilon\u001b[39m\u001b[39m'\u001b[39m],\n\u001b[1;32m     19\u001b[0m         atom[\u001b[39m'\u001b[39m\u001b[39msigma\u001b[39m\u001b[39m'\u001b[39m]\n\u001b[1;32m     20\u001b[0m     )\n\u001b[1;32m     22\u001b[0m \u001b[39m# Save the force field to an XML file\u001b[39;00m\n\u001b[1;32m     23\u001b[0m forcefield\u001b[39m.\u001b[39mto_xml(\u001b[39m'\u001b[39m\u001b[39mcustom_forcefield.xml\u001b[39m\u001b[39m'\u001b[39m)\n",
      "\u001b[0;31mAttributeError\u001b[0m: 'ForceField' object has no attribute 'registerParticle'"
     ]
    }
   ],
   "source": [
    "import openmm.app as app\n",
    "\n",
    "# Create a ForceField object\n",
    "forcefield = app.ForceField()\n",
    "\n",
    "# Add a NonbondedForce to the ForceField (similar to what you've defined)\n",
    "# Define your atom data and LJ parameters\n",
    "atom_data = [\n",
    "    {'label': 'Al', 'charge': 0.0, 'epsilon': 2.1019, 'sigma': 0.40082},\n",
    "    {'label': 'C', 'charge': 0.0, 'epsilon': 0.4400, 'sigma': 0.34309},\n",
    "    {'label': 'H', 'charge': 0.0, 'epsilon': 0.1841, 'sigma': 0.25711},\n",
    "    {'label': 'O', 'charge': 0.0, 'epsilon': 0.2513, 'sigma': 0.31181}\n",
    "]\n",
    "\n",
    "for atom in atom_data:\n",
    "    forcefield.registerParticle(\n",
    "        atom['label'],\n",
    "        atom['epsilon'],\n",
    "        atom['sigma']\n",
    "    )\n",
    "\n",
    "# Save the force field to an XML file\n",
    "forcefield.to_xml('custom_forcefield.xml')\n"
   ]
  },
  {
   "cell_type": "code",
   "execution_count": 15,
   "metadata": {},
   "outputs": [],
   "source": [
    "xmlio = XMLIO()\n",
    "xmlio.loadXML(\"custom_forcefield.xml\")\n",
    "ffinfo = xmlio.parseXML()"
   ]
  },
  {
   "cell_type": "code",
   "execution_count": 18,
   "metadata": {},
   "outputs": [
    {
     "data": {
      "text/plain": [
       "{'LennardJonesForce': {'meta': {'lj14scale': '0.50000'},\n",
       "  'node': [{'name': 'Atom',\n",
       "    'attrib': {'epsilon': '2.1019', 'sigma': '0.40082', 'type': 'Al'}},\n",
       "   {'name': 'Atom',\n",
       "    'attrib': {'epsilon': '0.44', 'sigma': '0.34309', 'type': 'C'}},\n",
       "   {'name': 'Atom',\n",
       "    'attrib': {'epsilon': '0.1841', 'sigma': '0.25711', 'type': 'H'}},\n",
       "   {'name': 'Atom',\n",
       "    'attrib': {'epsilon': '0.2513', 'sigma': '0.31181', 'type': 'O'}},\n",
       "   {'name': 'Atom',\n",
       "    'attrib': {'epsilon': '0.6577', 'sigma': '0.305', 'type': 'O_co2'}},\n",
       "   {'name': 'Atom',\n",
       "    'attrib': {'epsilon': '0.2249', 'sigma': '0.28', 'type': 'C_co2'}}]}}"
      ]
     },
     "execution_count": 18,
     "metadata": {},
     "output_type": "execute_result"
    }
   ],
   "source": [
    "ffinfo['Forces']"
   ]
  },
  {
   "cell_type": "code",
   "execution_count": null,
   "metadata": {},
   "outputs": [],
   "source": [
    "import openmm.app as app\n",
    "import openmm.unit as unit\n",
    "from simtk.openmm import System, NonbondedForce, LangevinIntegrator, Platform, Context\n",
    "\n",
    "# Create an OpenMM System\n",
    "system = System()\n",
    "\n",
    "# Define LJ parameters for your elements\n",
    "lj_parameters = {\n",
    "    'Al': (2.1019, 0.40082),\n",
    "    'C': (0.4400, 0.34309),\n",
    "    'H': (0.1841, 0.25711),\n",
    "    'O': (0.2513, 0.31181)\n",
    "}\n",
    "\n",
    "# Add particles to the system with masses, LJ parameters, and initial positions\n",
    "for element, params, initial_position in [\n",
    "    ('Al', lj_parameters['Al'], (0.0, 0.0, 0.0)),\n",
    "    ('C', lj_parameters['C'], (1.0, 0.0, 0.0)),\n",
    "    ('H', lj_parameters['H'], (0.0, 1.0, 0.0)),\n",
    "    ('O', lj_parameters['O'], (0.0, 0.0, 1.0))\n",
    "]:\n",
    "    mass = 1.0  # Specify the mass (you can change it)\n",
    "    charge = 0.0  # Set to 0 for LJ-only interactions\n",
    "    epsilon, sigma = params\n",
    "    particle_index = system.addParticle(mass)\n",
    "    system.setParticleParameters(particle_index, charge, sigma, epsilon)\n",
    "    system.setParticlePosition(particle_index, initial_position)\n",
    "\n",
    "# Create a NonbondedForce for LJ interactions\n",
    "nonbonded_force = NonbondedForce()\n",
    "nonbonded_force.setNonbondedMethod(NonbondedForce.CutoffNonPeriodic)\n",
    "nonbonded_force.setCutoffDistance(1.0)  # Set the nonbonded cutoff distance\n",
    "\n",
    "# Add the NonbondedForce to the system\n",
    "system.addForce(nonbonded_force)\n",
    "\n",
    "# Set up the integrator\n",
    "temperature = 300.0 * unit.kelvin\n",
    "friction = 1.0 / unit.picosecond\n",
    "step_size = 2.0 * unit.femtosecond\n",
    "integrator = LangevinIntegrator(temperature, friction, step_size)\n",
    "\n",
    "# Create a simulation context\n",
    "platform = Platform.getPlatformByName('Reference')  # Change this to your desired platform\n",
    "context = Context(system, integrator, platform)\n",
    "\n",
    "# Get and print the positions from the context\n",
    "positions = context.getState(getPositions=True).getPositions()\n",
    "print(positions)\n"
   ]
  },
  {
   "cell_type": "code",
   "execution_count": 3,
   "metadata": {},
   "outputs": [
    {
     "ename": "TypeError",
     "evalue": "ForceField.registerAtomType() got an unexpected keyword argument 'sigma'",
     "output_type": "error",
     "traceback": [
      "\u001b[0;31m---------------------------------------------------------------------------\u001b[0m",
      "\u001b[0;31mTypeError\u001b[0m                                 Traceback (most recent call last)",
      "Cell \u001b[0;32mIn[3], line 10\u001b[0m\n\u001b[1;32m      7\u001b[0m ff \u001b[39m=\u001b[39m ForceField()\n\u001b[1;32m      9\u001b[0m \u001b[39m# Define LJ parameters for individual atom types with accurate unit conversion\u001b[39;00m\n\u001b[0;32m---> 10\u001b[0m ff\u001b[39m.\u001b[39;49mregisterAtomType(\n\u001b[1;32m     11\u001b[0m     sigma\u001b[39m=\u001b[39;49m\u001b[39m2.80\u001b[39;49m,  \u001b[39m# Convert units from Ångstroms to nm\u001b[39;49;00m\n\u001b[1;32m     12\u001b[0m     epsilon\u001b[39m=\u001b[39;49m\u001b[39m2.7\u001b[39;49m \u001b[39m*\u001b[39;49m k_to_kJ,  \u001b[39m# Convert units from K to kJ/mol\u001b[39;49;00m\n\u001b[1;32m     13\u001b[0m     element\u001b[39m=\u001b[39;49mElement\u001b[39m.\u001b[39;49mgetBySymbol(\u001b[39m'\u001b[39;49m\u001b[39mC\u001b[39;49m\u001b[39m'\u001b[39;49m),\n\u001b[1;32m     14\u001b[0m     \u001b[39mid\u001b[39;49m\u001b[39m=\u001b[39;49m\u001b[39m'\u001b[39;49m\u001b[39mC_co2\u001b[39;49m\u001b[39m'\u001b[39;49m\n\u001b[1;32m     15\u001b[0m )\n\u001b[1;32m     17\u001b[0m ff\u001b[39m.\u001b[39mregisterAtomType(\n\u001b[1;32m     18\u001b[0m     sigma\u001b[39m=\u001b[39m\u001b[39m3.05\u001b[39m,  \u001b[39m# Convert units from Ångstroms to nm\u001b[39;00m\n\u001b[1;32m     19\u001b[0m     epsilon\u001b[39m=\u001b[39m\u001b[39m6.6\u001b[39m \u001b[39m*\u001b[39m k_to_kJ,  \u001b[39m# Convert units from K to kJ/mol\u001b[39;00m\n\u001b[1;32m     20\u001b[0m     element\u001b[39m=\u001b[39mElement\u001b[39m.\u001b[39mgetBySymbol(\u001b[39m'\u001b[39m\u001b[39mO\u001b[39m\u001b[39m'\u001b[39m),\n\u001b[1;32m     21\u001b[0m     \u001b[39mid\u001b[39m\u001b[39m=\u001b[39m\u001b[39m'\u001b[39m\u001b[39mO_co2\u001b[39m\u001b[39m'\u001b[39m\n\u001b[1;32m     22\u001b[0m )\n\u001b[1;32m     24\u001b[0m ff\u001b[39m.\u001b[39mregisterAtomType(\n\u001b[1;32m     25\u001b[0m     sigma\u001b[39m=\u001b[39m\u001b[39m3.4309\u001b[39m,  \u001b[39m# Convert units from Ångstroms to nm\u001b[39;00m\n\u001b[1;32m     26\u001b[0m     epsilon\u001b[39m=\u001b[39m\u001b[39m2.5\u001b[39m \u001b[39m*\u001b[39m k_to_kJ,  \u001b[39m# Convert units from K to kJ/mol\u001b[39;00m\n\u001b[1;32m     27\u001b[0m     element\u001b[39m=\u001b[39mElement\u001b[39m.\u001b[39mgetBySymbol(\u001b[39m'\u001b[39m\u001b[39mC\u001b[39m\u001b[39m'\u001b[39m),\n\u001b[1;32m     28\u001b[0m     \u001b[39mid\u001b[39m\u001b[39m=\u001b[39m\u001b[39m'\u001b[39m\u001b[39mC\u001b[39m\u001b[39m'\u001b[39m\n\u001b[1;32m     29\u001b[0m )\n",
      "\u001b[0;31mTypeError\u001b[0m: ForceField.registerAtomType() got an unexpected keyword argument 'sigma'"
     ]
    }
   ],
   "source": [
    "from simtk.openmm.app import ForceField, Element\n",
    "\n",
    "# Conversion factor from K to kJ/mol\n",
    "k_to_kJ = 0.008314462618\n",
    "\n",
    "# Create an OpenMM ForceField object\n",
    "ff = ForceField()\n",
    "\n",
    "# Define LJ parameters for individual atom types with accurate unit conversion\n",
    "ff.registerAtomType(\n",
    "    sigma=2.80,  # Convert units from Ångstroms to nm\n",
    "    epsilon=2.7 * k_to_kJ,  # Convert units from K to kJ/mol\n",
    "    element=Element.getBySymbol('C'),\n",
    "    id='C_co2'\n",
    ")\n",
    "\n",
    "ff.registerAtomType(\n",
    "    sigma=3.05,  # Convert units from Ångstroms to nm\n",
    "    epsilon=6.6 * k_to_kJ,  # Convert units from K to kJ/mol\n",
    "    element=Element.getBySymbol('O'),\n",
    "    id='O_co2'\n",
    ")\n",
    "\n",
    "ff.registerAtomType(\n",
    "    sigma=3.4309,  # Convert units from Ångstroms to nm\n",
    "    epsilon=2.5 * k_to_kJ,  # Convert units from K to kJ/mol\n",
    "    element=Element.getBySymbol('C'),\n",
    "    id='C'\n",
    ")\n",
    "\n",
    "ff.registerAtomType(\n",
    "    sigma=2.5711,  # Convert units from Ångstroms to nm\n",
    "    epsilon=0.9 * k_to_kJ,  # Convert units from K to kJ/mol\n",
    "    element=Element.getBySymbol('H'),\n",
    "    id='H'\n",
    ")\n",
    "\n",
    "ff.registerAtomType(\n",
    "    sigma=3.1181,  # Convert units from Ångstroms to nm\n",
    "    epsilon=1.2 * k_to_kJ,  # Convert units from K to kJ/mol\n",
    "    element=Element.getBySymbol('O'),\n",
    "    id='O'\n",
    ")\n",
    "\n",
    "ff.registerAtomType(\n",
    "    sigma=4.0082,  # Convert units from Ångstroms to nm\n",
    "    epsilon=26.7 * k_to_kJ,  # Convert units from K to kJ/mol\n",
    "    element=Element.getBySymbol('Al'),\n",
    "    id='Al'\n",
    ")\n",
    "\n",
    "# Generate the XML representation of the force field\n",
    "xml_string = ff._generateXML()\n",
    "\n",
    "# Save the XML string to a file for use in simulations\n",
    "'''\n",
    "with open('openmm_forcefield.xml', 'w') as f:\n",
    "    f.write(xml_string)\n",
    "'''"
   ]
  },
  {
   "cell_type": "code",
   "execution_count": 4,
   "metadata": {},
   "outputs": [
    {
     "ename": "AttributeError",
     "evalue": "'ForceField' object has no attribute '_generateXML'",
     "output_type": "error",
     "traceback": [
      "\u001b[0;31m---------------------------------------------------------------------------\u001b[0m",
      "\u001b[0;31mAttributeError\u001b[0m                            Traceback (most recent call last)",
      "Cell \u001b[0;32mIn[4], line 9\u001b[0m\n\u001b[1;32m      4\u001b[0m ff \u001b[39m=\u001b[39m ForceField()\n\u001b[1;32m      6\u001b[0m \u001b[39m# Define atom types without LJ parameters here\u001b[39;00m\n\u001b[1;32m      7\u001b[0m \n\u001b[1;32m      8\u001b[0m \u001b[39m# Generate the XML representation of the force field\u001b[39;00m\n\u001b[0;32m----> 9\u001b[0m xml_string \u001b[39m=\u001b[39m ff\u001b[39m.\u001b[39;49m_generateXML()\n\u001b[1;32m     11\u001b[0m \u001b[39m# Now, add the LJ parameters to the generated XML string\u001b[39;00m\n\u001b[1;32m     12\u001b[0m lj_parameters \u001b[39m=\u001b[39m \u001b[39m\"\"\"\u001b[39m\n\u001b[1;32m     13\u001b[0m \u001b[39m<NonbondedForce coulomb14scale=\u001b[39m\u001b[39m\"\u001b[39m\u001b[39m0.833333\u001b[39m\u001b[39m\"\u001b[39m\u001b[39m lj14scale=\u001b[39m\u001b[39m\"\u001b[39m\u001b[39m0.5\u001b[39m\u001b[39m\"\u001b[39m\u001b[39m>\u001b[39m\n\u001b[1;32m     14\u001b[0m \u001b[39m    <Atom type=\u001b[39m\u001b[39m\"\u001b[39m\u001b[39mAl\u001b[39m\u001b[39m\"\u001b[39m\u001b[39m charge=\u001b[39m\u001b[39m\"\u001b[39m\u001b[39m0.0\u001b[39m\u001b[39m\"\u001b[39m\u001b[39m sigma=\u001b[39m\u001b[39m\"\u001b[39m\u001b[39m4.0082\u001b[39m\u001b[39m\"\u001b[39m\u001b[39m epsilon=\u001b[39m\u001b[39m\"\u001b[39m\u001b[39m26.7\u001b[39m\u001b[39m\"\u001b[39m\u001b[39m/>\u001b[39m\n\u001b[0;32m   (...)\u001b[0m\n\u001b[1;32m     20\u001b[0m \u001b[39m</NonbondedForce>\u001b[39m\n\u001b[1;32m     21\u001b[0m \u001b[39m\"\"\"\u001b[39m\n",
      "\u001b[0;31mAttributeError\u001b[0m: 'ForceField' object has no attribute '_generateXML'"
     ]
    }
   ],
   "source": [
    "from simtk.openmm.app import ForceField, Element\n",
    "\n",
    "# Create an OpenMM ForceField object\n",
    "ff = ForceField()\n",
    "\n",
    "# Define atom types without LJ parameters here\n",
    "\n",
    "# Generate the XML representation of the force field\n",
    "xml_string = ff._generateXML()\n",
    "\n",
    "# Now, add the LJ parameters to the generated XML string\n",
    "lj_parameters = \"\"\"\n",
    "<NonbondedForce coulomb14scale=\"0.833333\" lj14scale=\"0.5\">\n",
    "    <Atom type=\"Al\" charge=\"0.0\" sigma=\"4.0082\" epsilon=\"26.7\"/>\n",
    "    <Atom type=\"C\" charge=\"0.0\" sigma=\"3.4309\" epsilon=\"52.8435\"/>\n",
    "    <Atom type=\"H\" charge=\"0.0\" sigma=\"2.5711\" epsilon=\"22.1439\"/>\n",
    "    <Atom type=\"O\" charge=\"0.0\" sigma=\"3.1181\" epsilon=\"30.1963\"/>\n",
    "    <Atom type=\"O_co2\" charge=\"0.0\" sigma=\"3.05\" epsilon=\"79.0\"/>\n",
    "    <Atom type=\"C_co2\" charge=\"0.0\" sigma=\"2.80\" epsilon=\"27.0\"/>\n",
    "</NonbondedForce>\n",
    "\"\"\"\n",
    "\n",
    "# Insert the LJ parameters into the XML string\n",
    "xml_string = xml_string.replace(\"</ForceField>\", lj_parameters + \"\\n</ForceField>\")\n",
    "\n",
    "# Save the XML string to a file for use in simulations\n",
    "'''\n",
    "with open('openmm_forcefield.xml', 'w') as f:\n",
    "    f.write(xml_string)\n",
    "'''"
   ]
  },
  {
   "cell_type": "code",
   "execution_count": 20,
   "metadata": {},
   "outputs": [
    {
     "name": "stdout",
     "output_type": "stream",
     "text": [
      "{'Al': [1.65857, 1.65856, 1.64626, 1.64749], 'H': [0.41785, 0.41373, 0.41657, 0.41461, 0.41773, 0.41364, 0.41658, 0.41466, 0.12728, 0.12726], 'C': [0.62462, -0.02738, 0.62697, -0.0317, 0.62454, -0.02728, 0.62705, -0.03187, -0.11722, -0.11724], 'O': [-0.9263, -0.97561, -0.60514, -0.57838, -0.92481, -0.97588, -0.60682, -0.57781, -0.92626, -0.97553, -0.60522, -0.57825, -0.92474, -0.97585, -0.60674, -0.57792]}\n"
     ]
    }
   ],
   "source": [
    "from CifFile import ReadCif\n",
    "\n",
    "# Load the CIF file\n",
    "cif_file = \"/home/yutao/softwares/RASPA2/../MIL-120/MIL-120.cif\"\n",
    "\n",
    "# Read the CIF file\n",
    "cif_data = ReadCif(cif_file)\n",
    "\n",
    "# Extract charge information\n",
    "charges = {}\n",
    "\n",
    "# Loop through the CIF data blocks\n",
    "for block in cif_data:\n",
    "\n",
    "    if '_atom_site_label' in block and '_atom_site_charge' in block:\n",
    "        labels = block['_atom_site_label']\n",
    "        charge_values = block['_atom_site_charge']\n",
    "\n",
    "        for label, charge in zip(labels, charge_values):\n",
    "            charge = float(charge)\n",
    "            if label in charges:\n",
    "                charges[label].append(charge)\n",
    "            else:\n",
    "                charges[label] = [charge]\n",
    "\n",
    "# Now you have a dictionary with atom labels as keys and lists of charges as values\n",
    "print(charges)\n"
   ]
  },
  {
   "cell_type": "code",
   "execution_count": 23,
   "metadata": {},
   "outputs": [
    {
     "name": "stdout",
     "output_type": "stream",
     "text": [
      "[{'label': 'Al', 'charge': 1.65857, 'position': (0.29166, 0.29186, 0.58401)}, {'label': 'Al', 'charge': 1.65856, 'position': (0.70833, 0.70814, 0.416)}, {'label': 'Al', 'charge': 1.64626, 'position': (-0.0, 0.5, 0.5)}, {'label': 'Al', 'charge': 1.64749, 'position': (0.5, -0.0, 0.5)}, {'label': 'H', 'charge': 0.41785, 'position': (0.01775, 0.34267, 0.67087)}, {'label': 'H', 'charge': 0.41373, 'position': (0.14093, 0.93835, 0.4632)}, {'label': 'H', 'charge': 0.41657, 'position': (0.65156, 0.32865, 0.67108)}, {'label': 'H', 'charge': 0.41461, 'position': (0.32343, 0.52517, 0.46387)}, {'label': 'H', 'charge': 0.41773, 'position': (0.98225, 0.65733, 0.32913)}, {'label': 'H', 'charge': 0.41364, 'position': (0.85906, 0.06165, 0.5368)}, {'label': 'H', 'charge': 0.41658, 'position': (0.34843, 0.67135, 0.32893)}, {'label': 'H', 'charge': 0.41466, 'position': (0.67656, 0.47484, 0.53613)}, {'label': 'H', 'charge': 0.12728, 'position': (0.54939, 0.33475, 0.00012)}, {'label': 'H', 'charge': 0.12726, 'position': (0.45061, 0.66525, -0.00012)}, {'label': 'C', 'charge': 0.62462, 'position': (0.42015, 0.06973, 0.75015)}, {'label': 'C', 'charge': -0.02738, 'position': (0.45269, 0.03396, 0.87898)}, {'label': 'C', 'charge': 0.62697, 'position': (0.32795, 0.68022, 0.75035)}, {'label': 'C', 'charge': -0.0317, 'position': (0.42485, 0.84504, 0.87896)}, {'label': 'C', 'charge': 0.62454, 'position': (0.57984, 0.93027, 0.24985)}, {'label': 'C', 'charge': -0.02728, 'position': (0.54731, 0.96605, 0.12102)}, {'label': 'C', 'charge': 0.62705, 'position': (0.67205, 0.31978, 0.24965)}, {'label': 'C', 'charge': -0.03187, 'position': (0.57514, 0.15496, 0.12104)}, {'label': 'C', 'charge': -0.11722, 'position': (0.52612, 0.18828, 2e-05)}, {'label': 'C', 'charge': -0.11724, 'position': (0.47387, 0.81172, -2e-05)}, {'label': 'O', 'charge': -0.9263, 'position': (0.02467, 0.30506, 0.58107)}, {'label': 'O', 'charge': -0.97561, 'position': (0.24059, 0.04034, 0.46407)}, {'label': 'O', 'charge': -0.60514, 'position': (0.32432, 0.19875, 0.73318)}, {'label': 'O', 'charge': -0.57838, 'position': (0.50078, 0.9746, 0.67062)}, {'label': 'O', 'charge': -0.92481, 'position': (0.55599, 0.27576, 0.58107)}, {'label': 'O', 'charge': -0.97588, 'position': (0.22401, 0.42427, 0.4644)}, {'label': 'O', 'charge': -0.60682, 'position': (0.40724, 0.53436, 0.73313)}, {'label': 'O', 'charge': -0.57781, 'position': (0.1675, 0.6954, 0.67145)}, {'label': 'O', 'charge': -0.92626, 'position': (0.97532, 0.69494, 0.41893)}, {'label': 'O', 'charge': -0.97553, 'position': (0.7594, 0.95966, 0.53594)}, {'label': 'O', 'charge': -0.60522, 'position': (0.67568, 0.80125, 0.26682)}, {'label': 'O', 'charge': -0.57825, 'position': (0.49922, 0.02541, 0.32938)}, {'label': 'O', 'charge': -0.92474, 'position': (0.444, 0.72424, 0.41894)}, {'label': 'O', 'charge': -0.97585, 'position': (0.77598, 0.57573, 0.5356)}, {'label': 'O', 'charge': -0.60674, 'position': (0.59276, 0.46565, 0.26687)}, {'label': 'O', 'charge': -0.57792, 'position': (0.83249, 0.3046, 0.32855)}]\n"
     ]
    }
   ],
   "source": [
    "from CifFile import ReadCif\n",
    "\n",
    "# Load the CIF file\n",
    "cif_file = \"/home/yutao/softwares/RASPA2/../MIL-120/MIL-120.cif\"\n",
    "\n",
    "# Read the CIF file\n",
    "cif_data = ReadCif(cif_file)\n",
    "\n",
    "# Extract information for each atom\n",
    "atom_data = []\n",
    "\n",
    "# Loop through the CIF data blocks\n",
    "for block in cif_data:\n",
    "    if '_atom_site_label' in block and '_atom_site_charge' in block and '_atom_site_fract_x' in block and '_atom_site_fract_y' in block and '_atom_site_fract_z' in block:\n",
    "        labels = block['_atom_site_label']\n",
    "        charge_values = block['_atom_site_charge']\n",
    "        x_positions = block['_atom_site_fract_x']\n",
    "        y_positions = block['_atom_site_fract_y']\n",
    "        z_positions = block['_atom_site_fract_z']\n",
    "\n",
    "        for label, charge, x, y, z in zip(labels, charge_values, x_positions, y_positions, z_positions):\n",
    "            atom_data.append({\n",
    "                'label': label,\n",
    "                'charge': float(charge),\n",
    "                'position': (float(x), float(y), float(z))\n",
    "            })\n",
    "\n",
    "# Now you have a list of dictionaries, each containing label, charge, and position\n",
    "print(atom_data)\n",
    "\n"
   ]
  },
  {
   "cell_type": "code",
   "execution_count": 5,
   "metadata": {},
   "outputs": [
    {
     "ename": "ModuleNotFoundError",
     "evalue": "No module named 'simtk.openmm.app.internal'",
     "output_type": "error",
     "traceback": [
      "\u001b[0;31m---------------------------------------------------------------------------\u001b[0m",
      "\u001b[0;31mModuleNotFoundError\u001b[0m                       Traceback (most recent call last)",
      "Cell \u001b[0;32mIn[5], line 2\u001b[0m\n\u001b[1;32m      1\u001b[0m \u001b[39mfrom\u001b[39;00m \u001b[39msimtk\u001b[39;00m\u001b[39m.\u001b[39;00m\u001b[39mopenmm\u001b[39;00m \u001b[39mimport\u001b[39;00m app\n\u001b[0;32m----> 2\u001b[0m \u001b[39mfrom\u001b[39;00m \u001b[39msimtk\u001b[39;00m\u001b[39m.\u001b[39;00m\u001b[39mopenmm\u001b[39;00m\u001b[39m.\u001b[39;00m\u001b[39mapp\u001b[39;00m\u001b[39m.\u001b[39;00m\u001b[39minternal\u001b[39;00m \u001b[39mimport\u001b[39;00m createSystem\n\u001b[1;32m      3\u001b[0m \u001b[39mfrom\u001b[39;00m \u001b[39msimtk\u001b[39;00m\u001b[39m.\u001b[39;00m\u001b[39munit\u001b[39;00m \u001b[39mimport\u001b[39;00m nanometer, kilojoule_per_mole, element\n\u001b[1;32m      4\u001b[0m \u001b[39mfrom\u001b[39;00m \u001b[39msimtk\u001b[39;00m\u001b[39m.\u001b[39;00m\u001b[39mopenmm\u001b[39;00m \u001b[39mimport\u001b[39;00m NonbondedForce\n",
      "\u001b[0;31mModuleNotFoundError\u001b[0m: No module named 'simtk.openmm.app.internal'"
     ]
    }
   ],
   "source": [
    "from simtk.openmm import app\n",
    "from simtk.openmm.app.internal import createSystem\n",
    "from simtk.unit import nanometer, kilojoule_per_mole, element\n",
    "from simtk.openmm import NonbondedForce\n",
    "\n",
    "# Create an OpenMM System\n",
    "system = createSystem(None, nonbondedMethod=app.NoCutoff)\n",
    "\n",
    "# Create a NonbondedForce\n",
    "nonbonded = NonbondedForce()\n",
    "\n",
    "# Define LJ parameters for individual atom types\n",
    "lj_parameters = [\n",
    "    (\"Al\", 4.0082 * nanometer, 254.152 * kilojoule_per_mole),\n",
    "    (\"C\", 3.4309 * nanometer, 52.8435 * kilojoule_per_mole),\n",
    "    (\"H\", 2.5711 * nanometer, 22.1439 * kilojoule_per_mole),\n",
    "    (\"O\", 3.1181 * nanometer, 30.1963 * kilojoule_per_mole),\n",
    "    (\"O_co2\", 3.05 * nanometer, 79.0 * kilojoule_per_mole),\n",
    "    (\"C_co2\", 2.80 * nanometer, 27.0 * kilojoule_per_mole),\n",
    "]\n",
    "\n",
    "for atom_type, sigma, epsilon in lj_parameters:\n",
    "    nonbonded.addParticle(0.0, sigma, epsilon)\n",
    "\n",
    "# Add NonbondedForce to the System\n",
    "system.addForce(nonbonded)\n",
    "\n",
    "# Create an OpenMM XML force field file\n",
    "#app.internal.writeForceFieldFile(system, 'openmm_forcefield.xml')\n"
   ]
  },
  {
   "cell_type": "code",
   "execution_count": 6,
   "metadata": {},
   "outputs": [
    {
     "ename": "TypeError",
     "evalue": "ForceField.registerAtomType() got an unexpected keyword argument 'element'",
     "output_type": "error",
     "traceback": [
      "\u001b[0;31m---------------------------------------------------------------------------\u001b[0m",
      "\u001b[0;31mTypeError\u001b[0m                                 Traceback (most recent call last)",
      "Cell \u001b[0;32mIn[6], line 7\u001b[0m\n\u001b[1;32m      4\u001b[0m ff \u001b[39m=\u001b[39m ForceField()\n\u001b[1;32m      6\u001b[0m \u001b[39m# Define LJ parameters for individual atom types with accurate unit conversion\u001b[39;00m\n\u001b[0;32m----> 7\u001b[0m ff\u001b[39m.\u001b[39;49mregisterAtomType(\n\u001b[1;32m      8\u001b[0m     element\u001b[39m=\u001b[39;49mElement\u001b[39m.\u001b[39;49mgetBySymbol(\u001b[39m'\u001b[39;49m\u001b[39mAl\u001b[39;49m\u001b[39m'\u001b[39;49m),\n\u001b[1;32m      9\u001b[0m     sigma\u001b[39m=\u001b[39;49m\u001b[39m4.0082\u001b[39;49m,  \u001b[39m# The units are in Ångstroms\u001b[39;49;00m\n\u001b[1;32m     10\u001b[0m     epsilon\u001b[39m=\u001b[39;49m\u001b[39m254.152\u001b[39;49m  \u001b[39m# The units are in Kelvin (K)\u001b[39;49;00m\n\u001b[1;32m     11\u001b[0m )\n\u001b[1;32m     13\u001b[0m ff\u001b[39m.\u001b[39mregisterAtomType(\n\u001b[1;32m     14\u001b[0m     element\u001b[39m=\u001b[39mElement\u001b[39m.\u001b[39mgetBySymbol(\u001b[39m'\u001b[39m\u001b[39mC\u001b[39m\u001b[39m'\u001b[39m),\n\u001b[1;32m     15\u001b[0m     sigma\u001b[39m=\u001b[39m\u001b[39m3.4309\u001b[39m,  \u001b[39m# The units are in Ångstroms\u001b[39;00m\n\u001b[1;32m     16\u001b[0m     epsilon\u001b[39m=\u001b[39m\u001b[39m52.8435\u001b[39m  \u001b[39m# The units are in Kelvin (K)\u001b[39;00m\n\u001b[1;32m     17\u001b[0m )\n\u001b[1;32m     19\u001b[0m ff\u001b[39m.\u001b[39mregisterAtomType(\n\u001b[1;32m     20\u001b[0m     element\u001b[39m=\u001b[39mElement\u001b[39m.\u001b[39mgetBySymbol(\u001b[39m'\u001b[39m\u001b[39mH\u001b[39m\u001b[39m'\u001b[39m),\n\u001b[1;32m     21\u001b[0m     sigma\u001b[39m=\u001b[39m\u001b[39m2.5711\u001b[39m,  \u001b[39m# The units are in Ångstroms\u001b[39;00m\n\u001b[1;32m     22\u001b[0m     epsilon\u001b[39m=\u001b[39m\u001b[39m22.1439\u001b[39m  \u001b[39m# The units are in Kelvin (K)\u001b[39;00m\n\u001b[1;32m     23\u001b[0m )\n",
      "\u001b[0;31mTypeError\u001b[0m: ForceField.registerAtomType() got an unexpected keyword argument 'element'"
     ]
    }
   ],
   "source": [
    "from simtk.openmm.app import Element, ForceField\n",
    "\n",
    "# Create an OpenMM ForceField object\n",
    "ff = ForceField()\n",
    "\n",
    "# Define LJ parameters for individual atom types with accurate unit conversion\n",
    "ff.registerAtomType(\n",
    "    element=Element.getBySymbol('Al'),\n",
    "    sigma=4.0082,  # The units are in Ångstroms\n",
    "    epsilon=254.152  # The units are in Kelvin (K)\n",
    ")\n",
    "\n",
    "ff.registerAtomType(\n",
    "    element=Element.getBySymbol('C'),\n",
    "    sigma=3.4309,  # The units are in Ångstroms\n",
    "    epsilon=52.8435  # The units are in Kelvin (K)\n",
    ")\n",
    "\n",
    "ff.registerAtomType(\n",
    "    element=Element.getBySymbol('H'),\n",
    "    sigma=2.5711,  # The units are in Ångstroms\n",
    "    epsilon=22.1439  # The units are in Kelvin (K)\n",
    ")\n",
    "\n",
    "ff.registerAtomType(\n",
    "    element=Element.getBySymbol('O'),\n",
    "    sigma=3.1181,  # The units are in Ångstroms\n",
    "    epsilon=30.1963  # The units are in Kelvin (K)\n",
    ")\n",
    "\n",
    "ff.registerAtomType(\n",
    "    element=Element.getBySymbol('O'),\n",
    "    sigma=3.05,  # The units are in Ångstroms\n",
    "    epsilon=79.0  # The units are in Kelvin (K)\n",
    ")\n",
    "\n",
    "ff.registerAtomType(\n",
    "    element=Element.getBySymbol('C'),\n",
    "    sigma=2.80,  # The units are in Ångstroms\n",
    "    epsilon=27.0  # The units are in Kelvin (K)\n",
    ")\n",
    "\n",
    "# Generate the XML representation of the force field\n",
    "xml_string = ff._generateXML()\n",
    "\n",
    "# Save the XML string to a file for use in simulations\n",
    "with open('openmm_forcefield.xml', 'w') as f:\n",
    "    f.write(xml_string)\n"
   ]
  },
  {
   "cell_type": "code",
   "execution_count": 7,
   "metadata": {},
   "outputs": [
    {
     "name": "stdout",
     "output_type": "stream",
     "text": [
      "\u001b[0;31mSignature:\u001b[0m \u001b[0mForceField\u001b[0m\u001b[0;34m.\u001b[0m\u001b[0mregisterAtomType\u001b[0m\u001b[0;34m(\u001b[0m\u001b[0mself\u001b[0m\u001b[0;34m,\u001b[0m \u001b[0mparameters\u001b[0m\u001b[0;34m)\u001b[0m\u001b[0;34m\u001b[0m\u001b[0;34m\u001b[0m\u001b[0m\n",
      "\u001b[0;31mSource:\u001b[0m   \n",
      "    \u001b[0;32mdef\u001b[0m \u001b[0mregisterAtomType\u001b[0m\u001b[0;34m(\u001b[0m\u001b[0mself\u001b[0m\u001b[0;34m,\u001b[0m \u001b[0mparameters\u001b[0m\u001b[0;34m)\u001b[0m\u001b[0;34m:\u001b[0m\u001b[0;34m\u001b[0m\n",
      "\u001b[0;34m\u001b[0m        \u001b[0;34m\"\"\"Register a new atom type.\"\"\"\u001b[0m\u001b[0;34m\u001b[0m\n",
      "\u001b[0;34m\u001b[0m        \u001b[0mname\u001b[0m \u001b[0;34m=\u001b[0m \u001b[0mparameters\u001b[0m\u001b[0;34m[\u001b[0m\u001b[0;34m'name'\u001b[0m\u001b[0;34m]\u001b[0m\u001b[0;34m\u001b[0m\n",
      "\u001b[0;34m\u001b[0m        \u001b[0;32mif\u001b[0m \u001b[0mname\u001b[0m \u001b[0;32min\u001b[0m \u001b[0mself\u001b[0m\u001b[0;34m.\u001b[0m\u001b[0m_atomTypes\u001b[0m\u001b[0;34m:\u001b[0m\u001b[0;34m\u001b[0m\n",
      "\u001b[0;34m\u001b[0m            \u001b[0;32mraise\u001b[0m \u001b[0mValueError\u001b[0m\u001b[0;34m(\u001b[0m\u001b[0;34m'Found multiple definitions for atom type: '\u001b[0m\u001b[0;34m+\u001b[0m\u001b[0mname\u001b[0m\u001b[0;34m)\u001b[0m\u001b[0;34m\u001b[0m\n",
      "\u001b[0;34m\u001b[0m        \u001b[0matomClass\u001b[0m \u001b[0;34m=\u001b[0m \u001b[0mparameters\u001b[0m\u001b[0;34m[\u001b[0m\u001b[0;34m'class'\u001b[0m\u001b[0;34m]\u001b[0m\u001b[0;34m\u001b[0m\n",
      "\u001b[0;34m\u001b[0m        \u001b[0mmass\u001b[0m \u001b[0;34m=\u001b[0m \u001b[0m_convertParameterToNumber\u001b[0m\u001b[0;34m(\u001b[0m\u001b[0mparameters\u001b[0m\u001b[0;34m[\u001b[0m\u001b[0;34m'mass'\u001b[0m\u001b[0;34m]\u001b[0m\u001b[0;34m)\u001b[0m\u001b[0;34m\u001b[0m\n",
      "\u001b[0;34m\u001b[0m        \u001b[0melement\u001b[0m \u001b[0;34m=\u001b[0m \u001b[0;32mNone\u001b[0m\u001b[0;34m\u001b[0m\n",
      "\u001b[0;34m\u001b[0m        \u001b[0;32mif\u001b[0m \u001b[0;34m'element'\u001b[0m \u001b[0;32min\u001b[0m \u001b[0mparameters\u001b[0m\u001b[0;34m:\u001b[0m\u001b[0;34m\u001b[0m\n",
      "\u001b[0;34m\u001b[0m            \u001b[0melement\u001b[0m \u001b[0;34m=\u001b[0m \u001b[0mparameters\u001b[0m\u001b[0;34m[\u001b[0m\u001b[0;34m'element'\u001b[0m\u001b[0;34m]\u001b[0m\u001b[0;34m\u001b[0m\n",
      "\u001b[0;34m\u001b[0m            \u001b[0;32mif\u001b[0m \u001b[0;32mnot\u001b[0m \u001b[0misinstance\u001b[0m\u001b[0;34m(\u001b[0m\u001b[0melement\u001b[0m\u001b[0;34m,\u001b[0m \u001b[0melem\u001b[0m\u001b[0;34m.\u001b[0m\u001b[0mElement\u001b[0m\u001b[0;34m)\u001b[0m\u001b[0;34m:\u001b[0m\u001b[0;34m\u001b[0m\n",
      "\u001b[0;34m\u001b[0m                \u001b[0melement\u001b[0m \u001b[0;34m=\u001b[0m \u001b[0melem\u001b[0m\u001b[0;34m.\u001b[0m\u001b[0mget_by_symbol\u001b[0m\u001b[0;34m(\u001b[0m\u001b[0melement\u001b[0m\u001b[0;34m)\u001b[0m\u001b[0;34m\u001b[0m\n",
      "\u001b[0;34m\u001b[0m        \u001b[0mself\u001b[0m\u001b[0;34m.\u001b[0m\u001b[0m_atomTypes\u001b[0m\u001b[0;34m[\u001b[0m\u001b[0mname\u001b[0m\u001b[0;34m]\u001b[0m \u001b[0;34m=\u001b[0m \u001b[0mForceField\u001b[0m\u001b[0;34m.\u001b[0m\u001b[0m_AtomType\u001b[0m\u001b[0;34m(\u001b[0m\u001b[0mname\u001b[0m\u001b[0;34m,\u001b[0m \u001b[0matomClass\u001b[0m\u001b[0;34m,\u001b[0m \u001b[0mmass\u001b[0m\u001b[0;34m,\u001b[0m \u001b[0melement\u001b[0m\u001b[0;34m)\u001b[0m\u001b[0;34m\u001b[0m\n",
      "\u001b[0;34m\u001b[0m        \u001b[0;32mif\u001b[0m \u001b[0matomClass\u001b[0m \u001b[0;32min\u001b[0m \u001b[0mself\u001b[0m\u001b[0;34m.\u001b[0m\u001b[0m_atomClasses\u001b[0m\u001b[0;34m:\u001b[0m\u001b[0;34m\u001b[0m\n",
      "\u001b[0;34m\u001b[0m            \u001b[0mtypeSet\u001b[0m \u001b[0;34m=\u001b[0m \u001b[0mself\u001b[0m\u001b[0;34m.\u001b[0m\u001b[0m_atomClasses\u001b[0m\u001b[0;34m[\u001b[0m\u001b[0matomClass\u001b[0m\u001b[0;34m]\u001b[0m\u001b[0;34m\u001b[0m\n",
      "\u001b[0;34m\u001b[0m        \u001b[0;32melse\u001b[0m\u001b[0;34m:\u001b[0m\u001b[0;34m\u001b[0m\n",
      "\u001b[0;34m\u001b[0m            \u001b[0mtypeSet\u001b[0m \u001b[0;34m=\u001b[0m \u001b[0mset\u001b[0m\u001b[0;34m(\u001b[0m\u001b[0;34m)\u001b[0m\u001b[0;34m\u001b[0m\n",
      "\u001b[0;34m\u001b[0m            \u001b[0mself\u001b[0m\u001b[0;34m.\u001b[0m\u001b[0m_atomClasses\u001b[0m\u001b[0;34m[\u001b[0m\u001b[0matomClass\u001b[0m\u001b[0;34m]\u001b[0m \u001b[0;34m=\u001b[0m \u001b[0mtypeSet\u001b[0m\u001b[0;34m\u001b[0m\n",
      "\u001b[0;34m\u001b[0m        \u001b[0mtypeSet\u001b[0m\u001b[0;34m.\u001b[0m\u001b[0madd\u001b[0m\u001b[0;34m(\u001b[0m\u001b[0mname\u001b[0m\u001b[0;34m)\u001b[0m\u001b[0;34m\u001b[0m\n",
      "\u001b[0;34m\u001b[0m        \u001b[0mself\u001b[0m\u001b[0;34m.\u001b[0m\u001b[0m_atomClasses\u001b[0m\u001b[0;34m[\u001b[0m\u001b[0;34m''\u001b[0m\u001b[0;34m]\u001b[0m\u001b[0;34m.\u001b[0m\u001b[0madd\u001b[0m\u001b[0;34m(\u001b[0m\u001b[0mname\u001b[0m\u001b[0;34m)\u001b[0m\u001b[0;34m\u001b[0m\u001b[0;34m\u001b[0m\u001b[0m\n",
      "\u001b[0;31mFile:\u001b[0m      ~/anaconda3/envs/dmff/lib/python3.11/site-packages/openmm/app/forcefield.py\n",
      "\u001b[0;31mType:\u001b[0m      function"
     ]
    }
   ],
   "source": [
    "ForceField.registerAtomType??"
   ]
  },
  {
   "cell_type": "code",
   "execution_count": 8,
   "metadata": {},
   "outputs": [],
   "source": [
    "from simtk.openmm.app import ForceField\n",
    "\n",
    "# Create an OpenMM ForceField object\n",
    "ff = ForceField()\n",
    "\n",
    "# Generate the XML representation of the force field\n",
    "xml_string = \"\"\"\n",
    "<ForceField>\n",
    "    <AtomTypes>\n",
    "        <Type name=\"Al\" class=\"Al\" element=\"Al\"/>\n",
    "        <Type name=\"C\" class=\"C\" element=\"C\"/>\n",
    "        <Type name=\"H\" class=\"H\" element=\"H\"/>\n",
    "        <Type name=\"O\" class=\"O\" element=\"O\"/>\n",
    "        <Type name=\"O_co2\" class=\"O_co2\" element=\"O\"/>\n",
    "        <Type name=\"C_co2\" class=\"C_co2\" element=\"C\"/>\n",
    "    </AtomTypes>\n",
    "    <NonbondedForce coulomb14scale=\"0.833333\" lj14scale=\"0.5\">\n",
    "        <Atom type=\"Al\" charge=\"0.0\" sigma=\"4.0082\" epsilon=\"254.152\"/>\n",
    "        <Atom type=\"C\" charge=\"0.0\" sigma=\"3.4309\" epsilon=\"52.8435\"/>\n",
    "        <Atom type=\"H\" charge=\"0.0\" sigma=\"2.5711\" epsilon=\"22.1439\"/>\n",
    "        <Atom type=\"O\" charge=\"0.0\" sigma=\"3.1181\" epsilon=\"30.1963\"/>\n",
    "        <Atom type=\"O_co2\" charge=\"0.0\" sigma=\"3.05\" epsilon=\"79.0\"/>\n",
    "        <Atom type=\"C_co2\" charge=\"0.0\" sigma=\"2.80\" epsilon=\"27.0\"/>\n",
    "    </NonbondedForce>\n",
    "</ForceField>\n",
    "\"\"\"\n",
    "\n",
    "# Save the XML string to a file for use in simulations\n",
    "with open('openmm_forcefield.xml', 'w') as f:\n",
    "    f.write(xml_string)\n"
   ]
  },
  {
   "cell_type": "code",
   "execution_count": 9,
   "metadata": {},
   "outputs": [],
   "source": [
    "xmlio = XMLIO()\n",
    "xmlio.loadXML(\"openmm_forcefield.xml\")"
   ]
  },
  {
   "cell_type": "code",
   "execution_count": 13,
   "metadata": {},
   "outputs": [
    {
     "ename": "TypeError",
     "evalue": "NonbondedForce.addParticle() missing 2 required positional arguments: 'sigma' and 'epsilon'",
     "output_type": "error",
     "traceback": [
      "\u001b[0;31m---------------------------------------------------------------------------\u001b[0m",
      "\u001b[0;31mTypeError\u001b[0m                                 Traceback (most recent call last)",
      "Cell \u001b[0;32mIn[13], line 17\u001b[0m\n\u001b[1;32m     15\u001b[0m nonbonded_force \u001b[39m=\u001b[39m openmm\u001b[39m.\u001b[39mNonbondedForce()\n\u001b[1;32m     16\u001b[0m \u001b[39mfor\u001b[39;00m i \u001b[39min\u001b[39;00m \u001b[39mrange\u001b[39m(\u001b[39mlen\u001b[39m(charges)):\n\u001b[0;32m---> 17\u001b[0m     nonbonded_force\u001b[39m.\u001b[39;49maddParticle(charge\u001b[39m=\u001b[39;49mcharges[i])\n\u001b[1;32m     19\u001b[0m \u001b[39m# Set the dielectric constant for Coulombic interactions\u001b[39;00m\n\u001b[1;32m     20\u001b[0m nonbonded_force\u001b[39m.\u001b[39msetReactionFieldDielectric(\u001b[39m78.5\u001b[39m)\n",
      "\u001b[0;31mTypeError\u001b[0m: NonbondedForce.addParticle() missing 2 required positional arguments: 'sigma' and 'epsilon'"
     ]
    }
   ],
   "source": [
    "from simtk.openmm import app, unit\n",
    "\n",
    "# Create a System\n",
    "system = openmm.System()\n",
    "\n",
    "# Define partial charges (in elementary charge units, e)\n",
    "charges = [0.5, -0.2, 0.3, 0.1, -0.4, 0.0]  # Example charges\n",
    "\n",
    "# Add particles and set masses\n",
    "for _ in charges:\n",
    "    mass = 1.0 * unit.amu  # Mass of 1.0 atomic mass unit (AMU)\n",
    "    system.addParticle(mass)\n",
    "\n",
    "# Add Coulombic interactions (Electrostatics)\n",
    "nonbonded_force = openmm.NonbondedForce()\n",
    "for i in range(len(charges)):\n",
    "    nonbonded_force.addParticle(charge=charges[i])\n",
    "\n",
    "# Set the dielectric constant for Coulombic interactions\n",
    "nonbonded_force.setReactionFieldDielectric(78.5)\n",
    "\n",
    "# Add the Coulombic force to the system\n",
    "system.addForce(nonbonded_force)\n",
    "\n",
    "# Define the integrator and simulation context\n",
    "integrator = openmm.LangevinIntegrator(300 * unit.kelvin, 1.0 / unit.picosecond, 0.002 * unit.picoseconds)\n",
    "simulation = openmm.app.Simulation(pdb.topology, system, integrator)\n",
    "\n",
    "# Run the simulation\n",
    "simulation.step(1000)\n"
   ]
  },
  {
   "cell_type": "code",
   "execution_count": null,
   "metadata": {},
   "outputs": [],
   "source": []
  }
 ],
 "metadata": {
  "kernelspec": {
   "display_name": "dmff",
   "language": "python",
   "name": "python3"
  },
  "language_info": {
   "codemirror_mode": {
    "name": "ipython",
    "version": 3
   },
   "file_extension": ".py",
   "mimetype": "text/x-python",
   "name": "python",
   "nbconvert_exporter": "python",
   "pygments_lexer": "ipython3",
   "version": "3.11.6"
  },
  "orig_nbformat": 4
 },
 "nbformat": 4,
 "nbformat_minor": 2
}
