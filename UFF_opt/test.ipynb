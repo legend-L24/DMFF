{
 "cells": [
  {
   "cell_type": "code",
   "execution_count": 1,
   "metadata": {},
   "outputs": [
    {
     "ename": "KeyboardInterrupt",
     "evalue": "",
     "output_type": "error",
     "traceback": [
      "\u001b[0;31m---------------------------------------------------------------------------\u001b[0m",
      "\u001b[0;31mKeyboardInterrupt\u001b[0m                         Traceback (most recent call last)",
      "Cell \u001b[0;32mIn[1], line 5\u001b[0m\n\u001b[1;32m      3\u001b[0m command \u001b[39m=\u001b[39m [\u001b[39m\"\u001b[39m\u001b[39m/home/yutao/project/aiida/applications/sample.sh\u001b[39m\u001b[39m\"\u001b[39m]\n\u001b[1;32m      4\u001b[0m \u001b[39m# Run the script using subprocess\u001b[39;00m\n\u001b[0;32m----> 5\u001b[0m completed_process \u001b[39m=\u001b[39m subprocess\u001b[39m.\u001b[39;49mrun(command, capture_output\u001b[39m=\u001b[39;49m\u001b[39mTrue\u001b[39;49;00m, cwd\u001b[39m=\u001b[39;49m\u001b[39m\"\u001b[39;49m\u001b[39m/home/yutao/project/aiida/applications\u001b[39;49m\u001b[39m\"\u001b[39;49m,text\u001b[39m=\u001b[39;49m\u001b[39mTrue\u001b[39;49;00m)\n\u001b[1;32m      7\u001b[0m \u001b[39m# Check the return code\u001b[39;00m\n\u001b[1;32m      8\u001b[0m \u001b[39mif\u001b[39;00m completed_process\u001b[39m.\u001b[39mreturncode \u001b[39m==\u001b[39m \u001b[39m0\u001b[39m:\n\u001b[1;32m      9\u001b[0m     \u001b[39m# The script finished successfully\u001b[39;00m\n",
      "File \u001b[0;32m~/anaconda3/envs/dmff/lib/python3.11/subprocess.py:550\u001b[0m, in \u001b[0;36mrun\u001b[0;34m(input, capture_output, timeout, check, *popenargs, **kwargs)\u001b[0m\n\u001b[1;32m    548\u001b[0m \u001b[39mwith\u001b[39;00m Popen(\u001b[39m*\u001b[39mpopenargs, \u001b[39m*\u001b[39m\u001b[39m*\u001b[39mkwargs) \u001b[39mas\u001b[39;00m process:\n\u001b[1;32m    549\u001b[0m     \u001b[39mtry\u001b[39;00m:\n\u001b[0;32m--> 550\u001b[0m         stdout, stderr \u001b[39m=\u001b[39m process\u001b[39m.\u001b[39;49mcommunicate(\u001b[39minput\u001b[39;49m, timeout\u001b[39m=\u001b[39;49mtimeout)\n\u001b[1;32m    551\u001b[0m     \u001b[39mexcept\u001b[39;00m TimeoutExpired \u001b[39mas\u001b[39;00m exc:\n\u001b[1;32m    552\u001b[0m         process\u001b[39m.\u001b[39mkill()\n",
      "File \u001b[0;32m~/anaconda3/envs/dmff/lib/python3.11/subprocess.py:1209\u001b[0m, in \u001b[0;36mPopen.communicate\u001b[0;34m(self, input, timeout)\u001b[0m\n\u001b[1;32m   1206\u001b[0m     endtime \u001b[39m=\u001b[39m \u001b[39mNone\u001b[39;00m\n\u001b[1;32m   1208\u001b[0m \u001b[39mtry\u001b[39;00m:\n\u001b[0;32m-> 1209\u001b[0m     stdout, stderr \u001b[39m=\u001b[39m \u001b[39mself\u001b[39;49m\u001b[39m.\u001b[39;49m_communicate(\u001b[39minput\u001b[39;49m, endtime, timeout)\n\u001b[1;32m   1210\u001b[0m \u001b[39mexcept\u001b[39;00m \u001b[39mKeyboardInterrupt\u001b[39;00m:\n\u001b[1;32m   1211\u001b[0m     \u001b[39m# https://bugs.python.org/issue25942\u001b[39;00m\n\u001b[1;32m   1212\u001b[0m     \u001b[39m# See the detailed comment in .wait().\u001b[39;00m\n\u001b[1;32m   1213\u001b[0m     \u001b[39mif\u001b[39;00m timeout \u001b[39mis\u001b[39;00m \u001b[39mnot\u001b[39;00m \u001b[39mNone\u001b[39;00m:\n",
      "File \u001b[0;32m~/anaconda3/envs/dmff/lib/python3.11/subprocess.py:2108\u001b[0m, in \u001b[0;36mPopen._communicate\u001b[0;34m(self, input, endtime, orig_timeout)\u001b[0m\n\u001b[1;32m   2101\u001b[0m     \u001b[39mself\u001b[39m\u001b[39m.\u001b[39m_check_timeout(endtime, orig_timeout,\n\u001b[1;32m   2102\u001b[0m                         stdout, stderr,\n\u001b[1;32m   2103\u001b[0m                         skip_check_and_raise\u001b[39m=\u001b[39m\u001b[39mTrue\u001b[39;00m)\n\u001b[1;32m   2104\u001b[0m     \u001b[39mraise\u001b[39;00m \u001b[39mRuntimeError\u001b[39;00m(  \u001b[39m# Impossible :)\u001b[39;00m\n\u001b[1;32m   2105\u001b[0m         \u001b[39m'\u001b[39m\u001b[39m_check_timeout(..., skip_check_and_raise=True) \u001b[39m\u001b[39m'\u001b[39m\n\u001b[1;32m   2106\u001b[0m         \u001b[39m'\u001b[39m\u001b[39mfailed to raise TimeoutExpired.\u001b[39m\u001b[39m'\u001b[39m)\n\u001b[0;32m-> 2108\u001b[0m ready \u001b[39m=\u001b[39m selector\u001b[39m.\u001b[39;49mselect(timeout)\n\u001b[1;32m   2109\u001b[0m \u001b[39mself\u001b[39m\u001b[39m.\u001b[39m_check_timeout(endtime, orig_timeout, stdout, stderr)\n\u001b[1;32m   2111\u001b[0m \u001b[39m# XXX Rewrite these to use non-blocking I/O on the file\u001b[39;00m\n\u001b[1;32m   2112\u001b[0m \u001b[39m# objects; they are no longer using C stdio!\u001b[39;00m\n",
      "File \u001b[0;32m~/anaconda3/envs/dmff/lib/python3.11/selectors.py:415\u001b[0m, in \u001b[0;36m_PollLikeSelector.select\u001b[0;34m(self, timeout)\u001b[0m\n\u001b[1;32m    413\u001b[0m ready \u001b[39m=\u001b[39m []\n\u001b[1;32m    414\u001b[0m \u001b[39mtry\u001b[39;00m:\n\u001b[0;32m--> 415\u001b[0m     fd_event_list \u001b[39m=\u001b[39m \u001b[39mself\u001b[39;49m\u001b[39m.\u001b[39;49m_selector\u001b[39m.\u001b[39;49mpoll(timeout)\n\u001b[1;32m    416\u001b[0m \u001b[39mexcept\u001b[39;00m \u001b[39mInterruptedError\u001b[39;00m:\n\u001b[1;32m    417\u001b[0m     \u001b[39mreturn\u001b[39;00m ready\n",
      "\u001b[0;31mKeyboardInterrupt\u001b[0m: "
     ]
    }
   ],
   "source": [
    "import subprocess\n",
    "from IPython.display import display\n",
    "command = [\"/home/yutao/project/aiida/applications/sample.sh\"]\n",
    "# Run the script using subprocess\n",
    "completed_process = subprocess.run(command, capture_output=True, cwd=\"/home/yutao/project/aiida/applications\",text=True)\n",
    "\n",
    "# Check the return code\n",
    "if completed_process.returncode == 0:\n",
    "    # The script finished successfully\n",
    "    display(\"Script finished successfully!\")\n",
    "    # Display the output in the notebook\n",
    "    display(\"Script output:\")\n",
    "    display(completed_process.stdout)\n",
    "    # Continue with your program logic here\n",
    "else:\n",
    "    # The script encountered an error\n",
    "    print(\"Script encountered an error:\", completed_process.stderr)\n",
    "    display(\"Script encountered an error:\", completed_process.stderr)\n",
    "    # Handle the error or exit the program\n"
   ]
  },
  {
   "cell_type": "markdown",
   "metadata": {},
   "source": [
    "This is a copy version of UFF force field optimization  process\n",
    "# Remember to change the name of process file.\n",
    "orginal traj\n",
    "/MIL/traj\n",
    "ff_*.json"
   ]
  },
  {
   "cell_type": "code",
   "execution_count": 1,
   "metadata": {},
   "outputs": [
    {
     "name": "stderr",
     "output_type": "stream",
     "text": [
      "Warning on use of the timeseries module: If the inherent timescales of the system are long compared to those being analyzed, this statistical inefficiency may be an underestimate.  The estimate presumes the use of many statistically independent samples.  Tests should be performed to assess whether this condition is satisfied.   Be cautious in the interpretation of the data.\n"
     ]
    }
   ],
   "source": [
    "# These package is inherited from Lenard-Jones optimization part of DMFF\n",
    "\n",
    "import openmm.app as app\n",
    "import openmm as mm\n",
    "import openmm.unit as unit\n",
    "import numpy as np\n",
    "import jax\n",
    "import jax.numpy as jnp\n",
    "import dmff\n",
    "from dmff.api.xmlio import XMLIO\n",
    "from dmff.api.paramset import ParamSet\n",
    "from dmff.generators.classical import CoulombGenerator, LennardJonesGenerator\n",
    "from dmff.api.hamiltonian import Hamiltonian\n",
    "from dmff.operators import ParmedLennardJonesOperator\n",
    "from dmff import NeighborListFreud\n",
    "from dmff.mbar import ReweightEstimator\n",
    "import mdtraj as md\n",
    "from tqdm import tqdm, trange\n",
    "import parmed\n",
    "import sys\n",
    "import os\n",
    "from dmff.api.topology import DMFFTopology\n",
    "# this is a package I write to solve some IO problems utils.py\n",
    "from utils import create_supercell, gas_generate,add_loading, simple_merge\n",
    "from utils import cutoff_topology\n",
    "import matplotlib.pyplot as plt\n",
    "import optax\n",
    "from utils import extract_from_raspa"
   ]
  },
  {
   "cell_type": "code",
   "execution_count": 2,
   "metadata": {},
   "outputs": [],
   "source": [
    "\"\"\"\n",
    "\n",
    "Superparameters for Lenard-Jone Potential optimization\n",
    "\n",
    "\"\"\"\n",
    "Number_points = 7             ## must be smaller than len(picked_ls)\n",
    "Trajectory_length = 250#250          #液体pdb文件的个数\n",
    "target_site1 = -50.60                  #拟合的目标binding energy\n",
    "target_site2 = -46.69           #拟合的目标binding energy\n",
    "SET_temperature=  100           #温度设定\n",
    "time_gap=   2.2                      #分子动力学模拟过程中每一个frame的时间间隔，单位是皮秒picosecond   推荐2-4ps\n",
    "loop_time =   100                  #迭代循环次数    推荐50-100\n",
    "scaling_factors = (3,3,2)\n",
    "cutoff = 0.905     #1.3 # unit is nanometer"
   ]
  },
  {
   "cell_type": "code",
   "execution_count": 3,
   "metadata": {},
   "outputs": [
    {
     "data": {
      "image/png": "[encoded data removed]",
      "text/plain": [
       "<Figure size 640x480 with 1 Axes>"
      ]
     },
     "metadata": {},
     "output_type": "display_data"
    }
   ],
   "source": [
    "Transfer_unit = 2.7719416667/5.6100437023 \n",
    "\n",
    "\n",
    "\n",
    "pressure_list = [\n",
    "            0.021648873072361,\n",
    "            0.038256227758007,\n",
    "            0.059015421115065,\n",
    "            0.077698695136418,\n",
    "            0.09638196915777,\n",
    "            0.14827995255042,\n",
    "            0.20017793594306,\n",
    "            0.24584816132859,\n",
    "            0.29774614472123,\n",
    "            0.34756820877817,\n",
    "            0.39739027283511,\n",
    "            0.44928825622776,\n",
    "            0.49495848161329,\n",
    "            0.60083036773428,\n",
    "            0.69839857651246,\n",
    "            0.80219454329775,\n",
    "            0.90183867141163,\n",
    "            0.99733096085409,\n",
    "            1.1986951364176,\n",
    "            1.3959074733096,\n",
    "            1.5993475682088,\n",
    "            1.7986358244365,\n",
    "            2.0020759193357\n",
    "        ]\n",
    "\n",
    "arr_3 = np.loadtxt(\"/home/yutao/dataset/exp_303.txt\", delimiter=',')\n",
    "plt.scatter(arr_3[:,0], Transfer_unit*arr_3[:,1], label = r\"303K experiments\")\n",
    "\n",
    "picked_ls = [0, 3, 6, 9, 12, 15, 18]\n",
    "picked_pressure = [pressure_list[i] for i in picked_ls]\n",
    "picked_isotherm = [arr_3[i,1]*Transfer_unit for i in picked_ls]\n",
    "\n",
    "def is_close_to_list(value, value_list):\n",
    "    for list_value in value_list:\n",
    "        relative_error = abs((value - list_value) / list_value)\n",
    "        if relative_error < 0.01:\n",
    "            return 1\n",
    "    return 0"
   ]
  },
  {
   "cell_type": "code",
   "execution_count": 4,
   "metadata": {},
   "outputs": [],
   "source": [
    "import os\n",
    "import numpy as np\n",
    "from utils import scaling_gas, extract_from_raspa, write_scaling_gas\n",
    "bar = 10**5\n",
    "def move_traj(dest_path = \"/home/yutao/project/MIL-120/traj1/\",picked_pressure=picked_pressure, copy_to_path = \"./traj1/\"):\n",
    "    traj_ls = os.listdir(dest_path)\n",
    "    isotherm_data = [[],[]] # the first list is for pressure, the second is for loading\n",
    "    jdx = 0 \n",
    "    for traj in extract_from_raspa(traj_ls):\n",
    "        pdb_file = traj[1]\n",
    "        if not pdb_file.endswith(\".pdb\") or 'Movie_framework' not in pdb_file:\n",
    "            continue\n",
    "        if not is_close_to_list(float(traj[0])/bar, picked_pressure):\n",
    "            continue\n",
    "        isotherm_data[0].append(float(traj[0])/bar)\n",
    "        pdb_path = os.path.join(dest_path, pdb_file)\n",
    "        with open(pdb_path) as f:\n",
    "            lines = f.readlines()\n",
    "        num_atoms_list = []  # List to store the number of atoms in each structure\n",
    "        index = 0\n",
    "        write_idx = 1\n",
    "        num_atoms = 0  # Variable to store the number of atoms in the current structure\n",
    "        directory = copy_to_path+f\"{jdx+1}\"\n",
    "        jdx += 1\n",
    "        if not os.path.exists(directory):\n",
    "            os.makedirs(directory)\n",
    "            print(\"Directory created:\", directory)\n",
    "        for line in lines:\n",
    "            if line.startswith(\"MODEL\"):\n",
    "                if index>=150:\n",
    "                    write_scaling_gas(block_coords, \"data/gas.pdb\", write_idx, dest_path=directory)\n",
    "                    write_idx += 1\n",
    "                block_coords = []\n",
    "                block_Csym = []\n",
    "                index += 1\n",
    "                num_atoms_list.append(num_atoms)  # Add the number of atoms to the list\n",
    "                num_atoms = 0  # Reset the number of atoms for the next structure\n",
    "            if line.startswith(\"ATOM\"):\n",
    "                parts = line.split()\n",
    "                coords = np.array([float(parts[4]), float(parts[5]), float(parts[6])])\n",
    "                block_coords.append(coords)\n",
    "                block_Csym.append(parts[-1])\n",
    "                num_atoms += 1  # Increment the number of atoms\n",
    "        #num_atoms_list.append(num_atoms)  # Add the number of atoms for the last structure\n",
    "        isotherm_data[1].append(sum(num_atoms_list)/len(num_atoms_list)/3/3/2/3)\n",
    "        #print(\"Number of atoms in each structure for\", pdb_file, \":\", num_atoms_list)\n",
    "    return isotherm_data"
   ]
  },
  {
   "cell_type": "code",
   "execution_count": 5,
   "metadata": {},
   "outputs": [],
   "source": [
    "def update_mask(parameters, mask):\n",
    "    updated_parameters = parameters.copy()\n",
    "    \n",
    "    for force_type, force_params in mask.items():\n",
    "        if force_type in parameters:\n",
    "            for param, mask_array in force_params.items():\n",
    "                if param in parameters[force_type]:\n",
    "                    # Update values based on the mask\n",
    "                    updated_parameters[force_type][param] = jnp.where(mask_array == 1, \n",
    "                                                                      parameters[force_type][param], \n",
    "                                                                      0)\n",
    "    return updated_parameters\n",
    "\n",
    "def compute_binding_energy(paramset,topo, pos, lj_gen, numframe=720,cutoff=cutoff):\n",
    "    topodata = dmff.DMFFTopology(topo)\n",
    "    # Because dmfftopology does not provide a good entry for open.topology object generated by pdb file, I had to suplement something\n",
    "    for atom in topodata.atoms():\n",
    "        if atom.residue.name==\"MOL\":\n",
    "            atom.meta['type']=atom.meta['element']\n",
    "            atom.meta['class']=atom.meta['element']\n",
    "        elif atom.residue.name==\"GAS\":\n",
    "            #print(atom.meta)\n",
    "            atom.meta['type']=atom.meta['element']+\"_co2\"\n",
    "            atom.meta['class']=atom.meta['element']+\"_co2\"\n",
    "        #print(atom.meta['element'])\n",
    "    cov_mat = topodata.buildCovMat()\n",
    "    lj_force = lj_gen.createPotential(\n",
    "    topodata, nonbondedMethod=app.PME, nonbondedCutoff=cutoff, args={})\n",
    "    pos_jnp = jnp.array(pos.value_in_unit(unit.nanometer))\n",
    "    cell_jnp = jnp.array(topo.getPeriodicBoxVectors().value_in_unit(unit.nanometer))\n",
    "    cov_mat=cov_mat.at[:numframe,:numframe].set(1)\n",
    "    nblist = NeighborListFreud(topo.getPeriodicBoxVectors().value_in_unit(unit.nanometer), cutoff, cov_mat)\n",
    "    nblist.allocate(pos_jnp, cell_jnp)\n",
    "    pairs = jnp.array(nblist.pairs)\n",
    "    ener = lj_force(pos_jnp,cell_jnp, pairs, paramset)\n",
    "    return ener"
   ]
  },
  {
   "cell_type": "code",
   "execution_count": 6,
   "metadata": {},
   "outputs": [],
   "source": [
    "# Initial Optimized parameters\n",
    "xmlio = XMLIO()\n",
    "xmlio.loadXML(\"data/init.xml\")\n",
    "ffinfo = xmlio.parseXML()\n",
    "paramset = ParamSet()\n",
    "lj_gen = LennardJonesGenerator(ffinfo, paramset)\n",
    "paramset.mask['LennardJonesForce']['sigma'] = paramset.mask['LennardJonesForce']['sigma'].at[0].set(0)\n",
    "paramset.mask['LennardJonesForce']['sigma'] = paramset.mask['LennardJonesForce']['sigma'].at[1].set(0)\n",
    "paramset.mask['LennardJonesForce']['sigma'] = paramset.mask['LennardJonesForce']['sigma'].at[2].set(0)\n",
    "paramset.mask['LennardJonesForce']['sigma'] = paramset.mask['LennardJonesForce']['sigma'].at[3].set(0)"
   ]
  },
  {
   "cell_type": "code",
   "execution_count": 7,
   "metadata": {},
   "outputs": [
    {
     "data": {
      "text/plain": [
       "'\\n\\ntraj_dict = {}\\n\\n# I have alreay generated a trajectory example\\ndest_path = \"./traj/\"\\ntraj_ls = os.listdir(dest_path)\\ncreate_supercell(\"data/MIL-120.pdb\", scaling_factors, \"scaled_frame.pdb\")\\nff = app.ForceField(\"custom_forcefield.xml\")\\n\\n# Filter out file names and keep only directory names\\ndir_names = [name for name in traj_ls if os.path.isdir(os.path.join(dest_path, name)) and name.isdigit()]\\n\\nfor directory in dir_names[:1]:\\n    idx = int(directory)\\n    traj_dict[idx] = {\\'experiment\\': {\\'pressure\\': picked_pressure[idx-1], \\'loading\\': picked_isotherm[idx-1]}, \\'structure\\': [], \\'refer_energy\\':[], \\'loading\\':[]}\\n    gas_dir = os.path.join(dest_path, directory)\\n    for gas_path in os.listdir(gas_dir)[::3]:\\n        topo, pos, num = simple_merge(\"scaled_frame.pdb\",os.path.join(gas_dir,gas_path))\\n        ener_lj = compute_binding_energy(paramset,topo, pos, lj_gen, numframe=720,cutoff=cutoff)\\n        traj_dict[idx][\\'structure\\'].append([topo, pos])\\n        traj_dict[idx][\\'loading\\'].append(num/scaling_factors[0]/scaling_factors[1]/scaling_factors[2]/3)\\n        traj_dict[idx][\\'refer_energy\\'].append(ener_lj)\\nfor key in traj_dict.keys():\\n    traj_dict[key][\\'refer_energy\\'] = jnp.array(traj_dict[key][\\'refer_energy\\'])\\n    traj_dict[key][\\'loading\\'] = jnp.array(traj_dict[key][\\'loading\\'])\\n    traj_dict[key][\\'estimator\\'] = ReweightEstimator(ref_energies=traj_dict[key][\\'refer_energy\\'], temperature=SET_temperature)\\n'"
      ]
     },
     "execution_count": 7,
     "metadata": {},
     "output_type": "execute_result"
    }
   ],
   "source": [
    "'''\n",
    "\n",
    "traj_dict = {}\n",
    "\n",
    "# I have alreay generated a trajectory example\n",
    "dest_path = \"./traj/\"\n",
    "traj_ls = os.listdir(dest_path)\n",
    "create_supercell(\"data/MIL-120.pdb\", scaling_factors, \"scaled_frame.pdb\")\n",
    "ff = app.ForceField(\"custom_forcefield.xml\")\n",
    "\n",
    "# Filter out file names and keep only directory names\n",
    "dir_names = [name for name in traj_ls if os.path.isdir(os.path.join(dest_path, name)) and name.isdigit()]\n",
    "\n",
    "for directory in dir_names[:1]:\n",
    "    idx = int(directory)\n",
    "    traj_dict[idx] = {'experiment': {'pressure': picked_pressure[idx-1], 'loading': picked_isotherm[idx-1]}, 'structure': [], 'refer_energy':[], 'loading':[]}\n",
    "    gas_dir = os.path.join(dest_path, directory)\n",
    "    for gas_path in os.listdir(gas_dir)[::3]:\n",
    "        topo, pos, num = simple_merge(\"scaled_frame.pdb\",os.path.join(gas_dir,gas_path))\n",
    "        ener_lj = compute_binding_energy(paramset,topo, pos, lj_gen, numframe=720,cutoff=cutoff)\n",
    "        traj_dict[idx]['structure'].append([topo, pos])\n",
    "        traj_dict[idx]['loading'].append(num/scaling_factors[0]/scaling_factors[1]/scaling_factors[2]/3)\n",
    "        traj_dict[idx]['refer_energy'].append(ener_lj)\n",
    "for key in traj_dict.keys():\n",
    "    traj_dict[key]['refer_energy'] = jnp.array(traj_dict[key]['refer_energy'])\n",
    "    traj_dict[key]['loading'] = jnp.array(traj_dict[key]['loading'])\n",
    "    traj_dict[key]['estimator'] = ReweightEstimator(ref_energies=traj_dict[key]['refer_energy'], temperature=SET_temperature)\n",
    "'''"
   ]
  },
  {
   "cell_type": "code",
   "execution_count": 8,
   "metadata": {},
   "outputs": [],
   "source": [
    "\n",
    "def compute_binding_energy(paramset,topo, pos, lj_gen, numframe=720,cutoff=cutoff):\n",
    "    topodata = dmff.DMFFTopology(topo)\n",
    "    # Because dmfftopology does not provide a good entry for open.topology object generated by pdb file, I had to suplement something\n",
    "    for atom in topodata.atoms():\n",
    "        if atom.residue.name==\"MOL\":\n",
    "            atom.meta['type']=atom.meta['element']\n",
    "            atom.meta['class']=atom.meta['element']\n",
    "        elif atom.residue.name==\"GAS\":\n",
    "            #print(atom.meta)\n",
    "            atom.meta['type']=atom.meta['element']+\"_co2\"\n",
    "            atom.meta['class']=atom.meta['element']+\"_co2\"\n",
    "        #print(atom.meta['element'])\n",
    "    cov_mat = topodata.buildCovMat()\n",
    "    lj_force = lj_gen.createPotential(\n",
    "    topodata, nonbondedMethod=app.PME, nonbondedCutoff=cutoff, args={})\n",
    "    pos_jnp = jnp.array(pos.value_in_unit(unit.nanometer))\n",
    "    cell_jnp = jnp.array(topo.getPeriodicBoxVectors().value_in_unit(unit.nanometer))\n",
    "    cov_mat=cov_mat.at[:numframe,:numframe].set(1)\n",
    "    nblist = NeighborListFreud(topo.getPeriodicBoxVectors().value_in_unit(unit.nanometer), cutoff, cov_mat)\n",
    "    nblist.allocate(pos_jnp, cell_jnp)\n",
    "    pairs = jnp.array(nblist.pairs)\n",
    "    ener = lj_force(pos_jnp,cell_jnp, pairs, paramset)\n",
    "    return ener"
   ]
  },
  {
   "cell_type": "code",
   "execution_count": 10,
   "metadata": {},
   "outputs": [
    {
     "data": {
      "text/plain": [
       "'\\ntraj_dict = {}\\nglobal Number_points, cutoff\\ntraj_ls = os.listdir(dest_path)\\ncreate_supercell(\"data/MIL-120.pdb\", scaling_factors, \"scaled_frame.pdb\")\\n\\n# Filter out file names and keep only directory names\\ndir_names = [name for name in traj_ls if os.path.isdir(os.path.join(dest_path, name)) and name.isdigit()]\\n\\nfor directory in dir_names[:Number_points]:\\n    idx = int(directory)\\n    traj_dict[idx] = {\\'experiment\\': {\\'pressure\\': picked_pressure[idx-1], \\'loading\\': picked_isotherm[idx-1]}, \\'structure\\': [], \\'refer_energy\\':[], \\'loading\\':[]}\\n    gas_dir = os.path.join(dest_path, directory)\\n    for gas_path in os.listdir(gas_dir)[::10]:\\n        topo, pos, num = simple_merge(\"scaled_frame.pdb\",os.path.join(gas_dir,gas_path))\\n        ener_lj = compute_binding_energy(paramset,topo, pos, lj_gen, numframe=720,cutoff=cutoff)\\n        traj_dict[idx][\\'structure\\'].append([topo, pos])\\n        traj_dict[idx][\\'loading\\'].append(num/scaling_factors[0]/scaling_factors[1]/scaling_factors[2]/3)\\n        traj_dict[idx][\\'refer_energy\\'].append(ener_lj)\\nfor key in traj_dict.keys():\\n    traj_dict[key][\\'refer_energy\\'] = jnp.array(traj_dict[key][\\'refer_energy\\'])\\n    traj_dict[key][\\'loading\\'] = jnp.array(traj_dict[key][\\'loading\\'])\\n    traj_dict[key][\\'estimator\\'] = ReweightEstimator(ref_energies=traj_dict[key][\\'refer_energy\\'], temperature=SET_temperature)\\n'"
      ]
     },
     "execution_count": 10,
     "metadata": {},
     "output_type": "execute_result"
    }
   ],
   "source": [
    "'''\n",
    "traj_dict = {}\n",
    "global Number_points, cutoff\n",
    "traj_ls = os.listdir(dest_path)\n",
    "create_supercell(\"data/MIL-120.pdb\", scaling_factors, \"scaled_frame.pdb\")\n",
    "\n",
    "# Filter out file names and keep only directory names\n",
    "dir_names = [name for name in traj_ls if os.path.isdir(os.path.join(dest_path, name)) and name.isdigit()]\n",
    "\n",
    "for directory in dir_names[:Number_points]:\n",
    "    idx = int(directory)\n",
    "    traj_dict[idx] = {'experiment': {'pressure': picked_pressure[idx-1], 'loading': picked_isotherm[idx-1]}, 'structure': [], 'refer_energy':[], 'loading':[]}\n",
    "    gas_dir = os.path.join(dest_path, directory)\n",
    "    for gas_path in os.listdir(gas_dir)[::10]:\n",
    "        topo, pos, num = simple_merge(\"scaled_frame.pdb\",os.path.join(gas_dir,gas_path))\n",
    "        ener_lj = compute_binding_energy(paramset,topo, pos, lj_gen, numframe=720,cutoff=cutoff)\n",
    "        traj_dict[idx]['structure'].append([topo, pos])\n",
    "        traj_dict[idx]['loading'].append(num/scaling_factors[0]/scaling_factors[1]/scaling_factors[2]/3)\n",
    "        traj_dict[idx]['refer_energy'].append(ener_lj)\n",
    "for key in traj_dict.keys():\n",
    "    traj_dict[key]['refer_energy'] = jnp.array(traj_dict[key]['refer_energy'])\n",
    "    traj_dict[key]['loading'] = jnp.array(traj_dict[key]['loading'])\n",
    "    traj_dict[key]['estimator'] = ReweightEstimator(ref_energies=traj_dict[key]['refer_energy'], temperature=SET_temperature)\n",
    "'''"
   ]
  },
  {
   "cell_type": "code",
   "execution_count": 42,
   "metadata": {},
   "outputs": [],
   "source": [
    "from jax._src.api import clear_backends"
   ]
  },
  {
   "cell_type": "code",
   "execution_count": 33,
   "metadata": {},
   "outputs": [],
   "source": [
    "def analyse_traj(paramset, lj_gen, dest_path = \"./traj1/\", interval=3):\n",
    "    traj_dict = {}\n",
    "    global Number_points, cutoff\n",
    "    traj_ls = os.listdir(dest_path)\n",
    "    create_supercell(\"data/MIL-120.pdb\", scaling_factors, \"scaled_frame.pdb\")\n",
    "\n",
    "    # Filter out file names and keep only directory names\n",
    "    dir_names = [name for name in traj_ls if os.path.isdir(os.path.join(dest_path, name)) and name.isdigit()]\n",
    "\n",
    "    for directory in dir_names[:Number_points]:\n",
    "        idx = int(directory)\n",
    "        traj_dict[idx] = {'experiment': {'pressure': picked_pressure[idx-1], 'loading': picked_isotherm[idx-1]}, 'structure': [], 'refer_energy':[], 'loading':[]}\n",
    "        gas_dir = os.path.join(dest_path, directory)\n",
    "        for gas_path in os.listdir(gas_dir)[::interval]:\n",
    "            topo, pos, num = simple_merge(\"scaled_frame.pdb\",os.path.join(gas_dir,gas_path))\n",
    "            ener_lj = compute_binding_energy(paramset,topo, pos, lj_gen, numframe=720,cutoff=cutoff)\n",
    "            traj_dict[idx]['structure'].append([topo, pos])\n",
    "            traj_dict[idx]['loading'].append(num/scaling_factors[0]/scaling_factors[1]/scaling_factors[2]/3)\n",
    "            traj_dict[idx]['refer_energy'].append(ener_lj)\n",
    "        clear_backends()\n",
    "    for key in traj_dict.keys():\n",
    "        traj_dict[key]['refer_energy'] = jnp.array(traj_dict[key]['refer_energy'])\n",
    "        traj_dict[key]['loading'] = jnp.array(traj_dict[key]['loading'])\n",
    "        traj_dict[key]['estimator'] = ReweightEstimator(ref_energies=traj_dict[key]['refer_energy'], temperature=SET_temperature)\n",
    "    return traj_dict"
   ]
  },
  {
   "cell_type": "code",
   "execution_count": 12,
   "metadata": {},
   "outputs": [],
   "source": [
    "import subprocess\n",
    "def sample():\n",
    "    command = [\"/home/yutao/project/aiida/applications/sample_long.sh\"]\n",
    "    # Run the script using subprocess\n",
    "    completed_process = subprocess.run(command, capture_output=True, cwd=\"/home/yutao/project/aiida/applications\",text=True)\n",
    "\n",
    "    # Check the return code\n",
    "    if completed_process.returncode == 0:\n",
    "        # The script finished successfully\n",
    "        display(\"Script finished successfully!\")\n",
    "        # Display the output in the notebook\n",
    "        display(\"Script output:\")\n",
    "        display(completed_process.stdout)\n",
    "        # Continue with your program logic here\n",
    "    else:\n",
    "        # The script encountered an error\n",
    "        display(\"Script encountered an error:\", completed_process.stderr)\n",
    "        # Handle the error or exit the program"
   ]
  },
  {
   "cell_type": "code",
   "execution_count": 13,
   "metadata": {},
   "outputs": [],
   "source": [
    "import optax\n",
    "optimizer = optax.adam(0.005)\n",
    "opt_state = optimizer.init(paramset)"
   ]
  },
  {
   "cell_type": "code",
   "execution_count": 14,
   "metadata": {},
   "outputs": [],
   "source": [
    "import json\n",
    "Transfer_energy_unit = 254.152/2.11525\n",
    "Transfer_length_unit = 10\n",
    "def update_ff(paramset, dest_path='/home/yutao/project/aiida/applications/ff_2.json'):\n",
    "    global Transfer_energy_unit, Transfer_length_unit\n",
    "    element_list = ['Al_', 'C_', 'H_', 'O_']\n",
    "    params = paramset.parameters\n",
    "    ff_data = {}\n",
    "    if len(element_list) != params['LennardJonesForce']['sigma'].shape[0]-2:\n",
    "        raise ValueError(\"Length of element list and parameter list does not match\")\n",
    "    sigma_list = params['LennardJonesForce']['sigma'].tolist()\n",
    "    epsilon_list = params['LennardJonesForce']['epsilon'].tolist()\n",
    "    for idx in range(len(element_list)):\n",
    "        ff_data[element_list[idx]] = ['lennard-jones', epsilon_list[idx]*Transfer_energy_unit, sigma_list[idx]*Transfer_length_unit]\n",
    "    with open(dest_path, 'w') as f:\n",
    "        json.dump(ff_data, f, indent=4)"
   ]
  },
  {
   "cell_type": "code",
   "execution_count": null,
   "metadata": {},
   "outputs": [],
   "source": []
  },
  {
   "cell_type": "code",
   "execution_count": 20,
   "metadata": {},
   "outputs": [],
   "source": [
    "from jax._src.api import clear_backends"
   ]
  },
  {
   "cell_type": "code",
   "execution_count": 45,
   "metadata": {},
   "outputs": [
    {
     "name": "stdout",
     "output_type": "stream",
     "text": [
      "This is 1 time\n"
     ]
    },
    {
     "name": "stderr",
     "output_type": "stream",
     "text": [
      "JIT session error: Cannot allocate memory\n"
     ]
    },
    {
     "ename": "XlaRuntimeError",
     "evalue": "INVALID_ARGUMENT: Symbol main.4 not found.",
     "output_type": "error",
     "traceback": [
      "\u001b[0;31m---------------------------------------------------------------------------\u001b[0m",
      "\u001b[0;31mXlaRuntimeError\u001b[0m                           Traceback (most recent call last)",
      "Cell \u001b[0;32mIn[45], line 9\u001b[0m\n\u001b[1;32m      7\u001b[0m     sample()\n\u001b[1;32m      8\u001b[0m move_traj(dest_path\u001b[39m=\u001b[39m\u001b[39m\"\u001b[39m\u001b[39m/home/yutao/project/MIL-120/traj1/\u001b[39m\u001b[39m\"\u001b[39m,picked_pressure\u001b[39m=\u001b[39mpicked_pressure, copy_to_path \u001b[39m=\u001b[39m \u001b[39m\"\u001b[39m\u001b[39m./traj1/\u001b[39m\u001b[39m\"\u001b[39m)\n\u001b[0;32m----> 9\u001b[0m traj_dict \u001b[39m=\u001b[39m analyse_traj(paramset, lj_gen, dest_path\u001b[39m=\u001b[39;49m\u001b[39m\"\u001b[39;49m\u001b[39m./traj1/\u001b[39;49m\u001b[39m\"\u001b[39;49m, interval\u001b[39m=\u001b[39;49m\u001b[39m4\u001b[39;49m)\n\u001b[1;32m     10\u001b[0m \u001b[39mdef\u001b[39;00m \u001b[39mloss\u001b[39m(paramset):\n\u001b[1;32m     11\u001b[0m     errors \u001b[39m=\u001b[39m []\n",
      "Cell \u001b[0;32mIn[33], line 16\u001b[0m, in \u001b[0;36manalyse_traj\u001b[0;34m(paramset, lj_gen, dest_path, interval)\u001b[0m\n\u001b[1;32m     14\u001b[0m \u001b[39mfor\u001b[39;00m gas_path \u001b[39min\u001b[39;00m os\u001b[39m.\u001b[39mlistdir(gas_dir)[::interval]:\n\u001b[1;32m     15\u001b[0m     topo, pos, num \u001b[39m=\u001b[39m simple_merge(\u001b[39m\"\u001b[39m\u001b[39mscaled_frame.pdb\u001b[39m\u001b[39m\"\u001b[39m,os\u001b[39m.\u001b[39mpath\u001b[39m.\u001b[39mjoin(gas_dir,gas_path))\n\u001b[0;32m---> 16\u001b[0m     ener_lj \u001b[39m=\u001b[39m compute_binding_energy(paramset,topo, pos, lj_gen, numframe\u001b[39m=\u001b[39;49m\u001b[39m720\u001b[39;49m,cutoff\u001b[39m=\u001b[39;49mcutoff)\n\u001b[1;32m     17\u001b[0m     traj_dict[idx][\u001b[39m'\u001b[39m\u001b[39mstructure\u001b[39m\u001b[39m'\u001b[39m]\u001b[39m.\u001b[39mappend([topo, pos])\n\u001b[1;32m     18\u001b[0m     traj_dict[idx][\u001b[39m'\u001b[39m\u001b[39mloading\u001b[39m\u001b[39m'\u001b[39m]\u001b[39m.\u001b[39mappend(num\u001b[39m/\u001b[39mscaling_factors[\u001b[39m0\u001b[39m]\u001b[39m/\u001b[39mscaling_factors[\u001b[39m1\u001b[39m]\u001b[39m/\u001b[39mscaling_factors[\u001b[39m2\u001b[39m]\u001b[39m/\u001b[39m\u001b[39m3\u001b[39m)\n",
      "Cell \u001b[0;32mIn[8], line 22\u001b[0m, in \u001b[0;36mcompute_binding_energy\u001b[0;34m(paramset, topo, pos, lj_gen, numframe, cutoff)\u001b[0m\n\u001b[1;32m     20\u001b[0m nblist\u001b[39m.\u001b[39mallocate(pos_jnp, cell_jnp)\n\u001b[1;32m     21\u001b[0m pairs \u001b[39m=\u001b[39m jnp\u001b[39m.\u001b[39marray(nblist\u001b[39m.\u001b[39mpairs)\n\u001b[0;32m---> 22\u001b[0m ener \u001b[39m=\u001b[39m lj_force(pos_jnp,cell_jnp, pairs, paramset)\n\u001b[1;32m     23\u001b[0m \u001b[39mreturn\u001b[39;00m ener\n",
      "File \u001b[0;32m~/project/github/DMFF/dmff/generators/classical.py:1383\u001b[0m, in \u001b[0;36mLennardJonesGenerator.createPotential.<locals>.potential_fn\u001b[0;34m(positions, box, pairs, params, aux)\u001b[0m\n\u001b[1;32m   1376\u001b[0m \u001b[39mdef\u001b[39;00m \u001b[39mpotential_fn\u001b[39m(positions, box, pairs, params, aux\u001b[39m=\u001b[39m\u001b[39mNone\u001b[39;00m):\n\u001b[1;32m   1377\u001b[0m \n\u001b[1;32m   1378\u001b[0m     \u001b[39m# check whether args passed into potential_fn are jnp.array and differentiable\u001b[39;00m\n\u001b[1;32m   1379\u001b[0m     \u001b[39m# note this check will be optimized away by jit\u001b[39;00m\n\u001b[1;32m   1380\u001b[0m     \u001b[39m# it is jit-compatiable\u001b[39;00m\n\u001b[1;32m   1381\u001b[0m     isinstance_jnp(positions, box, params)\n\u001b[0;32m-> 1383\u001b[0m     ljE \u001b[39m=\u001b[39m ljenergy(positions, box, pairs,\n\u001b[1;32m   1384\u001b[0m                    params[\u001b[39mself\u001b[39;49m\u001b[39m.\u001b[39;49mname][\u001b[39m\"\u001b[39;49m\u001b[39mepsilon\u001b[39;49m\u001b[39m\"\u001b[39;49m],\n\u001b[1;32m   1385\u001b[0m                    params[\u001b[39mself\u001b[39;49m\u001b[39m.\u001b[39;49mname][\u001b[39m\"\u001b[39;49m\u001b[39msigma\u001b[39;49m\u001b[39m\"\u001b[39;49m],\n\u001b[1;32m   1386\u001b[0m                    params[\u001b[39mself\u001b[39;49m\u001b[39m.\u001b[39;49mname][\u001b[39m\"\u001b[39;49m\u001b[39mepsilon_nbfix\u001b[39;49m\u001b[39m\"\u001b[39;49m],\n\u001b[1;32m   1387\u001b[0m                    params[\u001b[39mself\u001b[39;49m\u001b[39m.\u001b[39;49mname][\u001b[39m\"\u001b[39;49m\u001b[39msigma_nbfix\u001b[39;49m\u001b[39m\"\u001b[39;49m],\n\u001b[1;32m   1388\u001b[0m                    mscales_lj)\n\u001b[1;32m   1390\u001b[0m     \u001b[39mif\u001b[39;00m has_aux:\n\u001b[1;32m   1391\u001b[0m         \u001b[39mreturn\u001b[39;00m ljE, aux\n",
      "File \u001b[0;32m~/project/github/DMFF/dmff/classical/inter.py:64\u001b[0m, in \u001b[0;36mLennardJonesForce.generate_get_energy.<locals>.get_energy\u001b[0;34m(positions, box, pairs, epsilon, sigma, epsfix, sigfix, mscales, aux)\u001b[0m\n\u001b[1;32m     62\u001b[0m eps_m1 \u001b[39m=\u001b[39m jnp\u001b[39m.\u001b[39mrepeat(epsilon\u001b[39m.\u001b[39mreshape((\u001b[39m-\u001b[39m\u001b[39m1\u001b[39m, \u001b[39m1\u001b[39m)), epsilon\u001b[39m.\u001b[39mshape[\u001b[39m0\u001b[39m], axis\u001b[39m=\u001b[39m\u001b[39m1\u001b[39m)\n\u001b[1;32m     63\u001b[0m eps_m2 \u001b[39m=\u001b[39m eps_m1\u001b[39m.\u001b[39mT\n\u001b[0;32m---> 64\u001b[0m eps_mat \u001b[39m=\u001b[39m jnp\u001b[39m.\u001b[39msqrt(eps_m1 \u001b[39m*\u001b[39;49m eps_m2 \u001b[39m+\u001b[39m \u001b[39m1e-32\u001b[39m)\n\u001b[1;32m     65\u001b[0m sig_m1 \u001b[39m=\u001b[39m jnp\u001b[39m.\u001b[39mrepeat(sigma\u001b[39m.\u001b[39mreshape((\u001b[39m-\u001b[39m\u001b[39m1\u001b[39m, \u001b[39m1\u001b[39m)), sigma\u001b[39m.\u001b[39mshape[\u001b[39m0\u001b[39m], axis\u001b[39m=\u001b[39m\u001b[39m1\u001b[39m)\n\u001b[1;32m     66\u001b[0m sig_m2 \u001b[39m=\u001b[39m sig_m1\u001b[39m.\u001b[39mT\n",
      "File \u001b[0;32m~/anaconda3/envs/dmff/lib/python3.11/site-packages/jax/_src/numpy/array_methods.py:271\u001b[0m, in \u001b[0;36m_defer_to_unrecognized_arg.<locals>.deferring_binary_op\u001b[0;34m(self, other)\u001b[0m\n\u001b[1;32m    269\u001b[0m args \u001b[39m=\u001b[39m (other, \u001b[39mself\u001b[39m) \u001b[39mif\u001b[39;00m swap \u001b[39melse\u001b[39;00m (\u001b[39mself\u001b[39m, other)\n\u001b[1;32m    270\u001b[0m \u001b[39mif\u001b[39;00m \u001b[39misinstance\u001b[39m(other, _accepted_binop_types):\n\u001b[0;32m--> 271\u001b[0m   \u001b[39mreturn\u001b[39;00m binary_op(\u001b[39m*\u001b[39;49margs)\n\u001b[1;32m    272\u001b[0m \u001b[39m# Note: don't use isinstance here, because we don't want to raise for\u001b[39;00m\n\u001b[1;32m    273\u001b[0m \u001b[39m# subclasses, e.g. NamedTuple objects that may override operators.\u001b[39;00m\n\u001b[1;32m    274\u001b[0m \u001b[39mif\u001b[39;00m \u001b[39mtype\u001b[39m(other) \u001b[39min\u001b[39;00m _rejected_binop_types:\n",
      "    \u001b[0;31m[... skipping hidden 14 frame]\u001b[0m\n",
      "File \u001b[0;32m~/anaconda3/envs/dmff/lib/python3.11/site-packages/jax/_src/compiler.py:256\u001b[0m, in \u001b[0;36mbackend_compile\u001b[0;34m(backend, module, options, host_callbacks)\u001b[0m\n\u001b[1;32m    251\u001b[0m   \u001b[39mreturn\u001b[39;00m backend\u001b[39m.\u001b[39mcompile(built_c, compile_options\u001b[39m=\u001b[39moptions,\n\u001b[1;32m    252\u001b[0m                          host_callbacks\u001b[39m=\u001b[39mhost_callbacks)\n\u001b[1;32m    253\u001b[0m \u001b[39m# Some backends don't have `host_callbacks` option yet\u001b[39;00m\n\u001b[1;32m    254\u001b[0m \u001b[39m# TODO(sharadmv): remove this fallback when all backends allow `compile`\u001b[39;00m\n\u001b[1;32m    255\u001b[0m \u001b[39m# to take in `host_callbacks`\u001b[39;00m\n\u001b[0;32m--> 256\u001b[0m \u001b[39mreturn\u001b[39;00m backend\u001b[39m.\u001b[39;49mcompile(built_c, compile_options\u001b[39m=\u001b[39;49moptions)\n",
      "\u001b[0;31mXlaRuntimeError\u001b[0m: INVALID_ARGUMENT: Symbol main.4 not found."
     ]
    }
   ],
   "source": [
    "\n",
    "loss_ls = []\n",
    "os.system(\"cp /home/yutao/project/aiida/applications/UFF.json /home/yutao/project/aiida/applications/ff_2.json\")\n",
    "\n",
    "for nloop in range(1,80):\n",
    "    print(f\"This is {nloop} time\")\n",
    "    if nloop % 5 == 0:\n",
    "        sample()\n",
    "    move_traj(dest_path=\"/home/yutao/project/MIL-120/traj1/\",picked_pressure=picked_pressure, copy_to_path = \"./traj1/\")\n",
    "    traj_dict = analyse_traj(paramset, lj_gen, dest_path=\"./traj1/\", interval=4)\n",
    "    def loss(paramset):\n",
    "        errors = []\n",
    "        for idx in range(1, Number_points+1):\n",
    "            energies = []\n",
    "            for jdx in range(len(traj_dict[idx]['structure'])):\n",
    "                ener = compute_binding_energy(paramset, traj_dict[idx]['structure'][jdx][0], traj_dict[idx]['structure'][jdx][1], lj_gen, numframe=720,cutoff=cutoff)\n",
    "                energies.append(ener.reshape((1,)))\n",
    "            energies = jnp.concatenate(energies)\n",
    "            weight = traj_dict[idx]['estimator'].estimate_weight(energies)\n",
    "            reweight_loading = traj_dict[idx]['loading'] * weight\n",
    "            error = jnp.power(jnp.average(reweight_loading)-traj_dict[idx]['experiment']['loading'],2)\n",
    "            errors.append(error.reshape((1,)))\n",
    "            #print(error)\n",
    "        errors = jnp.concatenate(errors)\n",
    "        return jnp.sum(errors)\n",
    "\n",
    "    v_and_g = jax.value_and_grad(loss, 0)\n",
    "    v, g = v_and_g(paramset)\n",
    "    loss_ls.append(v)\n",
    "    \n",
    "    updates, opt_state = optimizer.update(g, opt_state)\n",
    "    updates.parameters = update_mask(updates.parameters,paramset.mask)\n",
    "    paramset = optax.apply_updates(paramset, updates)\n",
    "    paramset = jax.tree_map(lambda x: jnp.clip(x, 0.0, 1e8), paramset)\n",
    "    update_ff(paramset, dest_path='/home/yutao/project/aiida/applications/ff_2.json')\n",
    "    lj_gen.overwrite(paramset)\n",
    "    clear_backends()\n"
   ]
  },
  {
   "cell_type": "code",
   "execution_count": null,
   "metadata": {},
   "outputs": [],
   "source": [
    "v, g = v_and_g(paramset)"
   ]
  },
  {
   "cell_type": "code",
   "execution_count": 26,
   "metadata": {},
   "outputs": [
    {
     "data": {
      "text/plain": [
       "array([[0., 0., 0., ..., 0., 0., 0.],\n",
       "       [0., 0., 0., ..., 0., 0., 0.],\n",
       "       [0., 0., 0., ..., 0., 0., 0.],\n",
       "       ...,\n",
       "       [0., 0., 0., ..., 0., 0., 0.],\n",
       "       [0., 0., 0., ..., 0., 0., 0.],\n",
       "       [0., 0., 0., ..., 0., 0., 0.]])"
      ]
     },
     "execution_count": 26,
     "metadata": {},
     "output_type": "execute_result"
    }
   ],
   "source": [
    "np.zeros((800,800))"
   ]
  },
  {
   "cell_type": "code",
   "execution_count": 41,
   "metadata": {},
   "outputs": [],
   "source": [
    "clear_backends()"
   ]
  },
  {
   "cell_type": "code",
   "execution_count": null,
   "metadata": {},
   "outputs": [],
   "source": []
  },
  {
   "cell_type": "code",
   "execution_count": 40,
   "metadata": {},
   "outputs": [
    {
     "data": {
      "text/plain": [
       "1"
      ]
     },
     "execution_count": 40,
     "metadata": {},
     "output_type": "execute_result"
    }
   ],
   "source": [
    "for nloop in range(1,80):\n",
    "    print(f\"This is {nloop} time\")\n",
    "    if nloop % 5 == 0:\n",
    "        sample()\n",
    "    move_traj(dest_path=\"/home/yutao/project/MIL-120/traj1/\",picked_pressure=picked_pressure, copy_to_path = \"./traj1/\")\n",
    "    traj_dict = analyse_traj(paramset, lj_gen, dest_path=\"./traj1/\", interval=10)\n",
    "    def loss(paramset):\n",
    "        errors = []\n",
    "        for idx in range(1, Number_points+1):\n",
    "            energies = []\n",
    "            for jdx in range(len(traj_dict[idx]['structure'])):\n",
    "                ener = compute_binding_energy(paramset, traj_dict[idx]['structure'][jdx][0], traj_dict[idx]['structure'][jdx][1], lj_gen, numframe=720,cutoff=cutoff)\n",
    "                energies.append(ener.reshape((1,)))\n",
    "            energies = jnp.concatenate(energies)\n",
    "            weight = traj_dict[idx]['estimator'].estimate_weight(energies)\n",
    "            reweight_loading = traj_dict[idx]['loading'] * weight\n",
    "            error = jnp.power(jnp.average(reweight_loading)-traj_dict[idx]['experiment']['loading'],2)\n",
    "            errors.append(error.reshape((1,)))\n",
    "            #print(error)\n",
    "        errors = jnp.concatenate(errors)\n",
    "        return jnp.sum(errors)\n",
    "\n",
    "    v_and_g = jax.value_and_grad(loss, 0)\n",
    "    v, g = v_and_g(paramset)\n",
    "    loss_ls.append(v)\n",
    "    \n",
    "    updates, opt_state = optimizer.update(g, opt_state)\n",
    "    updates.parameters = update_mask(updates.parameters,paramset.mask)\n",
    "    paramset = optax.apply_updates(paramset, updates)\n",
    "    paramset = jax.tree_map(lambda x: jnp.clip(x, 0.0, 1e8), paramset)\n",
    "    update_ff(paramset, dest_path='/home/yutao/project/aiida/applications/ff_2.json')\n",
    "    lj_gen.overwrite(paramset)\n",
    "    "
   ]
  },
  {
   "cell_type": "code",
   "execution_count": 29,
   "metadata": {},
   "outputs": [],
   "source": [
    "clear_backends()"
   ]
  },
  {
   "cell_type": "code",
   "execution_count": 34,
   "metadata": {},
   "outputs": [
    {
     "name": "stdout",
     "output_type": "stream",
     "text": [
      "25\n",
      "25\n",
      "25\n",
      "25\n",
      "25\n",
      "25\n"
     ]
    },
    {
     "ename": "KeyboardInterrupt",
     "evalue": "",
     "output_type": "error",
     "traceback": [
      "\u001b[0;31m---------------------------------------------------------------------------\u001b[0m",
      "\u001b[0;31mKeyboardInterrupt\u001b[0m                         Traceback (most recent call last)",
      "Cell \u001b[0;32mIn[34], line 2\u001b[0m\n\u001b[1;32m      1\u001b[0m \u001b[39mfor\u001b[39;00m i \u001b[39min\u001b[39;00m \u001b[39mrange\u001b[39m(\u001b[39m80\u001b[39m):\n\u001b[0;32m----> 2\u001b[0m     traj_dict \u001b[39m=\u001b[39m analyse_traj(paramset, lj_gen, dest_path\u001b[39m=\u001b[39;49m\u001b[39m\"\u001b[39;49m\u001b[39m./traj1/\u001b[39;49m\u001b[39m\"\u001b[39;49m, interval\u001b[39m=\u001b[39;49m\u001b[39m10\u001b[39;49m)\n\u001b[1;32m      3\u001b[0m     \u001b[39mprint\u001b[39m(\u001b[39mlen\u001b[39m(traj_dict[\u001b[39m1\u001b[39m][\u001b[39m'\u001b[39m\u001b[39mstructure\u001b[39m\u001b[39m'\u001b[39m]))\n",
      "Cell \u001b[0;32mIn[33], line 16\u001b[0m, in \u001b[0;36manalyse_traj\u001b[0;34m(paramset, lj_gen, dest_path, interval)\u001b[0m\n\u001b[1;32m     14\u001b[0m \u001b[39mfor\u001b[39;00m gas_path \u001b[39min\u001b[39;00m os\u001b[39m.\u001b[39mlistdir(gas_dir)[::interval]:\n\u001b[1;32m     15\u001b[0m     topo, pos, num \u001b[39m=\u001b[39m simple_merge(\u001b[39m\"\u001b[39m\u001b[39mscaled_frame.pdb\u001b[39m\u001b[39m\"\u001b[39m,os\u001b[39m.\u001b[39mpath\u001b[39m.\u001b[39mjoin(gas_dir,gas_path))\n\u001b[0;32m---> 16\u001b[0m     ener_lj \u001b[39m=\u001b[39m compute_binding_energy(paramset,topo, pos, lj_gen, numframe\u001b[39m=\u001b[39;49m\u001b[39m720\u001b[39;49m,cutoff\u001b[39m=\u001b[39;49mcutoff)\n\u001b[1;32m     17\u001b[0m     traj_dict[idx][\u001b[39m'\u001b[39m\u001b[39mstructure\u001b[39m\u001b[39m'\u001b[39m]\u001b[39m.\u001b[39mappend([topo, pos])\n\u001b[1;32m     18\u001b[0m     traj_dict[idx][\u001b[39m'\u001b[39m\u001b[39mloading\u001b[39m\u001b[39m'\u001b[39m]\u001b[39m.\u001b[39mappend(num\u001b[39m/\u001b[39mscaling_factors[\u001b[39m0\u001b[39m]\u001b[39m/\u001b[39mscaling_factors[\u001b[39m1\u001b[39m]\u001b[39m/\u001b[39mscaling_factors[\u001b[39m2\u001b[39m]\u001b[39m/\u001b[39m\u001b[39m3\u001b[39m)\n",
      "Cell \u001b[0;32mIn[8], line 2\u001b[0m, in \u001b[0;36mcompute_binding_energy\u001b[0;34m(paramset, topo, pos, lj_gen, numframe, cutoff)\u001b[0m\n\u001b[1;32m      1\u001b[0m \u001b[39mdef\u001b[39;00m \u001b[39mcompute_binding_energy\u001b[39m(paramset,topo, pos, lj_gen, numframe\u001b[39m=\u001b[39m\u001b[39m720\u001b[39m,cutoff\u001b[39m=\u001b[39mcutoff):\n\u001b[0;32m----> 2\u001b[0m     topodata \u001b[39m=\u001b[39m dmff\u001b[39m.\u001b[39;49mDMFFTopology(topo)\n\u001b[1;32m      3\u001b[0m     \u001b[39m# Because dmfftopology does not provide a good entry for open.topology object generated by pdb file, I had to suplement something\u001b[39;00m\n\u001b[1;32m      4\u001b[0m     \u001b[39mfor\u001b[39;00m atom \u001b[39min\u001b[39;00m topodata\u001b[39m.\u001b[39matoms():\n",
      "File \u001b[0;32m~/project/github/DMFF/dmff/api/topology.py:54\u001b[0m, in \u001b[0;36mDMFFTopology.__init__\u001b[0;34m(self, from_top, from_sdf, from_rdmol, residue_name)\u001b[0m\n\u001b[1;32m     51\u001b[0m \u001b[39mself\u001b[39m\u001b[39m.\u001b[39m_meta \u001b[39m=\u001b[39m {}\n\u001b[1;32m     53\u001b[0m \u001b[39mif\u001b[39;00m from_top \u001b[39mis\u001b[39;00m \u001b[39mnot\u001b[39;00m \u001b[39mNone\u001b[39;00m:\n\u001b[0;32m---> 54\u001b[0m     \u001b[39mself\u001b[39;49m\u001b[39m.\u001b[39;49m_load_omm_top(from_top)\n\u001b[1;32m     56\u001b[0m \u001b[39melif\u001b[39;00m from_sdf \u001b[39mis\u001b[39;00m \u001b[39mnot\u001b[39;00m \u001b[39mNone\u001b[39;00m:\n\u001b[1;32m     57\u001b[0m     \u001b[39mself\u001b[39m\u001b[39m.\u001b[39m_load_sdf(from_sdf, residue_name)\n",
      "File \u001b[0;32m~/project/github/DMFF/dmff/api/topology.py:147\u001b[0m, in \u001b[0;36mDMFFTopology._load_omm_top\u001b[0;34m(self, top)\u001b[0m\n\u001b[1;32m    144\u001b[0m     a1, a2, order \u001b[39m=\u001b[39m bond\u001b[39m.\u001b[39matom1, bond\u001b[39m.\u001b[39matom2, bond\u001b[39m.\u001b[39morder\n\u001b[1;32m    145\u001b[0m     \u001b[39mself\u001b[39m\u001b[39m.\u001b[39maddBond(atoms[a1\u001b[39m.\u001b[39mindex], atoms[a2\u001b[39m.\u001b[39mindex], order)\n\u001b[0;32m--> 147\u001b[0m \u001b[39mself\u001b[39;49m\u001b[39m.\u001b[39;49mupdateMolecules(sanitize\u001b[39m=\u001b[39;49m\u001b[39mFalse\u001b[39;49;00m)\n\u001b[1;32m    149\u001b[0m cell_omm \u001b[39m=\u001b[39m top\u001b[39m.\u001b[39mgetPeriodicBoxVectors()\n\u001b[1;32m    150\u001b[0m \u001b[39mif\u001b[39;00m cell_omm \u001b[39mis\u001b[39;00m \u001b[39mnot\u001b[39;00m \u001b[39mNone\u001b[39;00m:\n",
      "File \u001b[0;32m~/project/github/DMFF/dmff/api/topology.py:222\u001b[0m, in \u001b[0;36mDMFFTopology.updateMolecules\u001b[0;34m(self, sanitize)\u001b[0m\n\u001b[1;32m    220\u001b[0m \u001b[39mfor\u001b[39;00m ind \u001b[39min\u001b[39;00m decomp_indices:\n\u001b[1;32m    221\u001b[0m     resname \u001b[39m=\u001b[39m atoms[ind[\u001b[39m0\u001b[39m]]\u001b[39m.\u001b[39mresidue\u001b[39m.\u001b[39mname\n\u001b[0;32m--> 222\u001b[0m     \u001b[39mself\u001b[39m\u001b[39m.\u001b[39m_molecules\u001b[39m.\u001b[39mappend(top2rdmol(\u001b[39mself\u001b[39;49m, ind))\n\u001b[1;32m    223\u001b[0m     \u001b[39mif\u001b[39;00m sanitize \u001b[39mand\u001b[39;00m resname \u001b[39mnot\u001b[39;00m \u001b[39min\u001b[39;00m _standardResidues:\n\u001b[1;32m    224\u001b[0m         \u001b[39mtry\u001b[39;00m:\n",
      "File \u001b[0;32m~/project/github/DMFF/dmff/api/topology.py:685\u001b[0m, in \u001b[0;36mtop2rdmol\u001b[0;34m(top, indices)\u001b[0m\n\u001b[1;32m    684\u001b[0m \u001b[39mdef\u001b[39;00m \u001b[39mtop2rdmol\u001b[39m(top, indices):\n\u001b[0;32m--> 685\u001b[0m     rdmol \u001b[39m=\u001b[39m Chem\u001b[39m.\u001b[39;49mMol()\n\u001b[1;32m    686\u001b[0m     emol \u001b[39m=\u001b[39m Chem\u001b[39m.\u001b[39mEditableMol(rdmol)\n\u001b[1;32m    687\u001b[0m     idx2ridx \u001b[39m=\u001b[39m {}\n",
      "\u001b[0;31mKeyboardInterrupt\u001b[0m: "
     ]
    }
   ],
   "source": [
    "for i in range(80):\n",
    "    traj_dict = analyse_traj(paramset, lj_gen, dest_path=\"./traj1/\", interval=10)\n",
    "    print(len(traj_dict[1]['structure']))"
   ]
  },
  {
   "cell_type": "code",
   "execution_count": 38,
   "metadata": {},
   "outputs": [],
   "source": [
    "clear_backends()"
   ]
  },
  {
   "cell_type": "code",
   "execution_count": 39,
   "metadata": {},
   "outputs": [
    {
     "name": "stderr",
     "output_type": "stream",
     "text": [
      "JIT session error: Cannot allocate memory\n"
     ]
    },
    {
     "ename": "XlaRuntimeError",
     "evalue": "INVALID_ARGUMENT: Symbol main.4 not found.",
     "output_type": "error",
     "traceback": [
      "\u001b[0;31m---------------------------------------------------------------------------\u001b[0m",
      "\u001b[0;31mJaxStackTraceBeforeTransformation\u001b[0m         Traceback (most recent call last)",
      "File \u001b[0;32m<frozen runpy>:198\u001b[0m, in \u001b[0;36m_run_module_as_main\u001b[0;34m()\u001b[0m\n",
      "File \u001b[0;32m<frozen runpy>:88\u001b[0m, in \u001b[0;36m_run_code\u001b[0;34m()\u001b[0m\n",
      "File \u001b[0;32m~/anaconda3/envs/dmff/lib/python3.11/site-packages/ipykernel_launcher.py:17\u001b[0m\n\u001b[1;32m     15\u001b[0m \u001b[39mfrom\u001b[39;00m \u001b[39mipykernel\u001b[39;00m \u001b[39mimport\u001b[39;00m kernelapp \u001b[39mas\u001b[39;00m app\n\u001b[0;32m---> 17\u001b[0m app\u001b[39m.\u001b[39mlaunch_new_instance()\n",
      "File \u001b[0;32m~/anaconda3/envs/dmff/lib/python3.11/site-packages/traitlets/config/application.py:1053\u001b[0m, in \u001b[0;36mlaunch_instance\u001b[0;34m()\u001b[0m\n\u001b[1;32m   1052\u001b[0m app\u001b[39m.\u001b[39minitialize(argv)\n\u001b[0;32m-> 1053\u001b[0m app\u001b[39m.\u001b[39mstart()\n",
      "File \u001b[0;32m~/anaconda3/envs/dmff/lib/python3.11/site-packages/ipykernel/kernelapp.py:737\u001b[0m, in \u001b[0;36mstart\u001b[0;34m()\u001b[0m\n\u001b[1;32m    736\u001b[0m \u001b[39mtry\u001b[39;00m:\n\u001b[0;32m--> 737\u001b[0m     \u001b[39mself\u001b[39m\u001b[39m.\u001b[39mio_loop\u001b[39m.\u001b[39mstart()\n\u001b[1;32m    738\u001b[0m \u001b[39mexcept\u001b[39;00m \u001b[39mKeyboardInterrupt\u001b[39;00m:\n",
      "File \u001b[0;32m~/anaconda3/envs/dmff/lib/python3.11/site-packages/tornado/platform/asyncio.py:195\u001b[0m, in \u001b[0;36mstart\u001b[0;34m()\u001b[0m\n\u001b[1;32m    194\u001b[0m \u001b[39mdef\u001b[39;00m \u001b[39mstart\u001b[39m(\u001b[39mself\u001b[39m) \u001b[39m-\u001b[39m\u001b[39m>\u001b[39m \u001b[39mNone\u001b[39;00m:\n\u001b[0;32m--> 195\u001b[0m     \u001b[39mself\u001b[39m\u001b[39m.\u001b[39masyncio_loop\u001b[39m.\u001b[39mrun_forever()\n",
      "File \u001b[0;32m~/anaconda3/envs/dmff/lib/python3.11/asyncio/base_events.py:607\u001b[0m, in \u001b[0;36mrun_forever\u001b[0;34m()\u001b[0m\n\u001b[1;32m    606\u001b[0m \u001b[39mwhile\u001b[39;00m \u001b[39mTrue\u001b[39;00m:\n\u001b[0;32m--> 607\u001b[0m     \u001b[39mself\u001b[39m\u001b[39m.\u001b[39m_run_once()\n\u001b[1;32m    608\u001b[0m     \u001b[39mif\u001b[39;00m \u001b[39mself\u001b[39m\u001b[39m.\u001b[39m_stopping:\n",
      "File \u001b[0;32m~/anaconda3/envs/dmff/lib/python3.11/asyncio/base_events.py:1922\u001b[0m, in \u001b[0;36m_run_once\u001b[0;34m()\u001b[0m\n\u001b[1;32m   1921\u001b[0m     \u001b[39melse\u001b[39;00m:\n\u001b[0;32m-> 1922\u001b[0m         handle\u001b[39m.\u001b[39m_run()\n\u001b[1;32m   1923\u001b[0m handle \u001b[39m=\u001b[39m \u001b[39mNone\u001b[39;00m\n",
      "File \u001b[0;32m~/anaconda3/envs/dmff/lib/python3.11/asyncio/events.py:80\u001b[0m, in \u001b[0;36m_run\u001b[0;34m()\u001b[0m\n\u001b[1;32m     79\u001b[0m \u001b[39mtry\u001b[39;00m:\n\u001b[0;32m---> 80\u001b[0m     \u001b[39mself\u001b[39m\u001b[39m.\u001b[39m_context\u001b[39m.\u001b[39mrun(\u001b[39mself\u001b[39m\u001b[39m.\u001b[39m_callback, \u001b[39m*\u001b[39m\u001b[39mself\u001b[39m\u001b[39m.\u001b[39m_args)\n\u001b[1;32m     81\u001b[0m \u001b[39mexcept\u001b[39;00m (\u001b[39mSystemExit\u001b[39;00m, \u001b[39mKeyboardInterrupt\u001b[39;00m):\n",
      "File \u001b[0;32m~/anaconda3/envs/dmff/lib/python3.11/site-packages/ipykernel/kernelbase.py:524\u001b[0m, in \u001b[0;36mdispatch_queue\u001b[0;34m()\u001b[0m\n\u001b[1;32m    523\u001b[0m \u001b[39mtry\u001b[39;00m:\n\u001b[0;32m--> 524\u001b[0m     \u001b[39mawait\u001b[39;00m \u001b[39mself\u001b[39m\u001b[39m.\u001b[39mprocess_one()\n\u001b[1;32m    525\u001b[0m \u001b[39mexcept\u001b[39;00m \u001b[39mException\u001b[39;00m:\n",
      "File \u001b[0;32m~/anaconda3/envs/dmff/lib/python3.11/site-packages/ipykernel/kernelbase.py:513\u001b[0m, in \u001b[0;36mprocess_one\u001b[0;34m()\u001b[0m\n\u001b[1;32m    512\u001b[0m         \u001b[39mreturn\u001b[39;00m \u001b[39mNone\u001b[39;00m\n\u001b[0;32m--> 513\u001b[0m \u001b[39mawait\u001b[39;00m dispatch(\u001b[39m*\u001b[39margs)\n",
      "File \u001b[0;32m~/anaconda3/envs/dmff/lib/python3.11/site-packages/ipykernel/kernelbase.py:418\u001b[0m, in \u001b[0;36mdispatch_shell\u001b[0;34m()\u001b[0m\n\u001b[1;32m    417\u001b[0m     \u001b[39mif\u001b[39;00m inspect\u001b[39m.\u001b[39misawaitable(result):\n\u001b[0;32m--> 418\u001b[0m         \u001b[39mawait\u001b[39;00m result\n\u001b[1;32m    419\u001b[0m \u001b[39mexcept\u001b[39;00m \u001b[39mException\u001b[39;00m:\n",
      "File \u001b[0;32m~/anaconda3/envs/dmff/lib/python3.11/site-packages/ipykernel/kernelbase.py:758\u001b[0m, in \u001b[0;36mexecute_request\u001b[0;34m()\u001b[0m\n\u001b[1;32m    757\u001b[0m \u001b[39mif\u001b[39;00m inspect\u001b[39m.\u001b[39misawaitable(reply_content):\n\u001b[0;32m--> 758\u001b[0m     reply_content \u001b[39m=\u001b[39m \u001b[39mawait\u001b[39;00m reply_content\n\u001b[1;32m    760\u001b[0m \u001b[39m# Flush output before sending the reply.\u001b[39;00m\n",
      "File \u001b[0;32m~/anaconda3/envs/dmff/lib/python3.11/site-packages/ipykernel/ipkernel.py:426\u001b[0m, in \u001b[0;36mdo_execute\u001b[0;34m()\u001b[0m\n\u001b[1;32m    425\u001b[0m \u001b[39mif\u001b[39;00m with_cell_id:\n\u001b[0;32m--> 426\u001b[0m     res \u001b[39m=\u001b[39m shell\u001b[39m.\u001b[39mrun_cell(\n\u001b[1;32m    427\u001b[0m         code,\n\u001b[1;32m    428\u001b[0m         store_history\u001b[39m=\u001b[39mstore_history,\n\u001b[1;32m    429\u001b[0m         silent\u001b[39m=\u001b[39msilent,\n\u001b[1;32m    430\u001b[0m         cell_id\u001b[39m=\u001b[39mcell_id,\n\u001b[1;32m    431\u001b[0m     )\n\u001b[1;32m    432\u001b[0m \u001b[39melse\u001b[39;00m:\n",
      "File \u001b[0;32m~/anaconda3/envs/dmff/lib/python3.11/site-packages/ipykernel/zmqshell.py:549\u001b[0m, in \u001b[0;36mrun_cell\u001b[0;34m()\u001b[0m\n\u001b[1;32m    548\u001b[0m \u001b[39mself\u001b[39m\u001b[39m.\u001b[39m_last_traceback \u001b[39m=\u001b[39m \u001b[39mNone\u001b[39;00m\n\u001b[0;32m--> 549\u001b[0m \u001b[39mreturn\u001b[39;00m \u001b[39msuper\u001b[39m()\u001b[39m.\u001b[39mrun_cell(\u001b[39m*\u001b[39margs, \u001b[39m*\u001b[39m\u001b[39m*\u001b[39mkwargs)\n",
      "File \u001b[0;32m~/anaconda3/envs/dmff/lib/python3.11/site-packages/IPython/core/interactiveshell.py:3046\u001b[0m, in \u001b[0;36mrun_cell\u001b[0;34m()\u001b[0m\n\u001b[1;32m   3045\u001b[0m \u001b[39mtry\u001b[39;00m:\n\u001b[0;32m-> 3046\u001b[0m     result \u001b[39m=\u001b[39m \u001b[39mself\u001b[39m\u001b[39m.\u001b[39m_run_cell(\n\u001b[1;32m   3047\u001b[0m         raw_cell, store_history, silent, shell_futures, cell_id\n\u001b[1;32m   3048\u001b[0m     )\n\u001b[1;32m   3049\u001b[0m \u001b[39mfinally\u001b[39;00m:\n",
      "File \u001b[0;32m~/anaconda3/envs/dmff/lib/python3.11/site-packages/IPython/core/interactiveshell.py:3101\u001b[0m, in \u001b[0;36m_run_cell\u001b[0;34m()\u001b[0m\n\u001b[1;32m   3100\u001b[0m \u001b[39mtry\u001b[39;00m:\n\u001b[0;32m-> 3101\u001b[0m     result \u001b[39m=\u001b[39m runner(coro)\n\u001b[1;32m   3102\u001b[0m \u001b[39mexcept\u001b[39;00m \u001b[39mBaseException\u001b[39;00m \u001b[39mas\u001b[39;00m e:\n",
      "File \u001b[0;32m~/anaconda3/envs/dmff/lib/python3.11/site-packages/IPython/core/async_helpers.py:129\u001b[0m, in \u001b[0;36m_pseudo_sync_runner\u001b[0;34m()\u001b[0m\n\u001b[1;32m    128\u001b[0m \u001b[39mtry\u001b[39;00m:\n\u001b[0;32m--> 129\u001b[0m     coro\u001b[39m.\u001b[39msend(\u001b[39mNone\u001b[39;00m)\n\u001b[1;32m    130\u001b[0m \u001b[39mexcept\u001b[39;00m \u001b[39mStopIteration\u001b[39;00m \u001b[39mas\u001b[39;00m exc:\n",
      "File \u001b[0;32m~/anaconda3/envs/dmff/lib/python3.11/site-packages/IPython/core/interactiveshell.py:3306\u001b[0m, in \u001b[0;36mrun_cell_async\u001b[0;34m()\u001b[0m\n\u001b[1;32m   3303\u001b[0m interactivity \u001b[39m=\u001b[39m \u001b[39m\"\u001b[39m\u001b[39mnone\u001b[39m\u001b[39m\"\u001b[39m \u001b[39mif\u001b[39;00m silent \u001b[39melse\u001b[39;00m \u001b[39mself\u001b[39m\u001b[39m.\u001b[39mast_node_interactivity\n\u001b[0;32m-> 3306\u001b[0m has_raised \u001b[39m=\u001b[39m \u001b[39mawait\u001b[39;00m \u001b[39mself\u001b[39m\u001b[39m.\u001b[39mrun_ast_nodes(code_ast\u001b[39m.\u001b[39mbody, cell_name,\n\u001b[1;32m   3307\u001b[0m        interactivity\u001b[39m=\u001b[39minteractivity, compiler\u001b[39m=\u001b[39mcompiler, result\u001b[39m=\u001b[39mresult)\n\u001b[1;32m   3309\u001b[0m \u001b[39mself\u001b[39m\u001b[39m.\u001b[39mlast_execution_succeeded \u001b[39m=\u001b[39m \u001b[39mnot\u001b[39;00m has_raised\n",
      "File \u001b[0;32m~/anaconda3/envs/dmff/lib/python3.11/site-packages/IPython/core/interactiveshell.py:3488\u001b[0m, in \u001b[0;36mrun_ast_nodes\u001b[0;34m()\u001b[0m\n\u001b[1;32m   3487\u001b[0m     asy \u001b[39m=\u001b[39m compare(code)\n\u001b[0;32m-> 3488\u001b[0m \u001b[39mif\u001b[39;00m \u001b[39mawait\u001b[39;00m \u001b[39mself\u001b[39m\u001b[39m.\u001b[39mrun_code(code, result, async_\u001b[39m=\u001b[39masy):\n\u001b[1;32m   3489\u001b[0m     \u001b[39mreturn\u001b[39;00m \u001b[39mTrue\u001b[39;00m\n",
      "File \u001b[0;32m~/anaconda3/envs/dmff/lib/python3.11/site-packages/IPython/core/interactiveshell.py:3548\u001b[0m, in \u001b[0;36mrun_code\u001b[0;34m()\u001b[0m\n\u001b[1;32m   3547\u001b[0m     \u001b[39melse\u001b[39;00m:\n\u001b[0;32m-> 3548\u001b[0m         exec(code_obj, \u001b[39mself\u001b[39m\u001b[39m.\u001b[39muser_global_ns, \u001b[39mself\u001b[39m\u001b[39m.\u001b[39muser_ns)\n\u001b[1;32m   3549\u001b[0m \u001b[39mfinally\u001b[39;00m:\n\u001b[1;32m   3550\u001b[0m     \u001b[39m# Reset our crash handler in place\u001b[39;00m\n",
      "Cell \u001b[0;32mIn[39], line 17\u001b[0m\n\u001b[1;32m     16\u001b[0m v_and_g \u001b[39m=\u001b[39m jax\u001b[39m.\u001b[39mvalue_and_grad(loss, \u001b[39m0\u001b[39m)\n\u001b[0;32m---> 17\u001b[0m v, g \u001b[39m=\u001b[39m v_and_g(paramset)\n\u001b[1;32m     18\u001b[0m loss_ls\u001b[39m.\u001b[39mappend(v)\n",
      "Cell \u001b[0;32mIn[39], line 6\u001b[0m, in \u001b[0;36mloss\u001b[0;34m()\u001b[0m\n\u001b[1;32m      5\u001b[0m \u001b[39mfor\u001b[39;00m jdx \u001b[39min\u001b[39;00m \u001b[39mrange\u001b[39m(\u001b[39mlen\u001b[39m(traj_dict[idx][\u001b[39m'\u001b[39m\u001b[39mstructure\u001b[39m\u001b[39m'\u001b[39m])):\n\u001b[0;32m----> 6\u001b[0m     ener \u001b[39m=\u001b[39m compute_binding_energy(paramset, traj_dict[idx][\u001b[39m'\u001b[39m\u001b[39mstructure\u001b[39m\u001b[39m'\u001b[39m][jdx][\u001b[39m0\u001b[39m], traj_dict[idx][\u001b[39m'\u001b[39m\u001b[39mstructure\u001b[39m\u001b[39m'\u001b[39m][jdx][\u001b[39m1\u001b[39m], lj_gen, numframe\u001b[39m=\u001b[39m\u001b[39m720\u001b[39m,cutoff\u001b[39m=\u001b[39mcutoff)\n\u001b[1;32m      7\u001b[0m     energies\u001b[39m.\u001b[39mappend(ener\u001b[39m.\u001b[39mreshape((\u001b[39m1\u001b[39m,)))\n",
      "Cell \u001b[0;32mIn[8], line 22\u001b[0m, in \u001b[0;36mcompute_binding_energy\u001b[0;34m()\u001b[0m\n\u001b[1;32m     21\u001b[0m pairs \u001b[39m=\u001b[39m jnp\u001b[39m.\u001b[39marray(nblist\u001b[39m.\u001b[39mpairs)\n\u001b[0;32m---> 22\u001b[0m ener \u001b[39m=\u001b[39m lj_force(pos_jnp,cell_jnp, pairs, paramset)\n\u001b[1;32m     23\u001b[0m \u001b[39mreturn\u001b[39;00m ener\n",
      "File \u001b[0;32m~/project/github/DMFF/dmff/generators/classical.py:1383\u001b[0m, in \u001b[0;36mpotential_fn\u001b[0;34m()\u001b[0m\n\u001b[1;32m   1381\u001b[0m isinstance_jnp(positions, box, params)\n\u001b[0;32m-> 1383\u001b[0m ljE \u001b[39m=\u001b[39m ljenergy(positions, box, pairs,\n\u001b[1;32m   1384\u001b[0m                params[\u001b[39mself\u001b[39m\u001b[39m.\u001b[39mname][\u001b[39m\"\u001b[39m\u001b[39mepsilon\u001b[39m\u001b[39m\"\u001b[39m],\n\u001b[1;32m   1385\u001b[0m                params[\u001b[39mself\u001b[39m\u001b[39m.\u001b[39mname][\u001b[39m\"\u001b[39m\u001b[39msigma\u001b[39m\u001b[39m\"\u001b[39m],\n\u001b[1;32m   1386\u001b[0m                params[\u001b[39mself\u001b[39m\u001b[39m.\u001b[39mname][\u001b[39m\"\u001b[39m\u001b[39mepsilon_nbfix\u001b[39m\u001b[39m\"\u001b[39m],\n\u001b[1;32m   1387\u001b[0m                params[\u001b[39mself\u001b[39m\u001b[39m.\u001b[39mname][\u001b[39m\"\u001b[39m\u001b[39msigma_nbfix\u001b[39m\u001b[39m\"\u001b[39m],\n\u001b[1;32m   1388\u001b[0m                mscales_lj)\n\u001b[1;32m   1390\u001b[0m \u001b[39mif\u001b[39;00m has_aux:\n",
      "File \u001b[0;32m~/project/github/DMFF/dmff/classical/inter.py:86\u001b[0m, in \u001b[0;36mget_energy\u001b[0;34m()\u001b[0m\n\u001b[1;32m     84\u001b[0m eps_scale \u001b[39m=\u001b[39m eps \u001b[39m*\u001b[39m mscale_pair\n\u001b[0;32m---> 86\u001b[0m E_inter \u001b[39m=\u001b[39m get_LJ_energy(dr_vec, sig, eps_scale, box)\n\u001b[1;32m     87\u001b[0m \u001b[39mif\u001b[39;00m aux \u001b[39mis\u001b[39;00m \u001b[39mNone\u001b[39;00m:\n",
      "File \u001b[0;32m~/project/github/DMFF/dmff/classical/inter.py:44\u001b[0m, in \u001b[0;36mget_LJ_energy\u001b[0;34m()\u001b[0m\n\u001b[1;32m     43\u001b[0m dr_inv \u001b[39m=\u001b[39m \u001b[39m1.0\u001b[39m \u001b[39m/\u001b[39m dr_norm\n\u001b[0;32m---> 44\u001b[0m sig_dr \u001b[39m=\u001b[39m sig \u001b[39m*\u001b[39m dr_inv\n\u001b[1;32m     45\u001b[0m sig_dr6 \u001b[39m=\u001b[39m jnp\u001b[39m.\u001b[39mpower(sig_dr, \u001b[39m6\u001b[39m)\n",
      "File \u001b[0;32m~/anaconda3/envs/dmff/lib/python3.11/site-packages/jax/_src/numpy/array_methods.py:743\u001b[0m, in \u001b[0;36mop\u001b[0;34m()\u001b[0m\n\u001b[1;32m    742\u001b[0m \u001b[39mdef\u001b[39;00m \u001b[39mop\u001b[39m(\u001b[39mself\u001b[39m, \u001b[39m*\u001b[39margs):\n\u001b[0;32m--> 743\u001b[0m   \u001b[39mreturn\u001b[39;00m \u001b[39mgetattr\u001b[39m(\u001b[39mself\u001b[39m\u001b[39m.\u001b[39maval, \u001b[39mf\u001b[39m\u001b[39m\"\u001b[39m\u001b[39m_\u001b[39m\u001b[39m{\u001b[39;00mname\u001b[39m}\u001b[39;00m\u001b[39m\"\u001b[39m)(\u001b[39mself\u001b[39m, \u001b[39m*\u001b[39margs)\n",
      "File \u001b[0;32m~/anaconda3/envs/dmff/lib/python3.11/site-packages/jax/_src/numpy/array_methods.py:271\u001b[0m, in \u001b[0;36mdeferring_binary_op\u001b[0;34m()\u001b[0m\n\u001b[1;32m    270\u001b[0m \u001b[39mif\u001b[39;00m \u001b[39misinstance\u001b[39m(other, _accepted_binop_types):\n\u001b[0;32m--> 271\u001b[0m   \u001b[39mreturn\u001b[39;00m binary_op(\u001b[39m*\u001b[39margs)\n\u001b[1;32m    272\u001b[0m \u001b[39m# Note: don't use isinstance here, because we don't want to raise for\u001b[39;00m\n\u001b[1;32m    273\u001b[0m \u001b[39m# subclasses, e.g. NamedTuple objects that may override operators.\u001b[39;00m\n",
      "\u001b[0;31mJaxStackTraceBeforeTransformation\u001b[0m: jaxlib.xla_extension.XlaRuntimeError: INVALID_ARGUMENT: Symbol main.4 not found.\n\nThe preceding stack trace is the source of the JAX operation that, once transformed by JAX, triggered the following exception.\n\n--------------------",
      "\nThe above exception was the direct cause of the following exception:\n",
      "\u001b[0;31mXlaRuntimeError\u001b[0m                           Traceback (most recent call last)",
      "Cell \u001b[0;32mIn[39], line 17\u001b[0m\n\u001b[1;32m     15\u001b[0m         \u001b[39mreturn\u001b[39;00m jnp\u001b[39m.\u001b[39msum(errors)\n\u001b[1;32m     16\u001b[0m v_and_g \u001b[39m=\u001b[39m jax\u001b[39m.\u001b[39mvalue_and_grad(loss, \u001b[39m0\u001b[39m)\n\u001b[0;32m---> 17\u001b[0m v, g \u001b[39m=\u001b[39m v_and_g(paramset)\n\u001b[1;32m     18\u001b[0m loss_ls\u001b[39m.\u001b[39mappend(v)\n",
      "    \u001b[0;31m[... skipping hidden 19 frame]\u001b[0m\n",
      "File \u001b[0;32m~/anaconda3/envs/dmff/lib/python3.11/site-packages/jax/_src/compiler.py:256\u001b[0m, in \u001b[0;36mbackend_compile\u001b[0;34m(backend, module, options, host_callbacks)\u001b[0m\n\u001b[1;32m    251\u001b[0m   \u001b[39mreturn\u001b[39;00m backend\u001b[39m.\u001b[39mcompile(built_c, compile_options\u001b[39m=\u001b[39moptions,\n\u001b[1;32m    252\u001b[0m                          host_callbacks\u001b[39m=\u001b[39mhost_callbacks)\n\u001b[1;32m    253\u001b[0m \u001b[39m# Some backends don't have `host_callbacks` option yet\u001b[39;00m\n\u001b[1;32m    254\u001b[0m \u001b[39m# TODO(sharadmv): remove this fallback when all backends allow `compile`\u001b[39;00m\n\u001b[1;32m    255\u001b[0m \u001b[39m# to take in `host_callbacks`\u001b[39;00m\n\u001b[0;32m--> 256\u001b[0m \u001b[39mreturn\u001b[39;00m backend\u001b[39m.\u001b[39;49mcompile(built_c, compile_options\u001b[39m=\u001b[39;49moptions)\n",
      "\u001b[0;31mXlaRuntimeError\u001b[0m: INVALID_ARGUMENT: Symbol main.4 not found."
     ]
    }
   ],
   "source": [
    "def loss(paramset):\n",
    "        errors = []\n",
    "        for idx in range(1, Number_points+1):\n",
    "            energies = []\n",
    "            for jdx in range(len(traj_dict[idx]['structure'])):\n",
    "                ener = compute_binding_energy(paramset, traj_dict[idx]['structure'][jdx][0], traj_dict[idx]['structure'][jdx][1], lj_gen, numframe=720,cutoff=cutoff)\n",
    "                energies.append(ener.reshape((1,)))\n",
    "            energies = jnp.concatenate(energies)\n",
    "            weight = traj_dict[idx]['estimator'].estimate_weight(energies)\n",
    "            reweight_loading = traj_dict[idx]['loading'] * weight\n",
    "            error = jnp.power(jnp.average(reweight_loading)-traj_dict[idx]['experiment']['loading'],2)\n",
    "            errors.append(error.reshape((1,)))\n",
    "            #print(error)\n",
    "        errors = jnp.concatenate(errors)\n",
    "        return jnp.sum(errors)\n",
    "v_and_g = jax.value_and_grad(loss, 0)\n",
    "v, g = v_and_g(paramset)\n",
    "loss_ls.append(v)"
   ]
  },
  {
   "cell_type": "code",
   "execution_count": 53,
   "metadata": {},
   "outputs": [
    {
     "name": "stderr",
     "output_type": "stream",
     "text": [
      "JIT session error: Cannot allocate memory\n"
     ]
    },
    {
     "ename": "XlaRuntimeError",
     "evalue": "INVALID_ARGUMENT: Symbol main.4 not found.",
     "output_type": "error",
     "traceback": [
      "\u001b[0;31m---------------------------------------------------------------------------\u001b[0m",
      "\u001b[0;31mJaxStackTraceBeforeTransformation\u001b[0m         Traceback (most recent call last)",
      "File \u001b[0;32m<frozen runpy>:198\u001b[0m, in \u001b[0;36m_run_module_as_main\u001b[0;34m()\u001b[0m\n",
      "File \u001b[0;32m<frozen runpy>:88\u001b[0m, in \u001b[0;36m_run_code\u001b[0;34m()\u001b[0m\n",
      "File \u001b[0;32m~/anaconda3/envs/dmff/lib/python3.11/site-packages/ipykernel_launcher.py:17\u001b[0m\n\u001b[1;32m     15\u001b[0m \u001b[39mfrom\u001b[39;00m \u001b[39mipykernel\u001b[39;00m \u001b[39mimport\u001b[39;00m kernelapp \u001b[39mas\u001b[39;00m app\n\u001b[0;32m---> 17\u001b[0m app\u001b[39m.\u001b[39mlaunch_new_instance()\n",
      "File \u001b[0;32m~/anaconda3/envs/dmff/lib/python3.11/site-packages/traitlets/config/application.py:1053\u001b[0m, in \u001b[0;36mlaunch_instance\u001b[0;34m()\u001b[0m\n\u001b[1;32m   1052\u001b[0m app\u001b[39m.\u001b[39minitialize(argv)\n\u001b[0;32m-> 1053\u001b[0m app\u001b[39m.\u001b[39mstart()\n",
      "File \u001b[0;32m~/anaconda3/envs/dmff/lib/python3.11/site-packages/ipykernel/kernelapp.py:737\u001b[0m, in \u001b[0;36mstart\u001b[0;34m()\u001b[0m\n\u001b[1;32m    736\u001b[0m \u001b[39mtry\u001b[39;00m:\n\u001b[0;32m--> 737\u001b[0m     \u001b[39mself\u001b[39m\u001b[39m.\u001b[39mio_loop\u001b[39m.\u001b[39mstart()\n\u001b[1;32m    738\u001b[0m \u001b[39mexcept\u001b[39;00m \u001b[39mKeyboardInterrupt\u001b[39;00m:\n",
      "File \u001b[0;32m~/anaconda3/envs/dmff/lib/python3.11/site-packages/tornado/platform/asyncio.py:195\u001b[0m, in \u001b[0;36mstart\u001b[0;34m()\u001b[0m\n\u001b[1;32m    194\u001b[0m \u001b[39mdef\u001b[39;00m \u001b[39mstart\u001b[39m(\u001b[39mself\u001b[39m) \u001b[39m-\u001b[39m\u001b[39m>\u001b[39m \u001b[39mNone\u001b[39;00m:\n\u001b[0;32m--> 195\u001b[0m     \u001b[39mself\u001b[39m\u001b[39m.\u001b[39masyncio_loop\u001b[39m.\u001b[39mrun_forever()\n",
      "File \u001b[0;32m~/anaconda3/envs/dmff/lib/python3.11/asyncio/base_events.py:607\u001b[0m, in \u001b[0;36mrun_forever\u001b[0;34m()\u001b[0m\n\u001b[1;32m    606\u001b[0m \u001b[39mwhile\u001b[39;00m \u001b[39mTrue\u001b[39;00m:\n\u001b[0;32m--> 607\u001b[0m     \u001b[39mself\u001b[39m\u001b[39m.\u001b[39m_run_once()\n\u001b[1;32m    608\u001b[0m     \u001b[39mif\u001b[39;00m \u001b[39mself\u001b[39m\u001b[39m.\u001b[39m_stopping:\n",
      "File \u001b[0;32m~/anaconda3/envs/dmff/lib/python3.11/asyncio/base_events.py:1922\u001b[0m, in \u001b[0;36m_run_once\u001b[0;34m()\u001b[0m\n\u001b[1;32m   1921\u001b[0m     \u001b[39melse\u001b[39;00m:\n\u001b[0;32m-> 1922\u001b[0m         handle\u001b[39m.\u001b[39m_run()\n\u001b[1;32m   1923\u001b[0m handle \u001b[39m=\u001b[39m \u001b[39mNone\u001b[39;00m\n",
      "File \u001b[0;32m~/anaconda3/envs/dmff/lib/python3.11/asyncio/events.py:80\u001b[0m, in \u001b[0;36m_run\u001b[0;34m()\u001b[0m\n\u001b[1;32m     79\u001b[0m \u001b[39mtry\u001b[39;00m:\n\u001b[0;32m---> 80\u001b[0m     \u001b[39mself\u001b[39m\u001b[39m.\u001b[39m_context\u001b[39m.\u001b[39mrun(\u001b[39mself\u001b[39m\u001b[39m.\u001b[39m_callback, \u001b[39m*\u001b[39m\u001b[39mself\u001b[39m\u001b[39m.\u001b[39m_args)\n\u001b[1;32m     81\u001b[0m \u001b[39mexcept\u001b[39;00m (\u001b[39mSystemExit\u001b[39;00m, \u001b[39mKeyboardInterrupt\u001b[39;00m):\n",
      "File \u001b[0;32m~/anaconda3/envs/dmff/lib/python3.11/site-packages/ipykernel/kernelbase.py:524\u001b[0m, in \u001b[0;36mdispatch_queue\u001b[0;34m()\u001b[0m\n\u001b[1;32m    523\u001b[0m \u001b[39mtry\u001b[39;00m:\n\u001b[0;32m--> 524\u001b[0m     \u001b[39mawait\u001b[39;00m \u001b[39mself\u001b[39m\u001b[39m.\u001b[39mprocess_one()\n\u001b[1;32m    525\u001b[0m \u001b[39mexcept\u001b[39;00m \u001b[39mException\u001b[39;00m:\n",
      "File \u001b[0;32m~/anaconda3/envs/dmff/lib/python3.11/site-packages/ipykernel/kernelbase.py:513\u001b[0m, in \u001b[0;36mprocess_one\u001b[0;34m()\u001b[0m\n\u001b[1;32m    512\u001b[0m         \u001b[39mreturn\u001b[39;00m \u001b[39mNone\u001b[39;00m\n\u001b[0;32m--> 513\u001b[0m \u001b[39mawait\u001b[39;00m dispatch(\u001b[39m*\u001b[39margs)\n",
      "File \u001b[0;32m~/anaconda3/envs/dmff/lib/python3.11/site-packages/ipykernel/kernelbase.py:418\u001b[0m, in \u001b[0;36mdispatch_shell\u001b[0;34m()\u001b[0m\n\u001b[1;32m    417\u001b[0m     \u001b[39mif\u001b[39;00m inspect\u001b[39m.\u001b[39misawaitable(result):\n\u001b[0;32m--> 418\u001b[0m         \u001b[39mawait\u001b[39;00m result\n\u001b[1;32m    419\u001b[0m \u001b[39mexcept\u001b[39;00m \u001b[39mException\u001b[39;00m:\n",
      "File \u001b[0;32m~/anaconda3/envs/dmff/lib/python3.11/site-packages/ipykernel/kernelbase.py:758\u001b[0m, in \u001b[0;36mexecute_request\u001b[0;34m()\u001b[0m\n\u001b[1;32m    757\u001b[0m \u001b[39mif\u001b[39;00m inspect\u001b[39m.\u001b[39misawaitable(reply_content):\n\u001b[0;32m--> 758\u001b[0m     reply_content \u001b[39m=\u001b[39m \u001b[39mawait\u001b[39;00m reply_content\n\u001b[1;32m    760\u001b[0m \u001b[39m# Flush output before sending the reply.\u001b[39;00m\n",
      "File \u001b[0;32m~/anaconda3/envs/dmff/lib/python3.11/site-packages/ipykernel/ipkernel.py:426\u001b[0m, in \u001b[0;36mdo_execute\u001b[0;34m()\u001b[0m\n\u001b[1;32m    425\u001b[0m \u001b[39mif\u001b[39;00m with_cell_id:\n\u001b[0;32m--> 426\u001b[0m     res \u001b[39m=\u001b[39m shell\u001b[39m.\u001b[39mrun_cell(\n\u001b[1;32m    427\u001b[0m         code,\n\u001b[1;32m    428\u001b[0m         store_history\u001b[39m=\u001b[39mstore_history,\n\u001b[1;32m    429\u001b[0m         silent\u001b[39m=\u001b[39msilent,\n\u001b[1;32m    430\u001b[0m         cell_id\u001b[39m=\u001b[39mcell_id,\n\u001b[1;32m    431\u001b[0m     )\n\u001b[1;32m    432\u001b[0m \u001b[39melse\u001b[39;00m:\n",
      "File \u001b[0;32m~/anaconda3/envs/dmff/lib/python3.11/site-packages/ipykernel/zmqshell.py:549\u001b[0m, in \u001b[0;36mrun_cell\u001b[0;34m()\u001b[0m\n\u001b[1;32m    548\u001b[0m \u001b[39mself\u001b[39m\u001b[39m.\u001b[39m_last_traceback \u001b[39m=\u001b[39m \u001b[39mNone\u001b[39;00m\n\u001b[0;32m--> 549\u001b[0m \u001b[39mreturn\u001b[39;00m \u001b[39msuper\u001b[39m()\u001b[39m.\u001b[39mrun_cell(\u001b[39m*\u001b[39margs, \u001b[39m*\u001b[39m\u001b[39m*\u001b[39mkwargs)\n",
      "File \u001b[0;32m~/anaconda3/envs/dmff/lib/python3.11/site-packages/IPython/core/interactiveshell.py:3046\u001b[0m, in \u001b[0;36mrun_cell\u001b[0;34m()\u001b[0m\n\u001b[1;32m   3045\u001b[0m \u001b[39mtry\u001b[39;00m:\n\u001b[0;32m-> 3046\u001b[0m     result \u001b[39m=\u001b[39m \u001b[39mself\u001b[39m\u001b[39m.\u001b[39m_run_cell(\n\u001b[1;32m   3047\u001b[0m         raw_cell, store_history, silent, shell_futures, cell_id\n\u001b[1;32m   3048\u001b[0m     )\n\u001b[1;32m   3049\u001b[0m \u001b[39mfinally\u001b[39;00m:\n",
      "File \u001b[0;32m~/anaconda3/envs/dmff/lib/python3.11/site-packages/IPython/core/interactiveshell.py:3101\u001b[0m, in \u001b[0;36m_run_cell\u001b[0;34m()\u001b[0m\n\u001b[1;32m   3100\u001b[0m \u001b[39mtry\u001b[39;00m:\n\u001b[0;32m-> 3101\u001b[0m     result \u001b[39m=\u001b[39m runner(coro)\n\u001b[1;32m   3102\u001b[0m \u001b[39mexcept\u001b[39;00m \u001b[39mBaseException\u001b[39;00m \u001b[39mas\u001b[39;00m e:\n",
      "File \u001b[0;32m~/anaconda3/envs/dmff/lib/python3.11/site-packages/IPython/core/async_helpers.py:129\u001b[0m, in \u001b[0;36m_pseudo_sync_runner\u001b[0;34m()\u001b[0m\n\u001b[1;32m    128\u001b[0m \u001b[39mtry\u001b[39;00m:\n\u001b[0;32m--> 129\u001b[0m     coro\u001b[39m.\u001b[39msend(\u001b[39mNone\u001b[39;00m)\n\u001b[1;32m    130\u001b[0m \u001b[39mexcept\u001b[39;00m \u001b[39mStopIteration\u001b[39;00m \u001b[39mas\u001b[39;00m exc:\n",
      "File \u001b[0;32m~/anaconda3/envs/dmff/lib/python3.11/site-packages/IPython/core/interactiveshell.py:3306\u001b[0m, in \u001b[0;36mrun_cell_async\u001b[0;34m()\u001b[0m\n\u001b[1;32m   3303\u001b[0m interactivity \u001b[39m=\u001b[39m \u001b[39m\"\u001b[39m\u001b[39mnone\u001b[39m\u001b[39m\"\u001b[39m \u001b[39mif\u001b[39;00m silent \u001b[39melse\u001b[39;00m \u001b[39mself\u001b[39m\u001b[39m.\u001b[39mast_node_interactivity\n\u001b[0;32m-> 3306\u001b[0m has_raised \u001b[39m=\u001b[39m \u001b[39mawait\u001b[39;00m \u001b[39mself\u001b[39m\u001b[39m.\u001b[39mrun_ast_nodes(code_ast\u001b[39m.\u001b[39mbody, cell_name,\n\u001b[1;32m   3307\u001b[0m        interactivity\u001b[39m=\u001b[39minteractivity, compiler\u001b[39m=\u001b[39mcompiler, result\u001b[39m=\u001b[39mresult)\n\u001b[1;32m   3309\u001b[0m \u001b[39mself\u001b[39m\u001b[39m.\u001b[39mlast_execution_succeeded \u001b[39m=\u001b[39m \u001b[39mnot\u001b[39;00m has_raised\n",
      "File \u001b[0;32m~/anaconda3/envs/dmff/lib/python3.11/site-packages/IPython/core/interactiveshell.py:3488\u001b[0m, in \u001b[0;36mrun_ast_nodes\u001b[0;34m()\u001b[0m\n\u001b[1;32m   3487\u001b[0m     asy \u001b[39m=\u001b[39m compare(code)\n\u001b[0;32m-> 3488\u001b[0m \u001b[39mif\u001b[39;00m \u001b[39mawait\u001b[39;00m \u001b[39mself\u001b[39m\u001b[39m.\u001b[39mrun_code(code, result, async_\u001b[39m=\u001b[39masy):\n\u001b[1;32m   3489\u001b[0m     \u001b[39mreturn\u001b[39;00m \u001b[39mTrue\u001b[39;00m\n",
      "File \u001b[0;32m~/anaconda3/envs/dmff/lib/python3.11/site-packages/IPython/core/interactiveshell.py:3548\u001b[0m, in \u001b[0;36mrun_code\u001b[0;34m()\u001b[0m\n\u001b[1;32m   3547\u001b[0m     \u001b[39melse\u001b[39;00m:\n\u001b[0;32m-> 3548\u001b[0m         exec(code_obj, \u001b[39mself\u001b[39m\u001b[39m.\u001b[39muser_global_ns, \u001b[39mself\u001b[39m\u001b[39m.\u001b[39muser_ns)\n\u001b[1;32m   3549\u001b[0m \u001b[39mfinally\u001b[39;00m:\n\u001b[1;32m   3550\u001b[0m     \u001b[39m# Reset our crash handler in place\u001b[39;00m\n",
      "Cell \u001b[0;32mIn[53], line 19\u001b[0m\n\u001b[1;32m     18\u001b[0m v_and_g \u001b[39m=\u001b[39m jax\u001b[39m.\u001b[39mvalue_and_grad(loss, \u001b[39m0\u001b[39m)\n\u001b[0;32m---> 19\u001b[0m v, g \u001b[39m=\u001b[39m v_and_g(paramset)\n\u001b[1;32m     20\u001b[0m loss_ls\u001b[39m.\u001b[39mappend(v)\n",
      "Cell \u001b[0;32mIn[53], line 7\u001b[0m, in \u001b[0;36mloss\u001b[0;34m()\u001b[0m\n\u001b[1;32m      6\u001b[0m \u001b[39mfor\u001b[39;00m jdx \u001b[39min\u001b[39;00m \u001b[39mrange\u001b[39m(\u001b[39mint\u001b[39m(\u001b[39mlen\u001b[39m(traj_dict[idx][\u001b[39m'\u001b[39m\u001b[39mstructure\u001b[39m\u001b[39m'\u001b[39m]))):\n\u001b[0;32m----> 7\u001b[0m     ener \u001b[39m=\u001b[39m compute_binding_energy(paramset, traj_dict[idx][\u001b[39m'\u001b[39m\u001b[39mstructure\u001b[39m\u001b[39m'\u001b[39m][jdx][\u001b[39m0\u001b[39m], traj_dict[idx][\u001b[39m'\u001b[39m\u001b[39mstructure\u001b[39m\u001b[39m'\u001b[39m][jdx][\u001b[39m1\u001b[39m], lj_gen, numframe\u001b[39m=\u001b[39m\u001b[39m720\u001b[39m,cutoff\u001b[39m=\u001b[39mcutoff)\n\u001b[1;32m      8\u001b[0m     energies\u001b[39m.\u001b[39mappend(ener\u001b[39m.\u001b[39mreshape((\u001b[39m1\u001b[39m,)))\n",
      "Cell \u001b[0;32mIn[8], line 22\u001b[0m, in \u001b[0;36mcompute_binding_energy\u001b[0;34m()\u001b[0m\n\u001b[1;32m     21\u001b[0m pairs \u001b[39m=\u001b[39m jnp\u001b[39m.\u001b[39marray(nblist\u001b[39m.\u001b[39mpairs)\n\u001b[0;32m---> 22\u001b[0m ener \u001b[39m=\u001b[39m lj_force(pos_jnp,cell_jnp, pairs, paramset)\n\u001b[1;32m     23\u001b[0m \u001b[39mreturn\u001b[39;00m ener\n",
      "File \u001b[0;32m~/project/github/DMFF/dmff/generators/classical.py:1383\u001b[0m, in \u001b[0;36mpotential_fn\u001b[0;34m()\u001b[0m\n\u001b[1;32m   1381\u001b[0m isinstance_jnp(positions, box, params)\n\u001b[0;32m-> 1383\u001b[0m ljE \u001b[39m=\u001b[39m ljenergy(positions, box, pairs,\n\u001b[1;32m   1384\u001b[0m                params[\u001b[39mself\u001b[39m\u001b[39m.\u001b[39mname][\u001b[39m\"\u001b[39m\u001b[39mepsilon\u001b[39m\u001b[39m\"\u001b[39m],\n\u001b[1;32m   1385\u001b[0m                params[\u001b[39mself\u001b[39m\u001b[39m.\u001b[39mname][\u001b[39m\"\u001b[39m\u001b[39msigma\u001b[39m\u001b[39m\"\u001b[39m],\n\u001b[1;32m   1386\u001b[0m                params[\u001b[39mself\u001b[39m\u001b[39m.\u001b[39mname][\u001b[39m\"\u001b[39m\u001b[39mepsilon_nbfix\u001b[39m\u001b[39m\"\u001b[39m],\n\u001b[1;32m   1387\u001b[0m                params[\u001b[39mself\u001b[39m\u001b[39m.\u001b[39mname][\u001b[39m\"\u001b[39m\u001b[39msigma_nbfix\u001b[39m\u001b[39m\"\u001b[39m],\n\u001b[1;32m   1388\u001b[0m                mscales_lj)\n\u001b[1;32m   1390\u001b[0m \u001b[39mif\u001b[39;00m has_aux:\n",
      "File \u001b[0;32m~/project/github/DMFF/dmff/classical/inter.py:86\u001b[0m, in \u001b[0;36mget_energy\u001b[0;34m()\u001b[0m\n\u001b[1;32m     84\u001b[0m eps_scale \u001b[39m=\u001b[39m eps \u001b[39m*\u001b[39m mscale_pair\n\u001b[0;32m---> 86\u001b[0m E_inter \u001b[39m=\u001b[39m get_LJ_energy(dr_vec, sig, eps_scale, box)\n\u001b[1;32m     87\u001b[0m \u001b[39mif\u001b[39;00m aux \u001b[39mis\u001b[39;00m \u001b[39mNone\u001b[39;00m:\n",
      "File \u001b[0;32m~/project/github/DMFF/dmff/classical/inter.py:46\u001b[0m, in \u001b[0;36mget_LJ_energy\u001b[0;34m()\u001b[0m\n\u001b[1;32m     45\u001b[0m sig_dr6 \u001b[39m=\u001b[39m jnp\u001b[39m.\u001b[39mpower(sig_dr, \u001b[39m6\u001b[39m)\n\u001b[0;32m---> 46\u001b[0m sig_dr12 \u001b[39m=\u001b[39m jnp\u001b[39m.\u001b[39mpower(sig_dr6, \u001b[39m2\u001b[39m)\n\u001b[1;32m     47\u001b[0m E \u001b[39m=\u001b[39m \u001b[39m4.0\u001b[39m \u001b[39m*\u001b[39m eps \u001b[39m*\u001b[39m (sig_dr12 \u001b[39m-\u001b[39m sig_dr6)\n",
      "File \u001b[0;32m~/anaconda3/envs/dmff/lib/python3.11/site-packages/jax/_src/numpy/ufuncs.py:340\u001b[0m, in \u001b[0;36mpower\u001b[0;34m()\u001b[0m\n\u001b[1;32m    339\u001b[0m \u001b[39melse\u001b[39;00m:\n\u001b[0;32m--> 340\u001b[0m   x1, \u001b[39m=\u001b[39m promote_dtypes_numeric(x1)\n\u001b[1;32m    341\u001b[0m   \u001b[39mreturn\u001b[39;00m lax\u001b[39m.\u001b[39minteger_pow(x1, x2)\n",
      "File \u001b[0;32m~/anaconda3/envs/dmff/lib/python3.11/site-packages/jax/_src/numpy/util.py:299\u001b[0m, in \u001b[0;36mpromote_dtypes_numeric\u001b[0;34m()\u001b[0m\n\u001b[1;32m    298\u001b[0m to_dtype_numeric \u001b[39m=\u001b[39m dtypes\u001b[39m.\u001b[39mto_numeric_dtype(to_dtype)\n\u001b[0;32m--> 299\u001b[0m \u001b[39mreturn\u001b[39;00m [lax\u001b[39m.\u001b[39m_convert_element_type(x, to_dtype_numeric, weak_type)\n\u001b[1;32m    300\u001b[0m         \u001b[39mfor\u001b[39;00m x \u001b[39min\u001b[39;00m args]\n",
      "File \u001b[0;32m~/anaconda3/envs/dmff/lib/python3.11/site-packages/jax/_src/numpy/util.py:299\u001b[0m, in \u001b[0;36m<listcomp>\u001b[0;34m()\u001b[0m\n\u001b[1;32m    298\u001b[0m to_dtype_numeric \u001b[39m=\u001b[39m dtypes\u001b[39m.\u001b[39mto_numeric_dtype(to_dtype)\n\u001b[0;32m--> 299\u001b[0m \u001b[39mreturn\u001b[39;00m [lax\u001b[39m.\u001b[39m_convert_element_type(x, to_dtype_numeric, weak_type)\n\u001b[1;32m    300\u001b[0m         \u001b[39mfor\u001b[39;00m x \u001b[39min\u001b[39;00m args]\n",
      "\u001b[0;31mJaxStackTraceBeforeTransformation\u001b[0m: jaxlib.xla_extension.XlaRuntimeError: INVALID_ARGUMENT: Symbol main.4 not found.\n\nThe preceding stack trace is the source of the JAX operation that, once transformed by JAX, triggered the following exception.\n\n--------------------",
      "\nThe above exception was the direct cause of the following exception:\n",
      "\u001b[0;31mXlaRuntimeError\u001b[0m                           Traceback (most recent call last)",
      "Cell \u001b[0;32mIn[53], line 19\u001b[0m\n\u001b[1;32m     17\u001b[0m clear_backends()\n\u001b[1;32m     18\u001b[0m v_and_g \u001b[39m=\u001b[39m jax\u001b[39m.\u001b[39mvalue_and_grad(loss, \u001b[39m0\u001b[39m)\n\u001b[0;32m---> 19\u001b[0m v, g \u001b[39m=\u001b[39m v_and_g(paramset)\n\u001b[1;32m     20\u001b[0m loss_ls\u001b[39m.\u001b[39mappend(v)\n",
      "    \u001b[0;31m[... skipping hidden 33 frame]\u001b[0m\n",
      "File \u001b[0;32m~/anaconda3/envs/dmff/lib/python3.11/site-packages/jax/_src/compiler.py:256\u001b[0m, in \u001b[0;36mbackend_compile\u001b[0;34m(backend, module, options, host_callbacks)\u001b[0m\n\u001b[1;32m    251\u001b[0m   \u001b[39mreturn\u001b[39;00m backend\u001b[39m.\u001b[39mcompile(built_c, compile_options\u001b[39m=\u001b[39moptions,\n\u001b[1;32m    252\u001b[0m                          host_callbacks\u001b[39m=\u001b[39mhost_callbacks)\n\u001b[1;32m    253\u001b[0m \u001b[39m# Some backends don't have `host_callbacks` option yet\u001b[39;00m\n\u001b[1;32m    254\u001b[0m \u001b[39m# TODO(sharadmv): remove this fallback when all backends allow `compile`\u001b[39;00m\n\u001b[1;32m    255\u001b[0m \u001b[39m# to take in `host_callbacks`\u001b[39;00m\n\u001b[0;32m--> 256\u001b[0m \u001b[39mreturn\u001b[39;00m backend\u001b[39m.\u001b[39;49mcompile(built_c, compile_options\u001b[39m=\u001b[39;49moptions)\n",
      "\u001b[0;31mXlaRuntimeError\u001b[0m: INVALID_ARGUMENT: Symbol main.4 not found."
     ]
    }
   ],
   "source": [
    "clear_backends()\n",
    "def loss(paramset):\n",
    "        errors = []\n",
    "        for idx in range(1, Number_points+1):\n",
    "            energies = []\n",
    "            for jdx in range(int(len(traj_dict[idx]['structure']))):\n",
    "                ener = compute_binding_energy(paramset, traj_dict[idx]['structure'][jdx][0], traj_dict[idx]['structure'][jdx][1], lj_gen, numframe=720,cutoff=cutoff)\n",
    "                energies.append(ener.reshape((1,)))\n",
    "            energies = jnp.concatenate(energies)\n",
    "            weight = traj_dict[idx]['estimator'].estimate_weight(energies)\n",
    "            reweight_loading = traj_dict[idx]['loading'] * weight\n",
    "            error = jnp.power(jnp.average(reweight_loading)-traj_dict[idx]['experiment']['loading'],2)\n",
    "            errors.append(error.reshape((1,)))\n",
    "            #print(error)\n",
    "        errors = jnp.concatenate(errors)\n",
    "        return jnp.sum(errors)\n",
    "clear_backends()\n",
    "v_and_g = jax.value_and_grad(loss, 0)\n",
    "v, g = v_and_g(paramset)\n",
    "loss_ls.append(v)"
   ]
  },
  {
   "cell_type": "code",
   "execution_count": 51,
   "metadata": {},
   "outputs": [
    {
     "name": "stderr",
     "output_type": "stream",
     "text": [
      "JIT session error: Cannot allocate memory\n"
     ]
    },
    {
     "ename": "XlaRuntimeError",
     "evalue": "INVALID_ARGUMENT: Symbol main.7 not found.",
     "output_type": "error",
     "traceback": [
      "\u001b[0;31m---------------------------------------------------------------------------\u001b[0m",
      "\u001b[0;31mJaxStackTraceBeforeTransformation\u001b[0m         Traceback (most recent call last)",
      "File \u001b[0;32m<frozen runpy>:198\u001b[0m, in \u001b[0;36m_run_module_as_main\u001b[0;34m()\u001b[0m\n",
      "File \u001b[0;32m<frozen runpy>:88\u001b[0m, in \u001b[0;36m_run_code\u001b[0;34m()\u001b[0m\n",
      "File \u001b[0;32m~/anaconda3/envs/dmff/lib/python3.11/site-packages/ipykernel_launcher.py:17\u001b[0m\n\u001b[1;32m     15\u001b[0m \u001b[39mfrom\u001b[39;00m \u001b[39mipykernel\u001b[39;00m \u001b[39mimport\u001b[39;00m kernelapp \u001b[39mas\u001b[39;00m app\n\u001b[0;32m---> 17\u001b[0m app\u001b[39m.\u001b[39mlaunch_new_instance()\n",
      "File \u001b[0;32m~/anaconda3/envs/dmff/lib/python3.11/site-packages/traitlets/config/application.py:1053\u001b[0m, in \u001b[0;36mlaunch_instance\u001b[0;34m()\u001b[0m\n\u001b[1;32m   1052\u001b[0m app\u001b[39m.\u001b[39minitialize(argv)\n\u001b[0;32m-> 1053\u001b[0m app\u001b[39m.\u001b[39mstart()\n",
      "File \u001b[0;32m~/anaconda3/envs/dmff/lib/python3.11/site-packages/ipykernel/kernelapp.py:737\u001b[0m, in \u001b[0;36mstart\u001b[0;34m()\u001b[0m\n\u001b[1;32m    736\u001b[0m \u001b[39mtry\u001b[39;00m:\n\u001b[0;32m--> 737\u001b[0m     \u001b[39mself\u001b[39m\u001b[39m.\u001b[39mio_loop\u001b[39m.\u001b[39mstart()\n\u001b[1;32m    738\u001b[0m \u001b[39mexcept\u001b[39;00m \u001b[39mKeyboardInterrupt\u001b[39;00m:\n",
      "File \u001b[0;32m~/anaconda3/envs/dmff/lib/python3.11/site-packages/tornado/platform/asyncio.py:195\u001b[0m, in \u001b[0;36mstart\u001b[0;34m()\u001b[0m\n\u001b[1;32m    194\u001b[0m \u001b[39mdef\u001b[39;00m \u001b[39mstart\u001b[39m(\u001b[39mself\u001b[39m) \u001b[39m-\u001b[39m\u001b[39m>\u001b[39m \u001b[39mNone\u001b[39;00m:\n\u001b[0;32m--> 195\u001b[0m     \u001b[39mself\u001b[39m\u001b[39m.\u001b[39masyncio_loop\u001b[39m.\u001b[39mrun_forever()\n",
      "File \u001b[0;32m~/anaconda3/envs/dmff/lib/python3.11/asyncio/base_events.py:607\u001b[0m, in \u001b[0;36mrun_forever\u001b[0;34m()\u001b[0m\n\u001b[1;32m    606\u001b[0m \u001b[39mwhile\u001b[39;00m \u001b[39mTrue\u001b[39;00m:\n\u001b[0;32m--> 607\u001b[0m     \u001b[39mself\u001b[39m\u001b[39m.\u001b[39m_run_once()\n\u001b[1;32m    608\u001b[0m     \u001b[39mif\u001b[39;00m \u001b[39mself\u001b[39m\u001b[39m.\u001b[39m_stopping:\n",
      "File \u001b[0;32m~/anaconda3/envs/dmff/lib/python3.11/asyncio/base_events.py:1922\u001b[0m, in \u001b[0;36m_run_once\u001b[0;34m()\u001b[0m\n\u001b[1;32m   1921\u001b[0m     \u001b[39melse\u001b[39;00m:\n\u001b[0;32m-> 1922\u001b[0m         handle\u001b[39m.\u001b[39m_run()\n\u001b[1;32m   1923\u001b[0m handle \u001b[39m=\u001b[39m \u001b[39mNone\u001b[39;00m\n",
      "File \u001b[0;32m~/anaconda3/envs/dmff/lib/python3.11/asyncio/events.py:80\u001b[0m, in \u001b[0;36m_run\u001b[0;34m()\u001b[0m\n\u001b[1;32m     79\u001b[0m \u001b[39mtry\u001b[39;00m:\n\u001b[0;32m---> 80\u001b[0m     \u001b[39mself\u001b[39m\u001b[39m.\u001b[39m_context\u001b[39m.\u001b[39mrun(\u001b[39mself\u001b[39m\u001b[39m.\u001b[39m_callback, \u001b[39m*\u001b[39m\u001b[39mself\u001b[39m\u001b[39m.\u001b[39m_args)\n\u001b[1;32m     81\u001b[0m \u001b[39mexcept\u001b[39;00m (\u001b[39mSystemExit\u001b[39;00m, \u001b[39mKeyboardInterrupt\u001b[39;00m):\n",
      "File \u001b[0;32m~/anaconda3/envs/dmff/lib/python3.11/site-packages/ipykernel/kernelbase.py:524\u001b[0m, in \u001b[0;36mdispatch_queue\u001b[0;34m()\u001b[0m\n\u001b[1;32m    523\u001b[0m \u001b[39mtry\u001b[39;00m:\n\u001b[0;32m--> 524\u001b[0m     \u001b[39mawait\u001b[39;00m \u001b[39mself\u001b[39m\u001b[39m.\u001b[39mprocess_one()\n\u001b[1;32m    525\u001b[0m \u001b[39mexcept\u001b[39;00m \u001b[39mException\u001b[39;00m:\n",
      "File \u001b[0;32m~/anaconda3/envs/dmff/lib/python3.11/site-packages/ipykernel/kernelbase.py:513\u001b[0m, in \u001b[0;36mprocess_one\u001b[0;34m()\u001b[0m\n\u001b[1;32m    512\u001b[0m         \u001b[39mreturn\u001b[39;00m \u001b[39mNone\u001b[39;00m\n\u001b[0;32m--> 513\u001b[0m \u001b[39mawait\u001b[39;00m dispatch(\u001b[39m*\u001b[39margs)\n",
      "File \u001b[0;32m~/anaconda3/envs/dmff/lib/python3.11/site-packages/ipykernel/kernelbase.py:418\u001b[0m, in \u001b[0;36mdispatch_shell\u001b[0;34m()\u001b[0m\n\u001b[1;32m    417\u001b[0m     \u001b[39mif\u001b[39;00m inspect\u001b[39m.\u001b[39misawaitable(result):\n\u001b[0;32m--> 418\u001b[0m         \u001b[39mawait\u001b[39;00m result\n\u001b[1;32m    419\u001b[0m \u001b[39mexcept\u001b[39;00m \u001b[39mException\u001b[39;00m:\n",
      "File \u001b[0;32m~/anaconda3/envs/dmff/lib/python3.11/site-packages/ipykernel/kernelbase.py:758\u001b[0m, in \u001b[0;36mexecute_request\u001b[0;34m()\u001b[0m\n\u001b[1;32m    757\u001b[0m \u001b[39mif\u001b[39;00m inspect\u001b[39m.\u001b[39misawaitable(reply_content):\n\u001b[0;32m--> 758\u001b[0m     reply_content \u001b[39m=\u001b[39m \u001b[39mawait\u001b[39;00m reply_content\n\u001b[1;32m    760\u001b[0m \u001b[39m# Flush output before sending the reply.\u001b[39;00m\n",
      "File \u001b[0;32m~/anaconda3/envs/dmff/lib/python3.11/site-packages/ipykernel/ipkernel.py:426\u001b[0m, in \u001b[0;36mdo_execute\u001b[0;34m()\u001b[0m\n\u001b[1;32m    425\u001b[0m \u001b[39mif\u001b[39;00m with_cell_id:\n\u001b[0;32m--> 426\u001b[0m     res \u001b[39m=\u001b[39m shell\u001b[39m.\u001b[39mrun_cell(\n\u001b[1;32m    427\u001b[0m         code,\n\u001b[1;32m    428\u001b[0m         store_history\u001b[39m=\u001b[39mstore_history,\n\u001b[1;32m    429\u001b[0m         silent\u001b[39m=\u001b[39msilent,\n\u001b[1;32m    430\u001b[0m         cell_id\u001b[39m=\u001b[39mcell_id,\n\u001b[1;32m    431\u001b[0m     )\n\u001b[1;32m    432\u001b[0m \u001b[39melse\u001b[39;00m:\n",
      "File \u001b[0;32m~/anaconda3/envs/dmff/lib/python3.11/site-packages/ipykernel/zmqshell.py:549\u001b[0m, in \u001b[0;36mrun_cell\u001b[0;34m()\u001b[0m\n\u001b[1;32m    548\u001b[0m \u001b[39mself\u001b[39m\u001b[39m.\u001b[39m_last_traceback \u001b[39m=\u001b[39m \u001b[39mNone\u001b[39;00m\n\u001b[0;32m--> 549\u001b[0m \u001b[39mreturn\u001b[39;00m \u001b[39msuper\u001b[39m()\u001b[39m.\u001b[39mrun_cell(\u001b[39m*\u001b[39margs, \u001b[39m*\u001b[39m\u001b[39m*\u001b[39mkwargs)\n",
      "File \u001b[0;32m~/anaconda3/envs/dmff/lib/python3.11/site-packages/IPython/core/interactiveshell.py:3046\u001b[0m, in \u001b[0;36mrun_cell\u001b[0;34m()\u001b[0m\n\u001b[1;32m   3045\u001b[0m \u001b[39mtry\u001b[39;00m:\n\u001b[0;32m-> 3046\u001b[0m     result \u001b[39m=\u001b[39m \u001b[39mself\u001b[39m\u001b[39m.\u001b[39m_run_cell(\n\u001b[1;32m   3047\u001b[0m         raw_cell, store_history, silent, shell_futures, cell_id\n\u001b[1;32m   3048\u001b[0m     )\n\u001b[1;32m   3049\u001b[0m \u001b[39mfinally\u001b[39;00m:\n",
      "File \u001b[0;32m~/anaconda3/envs/dmff/lib/python3.11/site-packages/IPython/core/interactiveshell.py:3101\u001b[0m, in \u001b[0;36m_run_cell\u001b[0;34m()\u001b[0m\n\u001b[1;32m   3100\u001b[0m \u001b[39mtry\u001b[39;00m:\n\u001b[0;32m-> 3101\u001b[0m     result \u001b[39m=\u001b[39m runner(coro)\n\u001b[1;32m   3102\u001b[0m \u001b[39mexcept\u001b[39;00m \u001b[39mBaseException\u001b[39;00m \u001b[39mas\u001b[39;00m e:\n",
      "File \u001b[0;32m~/anaconda3/envs/dmff/lib/python3.11/site-packages/IPython/core/async_helpers.py:129\u001b[0m, in \u001b[0;36m_pseudo_sync_runner\u001b[0;34m()\u001b[0m\n\u001b[1;32m    128\u001b[0m \u001b[39mtry\u001b[39;00m:\n\u001b[0;32m--> 129\u001b[0m     coro\u001b[39m.\u001b[39msend(\u001b[39mNone\u001b[39;00m)\n\u001b[1;32m    130\u001b[0m \u001b[39mexcept\u001b[39;00m \u001b[39mStopIteration\u001b[39;00m \u001b[39mas\u001b[39;00m exc:\n",
      "File \u001b[0;32m~/anaconda3/envs/dmff/lib/python3.11/site-packages/IPython/core/interactiveshell.py:3306\u001b[0m, in \u001b[0;36mrun_cell_async\u001b[0;34m()\u001b[0m\n\u001b[1;32m   3303\u001b[0m interactivity \u001b[39m=\u001b[39m \u001b[39m\"\u001b[39m\u001b[39mnone\u001b[39m\u001b[39m\"\u001b[39m \u001b[39mif\u001b[39;00m silent \u001b[39melse\u001b[39;00m \u001b[39mself\u001b[39m\u001b[39m.\u001b[39mast_node_interactivity\n\u001b[0;32m-> 3306\u001b[0m has_raised \u001b[39m=\u001b[39m \u001b[39mawait\u001b[39;00m \u001b[39mself\u001b[39m\u001b[39m.\u001b[39mrun_ast_nodes(code_ast\u001b[39m.\u001b[39mbody, cell_name,\n\u001b[1;32m   3307\u001b[0m        interactivity\u001b[39m=\u001b[39minteractivity, compiler\u001b[39m=\u001b[39mcompiler, result\u001b[39m=\u001b[39mresult)\n\u001b[1;32m   3309\u001b[0m \u001b[39mself\u001b[39m\u001b[39m.\u001b[39mlast_execution_succeeded \u001b[39m=\u001b[39m \u001b[39mnot\u001b[39;00m has_raised\n",
      "File \u001b[0;32m~/anaconda3/envs/dmff/lib/python3.11/site-packages/IPython/core/interactiveshell.py:3488\u001b[0m, in \u001b[0;36mrun_ast_nodes\u001b[0;34m()\u001b[0m\n\u001b[1;32m   3487\u001b[0m     asy \u001b[39m=\u001b[39m compare(code)\n\u001b[0;32m-> 3488\u001b[0m \u001b[39mif\u001b[39;00m \u001b[39mawait\u001b[39;00m \u001b[39mself\u001b[39m\u001b[39m.\u001b[39mrun_code(code, result, async_\u001b[39m=\u001b[39masy):\n\u001b[1;32m   3489\u001b[0m     \u001b[39mreturn\u001b[39;00m \u001b[39mTrue\u001b[39;00m\n",
      "File \u001b[0;32m~/anaconda3/envs/dmff/lib/python3.11/site-packages/IPython/core/interactiveshell.py:3548\u001b[0m, in \u001b[0;36mrun_code\u001b[0;34m()\u001b[0m\n\u001b[1;32m   3547\u001b[0m     \u001b[39melse\u001b[39;00m:\n\u001b[0;32m-> 3548\u001b[0m         exec(code_obj, \u001b[39mself\u001b[39m\u001b[39m.\u001b[39muser_global_ns, \u001b[39mself\u001b[39m\u001b[39m.\u001b[39muser_ns)\n\u001b[1;32m   3549\u001b[0m \u001b[39mfinally\u001b[39;00m:\n\u001b[1;32m   3550\u001b[0m     \u001b[39m# Reset our crash handler in place\u001b[39;00m\n",
      "Cell \u001b[0;32mIn[51], line 23\u001b[0m\n\u001b[1;32m     22\u001b[0m v_and_g \u001b[39m=\u001b[39m jax\u001b[39m.\u001b[39mvalue_and_grad(loss, \u001b[39m0\u001b[39m)\n\u001b[0;32m---> 23\u001b[0m v, g \u001b[39m=\u001b[39m v_and_g(paramset)\n\u001b[1;32m     24\u001b[0m loss_ls\u001b[39m.\u001b[39mappend(v)\n",
      "Cell \u001b[0;32mIn[51], line 11\u001b[0m, in \u001b[0;36mloss\u001b[0;34m()\u001b[0m\n\u001b[1;32m     10\u001b[0m \u001b[39mfor\u001b[39;00m jdx \u001b[39min\u001b[39;00m \u001b[39mrange\u001b[39m(\u001b[39mint\u001b[39m(\u001b[39mlen\u001b[39m(traj_dict[idx][\u001b[39m'\u001b[39m\u001b[39mstructure\u001b[39m\u001b[39m'\u001b[39m]))):\n\u001b[0;32m---> 11\u001b[0m     ener \u001b[39m=\u001b[39m compute_binding_energy(paramset, traj_dict[idx][\u001b[39m'\u001b[39m\u001b[39mstructure\u001b[39m\u001b[39m'\u001b[39m][jdx][\u001b[39m0\u001b[39m], traj_dict[idx][\u001b[39m'\u001b[39m\u001b[39mstructure\u001b[39m\u001b[39m'\u001b[39m][jdx][\u001b[39m1\u001b[39m], lj_gen, numframe\u001b[39m=\u001b[39m\u001b[39m720\u001b[39m,cutoff\u001b[39m=\u001b[39mcutoff)\n\u001b[1;32m     12\u001b[0m     energies\u001b[39m.\u001b[39mappend(ener\u001b[39m.\u001b[39mreshape((\u001b[39m1\u001b[39m,)))\n",
      "Cell \u001b[0;32mIn[8], line 22\u001b[0m, in \u001b[0;36mcompute_binding_energy\u001b[0;34m()\u001b[0m\n\u001b[1;32m     21\u001b[0m pairs \u001b[39m=\u001b[39m jnp\u001b[39m.\u001b[39marray(nblist\u001b[39m.\u001b[39mpairs)\n\u001b[0;32m---> 22\u001b[0m ener \u001b[39m=\u001b[39m lj_force(pos_jnp,cell_jnp, pairs, paramset)\n\u001b[1;32m     23\u001b[0m \u001b[39mreturn\u001b[39;00m ener\n",
      "File \u001b[0;32m~/project/github/DMFF/dmff/generators/classical.py:1383\u001b[0m, in \u001b[0;36mpotential_fn\u001b[0;34m()\u001b[0m\n\u001b[1;32m   1381\u001b[0m isinstance_jnp(positions, box, params)\n\u001b[0;32m-> 1383\u001b[0m ljE \u001b[39m=\u001b[39m ljenergy(positions, box, pairs,\n\u001b[1;32m   1384\u001b[0m                params[\u001b[39mself\u001b[39m\u001b[39m.\u001b[39mname][\u001b[39m\"\u001b[39m\u001b[39mepsilon\u001b[39m\u001b[39m\"\u001b[39m],\n\u001b[1;32m   1385\u001b[0m                params[\u001b[39mself\u001b[39m\u001b[39m.\u001b[39mname][\u001b[39m\"\u001b[39m\u001b[39msigma\u001b[39m\u001b[39m\"\u001b[39m],\n\u001b[1;32m   1386\u001b[0m                params[\u001b[39mself\u001b[39m\u001b[39m.\u001b[39mname][\u001b[39m\"\u001b[39m\u001b[39mepsilon_nbfix\u001b[39m\u001b[39m\"\u001b[39m],\n\u001b[1;32m   1387\u001b[0m                params[\u001b[39mself\u001b[39m\u001b[39m.\u001b[39mname][\u001b[39m\"\u001b[39m\u001b[39msigma_nbfix\u001b[39m\u001b[39m\"\u001b[39m],\n\u001b[1;32m   1388\u001b[0m                mscales_lj)\n\u001b[1;32m   1390\u001b[0m \u001b[39mif\u001b[39;00m has_aux:\n",
      "File \u001b[0;32m~/project/github/DMFF/dmff/classical/inter.py:86\u001b[0m, in \u001b[0;36mget_energy\u001b[0;34m()\u001b[0m\n\u001b[1;32m     84\u001b[0m eps_scale \u001b[39m=\u001b[39m eps \u001b[39m*\u001b[39m mscale_pair\n\u001b[0;32m---> 86\u001b[0m E_inter \u001b[39m=\u001b[39m get_LJ_energy(dr_vec, sig, eps_scale, box)\n\u001b[1;32m     87\u001b[0m \u001b[39mif\u001b[39;00m aux \u001b[39mis\u001b[39;00m \u001b[39mNone\u001b[39;00m:\n",
      "File \u001b[0;32m~/project/github/DMFF/dmff/classical/inter.py:47\u001b[0m, in \u001b[0;36mget_LJ_energy\u001b[0;34m()\u001b[0m\n\u001b[1;32m     46\u001b[0m sig_dr12 \u001b[39m=\u001b[39m jnp\u001b[39m.\u001b[39mpower(sig_dr6, \u001b[39m2\u001b[39m)\n\u001b[0;32m---> 47\u001b[0m E \u001b[39m=\u001b[39m \u001b[39m4.0\u001b[39m \u001b[39m*\u001b[39m eps \u001b[39m*\u001b[39m (sig_dr12 \u001b[39m-\u001b[39m sig_dr6)\n\u001b[1;32m     49\u001b[0m \u001b[39mif\u001b[39;00m \u001b[39mself\u001b[39m\u001b[39m.\u001b[39misSwitch:\n",
      "File \u001b[0;32m~/anaconda3/envs/dmff/lib/python3.11/site-packages/jax/_src/numpy/array_methods.py:743\u001b[0m, in \u001b[0;36mop\u001b[0;34m()\u001b[0m\n\u001b[1;32m    742\u001b[0m \u001b[39mdef\u001b[39;00m \u001b[39mop\u001b[39m(\u001b[39mself\u001b[39m, \u001b[39m*\u001b[39margs):\n\u001b[0;32m--> 743\u001b[0m   \u001b[39mreturn\u001b[39;00m \u001b[39mgetattr\u001b[39m(\u001b[39mself\u001b[39m\u001b[39m.\u001b[39maval, \u001b[39mf\u001b[39m\u001b[39m\"\u001b[39m\u001b[39m_\u001b[39m\u001b[39m{\u001b[39;00mname\u001b[39m}\u001b[39;00m\u001b[39m\"\u001b[39m)(\u001b[39mself\u001b[39m, \u001b[39m*\u001b[39margs)\n",
      "File \u001b[0;32m~/anaconda3/envs/dmff/lib/python3.11/site-packages/jax/_src/numpy/array_methods.py:271\u001b[0m, in \u001b[0;36mdeferring_binary_op\u001b[0;34m()\u001b[0m\n\u001b[1;32m    270\u001b[0m \u001b[39mif\u001b[39;00m \u001b[39misinstance\u001b[39m(other, _accepted_binop_types):\n\u001b[0;32m--> 271\u001b[0m   \u001b[39mreturn\u001b[39;00m binary_op(\u001b[39m*\u001b[39margs)\n\u001b[1;32m    272\u001b[0m \u001b[39m# Note: don't use isinstance here, because we don't want to raise for\u001b[39;00m\n\u001b[1;32m    273\u001b[0m \u001b[39m# subclasses, e.g. NamedTuple objects that may override operators.\u001b[39;00m\n",
      "\u001b[0;31mJaxStackTraceBeforeTransformation\u001b[0m: jaxlib.xla_extension.XlaRuntimeError: INVALID_ARGUMENT: Symbol main.7 not found.\n\nThe preceding stack trace is the source of the JAX operation that, once transformed by JAX, triggered the following exception.\n\n--------------------",
      "\nThe above exception was the direct cause of the following exception:\n",
      "\u001b[0;31mXlaRuntimeError\u001b[0m                           Traceback (most recent call last)",
      "Cell \u001b[0;32mIn[51], line 23\u001b[0m\n\u001b[1;32m     21\u001b[0m clear_backends()\n\u001b[1;32m     22\u001b[0m v_and_g \u001b[39m=\u001b[39m jax\u001b[39m.\u001b[39mvalue_and_grad(loss, \u001b[39m0\u001b[39m)\n\u001b[0;32m---> 23\u001b[0m v, g \u001b[39m=\u001b[39m v_and_g(paramset)\n\u001b[1;32m     24\u001b[0m loss_ls\u001b[39m.\u001b[39mappend(v)\n\u001b[1;32m     25\u001b[0m clear_backends()\n",
      "    \u001b[0;31m[... skipping hidden 19 frame]\u001b[0m\n",
      "File \u001b[0;32m~/anaconda3/envs/dmff/lib/python3.11/site-packages/jax/_src/compiler.py:256\u001b[0m, in \u001b[0;36mbackend_compile\u001b[0;34m(backend, module, options, host_callbacks)\u001b[0m\n\u001b[1;32m    251\u001b[0m   \u001b[39mreturn\u001b[39;00m backend\u001b[39m.\u001b[39mcompile(built_c, compile_options\u001b[39m=\u001b[39moptions,\n\u001b[1;32m    252\u001b[0m                          host_callbacks\u001b[39m=\u001b[39mhost_callbacks)\n\u001b[1;32m    253\u001b[0m \u001b[39m# Some backends don't have `host_callbacks` option yet\u001b[39;00m\n\u001b[1;32m    254\u001b[0m \u001b[39m# TODO(sharadmv): remove this fallback when all backends allow `compile`\u001b[39;00m\n\u001b[1;32m    255\u001b[0m \u001b[39m# to take in `host_callbacks`\u001b[39;00m\n\u001b[0;32m--> 256\u001b[0m \u001b[39mreturn\u001b[39;00m backend\u001b[39m.\u001b[39;49mcompile(built_c, compile_options\u001b[39m=\u001b[39;49moptions)\n",
      "\u001b[0;31mXlaRuntimeError\u001b[0m: INVALID_ARGUMENT: Symbol main.7 not found."
     ]
    }
   ],
   "source": [
    "for nloop in range(20):\n",
    "    #move_traj(dest_path=\"/home/yutao/project/MIL-120/traj1/\",picked_pressure=picked_pressure, copy_to_path = \"./traj1/\")\n",
    "    #traj_dict = analyse_traj(paramset, lj_gen, dest_path=\"./traj1/\", interval=20)\n",
    "    #clear_backends()\n",
    "    clear_backends()\n",
    "    def loss(paramset):\n",
    "        errors = []\n",
    "        for idx in range(1, Number_points+1):\n",
    "            energies = []\n",
    "            for jdx in range(int(len(traj_dict[idx]['structure']))):\n",
    "                ener = compute_binding_energy(paramset, traj_dict[idx]['structure'][jdx][0], traj_dict[idx]['structure'][jdx][1], lj_gen, numframe=720,cutoff=cutoff)\n",
    "                energies.append(ener.reshape((1,)))\n",
    "            energies = jnp.concatenate(energies)\n",
    "            weight = traj_dict[idx]['estimator'].estimate_weight(energies)\n",
    "            reweight_loading = traj_dict[idx]['loading'] * weight\n",
    "            error = jnp.power(jnp.average(reweight_loading)-traj_dict[idx]['experiment']['loading'],2)\n",
    "            errors.append(error.reshape((1,)))\n",
    "            #print(error)\n",
    "        errors = jnp.concatenate(errors)\n",
    "        return jnp.sum(errors)\n",
    "    clear_backends()\n",
    "    v_and_g = jax.value_and_grad(loss, 0)\n",
    "    v, g = v_and_g(paramset)\n",
    "    loss_ls.append(v)\n",
    "    clear_backends()\n",
    "    print(\"One time\")"
   ]
  },
  {
   "cell_type": "code",
   "execution_count": null,
   "metadata": {},
   "outputs": [],
   "source": [
    "traj_dict = analyse_traj(paramset, lj_gen, dest_path=\"./traj1/\", interval=17)\n",
    "for nloop in range(20):\n",
    "    #move_traj(dest_path=\"/home/yutao/project/MIL-120/traj1/\",picked_pressure=picked_pressure, copy_to_path = \"./traj1/\")\n",
    "    \n",
    "    #clear_backends()\n",
    "    def loss(paramset):\n",
    "        errors = []\n",
    "        for idx in range(1, Number_points+1):\n",
    "            energies = []\n",
    "            for jdx in range(int(len(traj_dict[idx]['structure']))):\n",
    "                ener = compute_binding_energy(paramset, traj_dict[idx]['structure'][jdx][0], traj_dict[idx]['structure'][jdx][1], lj_gen, numframe=720,cutoff=cutoff)\n",
    "                energies.append(ener.reshape((1,)))\n",
    "            energies = jnp.concatenate(energies)\n",
    "            weight = traj_dict[idx]['estimator'].estimate_weight(energies)\n",
    "            reweight_loading = traj_dict[idx]['loading'] * weight\n",
    "            error = jnp.power(jnp.average(reweight_loading)-traj_dict[idx]['experiment']['loading'],2)\n",
    "            errors.append(error.reshape((1,)))\n",
    "            #print(error)\n",
    "        errors = jnp.concatenate(errors)\n",
    "        return jnp.sum(errors)\n",
    "    \n",
    "    v_and_g = jax.value_and_grad(loss, 0)\n",
    "    v, g = v_and_g(paramset)\n",
    "    loss_ls.append(v)\n",
    "    clear_backends()\n",
    "    print(\"One time\")"
   ]
  },
  {
   "cell_type": "code",
   "execution_count": null,
   "metadata": {},
   "outputs": [],
   "source": [
    "traj_dict = analyse_traj(paramset, lj_gen, dest_path=\"./traj1/\", interval=15)\n",
    "for nloop in range(20):\n",
    "    #move_traj(dest_path=\"/home/yutao/project/MIL-120/traj1/\",picked_pressure=picked_pressure, copy_to_path = \"./traj1/\")\n",
    "    \n",
    "    #clear_backends()\n",
    "    def loss(paramset):\n",
    "        errors = []\n",
    "        for idx in range(1, Number_points+1):\n",
    "            energies = []\n",
    "            for jdx in range(int(len(traj_dict[idx]['structure']))):\n",
    "                ener = compute_binding_energy(paramset, traj_dict[idx]['structure'][jdx][0], traj_dict[idx]['structure'][jdx][1], lj_gen, numframe=720,cutoff=cutoff)\n",
    "                energies.append(ener.reshape((1,)))\n",
    "            energies = jnp.concatenate(energies)\n",
    "            weight = traj_dict[idx]['estimator'].estimate_weight(energies)\n",
    "            reweight_loading = traj_dict[idx]['loading'] * weight\n",
    "            error = jnp.power(jnp.average(reweight_loading)-traj_dict[idx]['experiment']['loading'],2)\n",
    "            errors.append(error.reshape((1,)))\n",
    "            #print(error)\n",
    "        errors = jnp.concatenate(errors)\n",
    "        return jnp.sum(errors)\n",
    "    \n",
    "    v_and_g = jax.value_and_grad(loss, 0)\n",
    "    v, g = v_and_g(paramset)\n",
    "    loss_ls.append(v)\n",
    "    clear_backends()\n",
    "    print(\"One time\")"
   ]
  },
  {
   "cell_type": "code",
   "execution_count": null,
   "metadata": {},
   "outputs": [],
   "source": [
    "traj_dict = analyse_traj(paramset, lj_gen, dest_path=\"./traj1/\", interval=13)\n",
    "for nloop in range(20):\n",
    "    #move_traj(dest_path=\"/home/yutao/project/MIL-120/traj1/\",picked_pressure=picked_pressure, copy_to_path = \"./traj1/\")\n",
    "    \n",
    "    #clear_backends()\n",
    "    def loss(paramset):\n",
    "        errors = []\n",
    "        for idx in range(1, Number_points+1):\n",
    "            energies = []\n",
    "            for jdx in range(int(len(traj_dict[idx]['structure']))):\n",
    "                ener = compute_binding_energy(paramset, traj_dict[idx]['structure'][jdx][0], traj_dict[idx]['structure'][jdx][1], lj_gen, numframe=720,cutoff=cutoff)\n",
    "                energies.append(ener.reshape((1,)))\n",
    "            energies = jnp.concatenate(energies)\n",
    "            weight = traj_dict[idx]['estimator'].estimate_weight(energies)\n",
    "            reweight_loading = traj_dict[idx]['loading'] * weight\n",
    "            error = jnp.power(jnp.average(reweight_loading)-traj_dict[idx]['experiment']['loading'],2)\n",
    "            errors.append(error.reshape((1,)))\n",
    "            #print(error)\n",
    "        errors = jnp.concatenate(errors)\n",
    "        return jnp.sum(errors)\n",
    "    \n",
    "    v_and_g = jax.value_and_grad(loss, 0)\n",
    "    v, g = v_and_g(paramset)\n",
    "    loss_ls.append(v)\n",
    "    clear_backends()\n",
    "    print(\"One time\")"
   ]
  },
  {
   "cell_type": "code",
   "execution_count": null,
   "metadata": {},
   "outputs": [],
   "source": [
    "traj_dict = analyse_traj(paramset, lj_gen, dest_path=\"./traj1/\", interval=10)\n",
    "for nloop in range(20):\n",
    "    #move_traj(dest_path=\"/home/yutao/project/MIL-120/traj1/\",picked_pressure=picked_pressure, copy_to_path = \"./traj1/\")\n",
    "    \n",
    "    #clear_backends()\n",
    "    def loss(paramset):\n",
    "        errors = []\n",
    "        for idx in range(1, Number_points+1):\n",
    "            energies = []\n",
    "            for jdx in range(int(len(traj_dict[idx]['structure']))):\n",
    "                ener = compute_binding_energy(paramset, traj_dict[idx]['structure'][jdx][0], traj_dict[idx]['structure'][jdx][1], lj_gen, numframe=720,cutoff=cutoff)\n",
    "                energies.append(ener.reshape((1,)))\n",
    "            energies = jnp.concatenate(energies)\n",
    "            weight = traj_dict[idx]['estimator'].estimate_weight(energies)\n",
    "            reweight_loading = traj_dict[idx]['loading'] * weight\n",
    "            error = jnp.power(jnp.average(reweight_loading)-traj_dict[idx]['experiment']['loading'],2)\n",
    "            errors.append(error.reshape((1,)))\n",
    "            #print(error)\n",
    "        errors = jnp.concatenate(errors)\n",
    "        return jnp.sum(errors)\n",
    "    \n",
    "    v_and_g = jax.value_and_grad(loss, 0)\n",
    "    v, g = v_and_g(paramset)\n",
    "    loss_ls.append(v)\n",
    "    clear_backends()\n",
    "    print(\"One time\")"
   ]
  },
  {
   "cell_type": "code",
   "execution_count": null,
   "metadata": {},
   "outputs": [],
   "source": [
    "for nloop in range(80):\n",
    "    #move_traj(dest_path=\"/home/yutao/project/MIL-120/traj1/\",picked_pressure=picked_pressure, copy_to_path = \"./traj1/\")\n",
    "    traj_dict = analyse_traj(paramset, lj_gen, dest_path=\"./traj1/\", interval=15)\n",
    "    #clear_backends()\n",
    "    def loss(paramset):\n",
    "        errors = []\n",
    "        for idx in range(1, Number_points+1):\n",
    "            energies = []\n",
    "            for jdx in range(int(len(traj_dict[idx]['structure']))):\n",
    "                ener = compute_binding_energy(paramset, traj_dict[idx]['structure'][jdx][0], traj_dict[idx]['structure'][jdx][1], lj_gen, numframe=720,cutoff=cutoff)\n",
    "                energies.append(ener.reshape((1,)))\n",
    "            energies = jnp.concatenate(energies)\n",
    "            weight = traj_dict[idx]['estimator'].estimate_weight(energies)\n",
    "            reweight_loading = traj_dict[idx]['loading'] * weight\n",
    "            error = jnp.power(jnp.average(reweight_loading)-traj_dict[idx]['experiment']['loading'],2)\n",
    "            errors.append(error.reshape((1,)))\n",
    "            #print(error)\n",
    "        errors = jnp.concatenate(errors)\n",
    "        return jnp.sum(errors)\n",
    "    \n",
    "    v_and_g = jax.value_and_grad(loss, 0)\n",
    "    v, g = v_and_g(paramset)\n",
    "    loss_ls.append(v)\n",
    "    clear_backends()\n",
    "    print(\"One time\")"
   ]
  },
  {
   "cell_type": "code",
   "execution_count": 25,
   "metadata": {},
   "outputs": [
    {
     "name": "stdout",
     "output_type": "stream",
     "text": [
      "This is 1 time\n",
      "This is 2 time\n",
      "This is 3 time\n",
      "This is 4 time\n",
      "This is 5 time\n"
     ]
    },
    {
     "data": {
      "text/plain": [
       "'Script finished successfully!'"
      ]
     },
     "metadata": {},
     "output_type": "display_data"
    },
    {
     "data": {
      "text/plain": [
       "'Script output:'"
      ]
     },
     "metadata": {},
     "output_type": "display_data"
    },
    {
     "data": {
      "text/plain": [
       "'This is the final pk values:  256072\\n'"
      ]
     },
     "metadata": {},
     "output_type": "display_data"
    },
    {
     "name": "stdout",
     "output_type": "stream",
     "text": [
      "This is 6 time\n",
      "This is 7 time\n",
      "This is 8 time\n",
      "This is 9 time\n"
     ]
    },
    {
     "name": "stderr",
     "output_type": "stream",
     "text": [
      "JIT session error: Cannot allocate memory\n"
     ]
    },
    {
     "ename": "XlaRuntimeError",
     "evalue": "INVALID_ARGUMENT: Symbol main.4 not found.",
     "output_type": "error",
     "traceback": [
      "\u001b[0;31m---------------------------------------------------------------------------\u001b[0m",
      "\u001b[0;31mJaxStackTraceBeforeTransformation\u001b[0m         Traceback (most recent call last)",
      "File \u001b[0;32m<frozen runpy>:198\u001b[0m, in \u001b[0;36m_run_module_as_main\u001b[0;34m()\u001b[0m\n",
      "File \u001b[0;32m<frozen runpy>:88\u001b[0m, in \u001b[0;36m_run_code\u001b[0;34m()\u001b[0m\n",
      "File \u001b[0;32m~/anaconda3/envs/dmff/lib/python3.11/site-packages/ipykernel_launcher.py:17\u001b[0m\n\u001b[1;32m     15\u001b[0m \u001b[39mfrom\u001b[39;00m \u001b[39mipykernel\u001b[39;00m \u001b[39mimport\u001b[39;00m kernelapp \u001b[39mas\u001b[39;00m app\n\u001b[0;32m---> 17\u001b[0m app\u001b[39m.\u001b[39mlaunch_new_instance()\n",
      "File \u001b[0;32m~/anaconda3/envs/dmff/lib/python3.11/site-packages/traitlets/config/application.py:1053\u001b[0m, in \u001b[0;36mlaunch_instance\u001b[0;34m()\u001b[0m\n\u001b[1;32m   1052\u001b[0m app\u001b[39m.\u001b[39minitialize(argv)\n\u001b[0;32m-> 1053\u001b[0m app\u001b[39m.\u001b[39mstart()\n",
      "File \u001b[0;32m~/anaconda3/envs/dmff/lib/python3.11/site-packages/ipykernel/kernelapp.py:737\u001b[0m, in \u001b[0;36mstart\u001b[0;34m()\u001b[0m\n\u001b[1;32m    736\u001b[0m \u001b[39mtry\u001b[39;00m:\n\u001b[0;32m--> 737\u001b[0m     \u001b[39mself\u001b[39m\u001b[39m.\u001b[39mio_loop\u001b[39m.\u001b[39mstart()\n\u001b[1;32m    738\u001b[0m \u001b[39mexcept\u001b[39;00m \u001b[39mKeyboardInterrupt\u001b[39;00m:\n",
      "File \u001b[0;32m~/anaconda3/envs/dmff/lib/python3.11/site-packages/tornado/platform/asyncio.py:195\u001b[0m, in \u001b[0;36mstart\u001b[0;34m()\u001b[0m\n\u001b[1;32m    194\u001b[0m \u001b[39mdef\u001b[39;00m \u001b[39mstart\u001b[39m(\u001b[39mself\u001b[39m) \u001b[39m-\u001b[39m\u001b[39m>\u001b[39m \u001b[39mNone\u001b[39;00m:\n\u001b[0;32m--> 195\u001b[0m     \u001b[39mself\u001b[39m\u001b[39m.\u001b[39masyncio_loop\u001b[39m.\u001b[39mrun_forever()\n",
      "File \u001b[0;32m~/anaconda3/envs/dmff/lib/python3.11/asyncio/base_events.py:607\u001b[0m, in \u001b[0;36mrun_forever\u001b[0;34m()\u001b[0m\n\u001b[1;32m    606\u001b[0m \u001b[39mwhile\u001b[39;00m \u001b[39mTrue\u001b[39;00m:\n\u001b[0;32m--> 607\u001b[0m     \u001b[39mself\u001b[39m\u001b[39m.\u001b[39m_run_once()\n\u001b[1;32m    608\u001b[0m     \u001b[39mif\u001b[39;00m \u001b[39mself\u001b[39m\u001b[39m.\u001b[39m_stopping:\n",
      "File \u001b[0;32m~/anaconda3/envs/dmff/lib/python3.11/asyncio/base_events.py:1922\u001b[0m, in \u001b[0;36m_run_once\u001b[0;34m()\u001b[0m\n\u001b[1;32m   1921\u001b[0m     \u001b[39melse\u001b[39;00m:\n\u001b[0;32m-> 1922\u001b[0m         handle\u001b[39m.\u001b[39m_run()\n\u001b[1;32m   1923\u001b[0m handle \u001b[39m=\u001b[39m \u001b[39mNone\u001b[39;00m\n",
      "File \u001b[0;32m~/anaconda3/envs/dmff/lib/python3.11/asyncio/events.py:80\u001b[0m, in \u001b[0;36m_run\u001b[0;34m()\u001b[0m\n\u001b[1;32m     79\u001b[0m \u001b[39mtry\u001b[39;00m:\n\u001b[0;32m---> 80\u001b[0m     \u001b[39mself\u001b[39m\u001b[39m.\u001b[39m_context\u001b[39m.\u001b[39mrun(\u001b[39mself\u001b[39m\u001b[39m.\u001b[39m_callback, \u001b[39m*\u001b[39m\u001b[39mself\u001b[39m\u001b[39m.\u001b[39m_args)\n\u001b[1;32m     81\u001b[0m \u001b[39mexcept\u001b[39;00m (\u001b[39mSystemExit\u001b[39;00m, \u001b[39mKeyboardInterrupt\u001b[39;00m):\n",
      "File \u001b[0;32m~/anaconda3/envs/dmff/lib/python3.11/site-packages/ipykernel/kernelbase.py:524\u001b[0m, in \u001b[0;36mdispatch_queue\u001b[0;34m()\u001b[0m\n\u001b[1;32m    523\u001b[0m \u001b[39mtry\u001b[39;00m:\n\u001b[0;32m--> 524\u001b[0m     \u001b[39mawait\u001b[39;00m \u001b[39mself\u001b[39m\u001b[39m.\u001b[39mprocess_one()\n\u001b[1;32m    525\u001b[0m \u001b[39mexcept\u001b[39;00m \u001b[39mException\u001b[39;00m:\n",
      "File \u001b[0;32m~/anaconda3/envs/dmff/lib/python3.11/site-packages/ipykernel/kernelbase.py:513\u001b[0m, in \u001b[0;36mprocess_one\u001b[0;34m()\u001b[0m\n\u001b[1;32m    512\u001b[0m         \u001b[39mreturn\u001b[39;00m \u001b[39mNone\u001b[39;00m\n\u001b[0;32m--> 513\u001b[0m \u001b[39mawait\u001b[39;00m dispatch(\u001b[39m*\u001b[39margs)\n",
      "File \u001b[0;32m~/anaconda3/envs/dmff/lib/python3.11/site-packages/ipykernel/kernelbase.py:418\u001b[0m, in \u001b[0;36mdispatch_shell\u001b[0;34m()\u001b[0m\n\u001b[1;32m    417\u001b[0m     \u001b[39mif\u001b[39;00m inspect\u001b[39m.\u001b[39misawaitable(result):\n\u001b[0;32m--> 418\u001b[0m         \u001b[39mawait\u001b[39;00m result\n\u001b[1;32m    419\u001b[0m \u001b[39mexcept\u001b[39;00m \u001b[39mException\u001b[39;00m:\n",
      "File \u001b[0;32m~/anaconda3/envs/dmff/lib/python3.11/site-packages/ipykernel/kernelbase.py:758\u001b[0m, in \u001b[0;36mexecute_request\u001b[0;34m()\u001b[0m\n\u001b[1;32m    757\u001b[0m \u001b[39mif\u001b[39;00m inspect\u001b[39m.\u001b[39misawaitable(reply_content):\n\u001b[0;32m--> 758\u001b[0m     reply_content \u001b[39m=\u001b[39m \u001b[39mawait\u001b[39;00m reply_content\n\u001b[1;32m    760\u001b[0m \u001b[39m# Flush output before sending the reply.\u001b[39;00m\n",
      "File \u001b[0;32m~/anaconda3/envs/dmff/lib/python3.11/site-packages/ipykernel/ipkernel.py:426\u001b[0m, in \u001b[0;36mdo_execute\u001b[0;34m()\u001b[0m\n\u001b[1;32m    425\u001b[0m \u001b[39mif\u001b[39;00m with_cell_id:\n\u001b[0;32m--> 426\u001b[0m     res \u001b[39m=\u001b[39m shell\u001b[39m.\u001b[39mrun_cell(\n\u001b[1;32m    427\u001b[0m         code,\n\u001b[1;32m    428\u001b[0m         store_history\u001b[39m=\u001b[39mstore_history,\n\u001b[1;32m    429\u001b[0m         silent\u001b[39m=\u001b[39msilent,\n\u001b[1;32m    430\u001b[0m         cell_id\u001b[39m=\u001b[39mcell_id,\n\u001b[1;32m    431\u001b[0m     )\n\u001b[1;32m    432\u001b[0m \u001b[39melse\u001b[39;00m:\n",
      "File \u001b[0;32m~/anaconda3/envs/dmff/lib/python3.11/site-packages/ipykernel/zmqshell.py:549\u001b[0m, in \u001b[0;36mrun_cell\u001b[0;34m()\u001b[0m\n\u001b[1;32m    548\u001b[0m \u001b[39mself\u001b[39m\u001b[39m.\u001b[39m_last_traceback \u001b[39m=\u001b[39m \u001b[39mNone\u001b[39;00m\n\u001b[0;32m--> 549\u001b[0m \u001b[39mreturn\u001b[39;00m \u001b[39msuper\u001b[39m()\u001b[39m.\u001b[39mrun_cell(\u001b[39m*\u001b[39margs, \u001b[39m*\u001b[39m\u001b[39m*\u001b[39mkwargs)\n",
      "File \u001b[0;32m~/anaconda3/envs/dmff/lib/python3.11/site-packages/IPython/core/interactiveshell.py:3046\u001b[0m, in \u001b[0;36mrun_cell\u001b[0;34m()\u001b[0m\n\u001b[1;32m   3045\u001b[0m \u001b[39mtry\u001b[39;00m:\n\u001b[0;32m-> 3046\u001b[0m     result \u001b[39m=\u001b[39m \u001b[39mself\u001b[39m\u001b[39m.\u001b[39m_run_cell(\n\u001b[1;32m   3047\u001b[0m         raw_cell, store_history, silent, shell_futures, cell_id\n\u001b[1;32m   3048\u001b[0m     )\n\u001b[1;32m   3049\u001b[0m \u001b[39mfinally\u001b[39;00m:\n",
      "File \u001b[0;32m~/anaconda3/envs/dmff/lib/python3.11/site-packages/IPython/core/interactiveshell.py:3101\u001b[0m, in \u001b[0;36m_run_cell\u001b[0;34m()\u001b[0m\n\u001b[1;32m   3100\u001b[0m \u001b[39mtry\u001b[39;00m:\n\u001b[0;32m-> 3101\u001b[0m     result \u001b[39m=\u001b[39m runner(coro)\n\u001b[1;32m   3102\u001b[0m \u001b[39mexcept\u001b[39;00m \u001b[39mBaseException\u001b[39;00m \u001b[39mas\u001b[39;00m e:\n",
      "File \u001b[0;32m~/anaconda3/envs/dmff/lib/python3.11/site-packages/IPython/core/async_helpers.py:129\u001b[0m, in \u001b[0;36m_pseudo_sync_runner\u001b[0;34m()\u001b[0m\n\u001b[1;32m    128\u001b[0m \u001b[39mtry\u001b[39;00m:\n\u001b[0;32m--> 129\u001b[0m     coro\u001b[39m.\u001b[39msend(\u001b[39mNone\u001b[39;00m)\n\u001b[1;32m    130\u001b[0m \u001b[39mexcept\u001b[39;00m \u001b[39mStopIteration\u001b[39;00m \u001b[39mas\u001b[39;00m exc:\n",
      "File \u001b[0;32m~/anaconda3/envs/dmff/lib/python3.11/site-packages/IPython/core/interactiveshell.py:3306\u001b[0m, in \u001b[0;36mrun_cell_async\u001b[0;34m()\u001b[0m\n\u001b[1;32m   3303\u001b[0m interactivity \u001b[39m=\u001b[39m \u001b[39m\"\u001b[39m\u001b[39mnone\u001b[39m\u001b[39m\"\u001b[39m \u001b[39mif\u001b[39;00m silent \u001b[39melse\u001b[39;00m \u001b[39mself\u001b[39m\u001b[39m.\u001b[39mast_node_interactivity\n\u001b[0;32m-> 3306\u001b[0m has_raised \u001b[39m=\u001b[39m \u001b[39mawait\u001b[39;00m \u001b[39mself\u001b[39m\u001b[39m.\u001b[39mrun_ast_nodes(code_ast\u001b[39m.\u001b[39mbody, cell_name,\n\u001b[1;32m   3307\u001b[0m        interactivity\u001b[39m=\u001b[39minteractivity, compiler\u001b[39m=\u001b[39mcompiler, result\u001b[39m=\u001b[39mresult)\n\u001b[1;32m   3309\u001b[0m \u001b[39mself\u001b[39m\u001b[39m.\u001b[39mlast_execution_succeeded \u001b[39m=\u001b[39m \u001b[39mnot\u001b[39;00m has_raised\n",
      "File \u001b[0;32m~/anaconda3/envs/dmff/lib/python3.11/site-packages/IPython/core/interactiveshell.py:3488\u001b[0m, in \u001b[0;36mrun_ast_nodes\u001b[0;34m()\u001b[0m\n\u001b[1;32m   3487\u001b[0m     asy \u001b[39m=\u001b[39m compare(code)\n\u001b[0;32m-> 3488\u001b[0m \u001b[39mif\u001b[39;00m \u001b[39mawait\u001b[39;00m \u001b[39mself\u001b[39m\u001b[39m.\u001b[39mrun_code(code, result, async_\u001b[39m=\u001b[39masy):\n\u001b[1;32m   3489\u001b[0m     \u001b[39mreturn\u001b[39;00m \u001b[39mTrue\u001b[39;00m\n",
      "File \u001b[0;32m~/anaconda3/envs/dmff/lib/python3.11/site-packages/IPython/core/interactiveshell.py:3548\u001b[0m, in \u001b[0;36mrun_code\u001b[0;34m()\u001b[0m\n\u001b[1;32m   3547\u001b[0m     \u001b[39melse\u001b[39;00m:\n\u001b[0;32m-> 3548\u001b[0m         exec(code_obj, \u001b[39mself\u001b[39m\u001b[39m.\u001b[39muser_global_ns, \u001b[39mself\u001b[39m\u001b[39m.\u001b[39muser_ns)\n\u001b[1;32m   3549\u001b[0m \u001b[39mfinally\u001b[39;00m:\n\u001b[1;32m   3550\u001b[0m     \u001b[39m# Reset our crash handler in place\u001b[39;00m\n",
      "Cell \u001b[0;32mIn[25], line 24\u001b[0m\n\u001b[1;32m     23\u001b[0m v_and_g \u001b[39m=\u001b[39m jax\u001b[39m.\u001b[39mvalue_and_grad(loss, \u001b[39m0\u001b[39m)\n\u001b[0;32m---> 24\u001b[0m v, g \u001b[39m=\u001b[39m v_and_g(paramset)\n\u001b[1;32m     25\u001b[0m loss_ls\u001b[39m.\u001b[39mappend(v)\n",
      "Cell \u001b[0;32mIn[25], line 12\u001b[0m, in \u001b[0;36mloss\u001b[0;34m()\u001b[0m\n\u001b[1;32m     11\u001b[0m \u001b[39mfor\u001b[39;00m jdx \u001b[39min\u001b[39;00m \u001b[39mrange\u001b[39m(\u001b[39mlen\u001b[39m(traj_dict[idx][\u001b[39m'\u001b[39m\u001b[39mstructure\u001b[39m\u001b[39m'\u001b[39m])):\n\u001b[0;32m---> 12\u001b[0m     ener \u001b[39m=\u001b[39m compute_binding_energy(paramset, traj_dict[idx][\u001b[39m'\u001b[39m\u001b[39mstructure\u001b[39m\u001b[39m'\u001b[39m][jdx][\u001b[39m0\u001b[39m], traj_dict[idx][\u001b[39m'\u001b[39m\u001b[39mstructure\u001b[39m\u001b[39m'\u001b[39m][jdx][\u001b[39m1\u001b[39m], lj_gen, numframe\u001b[39m=\u001b[39m\u001b[39m720\u001b[39m,cutoff\u001b[39m=\u001b[39mcutoff)\n\u001b[1;32m     13\u001b[0m     energies\u001b[39m.\u001b[39mappend(ener\u001b[39m.\u001b[39mreshape((\u001b[39m1\u001b[39m,)))\n",
      "Cell \u001b[0;32mIn[8], line 22\u001b[0m, in \u001b[0;36mcompute_binding_energy\u001b[0;34m()\u001b[0m\n\u001b[1;32m     21\u001b[0m pairs \u001b[39m=\u001b[39m jnp\u001b[39m.\u001b[39marray(nblist\u001b[39m.\u001b[39mpairs)\n\u001b[0;32m---> 22\u001b[0m ener \u001b[39m=\u001b[39m lj_force(pos_jnp,cell_jnp, pairs, paramset)\n\u001b[1;32m     23\u001b[0m \u001b[39mreturn\u001b[39;00m ener\n",
      "File \u001b[0;32m~/project/github/DMFF/dmff/generators/classical.py:1383\u001b[0m, in \u001b[0;36mpotential_fn\u001b[0;34m()\u001b[0m\n\u001b[1;32m   1381\u001b[0m isinstance_jnp(positions, box, params)\n\u001b[0;32m-> 1383\u001b[0m ljE \u001b[39m=\u001b[39m ljenergy(positions, box, pairs,\n\u001b[1;32m   1384\u001b[0m                params[\u001b[39mself\u001b[39m\u001b[39m.\u001b[39mname][\u001b[39m\"\u001b[39m\u001b[39mepsilon\u001b[39m\u001b[39m\"\u001b[39m],\n\u001b[1;32m   1385\u001b[0m                params[\u001b[39mself\u001b[39m\u001b[39m.\u001b[39mname][\u001b[39m\"\u001b[39m\u001b[39msigma\u001b[39m\u001b[39m\"\u001b[39m],\n\u001b[1;32m   1386\u001b[0m                params[\u001b[39mself\u001b[39m\u001b[39m.\u001b[39mname][\u001b[39m\"\u001b[39m\u001b[39mepsilon_nbfix\u001b[39m\u001b[39m\"\u001b[39m],\n\u001b[1;32m   1387\u001b[0m                params[\u001b[39mself\u001b[39m\u001b[39m.\u001b[39mname][\u001b[39m\"\u001b[39m\u001b[39msigma_nbfix\u001b[39m\u001b[39m\"\u001b[39m],\n\u001b[1;32m   1388\u001b[0m                mscales_lj)\n\u001b[1;32m   1390\u001b[0m \u001b[39mif\u001b[39;00m has_aux:\n",
      "File \u001b[0;32m~/project/github/DMFF/dmff/classical/inter.py:86\u001b[0m, in \u001b[0;36mget_energy\u001b[0;34m()\u001b[0m\n\u001b[1;32m     84\u001b[0m eps_scale \u001b[39m=\u001b[39m eps \u001b[39m*\u001b[39m mscale_pair\n\u001b[0;32m---> 86\u001b[0m E_inter \u001b[39m=\u001b[39m get_LJ_energy(dr_vec, sig, eps_scale, box)\n\u001b[1;32m     87\u001b[0m \u001b[39mif\u001b[39;00m aux \u001b[39mis\u001b[39;00m \u001b[39mNone\u001b[39;00m:\n",
      "File \u001b[0;32m~/project/github/DMFF/dmff/classical/inter.py:47\u001b[0m, in \u001b[0;36mget_LJ_energy\u001b[0;34m()\u001b[0m\n\u001b[1;32m     46\u001b[0m sig_dr12 \u001b[39m=\u001b[39m jnp\u001b[39m.\u001b[39mpower(sig_dr6, \u001b[39m2\u001b[39m)\n\u001b[0;32m---> 47\u001b[0m E \u001b[39m=\u001b[39m \u001b[39m4.0\u001b[39m \u001b[39m*\u001b[39m eps \u001b[39m*\u001b[39m (sig_dr12 \u001b[39m-\u001b[39m sig_dr6)\n\u001b[1;32m     49\u001b[0m \u001b[39mif\u001b[39;00m \u001b[39mself\u001b[39m\u001b[39m.\u001b[39misSwitch:\n",
      "File \u001b[0;32m~/anaconda3/envs/dmff/lib/python3.11/site-packages/jax/_src/numpy/array_methods.py:743\u001b[0m, in \u001b[0;36mop\u001b[0;34m()\u001b[0m\n\u001b[1;32m    742\u001b[0m \u001b[39mdef\u001b[39;00m \u001b[39mop\u001b[39m(\u001b[39mself\u001b[39m, \u001b[39m*\u001b[39margs):\n\u001b[0;32m--> 743\u001b[0m   \u001b[39mreturn\u001b[39;00m \u001b[39mgetattr\u001b[39m(\u001b[39mself\u001b[39m\u001b[39m.\u001b[39maval, \u001b[39mf\u001b[39m\u001b[39m\"\u001b[39m\u001b[39m_\u001b[39m\u001b[39m{\u001b[39;00mname\u001b[39m}\u001b[39;00m\u001b[39m\"\u001b[39m)(\u001b[39mself\u001b[39m, \u001b[39m*\u001b[39margs)\n",
      "File \u001b[0;32m~/anaconda3/envs/dmff/lib/python3.11/site-packages/jax/_src/numpy/array_methods.py:271\u001b[0m, in \u001b[0;36mdeferring_binary_op\u001b[0;34m()\u001b[0m\n\u001b[1;32m    270\u001b[0m \u001b[39mif\u001b[39;00m \u001b[39misinstance\u001b[39m(other, _accepted_binop_types):\n\u001b[0;32m--> 271\u001b[0m   \u001b[39mreturn\u001b[39;00m binary_op(\u001b[39m*\u001b[39margs)\n\u001b[1;32m    272\u001b[0m \u001b[39m# Note: don't use isinstance here, because we don't want to raise for\u001b[39;00m\n\u001b[1;32m    273\u001b[0m \u001b[39m# subclasses, e.g. NamedTuple objects that may override operators.\u001b[39;00m\n",
      "\u001b[0;31mJaxStackTraceBeforeTransformation\u001b[0m: jaxlib.xla_extension.XlaRuntimeError: INVALID_ARGUMENT: Symbol main.4 not found.\n\nThe preceding stack trace is the source of the JAX operation that, once transformed by JAX, triggered the following exception.\n\n--------------------",
      "\nThe above exception was the direct cause of the following exception:\n",
      "\u001b[0;31mXlaRuntimeError\u001b[0m                           Traceback (most recent call last)",
      "Cell \u001b[0;32mIn[25], line 24\u001b[0m\n\u001b[1;32m     21\u001b[0m     \u001b[39mreturn\u001b[39;00m jnp\u001b[39m.\u001b[39msum(errors)\n\u001b[1;32m     23\u001b[0m v_and_g \u001b[39m=\u001b[39m jax\u001b[39m.\u001b[39mvalue_and_grad(loss, \u001b[39m0\u001b[39m)\n\u001b[0;32m---> 24\u001b[0m v, g \u001b[39m=\u001b[39m v_and_g(paramset)\n\u001b[1;32m     25\u001b[0m loss_ls\u001b[39m.\u001b[39mappend(v)\n\u001b[1;32m     27\u001b[0m updates, opt_state \u001b[39m=\u001b[39m optimizer\u001b[39m.\u001b[39mupdate(g, opt_state)\n",
      "    \u001b[0;31m[... skipping hidden 19 frame]\u001b[0m\n",
      "File \u001b[0;32m~/anaconda3/envs/dmff/lib/python3.11/site-packages/jax/_src/compiler.py:256\u001b[0m, in \u001b[0;36mbackend_compile\u001b[0;34m(backend, module, options, host_callbacks)\u001b[0m\n\u001b[1;32m    251\u001b[0m   \u001b[39mreturn\u001b[39;00m backend\u001b[39m.\u001b[39mcompile(built_c, compile_options\u001b[39m=\u001b[39moptions,\n\u001b[1;32m    252\u001b[0m                          host_callbacks\u001b[39m=\u001b[39mhost_callbacks)\n\u001b[1;32m    253\u001b[0m \u001b[39m# Some backends don't have `host_callbacks` option yet\u001b[39;00m\n\u001b[1;32m    254\u001b[0m \u001b[39m# TODO(sharadmv): remove this fallback when all backends allow `compile`\u001b[39;00m\n\u001b[1;32m    255\u001b[0m \u001b[39m# to take in `host_callbacks`\u001b[39;00m\n\u001b[0;32m--> 256\u001b[0m \u001b[39mreturn\u001b[39;00m backend\u001b[39m.\u001b[39;49mcompile(built_c, compile_options\u001b[39m=\u001b[39;49moptions)\n",
      "\u001b[0;31mXlaRuntimeError\u001b[0m: INVALID_ARGUMENT: Symbol main.4 not found."
     ]
    }
   ],
   "source": [
    "for nloop in range(1,80):\n",
    "    print(f\"This is {nloop} time\")\n",
    "    if nloop % 5 == 0:\n",
    "        sample()\n",
    "    move_traj(dest_path=\"/home/yutao/project/MIL-120/traj1/\",picked_pressure=picked_pressure, copy_to_path = \"./traj1/\")\n",
    "    traj_dict = analyse_traj(paramset, lj_gen, dest_path=\"./traj1/\", interval=10)\n",
    "    def loss(paramset):\n",
    "        errors = []\n",
    "        for idx in range(1, Number_points+1):\n",
    "            energies = []\n",
    "            for jdx in range(len(traj_dict[idx]['structure'])):\n",
    "                ener = compute_binding_energy(paramset, traj_dict[idx]['structure'][jdx][0], traj_dict[idx]['structure'][jdx][1], lj_gen, numframe=720,cutoff=cutoff)\n",
    "                energies.append(ener.reshape((1,)))\n",
    "            energies = jnp.concatenate(energies)\n",
    "            weight = traj_dict[idx]['estimator'].estimate_weight(energies)\n",
    "            reweight_loading = traj_dict[idx]['loading'] * weight\n",
    "            error = jnp.power(jnp.average(reweight_loading)-traj_dict[idx]['experiment']['loading'],2)\n",
    "            errors.append(error.reshape((1,)))\n",
    "            #print(error)\n",
    "        errors = jnp.concatenate(errors)\n",
    "        return jnp.sum(errors)\n",
    "\n",
    "    v_and_g = jax.value_and_grad(loss, 0)\n",
    "    v, g = v_and_g(paramset)\n",
    "    loss_ls.append(v)\n",
    "    \n",
    "    updates, opt_state = optimizer.update(g, opt_state)\n",
    "    updates.parameters = update_mask(updates.parameters,paramset.mask)\n",
    "    paramset = optax.apply_updates(paramset, updates)\n",
    "    paramset = jax.tree_map(lambda x: jnp.clip(x, 0.0, 1e8), paramset)\n",
    "    update_ff(paramset, dest_path='/home/yutao/project/aiida/applications/ff_2.json')\n",
    "    lj_gen.overwrite(paramset)\n",
    "    clear_backends()"
   ]
  },
  {
   "cell_type": "code",
   "execution_count": 23,
   "metadata": {},
   "outputs": [],
   "source": [
    "clear_backends()"
   ]
  },
  {
   "cell_type": "code",
   "execution_count": 19,
   "metadata": {},
   "outputs": [],
   "source": []
  },
  {
   "cell_type": "code",
   "execution_count": 14,
   "metadata": {},
   "outputs": [
    {
     "name": "stderr",
     "output_type": "stream",
     "text": [
      "JIT session error: Cannot allocate memory\n"
     ]
    },
    {
     "ename": "XlaRuntimeError",
     "evalue": "INVALID_ARGUMENT: Symbol main.3 not found.",
     "output_type": "error",
     "traceback": [
      "\u001b[0;31m---------------------------------------------------------------------------\u001b[0m",
      "\u001b[0;31mXlaRuntimeError\u001b[0m                           Traceback (most recent call last)",
      "Cell \u001b[0;32mIn[14], line 8\u001b[0m\n\u001b[1;32m      4\u001b[0m \u001b[39mfor\u001b[39;00m nloop \u001b[39min\u001b[39;00m \u001b[39mrange\u001b[39m(\u001b[39m1\u001b[39m,\u001b[39m80\u001b[39m):\n\u001b[1;32m      5\u001b[0m     \u001b[39m#if nloop % 5 == 0:\u001b[39;00m\n\u001b[1;32m      6\u001b[0m         \u001b[39m#sample()\u001b[39;00m\n\u001b[1;32m      7\u001b[0m     move_traj(dest_path\u001b[39m=\u001b[39m\u001b[39m\"\u001b[39m\u001b[39m/home/yutao/project/MIL-120/traj1/\u001b[39m\u001b[39m\"\u001b[39m,picked_pressure\u001b[39m=\u001b[39mpicked_pressure, copy_to_path \u001b[39m=\u001b[39m \u001b[39m\"\u001b[39m\u001b[39m./traj1/\u001b[39m\u001b[39m\"\u001b[39m)\n\u001b[0;32m----> 8\u001b[0m     traj_dict \u001b[39m=\u001b[39m analyse_traj(paramset, lj_gen, dest_path\u001b[39m=\u001b[39;49m\u001b[39m\"\u001b[39;49m\u001b[39m./traj1/\u001b[39;49m\u001b[39m\"\u001b[39;49m, interval\u001b[39m=\u001b[39;49m\u001b[39m3\u001b[39;49m)\n\u001b[1;32m     10\u001b[0m     \u001b[39mdef\u001b[39;00m \u001b[39mloss\u001b[39m(paramset):\n\u001b[1;32m     11\u001b[0m         errors \u001b[39m=\u001b[39m []\n",
      "Cell \u001b[0;32mIn[9], line 16\u001b[0m, in \u001b[0;36manalyse_traj\u001b[0;34m(paramset, lj_gen, dest_path, interval)\u001b[0m\n\u001b[1;32m     14\u001b[0m \u001b[39mfor\u001b[39;00m gas_path \u001b[39min\u001b[39;00m os\u001b[39m.\u001b[39mlistdir(gas_dir)[::interval]:\n\u001b[1;32m     15\u001b[0m     topo, pos, num \u001b[39m=\u001b[39m simple_merge(\u001b[39m\"\u001b[39m\u001b[39mscaled_frame.pdb\u001b[39m\u001b[39m\"\u001b[39m,os\u001b[39m.\u001b[39mpath\u001b[39m.\u001b[39mjoin(gas_dir,gas_path))\n\u001b[0;32m---> 16\u001b[0m     ener_lj \u001b[39m=\u001b[39m compute_binding_energy(paramset,topo, pos, lj_gen, numframe\u001b[39m=\u001b[39;49m\u001b[39m720\u001b[39;49m,cutoff\u001b[39m=\u001b[39;49mcutoff)\n\u001b[1;32m     17\u001b[0m     traj_dict[idx][\u001b[39m'\u001b[39m\u001b[39mstructure\u001b[39m\u001b[39m'\u001b[39m]\u001b[39m.\u001b[39mappend([topo, pos])\n\u001b[1;32m     18\u001b[0m     traj_dict[idx][\u001b[39m'\u001b[39m\u001b[39mloading\u001b[39m\u001b[39m'\u001b[39m]\u001b[39m.\u001b[39mappend(num\u001b[39m/\u001b[39mscaling_factors[\u001b[39m0\u001b[39m]\u001b[39m/\u001b[39mscaling_factors[\u001b[39m1\u001b[39m]\u001b[39m/\u001b[39mscaling_factors[\u001b[39m2\u001b[39m]\u001b[39m/\u001b[39m\u001b[39m3\u001b[39m)\n",
      "Cell \u001b[0;32mIn[8], line 22\u001b[0m, in \u001b[0;36mcompute_binding_energy\u001b[0;34m(paramset, topo, pos, lj_gen, numframe, cutoff)\u001b[0m\n\u001b[1;32m     20\u001b[0m nblist\u001b[39m.\u001b[39mallocate(pos_jnp, cell_jnp)\n\u001b[1;32m     21\u001b[0m pairs \u001b[39m=\u001b[39m jnp\u001b[39m.\u001b[39marray(nblist\u001b[39m.\u001b[39mpairs)\n\u001b[0;32m---> 22\u001b[0m ener \u001b[39m=\u001b[39m lj_force(pos_jnp,cell_jnp, pairs, paramset)\n\u001b[1;32m     23\u001b[0m \u001b[39mreturn\u001b[39;00m ener\n",
      "File \u001b[0;32m~/project/github/DMFF/dmff/generators/classical.py:1383\u001b[0m, in \u001b[0;36mLennardJonesGenerator.createPotential.<locals>.potential_fn\u001b[0;34m(positions, box, pairs, params, aux)\u001b[0m\n\u001b[1;32m   1376\u001b[0m \u001b[39mdef\u001b[39;00m \u001b[39mpotential_fn\u001b[39m(positions, box, pairs, params, aux\u001b[39m=\u001b[39m\u001b[39mNone\u001b[39;00m):\n\u001b[1;32m   1377\u001b[0m \n\u001b[1;32m   1378\u001b[0m     \u001b[39m# check whether args passed into potential_fn are jnp.array and differentiable\u001b[39;00m\n\u001b[1;32m   1379\u001b[0m     \u001b[39m# note this check will be optimized away by jit\u001b[39;00m\n\u001b[1;32m   1380\u001b[0m     \u001b[39m# it is jit-compatiable\u001b[39;00m\n\u001b[1;32m   1381\u001b[0m     isinstance_jnp(positions, box, params)\n\u001b[0;32m-> 1383\u001b[0m     ljE \u001b[39m=\u001b[39m ljenergy(positions, box, pairs,\n\u001b[1;32m   1384\u001b[0m                    params[\u001b[39mself\u001b[39;49m\u001b[39m.\u001b[39;49mname][\u001b[39m\"\u001b[39;49m\u001b[39mepsilon\u001b[39;49m\u001b[39m\"\u001b[39;49m],\n\u001b[1;32m   1385\u001b[0m                    params[\u001b[39mself\u001b[39;49m\u001b[39m.\u001b[39;49mname][\u001b[39m\"\u001b[39;49m\u001b[39msigma\u001b[39;49m\u001b[39m\"\u001b[39;49m],\n\u001b[1;32m   1386\u001b[0m                    params[\u001b[39mself\u001b[39;49m\u001b[39m.\u001b[39;49mname][\u001b[39m\"\u001b[39;49m\u001b[39mepsilon_nbfix\u001b[39;49m\u001b[39m\"\u001b[39;49m],\n\u001b[1;32m   1387\u001b[0m                    params[\u001b[39mself\u001b[39;49m\u001b[39m.\u001b[39;49mname][\u001b[39m\"\u001b[39;49m\u001b[39msigma_nbfix\u001b[39;49m\u001b[39m\"\u001b[39;49m],\n\u001b[1;32m   1388\u001b[0m                    mscales_lj)\n\u001b[1;32m   1390\u001b[0m     \u001b[39mif\u001b[39;00m has_aux:\n\u001b[1;32m   1391\u001b[0m         \u001b[39mreturn\u001b[39;00m ljE, aux\n",
      "File \u001b[0;32m~/project/github/DMFF/dmff/classical/inter.py:86\u001b[0m, in \u001b[0;36mLennardJonesForce.generate_get_energy.<locals>.get_energy\u001b[0;34m(positions, box, pairs, epsilon, sigma, epsfix, sigfix, mscales, aux)\u001b[0m\n\u001b[1;32m     82\u001b[0m sig \u001b[39m=\u001b[39m sig_mat[prm_pair0, prm_pair1]\n\u001b[1;32m     84\u001b[0m eps_scale \u001b[39m=\u001b[39m eps \u001b[39m*\u001b[39m mscale_pair\n\u001b[0;32m---> 86\u001b[0m E_inter \u001b[39m=\u001b[39m get_LJ_energy(dr_vec, sig, eps_scale, box)\n\u001b[1;32m     87\u001b[0m \u001b[39mif\u001b[39;00m aux \u001b[39mis\u001b[39;00m \u001b[39mNone\u001b[39;00m:\n\u001b[1;32m     88\u001b[0m     \u001b[39mreturn\u001b[39;00m jnp\u001b[39m.\u001b[39msum(E_inter \u001b[39m*\u001b[39m mask)\n",
      "File \u001b[0;32m~/project/github/DMFF/dmff/classical/inter.py:46\u001b[0m, in \u001b[0;36mLennardJonesForce.generate_get_energy.<locals>.get_LJ_energy\u001b[0;34m(dr_vec, sig, eps, box)\u001b[0m\n\u001b[1;32m     44\u001b[0m sig_dr \u001b[39m=\u001b[39m sig \u001b[39m*\u001b[39m dr_inv\n\u001b[1;32m     45\u001b[0m sig_dr6 \u001b[39m=\u001b[39m jnp\u001b[39m.\u001b[39mpower(sig_dr, \u001b[39m6\u001b[39m)\n\u001b[0;32m---> 46\u001b[0m sig_dr12 \u001b[39m=\u001b[39m jnp\u001b[39m.\u001b[39;49mpower(sig_dr6, \u001b[39m2\u001b[39;49m)\n\u001b[1;32m     47\u001b[0m E \u001b[39m=\u001b[39m \u001b[39m4.0\u001b[39m \u001b[39m*\u001b[39m eps \u001b[39m*\u001b[39m (sig_dr12 \u001b[39m-\u001b[39m sig_dr6)\n\u001b[1;32m     49\u001b[0m \u001b[39mif\u001b[39;00m \u001b[39mself\u001b[39m\u001b[39m.\u001b[39misSwitch:\n",
      "File \u001b[0;32m~/anaconda3/envs/dmff/lib/python3.11/site-packages/jax/_src/numpy/ufuncs.py:341\u001b[0m, in \u001b[0;36mpower\u001b[0;34m(x1, x2)\u001b[0m\n\u001b[1;32m    339\u001b[0m   \u001b[39melse\u001b[39;00m:\n\u001b[1;32m    340\u001b[0m     x1, \u001b[39m=\u001b[39m promote_dtypes_numeric(x1)\n\u001b[0;32m--> 341\u001b[0m     \u001b[39mreturn\u001b[39;00m lax\u001b[39m.\u001b[39;49minteger_pow(x1, x2)\n\u001b[1;32m    343\u001b[0m \u001b[39m# Handle cases #2 and #3 under a jit:\u001b[39;00m\n\u001b[1;32m    344\u001b[0m \u001b[39mreturn\u001b[39;00m _power(x1, x2)\n",
      "File \u001b[0;32m~/anaconda3/envs/dmff/lib/python3.11/site-packages/jax/_src/lax/lax.py:379\u001b[0m, in \u001b[0;36minteger_pow\u001b[0;34m(x, y)\u001b[0m\n\u001b[1;32m    377\u001b[0m \u001b[39mdef\u001b[39;00m \u001b[39minteger_pow\u001b[39m(x: ArrayLike, y: \u001b[39mint\u001b[39m) \u001b[39m-\u001b[39m\u001b[39m>\u001b[39m Array:\n\u001b[1;32m    378\u001b[0m \u001b[39m  \u001b[39m\u001b[39mr\u001b[39m\u001b[39m\"\"\"Elementwise power: :math:`x^y`, where :math:`y` is a fixed integer.\"\"\"\u001b[39;00m\n\u001b[0;32m--> 379\u001b[0m   \u001b[39mreturn\u001b[39;00m integer_pow_p\u001b[39m.\u001b[39;49mbind(x, y\u001b[39m=\u001b[39;49my)\n",
      "File \u001b[0;32m~/anaconda3/envs/dmff/lib/python3.11/site-packages/jax/_src/core.py:444\u001b[0m, in \u001b[0;36mPrimitive.bind\u001b[0;34m(self, *args, **params)\u001b[0m\n\u001b[1;32m    441\u001b[0m \u001b[39mdef\u001b[39;00m \u001b[39mbind\u001b[39m(\u001b[39mself\u001b[39m, \u001b[39m*\u001b[39margs, \u001b[39m*\u001b[39m\u001b[39m*\u001b[39mparams):\n\u001b[1;32m    442\u001b[0m   \u001b[39massert\u001b[39;00m (\u001b[39mnot\u001b[39;00m config\u001b[39m.\u001b[39menable_checks\u001b[39m.\u001b[39mvalue \u001b[39mor\u001b[39;00m\n\u001b[1;32m    443\u001b[0m           \u001b[39mall\u001b[39m(\u001b[39misinstance\u001b[39m(arg, Tracer) \u001b[39mor\u001b[39;00m valid_jaxtype(arg) \u001b[39mfor\u001b[39;00m arg \u001b[39min\u001b[39;00m args)), args\n\u001b[0;32m--> 444\u001b[0m   \u001b[39mreturn\u001b[39;00m \u001b[39mself\u001b[39;49m\u001b[39m.\u001b[39;49mbind_with_trace(find_top_trace(args), args, params)\n",
      "File \u001b[0;32m~/anaconda3/envs/dmff/lib/python3.11/site-packages/jax/_src/core.py:447\u001b[0m, in \u001b[0;36mPrimitive.bind_with_trace\u001b[0;34m(self, trace, args, params)\u001b[0m\n\u001b[1;32m    446\u001b[0m \u001b[39mdef\u001b[39;00m \u001b[39mbind_with_trace\u001b[39m(\u001b[39mself\u001b[39m, trace, args, params):\n\u001b[0;32m--> 447\u001b[0m   out \u001b[39m=\u001b[39m trace\u001b[39m.\u001b[39;49mprocess_primitive(\u001b[39mself\u001b[39;49m, \u001b[39mmap\u001b[39;49m(trace\u001b[39m.\u001b[39;49mfull_raise, args), params)\n\u001b[1;32m    448\u001b[0m   \u001b[39mreturn\u001b[39;00m \u001b[39mmap\u001b[39m(full_lower, out) \u001b[39mif\u001b[39;00m \u001b[39mself\u001b[39m\u001b[39m.\u001b[39mmultiple_results \u001b[39melse\u001b[39;00m full_lower(out)\n",
      "File \u001b[0;32m~/anaconda3/envs/dmff/lib/python3.11/site-packages/jax/_src/core.py:935\u001b[0m, in \u001b[0;36mEvalTrace.process_primitive\u001b[0;34m(self, primitive, tracers, params)\u001b[0m\n\u001b[1;32m    934\u001b[0m \u001b[39mdef\u001b[39;00m \u001b[39mprocess_primitive\u001b[39m(\u001b[39mself\u001b[39m, primitive, tracers, params):\n\u001b[0;32m--> 935\u001b[0m   \u001b[39mreturn\u001b[39;00m primitive\u001b[39m.\u001b[39;49mimpl(\u001b[39m*\u001b[39;49mtracers, \u001b[39m*\u001b[39;49m\u001b[39m*\u001b[39;49mparams)\n",
      "File \u001b[0;32m~/anaconda3/envs/dmff/lib/python3.11/site-packages/jax/_src/dispatch.py:87\u001b[0m, in \u001b[0;36mapply_primitive\u001b[0;34m(prim, *args, **params)\u001b[0m\n\u001b[1;32m     85\u001b[0m prev \u001b[39m=\u001b[39m lib\u001b[39m.\u001b[39mjax_jit\u001b[39m.\u001b[39mswap_thread_local_state_disable_jit(\u001b[39mFalse\u001b[39;00m)\n\u001b[1;32m     86\u001b[0m \u001b[39mtry\u001b[39;00m:\n\u001b[0;32m---> 87\u001b[0m   outs \u001b[39m=\u001b[39m fun(\u001b[39m*\u001b[39;49margs)\n\u001b[1;32m     88\u001b[0m \u001b[39mfinally\u001b[39;00m:\n\u001b[1;32m     89\u001b[0m   lib\u001b[39m.\u001b[39mjax_jit\u001b[39m.\u001b[39mswap_thread_local_state_disable_jit(prev)\n",
      "    \u001b[0;31m[... skipping hidden 14 frame]\u001b[0m\n",
      "File \u001b[0;32m~/anaconda3/envs/dmff/lib/python3.11/site-packages/jax/_src/compiler.py:256\u001b[0m, in \u001b[0;36mbackend_compile\u001b[0;34m(backend, module, options, host_callbacks)\u001b[0m\n\u001b[1;32m    251\u001b[0m   \u001b[39mreturn\u001b[39;00m backend\u001b[39m.\u001b[39mcompile(built_c, compile_options\u001b[39m=\u001b[39moptions,\n\u001b[1;32m    252\u001b[0m                          host_callbacks\u001b[39m=\u001b[39mhost_callbacks)\n\u001b[1;32m    253\u001b[0m \u001b[39m# Some backends don't have `host_callbacks` option yet\u001b[39;00m\n\u001b[1;32m    254\u001b[0m \u001b[39m# TODO(sharadmv): remove this fallback when all backends allow `compile`\u001b[39;00m\n\u001b[1;32m    255\u001b[0m \u001b[39m# to take in `host_callbacks`\u001b[39;00m\n\u001b[0;32m--> 256\u001b[0m \u001b[39mreturn\u001b[39;00m backend\u001b[39m.\u001b[39;49mcompile(built_c, compile_options\u001b[39m=\u001b[39;49moptions)\n",
      "\u001b[0;31mXlaRuntimeError\u001b[0m: INVALID_ARGUMENT: Symbol main.3 not found."
     ]
    }
   ],
   "source": [
    "\n",
    "loss_ls = []\n",
    "os.system(\"cp /home/yutao/project/aiida/applications/UFF.json /home/yutao/project/aiida/applications/ff_2.json\")\n",
    "\n",
    "for nloop in range(1,80):\n",
    "    #if nloop % 5 == 0:\n",
    "        #sample()\n",
    "    move_traj(dest_path=\"/home/yutao/project/MIL-120/traj1/\",picked_pressure=picked_pressure, copy_to_path = \"./traj1/\")\n",
    "    traj_dict = analyse_traj(paramset, lj_gen, dest_path=\"./traj1/\", interval=3)\n",
    "\n",
    "    def loss(paramset):\n",
    "        errors = []\n",
    "        for idx in range(1, Number_points+1):\n",
    "            energies = []\n",
    "            for jdx in range(len(traj_dict[idx]['structure'])):\n",
    "                ener = compute_binding_energy(paramset, traj_dict[idx]['structure'][jdx][0], traj_dict[idx]['structure'][jdx][1], lj_gen, numframe=720,cutoff=cutoff)\n",
    "                energies.append(ener.reshape((1,)))\n",
    "            energies = jnp.concatenate(energies)\n",
    "            weight = traj_dict[idx]['estimator'].estimate_weight(energies)\n",
    "            reweight_loading = traj_dict[idx]['loading'] * weight\n",
    "            error = jnp.power(jnp.average(reweight_loading)-traj_dict[idx]['experiment']['loading'],2)\n",
    "            errors.append(error.reshape((1,)))\n",
    "            #print(error)\n",
    "        errors = jnp.concatenate(errors)\n",
    "        return jnp.sum(errors)\n",
    "\n",
    "    v_and_g = jax.value_and_grad(loss, 0)\n",
    "    v, g = v_and_g(paramset)\n",
    "    loss_ls.append(v)\n",
    "    \n",
    "    updates, opt_state = optimizer.update(g, opt_state)\n",
    "    updates.parameters = update_mask(updates.parameters,paramset.mask)\n",
    "    paramset = optax.apply_updates(paramset, updates)\n",
    "    paramset = jax.tree_map(lambda x: jnp.clip(x, 0.0, 1e8), paramset)\n",
    "    update_ff(paramset, dest_path='/home/yutao/project/aiida/applications/ff_2.json')\n",
    "    lj_gen.overwrite(paramset)"
   ]
  },
  {
   "cell_type": "code",
   "execution_count": 28,
   "metadata": {},
   "outputs": [
    {
     "name": "stderr",
     "output_type": "stream",
     "text": [
      "JIT session error: Cannot allocate memory\n"
     ]
    },
    {
     "ename": "XlaRuntimeError",
     "evalue": "INVALID_ARGUMENT: Symbol main.87 not found.",
     "output_type": "error",
     "traceback": [
      "\u001b[0;31m---------------------------------------------------------------------------\u001b[0m",
      "\u001b[0;31mXlaRuntimeError\u001b[0m                           Traceback (most recent call last)",
      "Cell \u001b[0;32mIn[28], line 24\u001b[0m\n\u001b[1;32m     21\u001b[0m         \u001b[39mreturn\u001b[39;00m jnp\u001b[39m.\u001b[39msum(errors)\n\u001b[1;32m     23\u001b[0m v_and_g \u001b[39m=\u001b[39m jax\u001b[39m.\u001b[39mvalue_and_grad(loss, \u001b[39m0\u001b[39m)\n\u001b[0;32m---> 24\u001b[0m v, g \u001b[39m=\u001b[39m v_and_g(paramset)\n\u001b[1;32m     25\u001b[0m loss_ls\u001b[39m.\u001b[39mappend(v)\n\u001b[1;32m     27\u001b[0m updates, opt_state \u001b[39m=\u001b[39m optimizer\u001b[39m.\u001b[39mupdate(g, opt_state)\n",
      "    \u001b[0;31m[... skipping hidden 8 frame]\u001b[0m\n",
      "Cell \u001b[0;32mIn[27], line 12\u001b[0m, in \u001b[0;36mloss\u001b[0;34m(paramset)\u001b[0m\n\u001b[1;32m     10\u001b[0m energies \u001b[39m=\u001b[39m []\n\u001b[1;32m     11\u001b[0m \u001b[39mfor\u001b[39;00m jdx \u001b[39min\u001b[39;00m \u001b[39mrange\u001b[39m(\u001b[39mlen\u001b[39m(traj_dict[idx][\u001b[39m'\u001b[39m\u001b[39mstructure\u001b[39m\u001b[39m'\u001b[39m])):\n\u001b[0;32m---> 12\u001b[0m     ener \u001b[39m=\u001b[39m compute_binding_energy(paramset, traj_dict[idx][\u001b[39m'\u001b[39;49m\u001b[39mstructure\u001b[39;49m\u001b[39m'\u001b[39;49m][jdx][\u001b[39m0\u001b[39;49m], traj_dict[idx][\u001b[39m'\u001b[39;49m\u001b[39mstructure\u001b[39;49m\u001b[39m'\u001b[39;49m][jdx][\u001b[39m1\u001b[39;49m], lj_gen, numframe\u001b[39m=\u001b[39;49m\u001b[39m720\u001b[39;49m,cutoff\u001b[39m=\u001b[39;49mcutoff)\n\u001b[1;32m     13\u001b[0m     energies\u001b[39m.\u001b[39mappend(ener\u001b[39m.\u001b[39mreshape((\u001b[39m1\u001b[39m,)))\n\u001b[1;32m     14\u001b[0m energies \u001b[39m=\u001b[39m jnp\u001b[39m.\u001b[39mconcatenate(energies)\n",
      "Cell \u001b[0;32mIn[9], line 22\u001b[0m, in \u001b[0;36mcompute_binding_energy\u001b[0;34m(paramset, topo, pos, lj_gen, numframe, cutoff)\u001b[0m\n\u001b[1;32m     20\u001b[0m nblist\u001b[39m.\u001b[39mallocate(pos_jnp, cell_jnp)\n\u001b[1;32m     21\u001b[0m pairs \u001b[39m=\u001b[39m jnp\u001b[39m.\u001b[39marray(nblist\u001b[39m.\u001b[39mpairs)\n\u001b[0;32m---> 22\u001b[0m ener \u001b[39m=\u001b[39m lj_force(pos_jnp,cell_jnp, pairs, paramset)\n\u001b[1;32m     23\u001b[0m \u001b[39mreturn\u001b[39;00m ener\n",
      "File \u001b[0;32m~/project/github/DMFF/dmff/generators/classical.py:1383\u001b[0m, in \u001b[0;36mLennardJonesGenerator.createPotential.<locals>.potential_fn\u001b[0;34m(positions, box, pairs, params, aux)\u001b[0m\n\u001b[1;32m   1376\u001b[0m \u001b[39mdef\u001b[39;00m \u001b[39mpotential_fn\u001b[39m(positions, box, pairs, params, aux\u001b[39m=\u001b[39m\u001b[39mNone\u001b[39;00m):\n\u001b[1;32m   1377\u001b[0m \n\u001b[1;32m   1378\u001b[0m     \u001b[39m# check whether args passed into potential_fn are jnp.array and differentiable\u001b[39;00m\n\u001b[1;32m   1379\u001b[0m     \u001b[39m# note this check will be optimized away by jit\u001b[39;00m\n\u001b[1;32m   1380\u001b[0m     \u001b[39m# it is jit-compatiable\u001b[39;00m\n\u001b[1;32m   1381\u001b[0m     isinstance_jnp(positions, box, params)\n\u001b[0;32m-> 1383\u001b[0m     ljE \u001b[39m=\u001b[39m ljenergy(positions, box, pairs,\n\u001b[1;32m   1384\u001b[0m                    params[\u001b[39mself\u001b[39;49m\u001b[39m.\u001b[39;49mname][\u001b[39m\"\u001b[39;49m\u001b[39mepsilon\u001b[39;49m\u001b[39m\"\u001b[39;49m],\n\u001b[1;32m   1385\u001b[0m                    params[\u001b[39mself\u001b[39;49m\u001b[39m.\u001b[39;49mname][\u001b[39m\"\u001b[39;49m\u001b[39msigma\u001b[39;49m\u001b[39m\"\u001b[39;49m],\n\u001b[1;32m   1386\u001b[0m                    params[\u001b[39mself\u001b[39;49m\u001b[39m.\u001b[39;49mname][\u001b[39m\"\u001b[39;49m\u001b[39mepsilon_nbfix\u001b[39;49m\u001b[39m\"\u001b[39;49m],\n\u001b[1;32m   1387\u001b[0m                    params[\u001b[39mself\u001b[39;49m\u001b[39m.\u001b[39;49mname][\u001b[39m\"\u001b[39;49m\u001b[39msigma_nbfix\u001b[39;49m\u001b[39m\"\u001b[39;49m],\n\u001b[1;32m   1388\u001b[0m                    mscales_lj)\n\u001b[1;32m   1390\u001b[0m     \u001b[39mif\u001b[39;00m has_aux:\n\u001b[1;32m   1391\u001b[0m         \u001b[39mreturn\u001b[39;00m ljE, aux\n",
      "File \u001b[0;32m~/project/github/DMFF/dmff/classical/inter.py:58\u001b[0m, in \u001b[0;36mLennardJonesForce.generate_get_energy.<locals>.get_energy\u001b[0;34m(positions, box, pairs, epsilon, sigma, epsfix, sigfix, mscales, aux)\u001b[0m\n\u001b[1;32m     56\u001b[0m \u001b[39mdef\u001b[39;00m \u001b[39mget_energy\u001b[39m(positions, box, pairs, epsilon, sigma, epsfix, sigfix, mscales, aux\u001b[39m=\u001b[39m\u001b[39mNone\u001b[39;00m):\n\u001b[0;32m---> 58\u001b[0m     pairs \u001b[39m=\u001b[39m pairs\u001b[39m.\u001b[39mat[:, :\u001b[39m2\u001b[39m]\u001b[39m.\u001b[39mset(regularize_pairs(pairs[:, :\u001b[39m2\u001b[39;49m]))\n\u001b[1;32m     59\u001b[0m     mask \u001b[39m=\u001b[39m pair_buffer_scales(pairs[:, :\u001b[39m2\u001b[39m])\n\u001b[1;32m     60\u001b[0m     map_prm \u001b[39m=\u001b[39m \u001b[39mself\u001b[39m\u001b[39m.\u001b[39mmap_prm\n",
      "    \u001b[0;31m[... skipping hidden 14 frame]\u001b[0m\n",
      "File \u001b[0;32m~/anaconda3/envs/dmff/lib/python3.11/site-packages/jax/_src/compiler.py:256\u001b[0m, in \u001b[0;36mbackend_compile\u001b[0;34m(backend, module, options, host_callbacks)\u001b[0m\n\u001b[1;32m    251\u001b[0m   \u001b[39mreturn\u001b[39;00m backend\u001b[39m.\u001b[39mcompile(built_c, compile_options\u001b[39m=\u001b[39moptions,\n\u001b[1;32m    252\u001b[0m                          host_callbacks\u001b[39m=\u001b[39mhost_callbacks)\n\u001b[1;32m    253\u001b[0m \u001b[39m# Some backends don't have `host_callbacks` option yet\u001b[39;00m\n\u001b[1;32m    254\u001b[0m \u001b[39m# TODO(sharadmv): remove this fallback when all backends allow `compile`\u001b[39;00m\n\u001b[1;32m    255\u001b[0m \u001b[39m# to take in `host_callbacks`\u001b[39;00m\n\u001b[0;32m--> 256\u001b[0m \u001b[39mreturn\u001b[39;00m backend\u001b[39m.\u001b[39;49mcompile(built_c, compile_options\u001b[39m=\u001b[39;49moptions)\n",
      "\u001b[0;31mXlaRuntimeError\u001b[0m: INVALID_ARGUMENT: Symbol main.87 not found."
     ]
    }
   ],
   "source": [
    "for nloop in range(1,80):\n",
    "    if nloop % 5 == 0:\n",
    "        sample()\n",
    "        move_traj(dest_path=\"/home/yutao/project/MIL-120/traj1/\",picked_pressure=picked_pressure, copy_to_path = \"./traj1/\")\n",
    "        traj_dict = analyse_traj(paramset, lj_gen, dest_path=\"./traj1/\", interval=6)\n",
    "\n",
    "        def loss(paramset):\n",
    "            errors = []\n",
    "            for idx in range(1, Number_points+1):\n",
    "                energies = []\n",
    "                for jdx in range(len(traj_dict[idx]['structure'])):\n",
    "                    ener = compute_binding_energy(paramset, traj_dict[idx]['structure'][jdx][0], traj_dict[idx]['structure'][jdx][1], lj_gen, numframe=720,cutoff=cutoff)\n",
    "                    energies.append(ener.reshape((1,)))\n",
    "                energies = jnp.concatenate(energies)\n",
    "                weight = traj_dict[idx]['estimator'].estimate_weight(energies)\n",
    "                reweight_loading = traj_dict[idx]['loading'] * weight\n",
    "                error = jnp.power(jnp.average(reweight_loading)-traj_dict[idx]['experiment']['loading'],2)\n",
    "                errors.append(error.reshape((1,)))\n",
    "                #print(error)\n",
    "            errors = jnp.concatenate(errors)\n",
    "            return jnp.sum(errors)\n",
    "\n",
    "    v_and_g = jax.value_and_grad(loss, 0)\n",
    "    v, g = v_and_g(paramset)\n",
    "    loss_ls.append(v)\n",
    "    \n",
    "    updates, opt_state = optimizer.update(g, opt_state)\n",
    "    updates.parameters = update_mask(updates.parameters,paramset.mask)\n",
    "    paramset = optax.apply_updates(paramset, updates)\n",
    "    paramset = jax.tree_map(lambda x: jnp.clip(x, 0.0, 1e8), paramset)\n",
    "    update_ff(paramset, dest_path='/home/yutao/project/aiida/applications/ff_2.json')\n",
    "    lj_gen.overwrite(paramset)"
   ]
  },
  {
   "cell_type": "code",
   "execution_count": 24,
   "metadata": {},
   "outputs": [
    {
     "data": {
      "text/plain": [
       "[Array(9.7954695, dtype=float64),\n",
       " Array(9.69453961, dtype=float64),\n",
       " Array(9.59714837, dtype=float64),\n",
       " Array(9.50401199, dtype=float64)]"
      ]
     },
     "execution_count": 24,
     "metadata": {},
     "output_type": "execute_result"
    }
   ],
   "source": [
    "loss_ls"
   ]
  },
  {
   "cell_type": "code",
   "execution_count": 26,
   "metadata": {},
   "outputs": [
    {
     "data": {
      "text/plain": [
       "{'LennardJonesForce': {'epsilon': Array([2.10326742, 0.42780923, 0.19607153, 0.23881914, 0.65757   ,\n",
       "         0.22469   ], dtype=float64),\n",
       "  'epsilon_nbfix': Array([], dtype=float64),\n",
       "  'sigma': Array([0.40082, 0.34309, 0.25711, 0.31181, 0.305  , 0.28   ], dtype=float64),\n",
       "  'sigma_nbfix': Array([], dtype=float64)}}"
      ]
     },
     "execution_count": 26,
     "metadata": {},
     "output_type": "execute_result"
    }
   ],
   "source": [
    "paramset.parameters"
   ]
  },
  {
   "cell_type": "code",
   "execution_count": 17,
   "metadata": {},
   "outputs": [
    {
     "ename": "KeyError",
     "evalue": "8",
     "output_type": "error",
     "traceback": [
      "\u001b[0;31m---------------------------------------------------------------------------\u001b[0m",
      "\u001b[0;31mKeyError\u001b[0m                                  Traceback (most recent call last)",
      "Cell \u001b[0;32mIn[17], line 3\u001b[0m\n\u001b[1;32m      1\u001b[0m \u001b[39mfor\u001b[39;00m idx \u001b[39min\u001b[39;00m (\u001b[39m1\u001b[39m, Number_points\u001b[39m+\u001b[39m\u001b[39m1\u001b[39m):\n\u001b[1;32m      2\u001b[0m     energies \u001b[39m=\u001b[39m []\n\u001b[0;32m----> 3\u001b[0m     \u001b[39mfor\u001b[39;00m jdx \u001b[39min\u001b[39;00m \u001b[39mrange\u001b[39m(\u001b[39mlen\u001b[39m(traj_dict[idx][\u001b[39m'\u001b[39m\u001b[39mstructure\u001b[39m\u001b[39m'\u001b[39m])):\n\u001b[1;32m      4\u001b[0m         ener \u001b[39m=\u001b[39m compute_binding_energy(paramset, traj_dict[idx][\u001b[39m'\u001b[39m\u001b[39mstructure\u001b[39m\u001b[39m'\u001b[39m][jdx][\u001b[39m0\u001b[39m], traj_dict[idx][\u001b[39m'\u001b[39m\u001b[39mstructure\u001b[39m\u001b[39m'\u001b[39m][jdx][\u001b[39m1\u001b[39m], lj_gen, numframe\u001b[39m=\u001b[39m\u001b[39m720\u001b[39m,cutoff\u001b[39m=\u001b[39mcutoff)\n",
      "\u001b[0;31mKeyError\u001b[0m: 8"
     ]
    }
   ],
   "source": [
    "for idx in (1, Number_points+1):\n",
    "    energies = []\n",
    "    for jdx in range(len(traj_dict[idx]['structure'])):\n",
    "        ener = compute_binding_energy(paramset, traj_dict[idx]['structure'][jdx][0], traj_dict[idx]['structure'][jdx][1], lj_gen, numframe=720,cutoff=cutoff)"
   ]
  },
  {
   "cell_type": "code",
   "execution_count": 16,
   "metadata": {},
   "outputs": [
    {
     "data": {
      "text/plain": [
       "42"
      ]
     },
     "execution_count": 16,
     "metadata": {},
     "output_type": "execute_result"
    }
   ],
   "source": [
    "len(traj_dict[6]['structure'])"
   ]
  },
  {
   "cell_type": "code",
   "execution_count": 38,
   "metadata": {},
   "outputs": [
    {
     "ename": "MemoryError",
     "evalue": "Unable to allocate 5.54 MiB for an array with shape (852, 852) and data type int64",
     "output_type": "error",
     "traceback": [
      "\u001b[0;31m---------------------------------------------------------------------------\u001b[0m",
      "\u001b[0;31mMemoryError\u001b[0m                               Traceback (most recent call last)",
      "Cell \u001b[0;32mIn[38], line 1\u001b[0m\n\u001b[0;32m----> 1\u001b[0m traj_dict \u001b[39m=\u001b[39m analyse_traj(paramset, lj_gen, dest_path\u001b[39m=\u001b[39;49m\u001b[39m\"\u001b[39;49m\u001b[39m./traj1/\u001b[39;49m\u001b[39m\"\u001b[39;49m, interval\u001b[39m=\u001b[39;49m\u001b[39m10\u001b[39;49m)\n",
      "Cell \u001b[0;32mIn[26], line 16\u001b[0m, in \u001b[0;36manalyse_traj\u001b[0;34m(paramset, lj_gen, dest_path, interval)\u001b[0m\n\u001b[1;32m     14\u001b[0m \u001b[39mfor\u001b[39;00m gas_path \u001b[39min\u001b[39;00m os\u001b[39m.\u001b[39mlistdir(gas_dir)[::interval]:\n\u001b[1;32m     15\u001b[0m     topo, pos, num \u001b[39m=\u001b[39m simple_merge(\u001b[39m\"\u001b[39m\u001b[39mscaled_frame.pdb\u001b[39m\u001b[39m\"\u001b[39m,os\u001b[39m.\u001b[39mpath\u001b[39m.\u001b[39mjoin(gas_dir,gas_path))\n\u001b[0;32m---> 16\u001b[0m     ener_lj \u001b[39m=\u001b[39m compute_binding_energy(paramset,topo, pos, lj_gen, numframe\u001b[39m=\u001b[39;49m\u001b[39m720\u001b[39;49m,cutoff\u001b[39m=\u001b[39;49mcutoff)\n\u001b[1;32m     17\u001b[0m     traj_dict[idx][\u001b[39m'\u001b[39m\u001b[39mstructure\u001b[39m\u001b[39m'\u001b[39m]\u001b[39m.\u001b[39mappend([topo, pos])\n\u001b[1;32m     18\u001b[0m     traj_dict[idx][\u001b[39m'\u001b[39m\u001b[39mloading\u001b[39m\u001b[39m'\u001b[39m]\u001b[39m.\u001b[39mappend(num\u001b[39m/\u001b[39mscaling_factors[\u001b[39m0\u001b[39m]\u001b[39m/\u001b[39mscaling_factors[\u001b[39m1\u001b[39m]\u001b[39m/\u001b[39mscaling_factors[\u001b[39m2\u001b[39m]\u001b[39m/\u001b[39m\u001b[39m3\u001b[39m)\n",
      "Cell \u001b[0;32mIn[15], line 26\u001b[0m, in \u001b[0;36mcompute_binding_energy\u001b[0;34m(paramset, topo, pos, lj_gen, numframe, cutoff)\u001b[0m\n\u001b[1;32m     24\u001b[0m         atom\u001b[39m.\u001b[39mmeta[\u001b[39m'\u001b[39m\u001b[39mclass\u001b[39m\u001b[39m'\u001b[39m]\u001b[39m=\u001b[39matom\u001b[39m.\u001b[39mmeta[\u001b[39m'\u001b[39m\u001b[39melement\u001b[39m\u001b[39m'\u001b[39m]\u001b[39m+\u001b[39m\u001b[39m\"\u001b[39m\u001b[39m_co2\u001b[39m\u001b[39m\"\u001b[39m\n\u001b[1;32m     25\u001b[0m     \u001b[39m#print(atom.meta['element'])\u001b[39;00m\n\u001b[0;32m---> 26\u001b[0m cov_mat \u001b[39m=\u001b[39m topodata\u001b[39m.\u001b[39;49mbuildCovMat()\n\u001b[1;32m     27\u001b[0m lj_force \u001b[39m=\u001b[39m lj_gen\u001b[39m.\u001b[39mcreatePotential(\n\u001b[1;32m     28\u001b[0m topodata, nonbondedMethod\u001b[39m=\u001b[39mapp\u001b[39m.\u001b[39mPME, nonbondedCutoff\u001b[39m=\u001b[39mcutoff, args\u001b[39m=\u001b[39m{})\n\u001b[1;32m     29\u001b[0m pos_jnp \u001b[39m=\u001b[39m jnp\u001b[39m.\u001b[39marray(pos\u001b[39m.\u001b[39mvalue_in_unit(unit\u001b[39m.\u001b[39mnanometer))\n",
      "File \u001b[0;32m~/project/github/DMFF/dmff/api/topology.py:393\u001b[0m, in \u001b[0;36mDMFFTopology.buildCovMat\u001b[0;34m(self, nmax, use_jax)\u001b[0m\n\u001b[1;32m    391\u001b[0m \u001b[39mdef\u001b[39;00m \u001b[39mbuildCovMat\u001b[39m(\u001b[39mself\u001b[39m, nmax\u001b[39m=\u001b[39m\u001b[39m6\u001b[39m, use_jax\u001b[39m=\u001b[39m\u001b[39mTrue\u001b[39;00m):\n\u001b[1;32m    392\u001b[0m     n_atoms \u001b[39m=\u001b[39m \u001b[39mself\u001b[39m\u001b[39m.\u001b[39mgetNumAtoms()\n\u001b[0;32m--> 393\u001b[0m     covalent_map \u001b[39m=\u001b[39m np\u001b[39m.\u001b[39mzeros((n_atoms, n_atoms), dtype\u001b[39m=\u001b[39m\u001b[39mint\u001b[39m)\n\u001b[1;32m    394\u001b[0m     \u001b[39mfor\u001b[39;00m bond \u001b[39min\u001b[39;00m \u001b[39mself\u001b[39m\u001b[39m.\u001b[39mbonds():\n\u001b[1;32m    395\u001b[0m         covalent_map[bond\u001b[39m.\u001b[39matom1\u001b[39m.\u001b[39mindex, bond\u001b[39m.\u001b[39matom2\u001b[39m.\u001b[39mindex] \u001b[39m=\u001b[39m \u001b[39m1\u001b[39m\n",
      "\u001b[0;31mMemoryError\u001b[0m: Unable to allocate 5.54 MiB for an array with shape (852, 852) and data type int64"
     ]
    }
   ],
   "source": [
    "traj_dict = analyse_traj(paramset, lj_gen, dest_path=\"./traj1/\", interval=10)"
   ]
  },
  {
   "cell_type": "code",
   "execution_count": 32,
   "metadata": {},
   "outputs": [
    {
     "data": {
      "text/plain": [
       "4"
      ]
     },
     "execution_count": 32,
     "metadata": {},
     "output_type": "execute_result"
    }
   ],
   "source": [
    "10%6"
   ]
  }
 ],
 "metadata": {
  "kernelspec": {
   "display_name": "dmff",
   "language": "python",
   "name": "python3"
  },
  "language_info": {
   "codemirror_mode": {
    "name": "ipython",
    "version": 3
   },
   "file_extension": ".py",
   "mimetype": "text/x-python",
   "name": "python",
   "nbconvert_exporter": "python",
   "pygments_lexer": "ipython3",
   "version": "3.11.6"
  },
  "orig_nbformat": 4
 },
 "nbformat": 4,
 "nbformat_minor": 2
}
