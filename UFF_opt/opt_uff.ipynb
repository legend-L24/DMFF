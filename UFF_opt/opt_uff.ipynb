{
 "cells": [
  {
   "cell_type": "markdown",
   "metadata": {},
   "source": [
    "Here I construct the initial force field Lenard-Jone potential and Coulume potential from UFF and MIL-120 from aiida-plugin\n",
    "\n",
    "The force field file in RASPA: epsilon units (Kelvin); sigma(Angstrom)\n",
    "\n",
    "Al_     LENNARD_JONES   254.152 4.0082\n",
    "C_      LENNARD_JONES   52.8435 3.4309\n",
    "H_      LENNARD_JONES   22.1439 2.5711\n",
    "O_      LENNARD_JONES   30.1963 3.1181\n",
    "O_co2   LENNARD_JONES   79.0    3.05\n",
    "C_co2   LENNARD_JONES   27.0    2.80\n",
    "\n",
    "The force field file in OpenMM: epsilon units (KJ/mol); sigma(nm)\n",
    "\n",
    "Al_     LENNARD_JONES   2.1019    0.40082\n",
    "C_      LENNARD_JONES   0.4400    0.34309\n",
    "H_      LENNARD_JONES   0.1841    0.25711\n",
    "O_      LENNARD_JONES   0.2513    0.31181\n",
    "O_co2   LENNARD_JONES   0.6577    0.30500\n",
    "C_co2   LENNARD_JONES   0.2249    0.28000\n",
    "\n",
    "Some prepared files to run the simulation: (I put all of them in data directory)\n",
    "\n",
    "\n",
    "It is not easy to generate these files. Bullshit PDB and xml files. I save some childish methods in refine.ipynb to do it. \n",
    "If I have time, maybe write new functions to unils.py\n",
    "\n",
    "Structural file of MOF: \n",
    "atoms in pdb file should have a special name\n",
    "\n",
    "gas.pdb: CO2 molecule predicted by UFF force field\n",
    "MIL-120.pdb: The rigid framework\n",
    "\n",
    "A good force field:\n",
    "custom_force_field.xml, containing charges information from CIF file"
   ]
  },
  {
   "cell_type": "code",
   "execution_count": 76,
   "metadata": {},
   "outputs": [],
   "source": [
    "# These package is inherited from Lenard-Jones optimization part of DMFF\n",
    "\n",
    "import openmm.app as app\n",
    "import openmm as mm\n",
    "import openmm.unit as unit\n",
    "import numpy as np\n",
    "import jax\n",
    "import jax.numpy as jnp\n",
    "import dmff\n",
    "from dmff.api.xmlio import XMLIO\n",
    "from dmff.api.paramset import ParamSet\n",
    "from dmff.generators.classical import CoulombGenerator, LennardJonesGenerator\n",
    "from dmff.api.hamiltonian import Hamiltonian\n",
    "from dmff.operators import ParmedLennardJonesOperator\n",
    "from dmff import NeighborListFreud\n",
    "from dmff.mbar import ReweightEstimator\n",
    "import mdtraj as md\n",
    "from tqdm import tqdm, trange\n",
    "import parmed\n",
    "import sys\n",
    "import os\n",
    "from dmff.api.topology import DMFFTopology\n",
    "\n",
    "# this is a package I write to solve some IO problems utils.py\n",
    "from utils import create_supercell, gas_generate,add_loading\n",
    "from utils import cutoff_topology\n",
    "import matplotlib.pyplot as plt"
   ]
  },
  {
   "cell_type": "code",
   "execution_count": 348,
   "metadata": {},
   "outputs": [],
   "source": [
    "\"\"\"\n",
    "\n",
    "Superparameters for Lenard-Jone Potential optimization\n",
    "\n",
    "\"\"\"\n",
    "particle_number =  500             #液体pdb文件中的分子数\n",
    "target_han= 50.52                  #拟合的目标蒸发焓\n",
    "SET_temperature=  293.15           #温度设定\n",
    "time_gap=   2.5                      #分子动力学模拟过程中每一个frame的时间间隔，单位是皮秒picosecond   推荐2-4ps\n",
    "loop_time =   50                   #迭代循环次数    推荐50-100\n",
    "save_step =   125                  #保存的frame数  推荐150-200\n",
    "skip_step =    25                   #计算各种物理常数之前，达到平衡所需要的步数\n",
    "length_step = (skip_step+save_step) #分子动力学模拟生成的dcd文件存储的frame个数，与time_gap共同决定总模拟的时长，总时长=length_step*time_gap\n",
    "scaling_factors = (4,4,3)\n",
    "cutoff = 1 #1.3 # unit is nanometer"
   ]
  },
  {
   "cell_type": "code",
   "execution_count": 350,
   "metadata": {},
   "outputs": [],
   "source": [
    "import openmm.app as app\n",
    "import openmm as mm\n",
    "import openmm.unit as unit\n",
    "\n",
    "def compute_energy(topo, pos, ff, cutoff=cutoff, removeLJ=False):\n",
    "    global SET_temperature, time_gap\n",
    "    system = ff.createSystem(topo, nonbondedMethod=app.PME, nonbondedCutoff=cutoff*unit.nanometer, constraints=None, removeCMMotion=False)\n",
    "    \n",
    "    for force in system.getForces():\n",
    "        if isinstance(force, mm.NonbondedForce):\n",
    "            force.setUseDispersionCorrection(False)\n",
    "            if removeLJ:\n",
    "                for npart in range(force.getNumParticles()):\n",
    "                    chrg, sig, eps = force.getParticleParameters(npart)\n",
    "                    force.setParticleParameters(npart, chrg, 1.0, 0.0)\n",
    "                for nex in range(force.getNumExceptions()):\n",
    "                    p1, p2, chrg, sig, eps = force.getExceptionParameters(nex)\n",
    "                    force.setExceptionParameters(nex, p1, p2, chrg, 1.0, 0.0)\n",
    "\n",
    "    integ = mm.LangevinIntegrator(SET_temperature*unit.kelvin, 1/unit.picosecond, time_gap*unit.femtosecond)\n",
    "    simulation = app.Simulation(topo, system, integ)\n",
    "    simulation.context.setPositions(pos)\n",
    "    state=simulation.context.getState(getEnergy=True)\n",
    "    potential_energy = state.getPotentialEnergy().in_units_of(unit.kilojoules_per_mole)\n",
    "    print()\n",
    "    return potential_energy.value_in_unit(unit.kilojoules_per_mole)\n",
    "    # Calculate the energy components (Lennard-Jones and Coulombic)\n",
    "    lj_energy = context.getState(getEnergy=True, groups={0}).getPotentialEnergy()  # Assuming LJ group index is 0\n",
    "    coulomb_energy = context.getState(getEnergy=True, groups={1}).getPotentialEnergy()  # Assuming Coulomb group index is 1\n",
    "    \n",
    "def binding_energy(pdb, ff, cutoff=cutoff):\n",
    "    frame_topo, gas_topo = cutoff_topology(pdb.topology)\n",
    "    positions = pdb.getPositions()\n",
    "    total_ener = compute_energy(pdb.topology,positions,ff,cutoff=cutoff)\n",
    "    frame_ener = compute_energy(frame_topo,positions[:-3],ff,cutoff=cutoff)\n",
    "    gas_ener = compute_energy(gas_topo,positions[-3:],ff,cutoff=cutoff)\n",
    "    return total_ener-frame_ener-gas_ener"
   ]
  },
  {
   "cell_type": "code",
   "execution_count": 351,
   "metadata": {},
   "outputs": [
    {
     "name": "stdout",
     "output_type": "stream",
     "text": [
      "\n",
      "\n",
      "\n",
      "This is binding energy: -61.75506881379451\n",
      "\n",
      "\n",
      "\n",
      "This is binding energy: -47.06147760948064\n"
     ]
    }
   ],
   "source": [
    "\n",
    "\"\"\"\n",
    "\n",
    "Test part: Ensure openmm get the same binding energy to the results from raspa\n",
    "\n",
    "\"\"\"\n",
    "\n",
    "# For site 1\n",
    "\n",
    "create_supercell(\"data/MIL-120.pdb\", scaling_factors, \"scaled_frame.pdb\")\n",
    "add_loading(\"scaled_frame.pdb\",\"data/gas.pdb\",\"loading_supercell.pdb\")\n",
    "pdb = app.PDBFile(\"loading_supercell.pdb\")\n",
    "ff = app.ForceField(\"custom_forcefield.xml\")\n",
    "\n",
    "print(\"This is binding energy:\", binding_energy(pdb,ff))\n",
    "\n",
    "# For site 2\n",
    "\n",
    "create_supercell(\"data/MIL-120.pdb\", scaling_factors, \"scaled_frame.pdb\")\n",
    "add_loading(\"scaled_frame.pdb\",\"data/site2.pdb\",\"loading_supercell.pdb\")\n",
    "pdb = app.PDBFile(\"loading_supercell.pdb\")\n",
    "ff = app.ForceField(\"custom_forcefield.xml\")\n",
    "\n",
    "print(\"This is binding energy:\", binding_energy(pdb,ff))\n"
   ]
  },
  {
   "cell_type": "code",
   "execution_count": 352,
   "metadata": {},
   "outputs": [
    {
     "name": "stdout",
     "output_type": "stream",
     "text": [
      "\n",
      "\n"
     ]
    },
    {
     "data": {
      "text/plain": [
       "223538872.9206104"
      ]
     },
     "execution_count": 352,
     "metadata": {},
     "output_type": "execute_result"
    }
   ],
   "source": [
    "pdb = app.PDBFile(\"loading_supercell.pdb\")\n",
    "ff = app.ForceField(\"custom_forcefield.xml\")\n",
    "\n",
    "compute_energy(pdb.topology,pdb.getPositions(),ff,cutoff=cutoff)-compute_energy(pdb.topology,pdb.getPositions(),ff,cutoff=cutoff,removeLJ=True)"
   ]
  },
  {
   "cell_type": "code",
   "execution_count": 381,
   "metadata": {},
   "outputs": [
    {
     "name": "stdout",
     "output_type": "stream",
     "text": [
      "\n",
      "\n"
     ]
    },
    {
     "data": {
      "text/plain": [
       "209875696.7531967"
      ]
     },
     "execution_count": 381,
     "metadata": {},
     "output_type": "execute_result"
    }
   ],
   "source": [
    "pdb = app.PDBFile(\"loading_supercell.pdb\")\n",
    "pdb = app.PDBFile(\"test.pdb\")\n",
    "ff = app.ForceField(\"custom_forcefield.xml\")\n",
    "\n",
    "compute_energy(pdb.topology,pdb.getPositions(),ff,cutoff=cutoff)-compute_energy(pdb.topology,pdb.getPositions(),ff,cutoff=cutoff,removeLJ=True)"
   ]
  },
  {
   "cell_type": "code",
   "execution_count": 299,
   "metadata": {},
   "outputs": [
    {
     "data": {
      "text/plain": [
       "506.6088260412216"
      ]
     },
     "execution_count": 299,
     "metadata": {},
     "output_type": "execute_result"
    }
   ],
   "source": [
    "223538996.81798586-223538490.20915982"
   ]
  },
  {
   "cell_type": "markdown",
   "metadata": {},
   "source": []
  },
  {
   "cell_type": "code",
   "execution_count": 380,
   "metadata": {},
   "outputs": [
    {
     "name": "stdout",
     "output_type": "stream",
     "text": [
      "209876092.24104246\n"
     ]
    }
   ],
   "source": [
    "#pdb = app.PDBFile(\"loading_supercell.pdb\")\n",
    "pdb = app.PDBFile(\"loading_supercell.pdb\")\n",
    "pdb = app.PDBFile(\"test.pdb\")\n",
    "dmfftop = dmff.DMFFTopology(pdb.topology)\n",
    "# Because dmfftopology does not provide a good entry for open.topology object generated by pdb file, I had to suplement something\n",
    "topodata = dmfftop\n",
    "for atom in topodata.atoms():\n",
    "    if atom.residue.name==\"MOL\":\n",
    "        atom.meta['type']=atom.meta['element']\n",
    "        atom.meta['class']=atom.meta['element']\n",
    "    elif atom.residue.name==\"GAS\":\n",
    "        atom.meta['type']=atom.meta['element']+\"_co2\"\n",
    "        atom.meta['class']=atom.meta['element']+\"_co2\"\n",
    "    #print(atom.meta['element'])\n",
    "cov_mat = dmfftop.buildCovMat()\n",
    "\n",
    "\n",
    "xmlio = XMLIO()\n",
    "xmlio.loadXML(\"data/init.xml\")\n",
    "ffinfo = xmlio.parseXML()\n",
    "paramset = ParamSet()\n",
    "lj_gen = LennardJonesGenerator(ffinfo, paramset)\n",
    "lj_force = lj_gen.createPotential(\n",
    "    dmfftop, nonbondedMethod=app.CutoffPeriodic, nonbondedCutoff=cutoff, args={})\n",
    "\n",
    "pos_jnp = jnp.array(pdb.getPositions().value_in_unit(unit.nanometer))\n",
    "cell_jnp = jnp.array(pdb.topology.getPeriodicBoxVectors().value_in_unit(unit.nanometer))\n",
    "\n",
    "nblist = NeighborListFreud(pdb.topology.getPeriodicBoxVectors().value_in_unit(unit.nanometer), cutoff, cov_mat)\n",
    "pairs = jnp.array(nblist.allocate(pos_jnp, cell_jnp))\n",
    "ener = lj_force(pos_jnp,cell_jnp, pairs, paramset)\n",
    "print(ener)"
   ]
  },
  {
   "cell_type": "code",
   "execution_count": 382,
   "metadata": {},
   "outputs": [
    {
     "data": {
      "text/plain": [
       "-395.48784577846527"
      ]
     },
     "execution_count": 382,
     "metadata": {},
     "output_type": "execute_result"
    }
   ],
   "source": [
    "209875696.7531967-209876092.24104246"
   ]
  },
  {
   "cell_type": "code",
   "execution_count": 364,
   "metadata": {},
   "outputs": [
    {
     "data": {
      "text/plain": [
       "(1923, 3)"
      ]
     },
     "execution_count": 364,
     "metadata": {},
     "output_type": "execute_result"
    }
   ],
   "source": [
    "pos_jnp.shape"
   ]
  },
  {
   "cell_type": "code",
   "execution_count": 367,
   "metadata": {},
   "outputs": [
    {
     "data": {
      "text/plain": [
       "(406777, 3)"
      ]
     },
     "execution_count": 367,
     "metadata": {},
     "output_type": "execute_result"
    }
   ],
   "source": [
    "pairs.shape"
   ]
  },
  {
   "cell_type": "code",
   "execution_count": 361,
   "metadata": {},
   "outputs": [
    {
     "data": {
      "text/plain": [
       "<dmff.common.nblist.NeighborListFreud at 0x7f075025fcd0>"
      ]
     },
     "execution_count": 361,
     "metadata": {},
     "output_type": "execute_result"
    }
   ],
   "source": [
    "nblist"
   ]
  },
  {
   "cell_type": "code",
   "execution_count": 354,
   "metadata": {},
   "outputs": [
    {
     "data": {
      "text/plain": [
       "-971.3382132947445"
      ]
     },
     "execution_count": 354,
     "metadata": {},
     "output_type": "execute_result"
    }
   ],
   "source": [
    "223538490.20915982-223539461.54737312"
   ]
  },
  {
   "cell_type": "code",
   "execution_count": 337,
   "metadata": {},
   "outputs": [
    {
     "name": "stdout",
     "output_type": "stream",
     "text": [
      "[[ 2.8696      0.          0.        ]\n",
      " [-0.3293191   2.97341882  0.        ]\n",
      " [-0.94493837 -1.11477557  2.99987809]]\n"
     ]
    }
   ],
   "source": [
    "print(cell_jnp)"
   ]
  },
  {
   "cell_type": "code",
   "execution_count": 338,
   "metadata": {},
   "outputs": [
    {
     "name": "stdout",
     "output_type": "stream",
     "text": [
      "[[ 1.300e-03 -1.000e-04  5.840e-01]\n",
      " [ 3.188e-01  3.718e-01  4.160e-01]\n",
      " [-1.986e-01  1.859e-01  5.000e-01]\n",
      " ...\n",
      " [-3.750e-02  2.918e-01  1.157e-01]\n",
      " [-3.900e-02  2.910e-01 -3.000e-04]\n",
      " [-4.070e-02  2.902e-01 -1.163e-01]]\n"
     ]
    }
   ],
   "source": [
    "print(pos_jnp)"
   ]
  },
  {
   "cell_type": "code",
   "execution_count": 315,
   "metadata": {},
   "outputs": [
    {
     "data": {
      "text/plain": [
       "{'sigma': Array([0.40082, 0.34309, 0.25711, 0.31181, 0.305  , 0.28   ], dtype=float64),\n",
       " 'epsilon': Array([2.11525, 0.43979, 0.18436, 0.25079, 0.65757, 0.22469], dtype=float64),\n",
       " 'sigma_nbfix': Array([], dtype=float64),\n",
       " 'epsilon_nbfix': Array([], dtype=float64)}"
      ]
     },
     "execution_count": 315,
     "metadata": {},
     "output_type": "execute_result"
    }
   ],
   "source": [
    "paramset[lj_gen.name]"
   ]
  },
  {
   "cell_type": "code",
   "execution_count": 311,
   "metadata": {},
   "outputs": [
    {
     "name": "stdout",
     "output_type": "stream",
     "text": [
      "223538996.81798586\n"
     ]
    }
   ],
   "source": [
    "#pdb = app.PDBFile(\"loading_supercell.pdb\")\n",
    "pdb = app.PDBFile(\"loading_supercell.pdb\")\n",
    "\n",
    "dmfftop = dmff.DMFFTopology(pdb.topology)\n",
    "# Because dmfftopology does not provide a good entry for open.topology object generated by pdb file, I had to suplement something\n",
    "topodata = dmfftop\n",
    "for atom in topodata.atoms():\n",
    "    if atom.residue.name==\"MOL\":\n",
    "        atom.meta['type']=atom.meta['element']\n",
    "        atom.meta['class']=atom.meta['element']\n",
    "    elif atom.residue.name==\"GAS\":\n",
    "        atom.meta['type']=atom.meta['element']+\"_co2\"\n",
    "        atom.meta['class']=atom.meta['element']+\"_co2\"\n",
    "    #print(atom.meta['element'])\n",
    "cov_mat = dmfftop.buildCovMat()\n",
    "\n",
    "\n",
    "xmlio = XMLIO()\n",
    "xmlio.loadXML(\"data/init.xml\")\n",
    "ffinfo = xmlio.parseXML()\n",
    "paramset = ParamSet()\n",
    "lj_gen = LennardJonesGenerator(ffinfo, paramset)\n",
    "lj_force = lj_gen.createPotential(\n",
    "    dmfftop, nonbondedMethod=app.CutoffPeriodic, nonbondedCutoff=cutoff, args={})\n",
    "\n",
    "pos_jnp = jnp.array(pdb.getPositions().value_in_unit(unit.nanometer))\n",
    "cell_jnp = jnp.array(pdb.topology.getPeriodicBoxVectors().value_in_unit(unit.nanometer))\n",
    "\n",
    "nblist = NeighborListFreud(pdb.topology.getPeriodicBoxVectors().value_in_unit(unit.nanometer), cutoff, cov_mat)\n",
    "pairs = jnp.array(nblist.allocate(pos_jnp, cell_jnp))\n",
    "ener = lj_force(pos_jnp,cell_jnp, pairs, paramset)\n",
    "print(ener)"
   ]
  },
  {
   "cell_type": "code",
   "execution_count": 312,
   "metadata": {},
   "outputs": [
    {
     "data": {
      "text/plain": [
       "{'sigma': Array([0.40082, 0.34309, 0.25711, 0.31181, 0.305  , 0.28   ], dtype=float64),\n",
       " 'epsilon': Array([2.11525, 0.43979, 0.18436, 0.25079, 0.65757, 0.22469], dtype=float64),\n",
       " 'sigma_nbfix': Array([], dtype=float64),\n",
       " 'epsilon_nbfix': Array([], dtype=float64)}"
      ]
     },
     "execution_count": 312,
     "metadata": {},
     "output_type": "execute_result"
    }
   ],
   "source": [
    "paramset[lj_gen.name]"
   ]
  },
  {
   "cell_type": "code",
   "execution_count": 306,
   "metadata": {},
   "outputs": [
    {
     "data": {
      "text/plain": [
       "-1402.9923560917377"
      ]
     },
     "execution_count": 306,
     "metadata": {},
     "output_type": "execute_result"
    }
   ],
   "source": [
    "223538996.81798586-223540399.81034195"
   ]
  },
  {
   "cell_type": "code",
   "execution_count": null,
   "metadata": {},
   "outputs": [],
   "source": [
    "223538490.20915982"
   ]
  },
  {
   "cell_type": "code",
   "execution_count": 294,
   "metadata": {},
   "outputs": [
    {
     "data": {
      "text/plain": [
       "{'Al': 0, 'C': 1, 'H': 2, 'O': 3, 'O_co2': 4, 'C_co2': 5}"
      ]
     },
     "execution_count": 294,
     "metadata": {},
     "output_type": "execute_result"
    }
   ],
   "source": [
    "lj_gen.atype_to_idx"
   ]
  },
  {
   "cell_type": "code",
   "execution_count": 287,
   "metadata": {},
   "outputs": [
    {
     "data": {
      "text/plain": [
       "-508.5538045167923"
      ]
     },
     "execution_count": 287,
     "metadata": {},
     "output_type": "execute_result"
    }
   ],
   "source": [
    "223538490.20915982-223538998.76296434"
   ]
  },
  {
   "cell_type": "code",
   "execution_count": 280,
   "metadata": {},
   "outputs": [
    {
     "name": "stdout",
     "output_type": "stream",
     "text": [
      "1.4\n"
     ]
    }
   ],
   "source": [
    "print(cutoff)"
   ]
  },
  {
   "cell_type": "code",
   "execution_count": 247,
   "metadata": {},
   "outputs": [
    {
     "name": "stdout",
     "output_type": "stream",
     "text": [
      "223539463.4830464\n"
     ]
    }
   ],
   "source": []
  },
  {
   "cell_type": "code",
   "execution_count": null,
   "metadata": {},
   "outputs": [],
   "source": [
    "lj_force(,paramset)"
   ]
  },
  {
   "cell_type": "code",
   "execution_count": 218,
   "metadata": {},
   "outputs": [
    {
     "ename": "KeyError",
     "evalue": "'type'",
     "output_type": "error",
     "traceback": [
      "\u001b[0;31m---------------------------------------------------------------------------\u001b[0m",
      "\u001b[0;31mKeyError\u001b[0m                                  Traceback (most recent call last)",
      "Cell \u001b[0;32mIn[218], line 3\u001b[0m\n\u001b[1;32m      1\u001b[0m topdata \u001b[39m=\u001b[39m dmfftop\n\u001b[1;32m      2\u001b[0m atoms \u001b[39m=\u001b[39m [a \u001b[39mfor\u001b[39;00m a \u001b[39min\u001b[39;00m topdata\u001b[39m.\u001b[39matoms()]\n\u001b[0;32m----> 3\u001b[0m atypes \u001b[39m=\u001b[39m [a\u001b[39m.\u001b[39;49mmeta[\u001b[39m\"\u001b[39;49m\u001b[39mtype\u001b[39;49m\u001b[39m\"\u001b[39;49m] \u001b[39mfor\u001b[39;49;00m a \u001b[39min\u001b[39;49;00m atoms]\n",
      "Cell \u001b[0;32mIn[218], line 3\u001b[0m, in \u001b[0;36m<listcomp>\u001b[0;34m(.0)\u001b[0m\n\u001b[1;32m      1\u001b[0m topdata \u001b[39m=\u001b[39m dmfftop\n\u001b[1;32m      2\u001b[0m atoms \u001b[39m=\u001b[39m [a \u001b[39mfor\u001b[39;00m a \u001b[39min\u001b[39;00m topdata\u001b[39m.\u001b[39matoms()]\n\u001b[0;32m----> 3\u001b[0m atypes \u001b[39m=\u001b[39m [a\u001b[39m.\u001b[39;49mmeta[\u001b[39m\"\u001b[39;49m\u001b[39mtype\u001b[39;49m\u001b[39m\"\u001b[39;49m] \u001b[39mfor\u001b[39;00m a \u001b[39min\u001b[39;00m atoms]\n",
      "\u001b[0;31mKeyError\u001b[0m: 'type'"
     ]
    }
   ],
   "source": [
    "topdata = dmfftop\n",
    "atoms = [a for a in topdata.atoms()]\n",
    "atypes = [a.meta[\"type\"] for a in atoms]"
   ]
  },
  {
   "cell_type": "code",
   "execution_count": 232,
   "metadata": {},
   "outputs": [],
   "source": [
    "topdata = dmfftop\n",
    "for atom in dmfftop.atoms():\n",
    "    atom.meta['type']=atom.meta['element']\n",
    "    atom.meta['class']=atom.meta['element']\n",
    "#atoms = [a for a in topdata.atoms()]\n",
    "#atypes = [a.meta[\"type\"] for a in atoms]"
   ]
  },
  {
   "cell_type": "code",
   "execution_count": 230,
   "metadata": {},
   "outputs": [],
   "source": [
    "dmfftop = DMFFTopology(pdb.topology)"
   ]
  },
  {
   "cell_type": "code",
   "execution_count": 216,
   "metadata": {},
   "outputs": [
    {
     "ename": "AttributeError",
     "evalue": "'Atom' object has no attribute 'meta'",
     "output_type": "error",
     "traceback": [
      "\u001b[0;31m---------------------------------------------------------------------------\u001b[0m",
      "\u001b[0;31mAttributeError\u001b[0m                            Traceback (most recent call last)",
      "Cell \u001b[0;32mIn[216], line 3\u001b[0m\n\u001b[1;32m      1\u001b[0m topdata \u001b[39m=\u001b[39m pdb\u001b[39m.\u001b[39mtopology\n\u001b[1;32m      2\u001b[0m atoms \u001b[39m=\u001b[39m [a \u001b[39mfor\u001b[39;00m a \u001b[39min\u001b[39;00m topdata\u001b[39m.\u001b[39matoms()]\n\u001b[0;32m----> 3\u001b[0m atypes \u001b[39m=\u001b[39m [a\u001b[39m.\u001b[39;49mmeta[\u001b[39m\"\u001b[39;49m\u001b[39mtype\u001b[39;49m\u001b[39m\"\u001b[39;49m] \u001b[39mfor\u001b[39;49;00m a \u001b[39min\u001b[39;49;00m atoms]\n",
      "Cell \u001b[0;32mIn[216], line 3\u001b[0m, in \u001b[0;36m<listcomp>\u001b[0;34m(.0)\u001b[0m\n\u001b[1;32m      1\u001b[0m topdata \u001b[39m=\u001b[39m pdb\u001b[39m.\u001b[39mtopology\n\u001b[1;32m      2\u001b[0m atoms \u001b[39m=\u001b[39m [a \u001b[39mfor\u001b[39;00m a \u001b[39min\u001b[39;00m topdata\u001b[39m.\u001b[39matoms()]\n\u001b[0;32m----> 3\u001b[0m atypes \u001b[39m=\u001b[39m [a\u001b[39m.\u001b[39;49mmeta[\u001b[39m\"\u001b[39m\u001b[39mtype\u001b[39m\u001b[39m\"\u001b[39m] \u001b[39mfor\u001b[39;00m a \u001b[39min\u001b[39;00m atoms]\n",
      "\u001b[0;31mAttributeError\u001b[0m: 'Atom' object has no attribute 'meta'"
     ]
    }
   ],
   "source": [
    "topdata = pdb.topology\n",
    "atoms = [a for a in topdata.atoms()]\n",
    "atypes = [a.meta[\"type\"] for a in atoms]"
   ]
  },
  {
   "cell_type": "code",
   "execution_count": 234,
   "metadata": {},
   "outputs": [],
   "source": [
    "lj_gen = LennardJonesGenerator(ffinfo, paramset)\n",
    "#dmfftop = dmff.DMFFTopology(pdb.topology)\n",
    "lj_force = lj_gen.createPotential(\n",
    "    dmfftop, nonbondedMethod=app.CutoffPeriodic, nonbondedCutoff=cutoff, args={})"
   ]
  },
  {
   "cell_type": "code",
   "execution_count": 224,
   "metadata": {},
   "outputs": [
    {
     "ename": "KeyError",
     "evalue": "'type'",
     "output_type": "error",
     "traceback": [
      "\u001b[0;31m---------------------------------------------------------------------------\u001b[0m",
      "\u001b[0;31mKeyError\u001b[0m                                  Traceback (most recent call last)",
      "Cell \u001b[0;32mIn[224], line 7\u001b[0m\n\u001b[1;32m      5\u001b[0m lj_gen \u001b[39m=\u001b[39m LennardJonesGenerator(ffinfo, paramset)\n\u001b[1;32m      6\u001b[0m dmfftop \u001b[39m=\u001b[39m dmff\u001b[39m.\u001b[39mDMFFTopology(pdb\u001b[39m.\u001b[39mtopology)\n\u001b[0;32m----> 7\u001b[0m lj_force \u001b[39m=\u001b[39m lj_gen\u001b[39m.\u001b[39;49mcreatePotential(\n\u001b[1;32m      8\u001b[0m     dmfftop, nonbondedMethod\u001b[39m=\u001b[39;49mapp\u001b[39m.\u001b[39;49mCutoffPeriodic, nonbondedCutoff\u001b[39m=\u001b[39;49m\u001b[39m1.0\u001b[39;49m, args\u001b[39m=\u001b[39;49m{})\n",
      "File \u001b[0;32m~/project/github/DMFF/dmff/generators/classical.py:1326\u001b[0m, in \u001b[0;36mLennardJonesGenerator.createPotential\u001b[0;34m(self, topdata, nonbondedMethod, nonbondedCutoff, **kwargs)\u001b[0m\n\u001b[1;32m   1323\u001b[0m methodString \u001b[39m=\u001b[39m methodMap[nonbondedMethod]\n\u001b[1;32m   1325\u001b[0m atoms \u001b[39m=\u001b[39m [a \u001b[39mfor\u001b[39;00m a \u001b[39min\u001b[39;00m topdata\u001b[39m.\u001b[39matoms()]\n\u001b[0;32m-> 1326\u001b[0m atypes \u001b[39m=\u001b[39m [a\u001b[39m.\u001b[39;49mmeta[\u001b[39m\"\u001b[39;49m\u001b[39mtype\u001b[39;49m\u001b[39m\"\u001b[39;49m] \u001b[39mfor\u001b[39;49;00m a \u001b[39min\u001b[39;49;00m atoms]\n\u001b[1;32m   1327\u001b[0m map_prm \u001b[39m=\u001b[39m []\n\u001b[1;32m   1328\u001b[0m \u001b[39mfor\u001b[39;00m atype \u001b[39min\u001b[39;00m atypes:\n",
      "File \u001b[0;32m~/project/github/DMFF/dmff/generators/classical.py:1326\u001b[0m, in \u001b[0;36m<listcomp>\u001b[0;34m(.0)\u001b[0m\n\u001b[1;32m   1323\u001b[0m methodString \u001b[39m=\u001b[39m methodMap[nonbondedMethod]\n\u001b[1;32m   1325\u001b[0m atoms \u001b[39m=\u001b[39m [a \u001b[39mfor\u001b[39;00m a \u001b[39min\u001b[39;00m topdata\u001b[39m.\u001b[39matoms()]\n\u001b[0;32m-> 1326\u001b[0m atypes \u001b[39m=\u001b[39m [a\u001b[39m.\u001b[39;49mmeta[\u001b[39m\"\u001b[39;49m\u001b[39mtype\u001b[39;49m\u001b[39m\"\u001b[39;49m] \u001b[39mfor\u001b[39;00m a \u001b[39min\u001b[39;00m atoms]\n\u001b[1;32m   1327\u001b[0m map_prm \u001b[39m=\u001b[39m []\n\u001b[1;32m   1328\u001b[0m \u001b[39mfor\u001b[39;00m atype \u001b[39min\u001b[39;00m atypes:\n",
      "\u001b[0;31mKeyError\u001b[0m: 'type'"
     ]
    }
   ],
   "source": [
    "xmlio = XMLIO()\n",
    "xmlio.loadXML(\"data/init.xml\")\n",
    "ffinfo = xmlio.parseXML()\n",
    "paramset = ParamSet()\n",
    "lj_gen = LennardJonesGenerator(ffinfo, paramset)\n",
    "dmfftop = dmff.DMFFTopology(pdb.topology)\n",
    "lj_force = lj_gen.createPotential(\n",
    "    dmfftop, nonbondedMethod=app.CutoffPeriodic, nonbondedCutoff=1.0, args={})"
   ]
  },
  {
   "cell_type": "code",
   "execution_count": 204,
   "metadata": {},
   "outputs": [],
   "source": [
    "lj_operator = ParmedLennardJonesOperator(pdb.topology)\n",
    "lj_operator.renderLennardJonesXML(\"data/init.xml\")"
   ]
  },
  {
   "cell_type": "code",
   "execution_count": 205,
   "metadata": {},
   "outputs": [
    {
     "ename": "AttributeError",
     "evalue": "'ParmedLennardJonesOperator' object has no attribute 'atoms'",
     "output_type": "error",
     "traceback": [
      "\u001b[0;31m---------------------------------------------------------------------------\u001b[0m",
      "\u001b[0;31mAttributeError\u001b[0m                            Traceback (most recent call last)",
      "Cell \u001b[0;32mIn[205], line 6\u001b[0m\n\u001b[1;32m      4\u001b[0m paramset \u001b[39m=\u001b[39m ParamSet()\n\u001b[1;32m      5\u001b[0m lj_gen \u001b[39m=\u001b[39m LennardJonesGenerator(ffinfo, paramset)\n\u001b[0;32m----> 6\u001b[0m lj_force \u001b[39m=\u001b[39m lj_gen\u001b[39m.\u001b[39;49mcreatePotential(\n\u001b[1;32m      7\u001b[0m     lj_operator, nonbondedMethod\u001b[39m=\u001b[39;49mapp\u001b[39m.\u001b[39;49mCutoffPeriodic, nonbondedCutoff\u001b[39m=\u001b[39;49m\u001b[39m1.0\u001b[39;49m, args\u001b[39m=\u001b[39;49m{})\n",
      "File \u001b[0;32m~/project/github/DMFF/dmff/generators/classical.py:1325\u001b[0m, in \u001b[0;36mLennardJonesGenerator.createPotential\u001b[0;34m(self, topdata, nonbondedMethod, nonbondedCutoff, **kwargs)\u001b[0m\n\u001b[1;32m   1322\u001b[0m     \u001b[39mraise\u001b[39;00m DMFFException(\u001b[39m\"\u001b[39m\u001b[39mIllegal nonbonded method for NonbondedForce\u001b[39m\u001b[39m\"\u001b[39m)\n\u001b[1;32m   1323\u001b[0m methodString \u001b[39m=\u001b[39m methodMap[nonbondedMethod]\n\u001b[0;32m-> 1325\u001b[0m atoms \u001b[39m=\u001b[39m [a \u001b[39mfor\u001b[39;00m a \u001b[39min\u001b[39;00m topdata\u001b[39m.\u001b[39;49matoms()]\n\u001b[1;32m   1326\u001b[0m atypes \u001b[39m=\u001b[39m [a\u001b[39m.\u001b[39mmeta[\u001b[39m\"\u001b[39m\u001b[39mtype\u001b[39m\u001b[39m\"\u001b[39m] \u001b[39mfor\u001b[39;00m a \u001b[39min\u001b[39;00m atoms]\n\u001b[1;32m   1327\u001b[0m map_prm \u001b[39m=\u001b[39m []\n",
      "\u001b[0;31mAttributeError\u001b[0m: 'ParmedLennardJonesOperator' object has no attribute 'atoms'"
     ]
    }
   ],
   "source": [
    "xmlio = XMLIO()\n",
    "xmlio.loadXML(\"data/init.xml\")\n",
    "ffinfo = xmlio.parseXML()\n",
    "paramset = ParamSet()\n",
    "lj_gen = LennardJonesGenerator(ffinfo, paramset)\n",
    "lj_force = lj_gen.createPotential(\n",
    "    lj_operator, nonbondedMethod=app.CutoffPeriodic, nonbondedCutoff=1.0, args={})"
   ]
  },
  {
   "cell_type": "markdown",
   "metadata": {},
   "source": [
    "This part just for curiosity:\n",
    "Study on how the cutoff influences on energy computation"
   ]
  },
  {
   "cell_type": "code",
   "execution_count": null,
   "metadata": {},
   "outputs": [],
   "source": [
    "cutoff_arr = np.linspace(0.3,0.999,10)\n",
    "ls_1 = [compute_energy(pdb.topology,positions,ff, cutoff=i) for i in cutoff_arr]\n",
    "ls_2 = [compute_energy(frame_topo,positions[:-3],ff, cutoff=i) for i in cutoff_arr]\n",
    "ls_3 = [compute_energy(gas_topo,positions[-3:],ff, cutoff=i) for i in cutoff_arr]"
   ]
  },
  {
   "cell_type": "code",
   "execution_count": 207,
   "metadata": {},
   "outputs": [
    {
     "data": {
      "text/plain": [
       "<Topology; 1 chains, 49 residues, 1923 atoms, 2 bonds>"
      ]
     },
     "execution_count": 207,
     "metadata": {},
     "output_type": "execute_result"
    }
   ],
   "source": [
    "pdb.topology"
   ]
  },
  {
   "cell_type": "code",
   "execution_count": 210,
   "metadata": {},
   "outputs": [
    {
     "data": {
      "text/plain": [
       "<DMFFTopology; 1 chains, 49 residues, 1923 atoms, 2 bonds>"
      ]
     },
     "execution_count": 210,
     "metadata": {},
     "output_type": "execute_result"
    }
   ],
   "source": [
    "dmff.DMFFTopology(pdb.topology)"
   ]
  },
  {
   "cell_type": "code",
   "execution_count": 101,
   "metadata": {},
   "outputs": [
    {
     "data": {
      "text/plain": [
       "<matplotlib.legend.Legend at 0x7f0763285fd0>"
      ]
     },
     "execution_count": 101,
     "metadata": {},
     "output_type": "execute_result"
    },
    {
     "data": {
      "image/png": "[encoded data removed]",
      "text/plain": [
       "<Figure size 640x480 with 1 Axes>"
      ]
     },
     "metadata": {},
     "output_type": "display_data"
    }
   ],
   "source": [
    "fz = 18\n",
    "plt.fig = (7,6)\n",
    "\n",
    "plt.plot(cutoff_arr*10,ls_1,label=\"Energy of CO2+frame\")\n",
    "plt.xlabel(\"Cutoff of Nonbonding force (Angstrom)\", fontsize=fz-6)\n",
    "plt.ylabel(\"Energy KJ/mol\", fontsize=fz-6)\n",
    "plt.legend()"
   ]
  },
  {
   "cell_type": "code",
   "execution_count": 98,
   "metadata": {},
   "outputs": [
    {
     "data": {
      "text/plain": [
       "<matplotlib.legend.Legend at 0x7f07633cdfd0>"
      ]
     },
     "execution_count": 98,
     "metadata": {},
     "output_type": "execute_result"
    },
    {
     "data": {
      "image/png": "[encoded data removed]",
      "text/plain": [
       "<Figure size 640x480 with 1 Axes>"
      ]
     },
     "metadata": {},
     "output_type": "display_data"
    }
   ],
   "source": [
    "fz = 18\n",
    "plt.fig = (7,6)\n",
    "\n",
    "plt.plot(cutoff_arr*10,ls_2,label=\"Energy of framework\")\n",
    "plt.xlabel(\"Cutoff of Nonbonding force (Angstrom)\", fontsize=fz-6)\n",
    "plt.xlabel(\"Energy KJ/mol\", fontsize=fz-6)\n",
    "plt.legend()\n"
   ]
  },
  {
   "cell_type": "code",
   "execution_count": 97,
   "metadata": {},
   "outputs": [
    {
     "data": {
      "text/plain": [
       "<matplotlib.legend.Legend at 0x7f076341e990>"
      ]
     },
     "execution_count": 97,
     "metadata": {},
     "output_type": "execute_result"
    },
    {
     "data": {
      "image/png": "[encoded data removed]",
      "text/plain": [
       "<Figure size 640x480 with 1 Axes>"
      ]
     },
     "metadata": {},
     "output_type": "display_data"
    }
   ],
   "source": [
    "fz = 18\n",
    "plt.fig = (7,6)\n",
    "\n",
    "plt.plot(cutoff_arr*10,ls_3,label=\"Energy of co2\")\n",
    "plt.xlabel(\"Cutoff of Nonbonding force (Angstrom)\", fontsize=fz-6)\n",
    "plt.ylabel(\"Energy KJ/mol\", fontsize=fz-6)\n",
    "plt.legend()"
   ]
  },
  {
   "cell_type": "code",
   "execution_count": 102,
   "metadata": {},
   "outputs": [
    {
     "data": {
      "text/plain": [
       "<matplotlib.legend.Legend at 0x7f076318fdd0>"
      ]
     },
     "execution_count": 102,
     "metadata": {},
     "output_type": "execute_result"
    },
    {
     "data": {
      "image/png": "[encoded data removed]",
      "text/plain": [
       "<Figure size 640x480 with 1 Axes>"
      ]
     },
     "metadata": {},
     "output_type": "display_data"
    }
   ],
   "source": [
    "ls_all = [i-j-k for i,j,k in zip(ls_1,ls_2,ls_3)]\n",
    "plt.plot(cutoff_arr*10,ls_all,label=\"binding_energy\")\n",
    "plt.xlabel(\"Cutoff of Nonbonding force (Angstrom)\", fontsize=fz-6)\n",
    "plt.ylabel(\"Energy KJ/mol\", fontsize=fz-6)\n",
    "plt.legend()"
   ]
  },
  {
   "cell_type": "code",
   "execution_count": 108,
   "metadata": {},
   "outputs": [
    {
     "data": {
      "text/plain": [
       "<matplotlib.legend.Legend at 0x7f07630a0d10>"
      ]
     },
     "execution_count": 108,
     "metadata": {},
     "output_type": "execute_result"
    },
    {
     "data": {
      "image/png": "[encoded data removed]",
      "text/plain": [
       "<Figure size 640x480 with 1 Axes>"
      ]
     },
     "metadata": {},
     "output_type": "display_data"
    }
   ],
   "source": [
    "\n",
    "ls_all = [i-j-k for i,j,k in zip(ls_1,ls_2,ls_3)]\n",
    "plt.plot(cutoff_arr*10,ls_all,label=\"binding_energy\")\n",
    "plt.xlabel(\"Cutoff of Nonbonding force (Angstrom)\", fontsize=fz-6)\n",
    "plt.ylabel(\"Energy KJ/mol\", fontsize=fz-6)\n",
    "plt.legend()"
   ]
  },
  {
   "cell_type": "code",
   "execution_count": 3,
   "metadata": {},
   "outputs": [],
   "source": [
    "ner_ls = []\n",
    "\n",
    "positions=initial_positions[:]\n",
    "\n",
    "topo = pdb.topology\n",
    "pos = positions[:]\n",
    "print(len(pos))\n",
    "integ = mm.LangevinIntegrator(SET_temperature*unit.kelvin, 1/unit.picosecond, 2.5*unit.femtosecond)\n",
    "simulation = app.Simulation(topo, ff.createSystem(topo, nonbondedMethod=app.PME, nonbondedCutoff=0.356*unit.nanometer, constraints=None, removeCMMotion=False), integ)\n",
    "simulation.context.setPositions(pos)\n",
    "state=simulation.context.getState(getEnergy=True)\n",
    "potential_energy = state.getPotentialEnergy().in_units_of(unit.kilojoules_per_mole)\n",
    "print(potential_energy)\n",
    "ener_ls.append(potential_energy)\n",
    "\n",
    "topo = frame_top\n",
    "pos = positions[:40]\n",
    "print(len(pos))\n",
    "integ = mm.LangevinIntegrator(SET_temperature*unit.kelvin, 1/unit.picosecond, 2.5*unit.femtosecond)\n",
    "simulation = app.Simulation(topo, ff.createSystem(topo, nonbondedMethod=app.PME, nonbondedCutoff=0.356*unit.nanometer, constraints=None, removeCMMotion=False), integ)\n",
    "simulation.context.setPositions(pos)\n",
    "state=simulation.context.getState(getEnergy=True)\n",
    "potential_energy = state.getPotentialEnergy().in_units_of(unit.kilojoules_per_mole)\n",
    "print(potential_energy)\n",
    "ener_ls.append(potential_energy)\n",
    "\n",
    "\n",
    "topo = gas_top\n",
    "pos = positions[40:]\n",
    "print(len(pos))\n",
    "integ = mm.LangevinIntegrator(SET_temperature*unit.kelvin, 1/unit.picosecond, 2.5*unit.femtosecond)\n",
    "simulation = app.Simulation(topo, ff.createSystem(topo, nonbondedMethod=app.PME, nonbondedCutoff=0.356*unit.nanometer, constraints=None, removeCMMotion=False), integ)\n",
    "simulation.context.setPositions(pos)\n",
    "state=simulation.context.getState(getEnergy=True)\n",
    "potential_energy = state.getPotentialEnergy().in_units_of(unit.kilojoules_per_mole)\n",
    "print(potential_energy)\n",
    "ener_ls.append(potential_energy)\n",
    "\n",
    "print(\"This is interaction energy: \", ener_ls[0]-ener_ls[1]-ener_ls[2])"
   ]
  }
 ],
 "metadata": {
  "kernelspec": {
   "display_name": "dmff",
   "language": "python",
   "name": "python3"
  },
  "language_info": {
   "codemirror_mode": {
    "name": "ipython",
    "version": 3
   },
   "file_extension": ".py",
   "mimetype": "text/x-python",
   "name": "python",
   "nbconvert_exporter": "python",
   "pygments_lexer": "ipython3",
   "version": "3.11.6"
  },
  "orig_nbformat": 4
 },
 "nbformat": 4,
 "nbformat_minor": 2
}
