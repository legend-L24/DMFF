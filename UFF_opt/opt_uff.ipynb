{
 "cells": [
  {
   "cell_type": "markdown",
   "metadata": {},
   "source": [
    "Here I construct the initial force field Lenard-Jone potential and Coulume potential from UFF and MIL-120 from aiida-plugin\n",
    "\n",
    "The force field file in RASPA: epsilon units (Kelvin); sigma(Angstrom)\n",
    "\n",
    "Al_     LENNARD_JONES   254.152 4.0082\n",
    "C_      LENNARD_JONES   52.8435 3.4309\n",
    "H_      LENNARD_JONES   22.1439 2.5711\n",
    "O_      LENNARD_JONES   30.1963 3.1181\n",
    "O_co2   LENNARD_JONES   79.0    3.05\n",
    "C_co2   LENNARD_JONES   27.0    2.80\n",
    "\n",
    "The force field file in OpenMM: epsilon units (KJ/mol); sigma(nm)\n",
    "\n",
    "Al_     LENNARD_JONES   2.1019    0.40082\n",
    "C_      LENNARD_JONES   0.4400    0.34309\n",
    "H_      LENNARD_JONES   0.1841    0.25711\n",
    "O_      LENNARD_JONES   0.2513    0.31181\n",
    "O_co2   LENNARD_JONES   0.6577    0.30500\n",
    "C_co2   LENNARD_JONES   0.2249    0.28000\n",
    "\n",
    "Some prepared files to run the simulation: (I put all of them in data directory)\n",
    "\n",
    "\n",
    "It is not easy to generate these files. Bullshit PDB and xml files. I save some childish methods in refine.ipynb to do it. \n",
    "If I have time, maybe write new functions to unils.py\n",
    "\n",
    "Structural file of MOF: \n",
    "atoms in pdb file should have a special name\n",
    "\n",
    "gas.pdb: CO2 molecule predicted by UFF force field\n",
    "MIL-120.pdb: The rigid framework\n",
    "\n",
    "A good force field:\n",
    "custom_force_field.xml, containing charges information from CIF file"
   ]
  },
  {
   "cell_type": "code",
   "execution_count": 1,
   "metadata": {},
   "outputs": [
    {
     "name": "stderr",
     "output_type": "stream",
     "text": [
      "Warning on use of the timeseries module: If the inherent timescales of the system are long compared to those being analyzed, this statistical inefficiency may be an underestimate.  The estimate presumes the use of many statistically independent samples.  Tests should be performed to assess whether this condition is satisfied.   Be cautious in the interpretation of the data.\n"
     ]
    }
   ],
   "source": [
    "# These package is inherited from Lenard-Jones optimization part of DMFF\n",
    "\n",
    "import openmm.app as app\n",
    "import openmm as mm\n",
    "import openmm.unit as unit\n",
    "import numpy as np\n",
    "import jax\n",
    "import jax.numpy as jnp\n",
    "import dmff\n",
    "from dmff.api.xmlio import XMLIO\n",
    "from dmff.api.paramset import ParamSet\n",
    "from dmff.generators.classical import CoulombGenerator, LennardJonesGenerator\n",
    "from dmff.api.hamiltonian import Hamiltonian\n",
    "from dmff.operators import ParmedLennardJonesOperator\n",
    "from dmff import NeighborListFreud\n",
    "from dmff.mbar import ReweightEstimator\n",
    "import mdtraj as md\n",
    "from tqdm import tqdm, trange\n",
    "import parmed\n",
    "import sys\n",
    "import os\n",
    "from dmff.api.topology import DMFFTopology\n",
    "\n",
    "# this is a package I write to solve some IO problems utils.py\n",
    "from utils import create_supercell, gas_generate,add_loading"
   ]
  },
  {
   "cell_type": "code",
   "execution_count": 2,
   "metadata": {},
   "outputs": [],
   "source": [
    "scaling_factors=(3,3,2)\n",
    "\n",
    "create_supercell(\"data/MIL-120.pdb\", scaling_factors, \"scaled_frame.pdb\")\n",
    "add_loading(\"scaled_frame.pdb\",\"data/gas.pdb\",\"loading_supercell.pdb\")\n",
    "pdb = app.PDBFile(\"loading_supercell.pdb\")\n",
    "ff = app.ForceField(\"custom_forcefield.xml\")\n",
    "system = ff.createSystem(pdb.topology, nonbondedMethod=app.Ewald, constraints=None, removeCMMotion=False)"
   ]
  }
 ],
 "metadata": {
  "kernelspec": {
   "display_name": "dmff",
   "language": "python",
   "name": "python3"
  },
  "language_info": {
   "codemirror_mode": {
    "name": "ipython",
    "version": 3
   },
   "file_extension": ".py",
   "mimetype": "text/x-python",
   "name": "python",
   "nbconvert_exporter": "python",
   "pygments_lexer": "ipython3",
   "version": "3.11.6"
  },
  "orig_nbformat": 4
 },
 "nbformat": 4,
 "nbformat_minor": 2
}
