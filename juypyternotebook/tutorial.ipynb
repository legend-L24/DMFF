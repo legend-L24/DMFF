{
 "cells": [
  {
   "cell_type": "code",
   "execution_count": 1,
   "metadata": {},
   "outputs": [
    {
     "ename": "FileNotFoundError",
     "evalue": "[Errno 2] No such file or directory: 'lig-top.xml'",
     "output_type": "error",
     "traceback": [
      "\u001b[0;31m---------------------------------------------------------------------------\u001b[0m",
      "\u001b[0;31mFileNotFoundError\u001b[0m                         Traceback (most recent call last)",
      "Cell \u001b[0;32mIn[1], line 7\u001b[0m\n\u001b[1;32m      4\u001b[0m \u001b[39mimport\u001b[39;00m \u001b[39mopenmm\u001b[39;00m\u001b[39m.\u001b[39;00m\u001b[39munit\u001b[39;00m \u001b[39mas\u001b[39;00m \u001b[39munit\u001b[39;00m\n\u001b[1;32m      5\u001b[0m \u001b[39mfrom\u001b[39;00m \u001b[39mdmff\u001b[39;00m \u001b[39mimport\u001b[39;00m Hamiltonian, NeighborList\n\u001b[0;32m----> 7\u001b[0m app\u001b[39m.\u001b[39;49mTopology\u001b[39m.\u001b[39;49mloadBondDefinitions(\u001b[39m\"\u001b[39;49m\u001b[39mlig-top.xml\u001b[39;49m\u001b[39m\"\u001b[39;49m)\n\u001b[1;32m      8\u001b[0m pdb \u001b[39m=\u001b[39m app\u001b[39m.\u001b[39mPDBFile(\u001b[39m\"\u001b[39m\u001b[39mlig.pdb\u001b[39m\u001b[39m\"\u001b[39m)\n\u001b[1;32m      9\u001b[0m ff \u001b[39m=\u001b[39m Hamiltonian(\u001b[39m\"\u001b[39m\u001b[39mgaff-2.11.xml\u001b[39m\u001b[39m\"\u001b[39m, \u001b[39m\"\u001b[39m\u001b[39mlig-prm.xml\u001b[39m\u001b[39m\"\u001b[39m)\n",
      "File \u001b[0;32m~/anaconda3/envs/dmff/lib/python3.11/site-packages/openmm/app/topology.py:289\u001b[0m, in \u001b[0;36mTopology.loadBondDefinitions\u001b[0;34m(file)\u001b[0m\n\u001b[1;32m    279\u001b[0m \u001b[39m@staticmethod\u001b[39m\n\u001b[1;32m    280\u001b[0m \u001b[39mdef\u001b[39;00m \u001b[39mloadBondDefinitions\u001b[39m(file):\n\u001b[1;32m    281\u001b[0m \u001b[39m    \u001b[39m\u001b[39m\"\"\"Load an XML file containing definitions of bonds that should be used by createStandardBonds().\u001b[39;00m\n\u001b[1;32m    282\u001b[0m \n\u001b[1;32m    283\u001b[0m \u001b[39m    The built in residues.xml file containing definitions for standard amino acids and nucleotides is loaded automatically.\u001b[39;00m\n\u001b[0;32m   (...)\u001b[0m\n\u001b[1;32m    287\u001b[0m \u001b[39m    will be used for any PDB file loaded after this is called.\u001b[39;00m\n\u001b[1;32m    288\u001b[0m \u001b[39m    \"\"\"\u001b[39;00m\n\u001b[0;32m--> 289\u001b[0m     tree \u001b[39m=\u001b[39m etree\u001b[39m.\u001b[39;49mparse(file)\n\u001b[1;32m    290\u001b[0m     \u001b[39mfor\u001b[39;00m residue \u001b[39min\u001b[39;00m tree\u001b[39m.\u001b[39mgetroot()\u001b[39m.\u001b[39mfindall(\u001b[39m'\u001b[39m\u001b[39mResidue\u001b[39m\u001b[39m'\u001b[39m):\n\u001b[1;32m    291\u001b[0m         bonds \u001b[39m=\u001b[39m []\n",
      "File \u001b[0;32m~/anaconda3/envs/dmff/lib/python3.11/xml/etree/ElementTree.py:1218\u001b[0m, in \u001b[0;36mparse\u001b[0;34m(source, parser)\u001b[0m\n\u001b[1;32m   1209\u001b[0m \u001b[39m\u001b[39m\u001b[39m\"\"\"Parse XML document into element tree.\u001b[39;00m\n\u001b[1;32m   1210\u001b[0m \n\u001b[1;32m   1211\u001b[0m \u001b[39m*source* is a filename or file object containing XML data,\u001b[39;00m\n\u001b[0;32m   (...)\u001b[0m\n\u001b[1;32m   1215\u001b[0m \n\u001b[1;32m   1216\u001b[0m \u001b[39m\"\"\"\u001b[39;00m\n\u001b[1;32m   1217\u001b[0m tree \u001b[39m=\u001b[39m ElementTree()\n\u001b[0;32m-> 1218\u001b[0m tree\u001b[39m.\u001b[39;49mparse(source, parser)\n\u001b[1;32m   1219\u001b[0m \u001b[39mreturn\u001b[39;00m tree\n",
      "File \u001b[0;32m~/anaconda3/envs/dmff/lib/python3.11/xml/etree/ElementTree.py:569\u001b[0m, in \u001b[0;36mElementTree.parse\u001b[0;34m(self, source, parser)\u001b[0m\n\u001b[1;32m    567\u001b[0m close_source \u001b[39m=\u001b[39m \u001b[39mFalse\u001b[39;00m\n\u001b[1;32m    568\u001b[0m \u001b[39mif\u001b[39;00m \u001b[39mnot\u001b[39;00m \u001b[39mhasattr\u001b[39m(source, \u001b[39m\"\u001b[39m\u001b[39mread\u001b[39m\u001b[39m\"\u001b[39m):\n\u001b[0;32m--> 569\u001b[0m     source \u001b[39m=\u001b[39m \u001b[39mopen\u001b[39;49m(source, \u001b[39m\"\u001b[39;49m\u001b[39mrb\u001b[39;49m\u001b[39m\"\u001b[39;49m)\n\u001b[1;32m    570\u001b[0m     close_source \u001b[39m=\u001b[39m \u001b[39mTrue\u001b[39;00m\n\u001b[1;32m    571\u001b[0m \u001b[39mtry\u001b[39;00m:\n",
      "\u001b[0;31mFileNotFoundError\u001b[0m: [Errno 2] No such file or directory: 'lig-top.xml'"
     ]
    }
   ],
   "source": [
    "import jax\n",
    "import jax.numpy as jnp\n",
    "import openmm.app as app\n",
    "import openmm.unit as unit\n",
    "from dmff import Hamiltonian, NeighborList\n",
    "import os\n",
    "\n",
    "\n",
    "app.Topology.loadBondDefinitions(\"lig-top.xml\")\n",
    "pdb = app.PDBFile(\"lig.pdb\")\n",
    "ff = Hamiltonian(\"gaff-2.11.xml\", \"lig-prm.xml\")\n",
    "potentials = ff.createPotential(pdb.topology)\n",
    "for k in potentials.dmff_potentials.keys():\n",
    "    pot = potentials.dmff_potentials[k]\n",
    "    print(pot)"
   ]
  },
  {
   "cell_type": "code",
   "execution_count": 3,
   "metadata": {},
   "outputs": [
    {
     "ename": "ValueError",
     "evalue": "Could not locate file \"uff.xml\"",
     "output_type": "error",
     "traceback": [
      "\u001b[0;31m---------------------------------------------------------------------------\u001b[0m",
      "\u001b[0;31mValueError\u001b[0m                                Traceback (most recent call last)",
      "Cell \u001b[0;32mIn[3], line 11\u001b[0m\n\u001b[1;32m      5\u001b[0m \u001b[39mfrom\u001b[39;00m \u001b[39msimtk\u001b[39;00m\u001b[39m.\u001b[39;00m\u001b[39munit\u001b[39;00m \u001b[39mimport\u001b[39;00m nanometer, kilocalorie_per_mole, picosecond, kelvin\n\u001b[1;32m      7\u001b[0m \u001b[39m# Load the molecular system from a PDB file\u001b[39;00m\n\u001b[1;32m      8\u001b[0m \u001b[39m#pdb = PDBFile('your_structure.pdb')\u001b[39;00m\n\u001b[1;32m      9\u001b[0m \n\u001b[1;32m     10\u001b[0m \u001b[39m# Create a system using the Universal Force Field (UFF)\u001b[39;00m\n\u001b[0;32m---> 11\u001b[0m forcefield \u001b[39m=\u001b[39m ForceField(\u001b[39m'\u001b[39;49m\u001b[39muff.xml\u001b[39;49m\u001b[39m'\u001b[39;49m)  \u001b[39m# Make sure you have the UFF parameter file (uff.xml) available\u001b[39;00m\n\u001b[1;32m     13\u001b[0m \u001b[39m# Create a simulation context\u001b[39;00m\n\u001b[1;32m     14\u001b[0m system \u001b[39m=\u001b[39m forcefield\u001b[39m.\u001b[39mcreateSystem(pdb\u001b[39m.\u001b[39mtopology, nonbondedMethod\u001b[39m=\u001b[39mmm\u001b[39m.\u001b[39mNoCutoff, constraints\u001b[39m=\u001b[39m\u001b[39mNone\u001b[39;00m)\n",
      "File \u001b[0;32m~/anaconda3/envs/dmff/lib/python3.11/site-packages/openmm/app/forcefield.py:214\u001b[0m, in \u001b[0;36mForceField.__init__\u001b[0;34m(self, *files)\u001b[0m\n\u001b[1;32m    212\u001b[0m \u001b[39mself\u001b[39m\u001b[39m.\u001b[39m_templateMatchers \u001b[39m=\u001b[39m []\n\u001b[1;32m    213\u001b[0m \u001b[39mself\u001b[39m\u001b[39m.\u001b[39m_templateGenerators \u001b[39m=\u001b[39m []\n\u001b[0;32m--> 214\u001b[0m \u001b[39mself\u001b[39;49m\u001b[39m.\u001b[39;49mloadFile(files)\n",
      "File \u001b[0;32m~/anaconda3/envs/dmff/lib/python3.11/site-packages/openmm/app/forcefield.py:264\u001b[0m, in \u001b[0;36mForceField.loadFile\u001b[0;34m(self, files, resname_prefix)\u001b[0m\n\u001b[1;32m    262\u001b[0m     \u001b[39mraise\u001b[39;00m \u001b[39mException\u001b[39;00m(msg)\n\u001b[1;32m    263\u001b[0m \u001b[39mif\u001b[39;00m tree \u001b[39mis\u001b[39;00m \u001b[39mNone\u001b[39;00m:\n\u001b[0;32m--> 264\u001b[0m     \u001b[39mraise\u001b[39;00m \u001b[39mValueError\u001b[39;00m(\u001b[39m'\u001b[39m\u001b[39mCould not locate file \u001b[39m\u001b[39m\"\u001b[39m\u001b[39m%s\u001b[39;00m\u001b[39m\"\u001b[39m\u001b[39m'\u001b[39m \u001b[39m%\u001b[39m file)\n\u001b[1;32m    266\u001b[0m trees\u001b[39m.\u001b[39mappend(tree)\n\u001b[1;32m    267\u001b[0m i \u001b[39m+\u001b[39m\u001b[39m=\u001b[39m \u001b[39m1\u001b[39m\n",
      "\u001b[0;31mValueError\u001b[0m: Could not locate file \"uff.xml\""
     ]
    }
   ],
   "source": [
    "import simtk.openmm as mm\n",
    "from simtk.openmm.app import PDBFile\n",
    "from simtk.openmm.app import Simulation\n",
    "from simtk.openmm.app import ForceField\n",
    "from simtk.unit import nanometer, kilocalorie_per_mole, picosecond, kelvin\n",
    "\n",
    "# Load the molecular system from a PDB file\n",
    "#pdb = PDBFile('your_structure.pdb')\n",
    "\n",
    "# Create a system using the Universal Force Field (UFF)\n",
    "forcefield = ForceField('uff.xml')  # Make sure you have the UFF parameter file (uff.xml) available\n",
    "\n",
    "# Create a simulation context\n",
    "system = forcefield.createSystem(pdb.topology, nonbondedMethod=mm.NoCutoff, constraints=None)\n",
    "\n",
    "# Define the integrator (you can customize it)\n",
    "integrator = mm.LangevinIntegrator(300*kelvin, 1/picosecond, 0.002*picoseconds)\n",
    "\n",
    "# Create the Simulation object\n",
    "simulation = Simulation(pdb.topology, system, integrator)\n",
    "\n",
    "# Set initial positions\n",
    "simulation.context.setPositions(pdb.positions)\n",
    "\n",
    "# Minimize the energy (optional but recommended)\n",
    "simulation.minimizeEnergy()\n",
    "\n",
    "# Set up the output files (optional)\n",
    "simulation.reporters.append(PDBReporter('output_trajectory.pdb', 1000))\n",
    "simulation.reporters.append(StateDataReporter('output_energy.csv', 1000, step=True, potentialEnergy=True, temperature=True))\n",
    "\n",
    "# Run the simulation\n",
    "simulation.step(10000)  # You can adjust the number of steps\n",
    "\n",
    "# Save the final coordinates (optional)\n",
    "final_pdb = pdb.positions\n",
    "with open('final_structure.pdb', 'w') as f:\n",
    "    PDBFile.writeFile(pdb.topology, final_pdb, f)\n"
   ]
  },
  {
   "cell_type": "code",
   "execution_count": 4,
   "metadata": {},
   "outputs": [
    {
     "name": "stdout",
     "output_type": "stream",
     "text": [
      "<module 'openmm.version' from '/home/yutao/anaconda3/envs/dmff/lib/python3.11/site-packages/openmm/version.py'>\n",
      "/home/yutao/anaconda3/envs/dmff/lib/python3.11/site-packages/simtk/openmm/__init__.py\n"
     ]
    }
   ],
   "source": [
    "import simtk.openmm\n",
    "print(simtk.openmm.version)\n",
    "print(simtk.openmm.__file__)\n"
   ]
  }
 ],
 "metadata": {
  "kernelspec": {
   "display_name": "dmff",
   "language": "python",
   "name": "python3"
  },
  "language_info": {
   "codemirror_mode": {
    "name": "ipython",
    "version": 3
   },
   "file_extension": ".py",
   "mimetype": "text/x-python",
   "name": "python",
   "nbconvert_exporter": "python",
   "pygments_lexer": "ipython3",
   "version": "3.11.6"
  },
  "orig_nbformat": 4
 },
 "nbformat": 4,
 "nbformat_minor": 2
}
