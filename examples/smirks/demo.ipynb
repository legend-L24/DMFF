{
 "cells": [
  {
   "cell_type": "markdown",
   "metadata": {},
   "source": [
    "# Parametrize Molecules with SMIRKS-based Force Field"
   ]
  },
  {
   "cell_type": "markdown",
   "metadata": {},
   "source": [
    "## Basic Usage"
   ]
  },
  {
   "cell_type": "markdown",
   "metadata": {},
   "source": [
    "SMIRKS is an extension of SMARTS language that enables users to define chemical substructures with certain patterns as well as to numerically tag the matching atoms. This allowed force field developers to introduce new parameters more easily by avoiding starting from defining new atom types. DMFF can deal with SMIRKS-based force field in XML format to create differentiable potential functions."
   ]
  },
  {
   "cell_type": "markdown",
   "metadata": {},
   "source": [
    "The usage of SMIRKS-based force field is generally the same as conventional force field based on atom-typing scheme, with the only difference such that we need an extra `rdkit.Chem.Mol` as input because the matching of SMIRKS pattern is powered by rdkit."
   ]
  },
  {
   "cell_type": "markdown",
   "metadata": {},
   "source": [
    "As an example, we will first load a N-methylacetamide molecule defined in a mol file."
   ]
  },
  {
   "cell_type": "code",
   "execution_count": null,
   "metadata": {},
   "outputs": [],
   "source": [
    "import jax.numpy as jnp\n",
    "from rdkit import Chem\n",
    "from dmff import Hamiltonian, NeighborList\n",
    "\n",
    "mol = Chem.MolFromMolFile(\"C3H7NO.mol\", removeHs=False) # hydrogens must be preserved"
   ]
  },
  {
   "cell_type": "markdown",
   "metadata": {},
   "source": [
    "Then load force field parameters in xml format. Instuctions about how to write a SMIRKS-based force field XML file can be found in the Chapter 4 of the user's guide."
   ]
  },
  {
   "cell_type": "code",
   "execution_count": null,
   "metadata": {},
   "outputs": [],
   "source": [
    "h_smk = Hamiltonian(\"C3H7NO.xml\", noOmmSys=True)"
   ]
  },
  {
   "cell_type": "markdown",
   "metadata": {},
   "source": [
    "Note that the argument noOmmSys is set to False so that DMFF will not create an openmm system, as openmm does not support SMIRKS-based force field definitions.\n",
    "\n",
    "Finally, we build an openmm topology and parametrize the molecule to create differentiable potential energy functions:"
   ]
  },
  {
   "cell_type": "code",
   "execution_count": null,
   "metadata": {},
   "outputs": [],
   "source": [
    "top = h_smk.buildTopologyFromMol(mol)\n",
    "potObj = h_smk.createPotential(top, rdmol=mol)\n",
    "func = potObj.getPotentialFunc()"
   ]
  },
  {
   "cell_type": "markdown",
   "metadata": {},
   "source": [
    "So far, we can utilize this dmff.Potential object to calculate energy and forces as we did in the previous sections."
   ]
  },
  {
   "cell_type": "code",
   "execution_count": null,
   "metadata": {},
   "outputs": [],
   "source": [
    "pos = jnp.array(mol.GetConformer().GetPositions()) / 10  # angstrom -> nm\n",
    "box = jnp.eye(3, dtype=jnp.float32)\n",
    "nblist = NeighborList(box, 1.0, potObj.meta[\"cov_map\"])\n",
    "nblist.allocate(pos)\n",
    "pairs = nblist.pairs\n",
    "energy = func(pos, box, pairs, h_smk.getParameters())\n",
    "print(energy)"
   ]
  },
  {
   "cell_type": "markdown",
   "metadata": {},
   "source": [
    "## Bond Charge Correction and Virtual Sites\n",
    "\n",
    "This section mainly introduces how to use BCC and virtual sites in DMFF."
   ]
  },
  {
   "cell_type": "markdown",
   "metadata": {},
   "source": [
    "First, import required libraries:"
   ]
  },
  {
   "cell_type": "code",
   "execution_count": 1,
   "metadata": {},
   "outputs": [],
   "source": [
    "import jax\n",
    "import jax.numpy as jnp\n",
    "from rdkit import Chem\n",
    "from dmff import Hamiltonian, NeighborList"
   ]
  },
  {
   "cell_type": "markdown",
   "metadata": {},
   "source": [
    "Load the molecule and SMIRKS-based force field file"
   ]
  },
  {
   "cell_type": "code",
   "execution_count": 4,
   "metadata": {},
   "outputs": [
    {
     "ename": "TypeError",
     "evalue": "Hamiltonian.__init__() got an unexpected keyword argument 'noOmmSys'",
     "output_type": "error",
     "traceback": [
      "\u001b[0;31m---------------------------------------------------------------------------\u001b[0m",
      "\u001b[0;31mTypeError\u001b[0m                                 Traceback (most recent call last)",
      "Cell \u001b[0;32mIn[4], line 2\u001b[0m\n\u001b[1;32m      1\u001b[0m mol \u001b[39m=\u001b[39m Chem\u001b[39m.\u001b[39mMolFromMolFile(\u001b[39m\"\u001b[39m\u001b[39mclpy.mol\u001b[39m\u001b[39m\"\u001b[39m, removeHs\u001b[39m=\u001b[39m\u001b[39mFalse\u001b[39;00m)\n\u001b[0;32m----> 2\u001b[0m h_vsite \u001b[39m=\u001b[39m Hamiltonian(\u001b[39m\"\u001b[39;49m\u001b[39mclpy_vsite.xml\u001b[39;49m\u001b[39m\"\u001b[39;49m, noOmmSys\u001b[39m=\u001b[39;49m\u001b[39mTrue\u001b[39;49;00m)\n",
      "\u001b[0;31mTypeError\u001b[0m: Hamiltonian.__init__() got an unexpected keyword argument 'noOmmSys'"
     ]
    }
   ],
   "source": [
    "mol = Chem.MolFromMolFile(\"clpy.mol\", removeHs=False)\n",
    "h_vsite = Hamiltonian(\"clpy_vsite.xml\", noOmmSys=True)"
   ]
  },
  {
   "cell_type": "code",
   "execution_count": 7,
   "metadata": {},
   "outputs": [
    {
     "name": "stdout",
     "output_type": "stream",
     "text": [
      "<class 'openmm.app.forcefield.ForceField'>\n"
     ]
    },
    {
     "ename": "TypeError",
     "evalue": "ForceField.createSystem() missing 1 required positional argument: 'topology'",
     "output_type": "error",
     "traceback": [
      "\u001b[0;31m---------------------------------------------------------------------------\u001b[0m",
      "\u001b[0;31mTypeError\u001b[0m                                 Traceback (most recent call last)",
      "Cell \u001b[0;32mIn[7], line 4\u001b[0m\n\u001b[1;32m      2\u001b[0m ff \u001b[39m=\u001b[39m app\u001b[39m.\u001b[39mForceField(\u001b[39m\"\u001b[39m\u001b[39mclpy_vsite.xml\u001b[39m\u001b[39m\"\u001b[39m)\n\u001b[1;32m      3\u001b[0m \u001b[39mprint\u001b[39m(\u001b[39mtype\u001b[39m(ff))\n\u001b[0;32m----> 4\u001b[0m ff\u001b[39m.\u001b[39;49mcreateSystem()\n",
      "\u001b[0;31mTypeError\u001b[0m: ForceField.createSystem() missing 1 required positional argument: 'topology'"
     ]
    }
   ],
   "source": [
    "from openmm import app\n",
    "ff = app.ForceField(\"clpy_vsite.xml\")\n",
    "print(type(ff))\n",
    "ff.createSystem()"
   ]
  },
  {
   "cell_type": "markdown",
   "metadata": {},
   "source": [
    "BCC and virtual site parameters are parsed into `h_vsite.getParameters()['NonbondedForce']`"
   ]
  },
  {
   "cell_type": "code",
   "execution_count": 3,
   "metadata": {},
   "outputs": [
    {
     "ename": "NameError",
     "evalue": "name 'h_vsite' is not defined",
     "output_type": "error",
     "traceback": [
      "\u001b[0;31m---------------------------------------------------------------------------\u001b[0m",
      "\u001b[0;31mNameError\u001b[0m                                 Traceback (most recent call last)",
      "Cell \u001b[0;32mIn[3], line 1\u001b[0m\n\u001b[0;32m----> 1\u001b[0m params \u001b[39m=\u001b[39m h_vsite\u001b[39m.\u001b[39mgetParameters()\n\u001b[1;32m      2\u001b[0m \u001b[39mprint\u001b[39m(params[\u001b[39m'\u001b[39m\u001b[39mNonbondedForce\u001b[39m\u001b[39m'\u001b[39m])\n",
      "\u001b[0;31mNameError\u001b[0m: name 'h_vsite' is not defined"
     ]
    }
   ],
   "source": [
    "params = h_vsite.getParameters()\n",
    "print(params['NonbondedForce'])"
   ]
  },
  {
   "cell_type": "markdown",
   "metadata": {},
   "source": [
    "Build OpenMM topology and create DMFF potential"
   ]
  },
  {
   "cell_type": "code",
   "execution_count": null,
   "metadata": {},
   "outputs": [],
   "source": [
    "top = h_vsite.buildTopologyFromMol(mol)\n",
    "potObj = h_vsite.createPotential(top, rdmol=mol)"
   ]
  },
  {
   "cell_type": "markdown",
   "metadata": {},
   "source": [
    "Add virtual site to RDKit Mol object"
   ]
  },
  {
   "cell_type": "code",
   "execution_count": null,
   "metadata": {},
   "outputs": [],
   "source": [
    "mol_vsite = h_vsite.addVirtualSiteToMol(mol, h_vsite.getParameters())"
   ]
  },
  {
   "cell_type": "markdown",
   "metadata": {},
   "source": [
    "Calculate energy, forces and parametric gradients"
   ]
  },
  {
   "cell_type": "code",
   "execution_count": null,
   "metadata": {},
   "outputs": [],
   "source": [
    "pos_vsite = jnp.array(mol_vsite.GetConformer().GetPositions()) / 10  # angstrom -> nm\n",
    "box = jnp.eye(3, dtype=jnp.float32)\n",
    "nblist = NeighborList(box, 1.0, h_vsite.getCovalentMap())\n",
    "nblist.allocate(pos_vsite)\n",
    "pairs_vsite = nblist.pairs\n",
    "\n",
    "nbfunc_vsite = jax.value_and_grad(\n",
    "    potObj.dmff_potentials['NonbondedForce'], \n",
    "    argnums=-1, \n",
    "    allow_int=True # set to True since the type of virtual sites are speicified as integars\n",
    ")\n",
    "nbene_vsite, nbene_grad_vsite = nbfunc_vsite(pos_vsite, box, pairs_vsite, params)"
   ]
  },
  {
   "cell_type": "markdown",
   "metadata": {},
   "source": [
    "Alternatively, we can also add coordinates of virtual sites by taking atomic positions matrix as an input."
   ]
  },
  {
   "cell_type": "code",
   "execution_count": null,
   "metadata": {},
   "outputs": [],
   "source": [
    "pos = jnp.array(mol.GetConformer().GetPositions()) / 10 # convert angstrom to nm\n",
    "pos_vsite = h_vsite.addVirtualSiteCoords(pos, h_vsite.getParameters())\n",
    "print(pos_vsite.shape)"
   ]
  }
 ],
 "metadata": {
  "kernelspec": {
   "display_name": "dmff",
   "language": "python",
   "name": "python3"
  },
  "language_info": {
   "codemirror_mode": {
    "name": "ipython",
    "version": 3
   },
   "file_extension": ".py",
   "mimetype": "text/x-python",
   "name": "python",
   "nbconvert_exporter": "python",
   "pygments_lexer": "ipython3",
   "version": "3.11.6"
  }
 },
 "nbformat": 4,
 "nbformat_minor": 4
}
