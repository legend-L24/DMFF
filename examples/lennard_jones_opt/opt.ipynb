{
 "cells": [
  {
   "cell_type": "code",
   "execution_count": 10,
   "metadata": {},
   "outputs": [],
   "source": [
    "import openmm.app as app\n",
    "import openmm as mm\n",
    "import openmm.unit as unit\n",
    "import numpy as np\n",
    "import jax\n",
    "import jax.numpy as jnp\n",
    "import dmff\n",
    "from dmff.api.xmlio import XMLIO\n",
    "from dmff.api.paramset import ParamSet\n",
    "from dmff.generators.classical import CoulombGenerator, LennardJonesGenerator\n",
    "from dmff.api.hamiltonian import Hamiltonian\n",
    "from dmff.operators import ParmedLennardJonesOperator\n",
    "from dmff import NeighborListFreud\n",
    "from dmff.mbar import ReweightEstimator\n",
    "import mdtraj as md\n",
    "from tqdm import tqdm, trange\n",
    "import parmed\n",
    "import sys\n",
    "import os"
   ]
  },
  {
   "cell_type": "code",
   "execution_count": 14,
   "metadata": {},
   "outputs": [],
   "source": [
    "from ase.io import read, write\n",
    "atoms = read(\"/home/yutao/softwares/RASPA2/../MIL-120/MIL-120.cif\")\n",
    "#write(\"/home/yutao/softwares/RASPA2/../MIL-120/MIL-120.xyz\",atoms,write_charges=True)"
   ]
  },
  {
   "cell_type": "code",
   "execution_count": 16,
   "metadata": {},
   "outputs": [
    {
     "ename": "AttributeError",
     "evalue": "'Atoms' object has no attribute 'get_inital_charges'",
     "output_type": "error",
     "traceback": [
      "\u001b[0;31m---------------------------------------------------------------------------\u001b[0m",
      "\u001b[0;31mAttributeError\u001b[0m                            Traceback (most recent call last)",
      "Cell \u001b[0;32mIn[16], line 1\u001b[0m\n\u001b[0;32m----> 1\u001b[0m atoms\u001b[39m.\u001b[39;49mget_inital_charges\n",
      "\u001b[0;31mAttributeError\u001b[0m: 'Atoms' object has no attribute 'get_inital_charges'"
     ]
    }
   ],
   "source": [
    "atoms.get_inital_charges"
   ]
  },
  {
   "cell_type": "code",
   "execution_count": 17,
   "metadata": {},
   "outputs": [
    {
     "ename": "AttributeError",
     "evalue": "module 'ase.io.cif' has no attribute 'read'",
     "output_type": "error",
     "traceback": [
      "\u001b[0;31m---------------------------------------------------------------------------\u001b[0m",
      "\u001b[0;31mAttributeError\u001b[0m                            Traceback (most recent call last)",
      "Cell \u001b[0;32mIn[17], line 8\u001b[0m\n\u001b[1;32m      5\u001b[0m atoms \u001b[39m=\u001b[39m read(\u001b[39m\"\u001b[39m\u001b[39m/home/yutao/softwares/RASPA2/../MIL-120/MIL-120.cif\u001b[39m\u001b[39m\"\u001b[39m)\n\u001b[1;32m      7\u001b[0m \u001b[39m# Open the CIF file for parsing\u001b[39;00m\n\u001b[0;32m----> 8\u001b[0m cif_file \u001b[39m=\u001b[39m cif\u001b[39m.\u001b[39;49mread(\u001b[39m\"\u001b[39m\u001b[39m/home/yutao/softwares/RASPA2/../MIL-120/MIL-120.cif\u001b[39m\u001b[39m\"\u001b[39m)\n\u001b[1;32m     10\u001b[0m \u001b[39m# Extract charge information from the CIF data\u001b[39;00m\n\u001b[1;32m     11\u001b[0m charges \u001b[39m=\u001b[39m cif_file[\u001b[39m'\u001b[39m\u001b[39mcharge\u001b[39m\u001b[39m'\u001b[39m]  \u001b[39m# Use the appropriate key from your CIF file\u001b[39;00m\n",
      "\u001b[0;31mAttributeError\u001b[0m: module 'ase.io.cif' has no attribute 'read'"
     ]
    }
   ],
   "source": [
    "from ase.io import read\n",
    "import ase.io.cif as cif\n",
    "\n",
    "# Load the CIF file\n",
    "atoms = read(\"/home/yutao/softwares/RASPA2/../MIL-120/MIL-120.cif\")\n",
    "\n",
    "# Open the CIF file for parsing\n",
    "cif_file = cif.read(\"/home/yutao/softwares/RASPA2/../MIL-120/MIL-120.cif\")\n",
    "\n",
    "# Extract charge information from the CIF data\n",
    "charges = cif_file['charge']  # Use the appropriate key from your CIF file\n",
    "\n",
    "# Check the extracted charges\n",
    "print(charges)\n"
   ]
  },
  {
   "cell_type": "code",
   "execution_count": 19,
   "metadata": {},
   "outputs": [],
   "source": [
    "import openbabel"
   ]
  },
  {
   "cell_type": "code",
   "execution_count": 20,
   "metadata": {},
   "outputs": [
    {
     "name": "stderr",
     "output_type": "stream",
     "text": [
      "/home/yutao/anaconda3/envs/dmff/lib/python3.11/site-packages/openbabel/__init__.py:14: UserWarning: \"import openbabel\" is deprecated, instead use \"from openbabel import openbabel\"\n",
      "  warnings.warn('\"import openbabel\" is deprecated, instead use \"from openbabel import openbabel\"')\n"
     ]
    }
   ],
   "source": [
    "# Input CIF file and output PDB file names\n",
    "input_cif_file = \"/home/yutao/softwares/RASPA2/../MIL-120/MIL-120.cif\"\n",
    "output_pdb_file = \"/home/yutao/softwares/RASPA2/../MIL-120/MIL-120.pdb\"\n",
    "\n",
    "# Initialize the Open Babel converter\n",
    "conv = openbabel.OBConversion()\n",
    "\n",
    "# Set input and output formats\n",
    "conv.SetInAndOutFormats(\"cif\", \"pdb\")\n",
    "\n",
    "# Create the input molecule\n",
    "mol = openbabel.OBMol()\n",
    "\n",
    "# Read the CIF file\n",
    "conv.ReadFile(mol, input_cif_file)\n",
    "\n",
    "# Create the output file\n",
    "conv.WriteFile(mol, output_pdb_file)\n",
    "\n",
    "# Clean up\n",
    "conv.CloseOutFile()\n"
   ]
  },
  {
   "cell_type": "code",
   "execution_count": 21,
   "metadata": {},
   "outputs": [],
   "source": [
    "# Input CIF file and output PDB file names\n",
    "input_cif_file = \"/home/yutao/softwares/RASPA2/../MIL-120/MIL-120.cif\"\n",
    "output_pdb_file = \"/home/yutao/softwares/RASPA2/../MIL-120/MIL-120.mol2\"\n",
    "\n",
    "# Initialize the Open Babel converter\n",
    "conv = openbabel.OBConversion()\n",
    "\n",
    "# Set input and output formats\n",
    "conv.SetInAndOutFormats(\"cif\", \"mol2\")\n",
    "\n",
    "# Create the input molecule\n",
    "mol = openbabel.OBMol()\n",
    "\n",
    "# Read the CIF file\n",
    "conv.ReadFile(mol, input_cif_file)\n",
    "\n",
    "# Create the output file\n",
    "conv.WriteFile(mol, output_pdb_file)\n",
    "\n",
    "# Clean up\n",
    "conv.CloseOutFile()\n"
   ]
  },
  {
   "cell_type": "code",
   "execution_count": null,
   "metadata": {},
   "outputs": [],
   "source": [
    "from ase import Atoms\n",
    "\n",
    "# Create an ASE Atoms object with atomic coordinates and charges\n",
    "# Replace these coordinates and charges with your actual data\n",
    "\n",
    "\n",
    "atoms = read(\"/home/yutao/softwares/RASPA2/../MIL-120/MIL-120.cif\")\n",
    "\n",
    "# Open an XYZ file for writing\n",
    "with open(\"/home/yutao/softwares/RASPA2/../MIL-120/MIL-120.xyz\", 'w') as f:\n",
    "    num_atoms = len(atoms)\n",
    "    \n",
    "    # Write the number of atoms in the first line\n",
    "    f.write(f\"{num_atoms}\\n\")\n",
    "    \n",
    "    # Write a comment line (can be blank)\n",
    "    f.write(\"XYZ file with charges\\n\")\n",
    "    \n",
    "    # Write atomic coordinates and charges\n",
    "    for i in range(num_atoms):\n",
    "        symbol = atoms.get_chemical_symbols()[i]\n",
    "        position = atoms.get_positions()[i]\n",
    "        charge = charges[i]\n",
    "        f.write(f\"{symbol} {position[0]:.6f} {position[1]:.6f} {position[2]:.6f} {charge:.6f}\\n\")\n"
   ]
  },
  {
   "cell_type": "code",
   "execution_count": 23,
   "metadata": {},
   "outputs": [],
   "source": [
    "prm_top = parmed.load_file(\"/home/yutao/softwares/RASPA2/../MIL-120/MIL-120.pdb\")"
   ]
  },
  {
   "cell_type": "code",
   "execution_count": 29,
   "metadata": {},
   "outputs": [
    {
     "ename": "KeyError",
     "evalue": "'CoulombForce'",
     "output_type": "error",
     "traceback": [
      "\u001b[0;31m---------------------------------------------------------------------------\u001b[0m",
      "\u001b[0;31mKeyError\u001b[0m                                  Traceback (most recent call last)",
      "Cell \u001b[0;32mIn[29], line 15\u001b[0m\n\u001b[1;32m     13\u001b[0m paramset \u001b[39m=\u001b[39m ParamSet()\n\u001b[1;32m     14\u001b[0m lj_gen \u001b[39m=\u001b[39m LennardJonesGenerator(ffinfo, paramset)\n\u001b[0;32m---> 15\u001b[0m col_gen \u001b[39m=\u001b[39m CoulombGenerator(ffinfo, paramset)\n",
      "File \u001b[0;32m~/project/github/DMFF/dmff/generators/classical.py:1032\u001b[0m, in \u001b[0;36mCoulombGenerator.__init__\u001b[0;34m(self, ffinfo, paramset)\u001b[0m\n\u001b[1;32m   1029\u001b[0m \u001b[39mself\u001b[39m\u001b[39m.\u001b[39mffinfo \u001b[39m=\u001b[39m ffinfo\n\u001b[1;32m   1030\u001b[0m paramset\u001b[39m.\u001b[39maddField(\u001b[39mself\u001b[39m\u001b[39m.\u001b[39mname)\n\u001b[1;32m   1031\u001b[0m \u001b[39mself\u001b[39m\u001b[39m.\u001b[39mcoulomb14scale \u001b[39m=\u001b[39m \u001b[39mfloat\u001b[39m(\n\u001b[0;32m-> 1032\u001b[0m     \u001b[39mself\u001b[39;49m\u001b[39m.\u001b[39;49mffinfo[\u001b[39m\"\u001b[39;49m\u001b[39mForces\u001b[39;49m\u001b[39m\"\u001b[39;49m][\u001b[39m\"\u001b[39;49m\u001b[39mCoulombForce\u001b[39;49m\u001b[39m\"\u001b[39;49m][\u001b[39m\"\u001b[39m\u001b[39mmeta\u001b[39m\u001b[39m\"\u001b[39m][\u001b[39m\"\u001b[39m\u001b[39mcoulomb14scale\u001b[39m\u001b[39m\"\u001b[39m])\n\u001b[1;32m   1033\u001b[0m \u001b[39mself\u001b[39m\u001b[39m.\u001b[39m_use_bcc \u001b[39m=\u001b[39m \u001b[39mFalse\u001b[39;00m\n\u001b[1;32m   1034\u001b[0m \u001b[39mself\u001b[39m\u001b[39m.\u001b[39m_bcc_mol \u001b[39m=\u001b[39m []\n",
      "\u001b[0;31mKeyError\u001b[0m: 'CoulombForce'"
     ]
    }
   ],
   "source": [
    "prm_top = parmed.load_file(\"Lig.top\")\n",
    "prm_top_500 = prm_top * 500\n",
    "dmfftop = dmff.DMFFTopology(from_top=prm_top_500.topology)\n",
    "prmop = ParmedLennardJonesOperator()\n",
    "dmfftop = prmop(dmfftop, gmx_top = prm_top_500)\n",
    "\n",
    "prmop.renderLennardJonesXML(\"init.xml\")\n",
    "xmlio = XMLIO()\n",
    "xmlio.loadXML(\"init.xml\")\n",
    "ffinfo = xmlio.parseXML()\n",
    "cov_mat = dmfftop.buildCovMat()\n",
    "\n",
    "paramset = ParamSet()\n",
    "lj_gen = LennardJonesGenerator(ffinfo, paramset)\n",
    "col_gen = CoulombGenerator(ffinfo, paramset)"
   ]
  },
  {
   "cell_type": "code",
   "execution_count": 26,
   "metadata": {},
   "outputs": [
    {
     "data": {
      "text/plain": [
       "{'Operators': {},\n",
       " 'AtomTypes': [{'name': 'spce-O',\n",
       "   'class': 'OW',\n",
       "   'element': 'O',\n",
       "   'mass': '15.99943'},\n",
       "  {'name': 'spce-H', 'class': 'HW', 'element': 'H', 'mass': '1.007947'},\n",
       "  {'name': 'spce-O', 'class': 'OW', 'element': 'O', 'mass': '15.99943'},\n",
       "  {'name': 'spce-H', 'class': 'HW', 'element': 'H', 'mass': '1.007947'}],\n",
       " 'Residues': [{'name': 'HOH',\n",
       "   'particles': [{'name': 'O', 'type': 'spce-O', 'charge': -0.82},\n",
       "    {'name': 'H1', 'type': 'spce-H', 'charge': 0.41},\n",
       "    {'name': 'H2', 'type': 'spce-H', 'charge': 0.41}],\n",
       "   'bonds': [{'atomName1': 'O', 'atomName2': 'H1'},\n",
       "    {'atomName1': 'O', 'atomName2': 'H2'}],\n",
       "   'externals': [],\n",
       "   'vsites': []},\n",
       "  {'name': 'HOH',\n",
       "   'particles': [{'name': 'O', 'type': 'spce-O', 'charge': -0.82},\n",
       "    {'name': 'H1', 'type': 'spce-H', 'charge': 0.41},\n",
       "    {'name': 'H2', 'type': 'spce-H', 'charge': 0.41}],\n",
       "   'bonds': [{'atomName1': 'O', 'atomName2': 'H1'},\n",
       "    {'atomName1': 'O', 'atomName2': 'H2'}],\n",
       "   'externals': [],\n",
       "   'vsites': []}],\n",
       " 'Forces': {'LennardJonesForce': {'meta': {'lj14scale': '0.50000'},\n",
       "   'node': [{'name': 'Atom',\n",
       "     'attrib': {'epsilon': '0.359824',\n",
       "      'sigma': '0.3399670000000001',\n",
       "      'type': 'ca'}},\n",
       "    {'name': 'Atom',\n",
       "     'attrib': {'epsilon': '0.06276',\n",
       "      'sigma': '0.25996400000000003',\n",
       "      'type': 'ha'}},\n",
       "    {'name': 'Atom',\n",
       "     'attrib': {'epsilon': '0.45773',\n",
       "      'sigma': '0.3399670000000001',\n",
       "      'type': 'c3'}},\n",
       "    {'name': 'Atom',\n",
       "     'attrib': {'epsilon': '0.0656888', 'sigma': '0.247135', 'type': 'h1'}},\n",
       "    {'name': 'Atom',\n",
       "     'attrib': {'epsilon': '0.880314', 'sigma': '0.306647', 'type': 'oh'}},\n",
       "    {'name': 'Atom',\n",
       "     'attrib': {'epsilon': '0.0', 'sigma': '0.0', 'type': 'ho'}},\n",
       "    {'name': 'Atom',\n",
       "     'attrib': {'type': 'spce-O',\n",
       "      'sigma': '0.3185492',\n",
       "      'epsilon': '0.650299'}},\n",
       "    {'name': 'Atom',\n",
       "     'attrib': {'type': 'spce-H', 'sigma': '1', 'epsilon': '0'}},\n",
       "    {'name': 'Atom',\n",
       "     'attrib': {'type': 'spce-O',\n",
       "      'sigma': '0.3185492',\n",
       "      'epsilon': '0.650299'}},\n",
       "    {'name': 'Atom',\n",
       "     'attrib': {'type': 'spce-H', 'sigma': '1', 'epsilon': '0'}}]},\n",
       "  'CoulombForce': {'meta': {'coulomb14scale': '0.833333'}, 'node': []}},\n",
       " 'ClassToType': {'OW': ['spce-O', 'spce-O'], 'HW': ['spce-H', 'spce-H']}}"
      ]
     },
     "execution_count": 26,
     "metadata": {},
     "output_type": "execute_result"
    }
   ],
   "source": [
    "xmlio.loadXML(\"../../tests/data/water4.xml\")\n",
    "ffinfo = xmlio.parseXML()\n",
    "ffinfo"
   ]
  },
  {
   "cell_type": "code",
   "execution_count": 28,
   "metadata": {},
   "outputs": [],
   "source": [
    "generator = CoulombGenerator(ffinfo, paramset)"
   ]
  },
  {
   "cell_type": "code",
   "execution_count": 7,
   "metadata": {},
   "outputs": [
    {
     "data": {
      "text/plain": [
       "AtomList([\n",
       "\t<Atom C1 [0]; In MOL 0>\n",
       "\t<Atom H1 [1]; In MOL 0>\n",
       "\t<Atom C2 [2]; In MOL 0>\n",
       "\t<Atom H2 [3]; In MOL 0>\n",
       "\t<Atom C3 [4]; In MOL 0>\n",
       "\t<Atom H3 [5]; In MOL 0>\n",
       "\t<Atom C4 [6]; In MOL 0>\n",
       "\t<Atom H4 [7]; In MOL 0>\n",
       "\t<Atom C5 [8]; In MOL 0>\n",
       "\t<Atom H5 [9]; In MOL 0>\n",
       "\t<Atom C6 [10]; In MOL 0>\n",
       "\t<Atom C7 [11]; In MOL 0>\n",
       "\t<Atom H6 [12]; In MOL 0>\n",
       "\t<Atom H7 [13]; In MOL 0>\n",
       "\t<Atom O1 [14]; In MOL 0>\n",
       "\t<Atom H8 [15]; In MOL 0>\n",
       "])"
      ]
     },
     "execution_count": 7,
     "metadata": {},
     "output_type": "execute_result"
    }
   ],
   "source": [
    "prm_top.atoms"
   ]
  },
  {
   "cell_type": "code",
   "execution_count": 5,
   "metadata": {},
   "outputs": [],
   "source": [
    "lj_force = lj_gen.createPotential(\n",
    "    dmfftop, nonbondedMethod=app.CutoffPeriodic, nonbondedCutoff=1.0, args={})"
   ]
  },
  {
   "attachments": {},
   "cell_type": "markdown",
   "metadata": {},
   "source": [
    "### 基于给定拓扑进行采样的函数"
   ]
  },
  {
   "cell_type": "code",
   "execution_count": null,
   "metadata": {},
   "outputs": [],
   "source": [
    "def runMD(topfile, pdbfile, trajfile, length):\n",
    "    try:\n",
    "        os.remove(\"Lig_500.top\")\n",
    "    except:\n",
    "        pass\n",
    "    top_prm = parmed.load_file(topfile)\n",
    "    top_500 = top_prm * 500\n",
    "    top_500.save(\"Lig_500.top\")\n",
    "    pdb = app.PDBFile(pdbfile)\n",
    "    top = app.GromacsTopFile(\"Lig_500.top\")\n",
    "    top.topology.setPeriodicBoxVectors(pdb.topology.getPeriodicBoxVectors())\n",
    "    system = top.createSystem(nonbondedMethod=app.PME, nonbondedCutoff=1.0*unit.nanometer, constraints=app.HBonds, hydrogenMass=3*unit.dalton)\n",
    "    for force in system.getForces():\n",
    "        if isinstance(force, mm.NonbondedForce):\n",
    "            force.setUseDispersionCorrection(False)\n",
    "    system.addForce(mm.MonteCarloBarostat(1.0*unit.bar, 300*unit.kelvin, 25))\n",
    "    integ = mm.LangevinIntegrator(300*unit.kelvin, 1/unit.picosecond, 2.5*unit.femtosecond)\n",
    "    simulation = app.Simulation(top.topology, system, integ)\n",
    "    simulation.reporters.append(app.StateDataReporter(sys.stdout, 400, time=True, potentialEnergy=True, temperature=True, density=True, speed=True, remainingTime=True, totalSteps=int(length) * 400))\n",
    "    simulation.reporters.append(app.DCDReporter(trajfile, 400))\n",
    "    simulation.context.setPositions(pdb.getPositions())\n",
    "    simulation.minimizeEnergy(maxIterations=200)\n",
    "    simulation.step(int(length) * 400)\n",
    "    os.remove(\"Lig_500.top\")\n",
    "\n",
    "# runMD(\"Lig.top\", \"init.pdb\", \"traj.dcd\", 100)"
   ]
  },
  {
   "cell_type": "code",
   "execution_count": null,
   "metadata": {},
   "outputs": [],
   "source": [
    "def rerun_energy(pdb, traj, top, skip=20, removeLJ=True, skpi=0):\n",
    "    samples = md.load(traj, top=pdb)[skip:]\n",
    "    try:\n",
    "        os.remove(\"Lig_500.top\")\n",
    "    except:\n",
    "        pass\n",
    "    top_prm = parmed.load_file(top)\n",
    "    top_500 = top_prm * 500\n",
    "    top_500.save(\"Lig_500.top\")\n",
    "    pdb = app.PDBFile(pdb)\n",
    "    top = app.GromacsTopFile(\"Lig_500.top\")\n",
    "    os.remove(\"Lig_500.top\")\n",
    "    top.topology.setPeriodicBoxVectors(pdb.topology.getPeriodicBoxVectors())\n",
    "    system = top.createSystem(nonbondedMethod=app.PME, nonbondedCutoff=1.0*unit.nanometer, constraints=app.HBonds, hydrogenMass=3*unit.dalton)\n",
    "    \n",
    "    for force in system.getForces():\n",
    "        if isinstance(force, mm.NonbondedForce):\n",
    "            force.setUseDispersionCorrection(False)\n",
    "            if removeLJ:\n",
    "                for npart in range(force.getNumParticles()):\n",
    "                    chrg, sig, eps = force.getParticleParameters(npart)\n",
    "                    force.setParticleParameters(npart, chrg, 1.0, 0.0)\n",
    "                for nex in range(force.getNumExceptions()):\n",
    "                    p1, p2, chrg, sig, eps = force.getExceptionParameters(nex)\n",
    "                    force.setExceptionParameters(nex, p1, p2, chrg, 1.0, 0.0)\n",
    "    integ = mm.LangevinIntegrator(300*unit.kelvin, 1/unit.picosecond, 2.5*unit.femtosecond)\n",
    "    ctx = mm.Context(system, integ)\n",
    "    energies = []\n",
    "    for frame in tqdm(samples):\n",
    "        ctx.setPositions(frame.xyz[0] * unit.nanometer)\n",
    "        ctx.setPeriodicBoxVectors(*frame.unitcell_vectors[0])\n",
    "        ctx.applyConstraints(1e-10)\n",
    "        state = ctx.getState(getEnergy=True)\n",
    "        energy = state.getPotentialEnergy().value_in_unit(unit.kilojoule_per_mole)\n",
    "        energies.append(energy)\n",
    "    return np.array(energies)\n",
    "\n",
    "# rerun_energy(\"init.pdb\", \"traj.dcd\", \"Lig.top\")"
   ]
  },
  {
   "cell_type": "code",
   "execution_count": null,
   "metadata": {},
   "outputs": [],
   "source": [
    "def rerun_dmff_lennard_jones(params, pdb, traj, efunc, skip=0):\n",
    "    samples = md.load(traj, top=pdb)[skip:]\n",
    "    energies = []\n",
    "    nblist = NeighborListFreud(samples.unitcell_vectors[0], 1.0, cov_mat)\n",
    "    xyzs_jnp = jnp.array(samples.xyz)\n",
    "    cell_jnp = jnp.array(samples.unitcell_vectors)\n",
    "    energies = []\n",
    "    nblist = NeighborListFreud(samples.unitcell_vectors[0], 1.0, cov_mat)\n",
    "    xyzs_jnp = jnp.array(samples.xyz)\n",
    "    cell_jnp = jnp.array(samples.unitcell_vectors)\n",
    "    energies = []\n",
    "    for nframe in trange(len(samples)):\n",
    "        frame = samples[nframe]\n",
    "        # calc pair\n",
    "        pairs = jnp.array(nblist.allocate(frame.xyz[0], frame.unitcell_vectors[0]))\n",
    "        ener = efunc(xyzs_jnp[nframe,:,:], cell_jnp[nframe,:,:], pairs, params)\n",
    "        energies.append(ener.reshape((1,)))\n",
    "    energies = jnp.concatenate(energies)\n",
    "    return energies"
   ]
  },
  {
   "cell_type": "code",
   "execution_count": null,
   "metadata": {},
   "outputs": [],
   "source": [
    "import optax\n",
    "optimizer = optax.adam(0.001)\n",
    "opt_state = optimizer.init(paramset)"
   ]
  },
  {
   "cell_type": "code",
   "execution_count": null,
   "metadata": {},
   "outputs": [],
   "source": [
    "lbfgs = None\n",
    "\n",
    "os.system(\"cp Lig.top loop-0.top\")\n",
    "for nloop in range(1, 51):\n",
    "    # sample\n",
    "    print(\"SAMPLE\")\n",
    "    runMD(f\"loop-{nloop-1}.top\", \"init.pdb\", f\"loop-{nloop}.dcd\", length=70)\n",
    "    print(\"RERUN\")\n",
    "    ener = rerun_energy(\"init.pdb\", f\"loop-{nloop}.dcd\", f\"loop-{nloop-1}.top\", removeLJ=False, skip=20)\n",
    "    ener_no_lj = rerun_energy(\"init.pdb\", f\"loop-{nloop}.dcd\", f\"loop-{nloop-1}.top\", skip=20)\n",
    "    print(\"ESTIMATOR\")\n",
    "    traj = md.load(f\"loop-{nloop}.dcd\", top=\"init.pdb\")[20:]\n",
    "    estimator = ReweightEstimator(ener, base_energies=ener_no_lj, volume=traj.unitcell_volumes)\n",
    "\n",
    "    print(\"CALC DENSE\")\n",
    "    density = md.density(traj) * 0.001\n",
    "\n",
    "    # get loss & grad\n",
    "    def loss(paramset):\n",
    "        lj_jax = rerun_dmff_lennard_jones(paramset, \"init.pdb\", f\"loop-{nloop}.dcd\", lj_force, skip=20)\n",
    "        weight = estimator.estimate_weight(lj_jax)\n",
    "        dens = weight * density\n",
    "        dens = dens.mean()\n",
    "        return jnp.power(dens - 0.85, 2)\n",
    "    \n",
    "    v_and_g = jax.value_and_grad(loss, 0)\n",
    "    v, g = v_and_g(paramset)\n",
    "    print(\"Loss:\", v)\n",
    "    # update parameters\n",
    "    updates, opt_state = optimizer.update(g, opt_state)\n",
    "    paramset = optax.apply_updates(paramset, updates)\n",
    "    paramset = jax.tree_map(lambda x: jnp.clip(x, 0.0, 1e8), paramset)\n",
    "    \n",
    "    # upate ffinfo\n",
    "    lj_gen.overwrite(paramset)\n",
    "    prmop.overwriteLennardJones(prm_top, lj_gen.ffinfo)\n",
    "    prm_top.save(f\"loop-{nloop}.top\")\n",
    "    "
   ]
  },
  {
   "cell_type": "code",
   "execution_count": 31,
   "metadata": {},
   "outputs": [
    {
     "data": {
      "text/plain": [
       "{'Operators': {},\n",
       " 'AtomTypes': [],\n",
       " 'Residues': [],\n",
       " 'Forces': {'LennardJonesForce': {'meta': {'lj14scale': '0.50000'},\n",
       "   'node': [{'name': 'Atom',\n",
       "     'attrib': {'epsilon': '0.359824',\n",
       "      'sigma': '0.3399670000000001',\n",
       "      'type': 'ca'}},\n",
       "    {'name': 'Atom',\n",
       "     'attrib': {'epsilon': '0.06276',\n",
       "      'sigma': '0.25996400000000003',\n",
       "      'type': 'ha'}},\n",
       "    {'name': 'Atom',\n",
       "     'attrib': {'epsilon': '0.45773',\n",
       "      'sigma': '0.3399670000000001',\n",
       "      'type': 'c3'}},\n",
       "    {'name': 'Atom',\n",
       "     'attrib': {'epsilon': '0.0656888', 'sigma': '0.247135', 'type': 'h1'}},\n",
       "    {'name': 'Atom',\n",
       "     'attrib': {'epsilon': '0.880314', 'sigma': '0.306647', 'type': 'oh'}},\n",
       "    {'name': 'Atom',\n",
       "     'attrib': {'epsilon': '0.0', 'sigma': '0.0', 'type': 'ho'}}]}},\n",
       " 'ClassToType': {}}"
      ]
     },
     "execution_count": 31,
     "metadata": {},
     "output_type": "execute_result"
    }
   ],
   "source": [
    "ffinfo"
   ]
  }
 ],
 "metadata": {
  "kernelspec": {
   "display_name": "dmff",
   "language": "python",
   "name": "python3"
  },
  "language_info": {
   "codemirror_mode": {
    "name": "ipython",
    "version": 3
   },
   "file_extension": ".py",
   "mimetype": "text/x-python",
   "name": "python",
   "nbconvert_exporter": "python",
   "pygments_lexer": "ipython3",
   "version": "3.11.6"
  },
  "orig_nbformat": 4
 },
 "nbformat": 4,
 "nbformat_minor": 2
}
