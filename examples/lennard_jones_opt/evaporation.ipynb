{
 "cells": [
  {
   "cell_type": "code",
   "execution_count": 1,
   "metadata": {},
   "outputs": [
    {
     "name": "stderr",
     "output_type": "stream",
     "text": [
      "Warning on use of the timeseries module: If the inherent timescales of the system are long compared to those being analyzed, this statistical inefficiency may be an underestimate.  The estimate presumes the use of many statistically independent samples.  Tests should be performed to assess whether this condition is satisfied.   Be cautious in the interpretation of the data.\n"
     ]
    }
   ],
   "source": [
    "import os\n",
    "os.environ[\"XLA_PYTHON_CLIENT_MEM_FRACTION\"]=\".95\"\n",
    "import openmm.app as app\n",
    "import openmm as mm\n",
    "import openmm.unit as unit\n",
    "import numpy as np\n",
    "import jax\n",
    "import jax.numpy as jnp\n",
    "import dmff\n",
    "from dmff.api.xmlio import XMLIO\n",
    "from dmff.api.paramset import ParamSet\n",
    "from dmff.generators.classical import CoulombGenerator, LennardJonesGenerator\n",
    "from dmff.api.hamiltonian import Hamiltonian\n",
    "from dmff.operators import ParmedLennardJonesOperator\n",
    "from dmff import NeighborListFreud\n",
    "from dmff.mbar import ReweightEstimator\n",
    "import mdtraj as md\n",
    "from tqdm import tqdm, trange\n",
    "import parmed\n",
    "import sys\n"
   ]
  },
  {
   "cell_type": "code",
   "execution_count": 47,
   "metadata": {},
   "outputs": [],
   "source": [
    "\n",
    "\n",
    "particle_number =  500           #液体pdb文件中的分子数\n",
    "target_han= 50.52                  #拟合的目标蒸发焓\n",
    "SET_temperature=  293.15           #温度设定\n",
    "time_gap=   2                      #分子动力学模拟过程中每一个frame的时间间隔，单位是皮秒picosecond   推荐2-4ps\n",
    "loop_time =   3                   #迭代循环次数    推荐50-100\n",
    "save_step =   3                  #保存的frame数  推荐150-200\n",
    "skip_step =    2                   #计算各种物理常数之前，达到平衡所需要的步数\n",
    "length_step = (skip_step+save_step) #分子动力学模拟生成的dcd文件存储的frame个数，与time_gap共同决定总模拟的时长，总时长=length_step*time_gap\n",
    "\n"
   ]
  },
  {
   "cell_type": "code",
   "execution_count": 48,
   "metadata": {},
   "outputs": [],
   "source": [
    "\n",
    "prm_top = parmed.load_file(\"GMX.top\")\n",
    "prm_top_particle_number = prm_top * particle_number\n",
    "dmfftop = dmff.DMFFTopology(from_top=prm_top_particle_number.topology)\n",
    "prmop = ParmedLennardJonesOperator()\n",
    "dmfftop = prmop(dmfftop, gmx_top = prm_top_particle_number)\n",
    "\n",
    "prmop.renderLennardJonesXML(\"init.xml\")\n",
    "xmlio = XMLIO()\n",
    "xmlio.loadXML(\"init.xml\")\n",
    "ffinfo = xmlio.parseXML()\n",
    "cov_mat = dmfftop.buildCovMat()"
   ]
  },
  {
   "cell_type": "code",
   "execution_count": 49,
   "metadata": {},
   "outputs": [],
   "source": [
    "paramset = ParamSet()\n",
    "lj_gen = LennardJonesGenerator(ffinfo, paramset)\n",
    "lj_force = lj_gen.createPotential(\n",
    "    dmfftop, nonbondedMethod=app.CutoffPeriodic, nonbondedCutoff=1.0, args={})\n",
    "\n"
   ]
  },
  {
   "cell_type": "code",
   "execution_count": 51,
   "metadata": {},
   "outputs": [],
   "source": [
    "gap_step=int(time_gap*4)\n",
    "def runMD(topfile, pdbfile, trajfile, length):\n",
    "    try:\n",
    "        os.remove(\"Lig_particle_number.top\")\n",
    "    except:\n",
    "        pass\n",
    "    top_prm = parmed.load_file(topfile)\n",
    "    top_500 = top_prm * particle_number\n",
    "    top_500.save(\"Lig_particle_number.top\")\n",
    "    pdb = app.PDBFile(pdbfile)\n",
    "    top = app.GromacsTopFile(\"Lig_particle_number.top\")\n",
    "    top.topology.setPeriodicBoxVectors(pdb.topology.getPeriodicBoxVectors())\n",
    "    system = top.createSystem(nonbondedMethod=app.PME, nonbondedCutoff=1.0*unit.nanometer, constraints=app.HBonds, hydrogenMass=3*unit.dalton)\n",
    "    for force in system.getForces():\n",
    "        if isinstance(force, mm.NonbondedForce):\n",
    "            force.setUseDispersionCorrection(False)\n",
    "    system.addForce(mm.MonteCarloBarostat(1.0*unit.bar, SET_temperature*unit.kelvin, 25))\n",
    "    integ = mm.LangevinIntegrator(SET_temperature*unit.kelvin, 1/unit.picosecond, 2.5*unit.femtosecond)\n",
    "    simulation = app.Simulation(top.topology, system, integ)\n",
    "    simulation.reporters.append(app.StateDataReporter(sys.stdout, gap_step, time=True, potentialEnergy=True, temperature=True, density=True, speed=True, remainingTime=True, totalSteps=int(length) * gap_step))\n",
    "    simulation.reporters.append(app.DCDReporter(trajfile, gap_step))\n",
    "    simulation.context.setPositions(pdb.getPositions())\n",
    "    simulation.minimizeEnergy(maxIterations=200)\n",
    "    simulation.step(int(length) * gap_step)\n",
    "    os.remove(\"Lig_particle_number.top\")\n"
   ]
  },
  {
   "cell_type": "code",
   "execution_count": 52,
   "metadata": {},
   "outputs": [],
   "source": [
    "def runMD_gas_NVT(topfile, pdbfile, trajfile, length):\n",
    "    try:\n",
    "        os.remove(\"GAS.top\")\n",
    "    except:\n",
    "        pass\n",
    "    top_prm = parmed.load_file(topfile)\n",
    "    top_GAS = top_prm \n",
    "    top_GAS.save(\"GAS.top\")\n",
    "    pdb = app.PDBFile(pdbfile)\n",
    "    top = app.GromacsTopFile(\"GAS.top\")\n",
    "    top.topology.setPeriodicBoxVectors(pdb.topology.getPeriodicBoxVectors())\n",
    "    system = top.createSystem(nonbondedMethod=app.PME, nonbondedCutoff=1.0*unit.nanometer, constraints=app.HBonds, hydrogenMass=3*unit.dalton)\n",
    "    for force in system.getForces():\n",
    "        if isinstance(force, mm.NonbondedForce):\n",
    "            force.setUseDispersionCorrection(False)\n",
    "    integ = mm.LangevinIntegrator(SET_temperature*unit.kelvin, 1/unit.picosecond, 2.5*unit.femtosecond)\n",
    "    simulation = app.Simulation(top.topology, system, integ)\n",
    "    simulation.reporters.append(app.StateDataReporter(sys.stdout, gap_step, time=True, potentialEnergy=True, temperature=True, density=True, speed=True, remainingTime=True, totalSteps=int(length) * gap_step))\n",
    "    simulation.reporters.append(app.DCDReporter(trajfile, gap_step))\n",
    "    simulation.context.setPositions(pdb.getPositions())\n",
    "    simulation.minimizeEnergy(maxIterations=200)\n",
    "    simulation.step(int(length) * gap_step)\n",
    "    os.remove(\"GAS.top\")"
   ]
  },
  {
   "cell_type": "code",
   "execution_count": 53,
   "metadata": {},
   "outputs": [],
   "source": [
    "def rerun_energy(pdb, traj, top, skip=20, removeLJ=True, skpi=0):\n",
    "    samples = md.load(traj, top=pdb)[skip:]\n",
    "    try:\n",
    "        os.remove(\"Lig_particle_number.top\")\n",
    "    except:\n",
    "        pass\n",
    "    top_prm = parmed.load_file(top)\n",
    "    top_500 = top_prm * particle_number\n",
    "    top_500.save(\"Lig_particle_number.top\")\n",
    "    pdb = app.PDBFile(pdb)\n",
    "    top = app.GromacsTopFile(\"Lig_particle_number.top\")\n",
    "    os.remove(\"Lig_particle_number.top\")\n",
    "    top.topology.setPeriodicBoxVectors(pdb.topology.getPeriodicBoxVectors())\n",
    "    system = top.createSystem(nonbondedMethod=app.PME, nonbondedCutoff=1.0*unit.nanometer, constraints=app.HBonds, hydrogenMass=3*unit.dalton)\n",
    "    \n",
    "    for force in system.getForces():\n",
    "        if isinstance(force, mm.NonbondedForce):\n",
    "            force.setUseDispersionCorrection(False)\n",
    "            if removeLJ:\n",
    "                for npart in range(force.getNumParticles()):\n",
    "                    chrg, sig, eps = force.getParticleParameters(npart)\n",
    "                    force.setParticleParameters(npart, chrg, 1.0, 0.0)\n",
    "                for nex in range(force.getNumExceptions()):\n",
    "                    p1, p2, chrg, sig, eps = force.getExceptionParameters(nex)\n",
    "                    force.setExceptionParameters(nex, p1, p2, chrg, 1.0, 0.0)\n",
    "    integ = mm.LangevinIntegrator(SET_temperature*unit.kelvin, 1/unit.picosecond, 2.5*unit.femtosecond)\n",
    "    ctx = mm.Context(system, integ)\n",
    "    energies = []\n",
    "    for frame in tqdm(samples):\n",
    "        ctx.setPositions(frame.xyz[0] * unit.nanometer)\n",
    "        ctx.setPeriodicBoxVectors(*frame.unitcell_vectors[0])\n",
    "        ctx.applyConstraints(1e-10)\n",
    "        state = ctx.getState(getEnergy=True)\n",
    "        energy = state.getPotentialEnergy().value_in_unit(unit.kilojoule_per_mole)\n",
    "        energies.append(energy)\n",
    "    return np.array(energies)"
   ]
  },
  {
   "cell_type": "code",
   "execution_count": 54,
   "metadata": {},
   "outputs": [],
   "source": [
    "def rerun_energy_gas(pdb, traj, top, skip=50, removeLJ=True, skpi=0):\n",
    "    samples = md.load(traj, top=pdb)[skip:]\n",
    "    try:\n",
    "        os.remove(\"GAS.top\")\n",
    "    except:\n",
    "        pass\n",
    "    top_prm = parmed.load_file(top)\n",
    "    top_gas = top_prm\n",
    "    top_gas.save(\"GAS.top\")\n",
    "    pdb = app.PDBFile(pdb)\n",
    "    top = app.GromacsTopFile(\"GAS.top\")\n",
    "    os.remove(\"GAS.top\")\n",
    "    top.topology.setPeriodicBoxVectors(pdb.topology.getPeriodicBoxVectors())\n",
    "    system = top.createSystem(nonbondedMethod=app.PME, nonbondedCutoff=1.0*unit.nanometer, constraints=app.HBonds, hydrogenMass=3*unit.dalton)\n",
    "    \n",
    "    for force in system.getForces():\n",
    "        if isinstance(force, mm.NonbondedForce):\n",
    "            force.setUseDispersionCorrection(False)\n",
    "            if removeLJ:\n",
    "                for npart in range(force.getNumParticles()):\n",
    "                    chrg, sig, eps = force.getParticleParameters(npart)\n",
    "                    force.setParticleParameters(npart, chrg, 1.0, 0.0)\n",
    "                for nex in range(force.getNumExceptions()):\n",
    "                    p1, p2, chrg, sig, eps = force.getExceptionParameters(nex)\n",
    "                    force.setExceptionParameters(nex, p1, p2, chrg, 1.0, 0.0)\n",
    "    integ = mm.LangevinIntegrator(SET_temperature*unit.kelvin, 1/unit.picosecond, 2.5*unit.femtosecond)\n",
    "    ctx = mm.Context(system, integ)\n",
    "    energies = []\n",
    "    for frame in tqdm(samples):\n",
    "        ctx.setPositions(frame.xyz[0] * unit.nanometer)\n",
    "        ctx.setPeriodicBoxVectors(*frame.unitcell_vectors[0])\n",
    "        ctx.applyConstraints(1e-10)\n",
    "        state = ctx.getState(getEnergy=True)\n",
    "        energy = state.getPotentialEnergy().value_in_unit(unit.kilojoule_per_mole)\n",
    "        energies.append(energy)\n",
    "    return np.array(energies)"
   ]
  },
  {
   "cell_type": "code",
   "execution_count": 55,
   "metadata": {},
   "outputs": [],
   "source": [
    "def rerun_dmff_lennard_jones(params, pdb, traj, efunc, skip=0):\n",
    "    samples = md.load(traj, top=pdb)[skip:]\n",
    "    energies = []\n",
    "    nblist = NeighborListFreud(samples.unitcell_vectors[0], 1.0, cov_mat)\n",
    "    xyzs_jnp = jnp.array(samples.xyz)\n",
    "    cell_jnp = jnp.array(samples.unitcell_vectors)\n",
    "    energies = []\n",
    "    nblist = NeighborListFreud(samples.unitcell_vectors[0], 1.0, cov_mat)\n",
    "    xyzs_jnp = jnp.array(samples.xyz)\n",
    "    cell_jnp = jnp.array(samples.unitcell_vectors)\n",
    "    energies = []\n",
    "    for nframe in trange(len(samples)):\n",
    "        frame = samples[nframe]\n",
    "        # calc pair\n",
    "        pairs = jnp.array(nblist.allocate(frame.xyz[0], frame.unitcell_vectors[0]))\n",
    "        ener = efunc(xyzs_jnp[nframe,:,:], cell_jnp[nframe,:,:], pairs, params)\n",
    "        energies.append(ener.reshape((1,)))\n",
    "    energies = jnp.concatenate(energies)\n",
    "    return energies"
   ]
  },
  {
   "cell_type": "code",
   "execution_count": 21,
   "metadata": {},
   "outputs": [],
   "source": [
    "import optax\n",
    "optimizer = optax.adam(0.001)\n",
    "opt_state = optimizer.init(paramset)"
   ]
  },
  {
   "cell_type": "code",
   "execution_count": 22,
   "metadata": {},
   "outputs": [
    {
     "name": "stdout",
     "output_type": "stream",
     "text": [
      "None\n"
     ]
    }
   ],
   "source": [
    "print(paramset.to_jax())"
   ]
  },
  {
   "cell_type": "code",
   "execution_count": null,
   "metadata": {},
   "outputs": [],
   "source": []
  },
  {
   "cell_type": "code",
   "execution_count": 23,
   "metadata": {},
   "outputs": [
    {
     "name": "stdout",
     "output_type": "stream",
     "text": [
      "SAMPLE_liquid\n",
      "#\"Time (ps)\",\"Potential Energy (kJ/mole)\",\"Temperature (K)\",\"Density (g/mL)\",\"Speed (ns/day)\",\"Time Remaining\"\n",
      "1.9999999999999685,25559.93282267052,261.6260643891745,0.587855285704582,0,--\n",
      "3.999999999999926,27195.271742220953,291.08799390638137,0.636128354599301,24.6,0:21\n",
      "6.000000000000238,26198.66408430355,297.4209345472045,0.7114427550023118,24.5,0:14\n",
      "8.00000000000055,24379.765959753087,297.92881545950445,0.7950640339725844,24.2,0:07\n",
      "10.000000000000153,23553.00651716363,299.56995957207,0.8611451269801752,24,0:00\n",
      "SAMPLE_GAS\n",
      "#\"Time (ps)\",\"Potential Energy (kJ/mole)\",\"Temperature (K)\",\"Density (g/mL)\",\"Speed (ns/day)\",\"Time Remaining\"\n",
      "1.9999999999999685,89.27207064711897,248.68547287686042,0.0001793382192547754,0,--\n",
      "3.999999999999926,84.5346151109794,397.8411736285588,0.0001793382192547754,38.5,0:04\n",
      "6.000000000000238,104.47298539977615,441.51972991557955,0.0001793382192547754,38.5,0:00\n",
      "RERUN\n"
     ]
    },
    {
     "name": "stderr",
     "output_type": "stream",
     "text": [
      "100%|██████████| 3/3 [00:00<00:00, 10.28it/s]\n",
      "100%|██████████| 1/1 [00:00<00:00, 87.70it/s]\n",
      "100%|██████████| 3/3 [00:00<00:00, 32.23it/s]\n"
     ]
    },
    {
     "name": "stdout",
     "output_type": "stream",
     "text": [
      "ESTIMATOR\n",
      "CALC han\n"
     ]
    },
    {
     "name": "stderr",
     "output_type": "stream",
     "text": [
      "100%|██████████| 3/3 [00:03<00:00,  1.15s/it]\n"
     ]
    },
    {
     "name": "stdout",
     "output_type": "stream",
     "text": [
      "Loss: 48.56942415389927\n"
     ]
    },
    {
     "ename": "OSError",
     "evalue": "loop-1.top exists; not overwriting",
     "output_type": "error",
     "traceback": [
      "\u001b[0;31m---------------------------------------------------------------------------\u001b[0m",
      "\u001b[0;31mOSError\u001b[0m                                   Traceback (most recent call last)",
      "Cell \u001b[0;32mIn[23], line 72\u001b[0m\n\u001b[1;32m     70\u001b[0m lj_gen\u001b[39m.\u001b[39moverwrite(paramset)\n\u001b[1;32m     71\u001b[0m prmop\u001b[39m.\u001b[39moverwriteLennardJones(prm_top, lj_gen\u001b[39m.\u001b[39mffinfo)\n\u001b[0;32m---> 72\u001b[0m prm_top\u001b[39m.\u001b[39;49msave(\u001b[39mf\u001b[39;49m\u001b[39m\"\u001b[39;49m\u001b[39mloop-\u001b[39;49m\u001b[39m{\u001b[39;49;00mnloop\u001b[39m}\u001b[39;49;00m\u001b[39m.top\u001b[39;49m\u001b[39m\"\u001b[39;49m)\n\u001b[1;32m     73\u001b[0m \u001b[39mbreak\u001b[39;00m\n",
      "File \u001b[0;32m~/anaconda3/envs/dmff/lib/python3.11/site-packages/parmed/structure.py:1506\u001b[0m, in \u001b[0;36mStructure.save\u001b[0;34m(self, fname, format, overwrite, **kwargs)\u001b[0m\n\u001b[1;32m   1504\u001b[0m \u001b[39mif\u001b[39;00m \u001b[39mnot\u001b[39;00m \u001b[39mhasattr\u001b[39m(fname, \u001b[39m'\u001b[39m\u001b[39mwrite\u001b[39m\u001b[39m'\u001b[39m):\n\u001b[1;32m   1505\u001b[0m     \u001b[39mif\u001b[39;00m os\u001b[39m.\u001b[39mpath\u001b[39m.\u001b[39mexists(fname) \u001b[39mand\u001b[39;00m \u001b[39mnot\u001b[39;00m overwrite:\n\u001b[0;32m-> 1506\u001b[0m         \u001b[39mraise\u001b[39;00m \u001b[39mIOError\u001b[39;00m(\u001b[39m'\u001b[39m\u001b[39m%s\u001b[39;00m\u001b[39m exists; not overwriting\u001b[39m\u001b[39m'\u001b[39m \u001b[39m%\u001b[39m fname)\n\u001b[1;32m   1507\u001b[0m \u001b[39melse\u001b[39;00m:\n\u001b[1;32m   1508\u001b[0m     \u001b[39mif\u001b[39;00m \u001b[39mformat\u001b[39m \u001b[39mis\u001b[39;00m \u001b[39mNone\u001b[39;00m:\n",
      "\u001b[0;31mOSError\u001b[0m: loop-1.top exists; not overwriting"
     ]
    }
   ],
   "source": [
    "lbfgs = None\n",
    "\n",
    "\n",
    "os.system(\"cp GMX.top loop-0.top\")\n",
    "Losslist=[]\n",
    "enthalpy_of_evaporation_list=[]\n",
    "energy_gas_list=[]\n",
    "energy_liquid_list=[]\n",
    "for nloop in range(1, loop_time+1):\n",
    "    # sample liquid\n",
    "    print(\"SAMPLE_liquid\")\n",
    "    try:\n",
    "        runMD(f\"loop-{nloop-1}.top\", \"liquid.pdb\", f\"loop-{nloop}.dcd\", length=length_step)\n",
    "    except:\n",
    "        runMD(f\"loop-{nloop-1}.top\", \"liquid.pdb\", f\"loop-{nloop}.dcd\", length=length_step)\n",
    "        \n",
    "    # sample GAs\n",
    "    print(\"SAMPLE_GAS\")\n",
    "\n",
    "    try:\n",
    "        runMD_gas_NVT(f\"loop-{nloop-1}.top\", \"GAS.pdb\", f\"loop-{nloop}-gas.dcd\", length=skip_step+1)\n",
    "    except:\n",
    "        runMD_gas_NVT(f\"loop-{nloop-1}.top\", \"GAS.pdb\", f\"loop-{nloop}-gas.dcd\", length=skip_step+1)\n",
    "        \n",
    "    #重新计算能量   不可微的计算液态能量 、液态不包含LJ势能的能量 、气态能量\n",
    "    print(\"RERUN\")\n",
    "    ener = rerun_energy(\"liquid.pdb\", f\"loop-{nloop}.dcd\", f\"loop-{nloop-1}.top\", removeLJ=False, skip=skip_step)\n",
    "    energy_liquid_list.append(ener.mean())\n",
    "    ener_gas = rerun_energy_gas(\"GAS.pdb\", f\"loop-{nloop}-gas.dcd\", f\"loop-{nloop-1}.top\", removeLJ=False, skip=skip_step).mean()\n",
    "    energy_gas_list.append(ener_gas)\n",
    "    ener_no_lj = rerun_energy(\"liquid.pdb\", f\"loop-{nloop}.dcd\", f\"loop-{nloop-1}.top\", skip=skip_step)\n",
    "    \n",
    "    print(\"ESTIMATOR\")\n",
    "    traj = md.load(f\"loop-{nloop}.dcd\", top=\"liquid.pdb\")[skip_step:]\n",
    "    estimator = ReweightEstimator(ener, base_energies=ener_no_lj, volume=traj.unitcell_volumes)\n",
    "    \n",
    "    #计算当前蒸发焓\n",
    "    print(\"CALC han\")\n",
    "    ener_lquid_now = (ener / particle_number).mean()\n",
    "    enthalpy_of_evaporation_now = ener_gas - ener_lquid_now + 8.314 * SET_temperature * 0.001\n",
    "    enthalpy_of_evaporation_list.append(enthalpy_of_evaporation_now)\n",
    "    with open('enthalpy_of_evaporation_list.txt', 'a') as f:\n",
    "        f.write(\"%s\\n\" % str(enthalpy_of_evaporation_now))\n",
    "        \n",
    "    # get loss & grad\n",
    "    def loss(paramset):\n",
    "        lj_jax = rerun_dmff_lennard_jones(paramset, \"liquid.pdb\", f\"loop-{nloop}.dcd\", lj_force, skip=skip_step)\n",
    "        weight = estimator.estimate_weight(lj_jax)\n",
    "        ener_lquid = (weight * ener) / particle_number \n",
    "        ener_lquid = ener_lquid.mean()\n",
    "        enthalpy_of_evaporation = ener_gas - ener_lquid + 8.314*SET_temperature*0.001\n",
    "        return  jnp.power(enthalpy_of_evaporation - target_han, 2)\n",
    "    \n",
    "    v_and_g = jax.value_and_grad(loss, 0)\n",
    "    v, g = v_and_g(paramset)\n",
    "    print(\"Loss:\", v)\n",
    "    Losslist.append(v)\n",
    "    Losslist_np =jax.device_get(v)\n",
    "    \n",
    "    with open('Losslist.txt', 'a') as f:\n",
    "        f.write(\"%s\\n\" % str(Losslist_np))\n",
    "        \n",
    "    # update parameters\n",
    "    updates, opt_state = optimizer.update(g, opt_state)\n",
    "    paramset = optax.apply_updates(paramset, updates)\n",
    "    paramset = jax.tree_map(lambda x: jnp.clip(x, 0.0, 1e8), paramset)\n",
    "    \n",
    "    # upate ffinfo\n",
    "    lj_gen.overwrite(paramset)\n",
    "    prmop.overwriteLennardJones(prm_top, lj_gen.ffinfo)\n",
    "    prm_top.save(f\"loop-{nloop}.top\")\n",
    "    break\n",
    "\n"
   ]
  },
  {
   "cell_type": "code",
   "execution_count": 56,
   "metadata": {},
   "outputs": [
    {
     "name": "stdout",
     "output_type": "stream",
     "text": [
      "SAMPLE_liquid\n",
      "#\"Time (ps)\",\"Potential Energy (kJ/mole)\",\"Temperature (K)\",\"Density (g/mL)\",\"Speed (ns/day)\",\"Time Remaining\"\n",
      "0.02,8173.932404217377,6.703857642670677,0.5219787647741313,0,--\n",
      "0.04,8621.532058682706,13.061114815352228,0.5219787647741313,15.6,0:00\n",
      "0.06000000000000002,9020.91340330848,19.508548603822213,0.5219787647741313,16,0:00\n",
      "0.08000000000000003,9404.903082206589,25.197891467701712,0.5236844941653742,15.4,0:00\n",
      "0.10000000000000005,9767.991039853769,31.02650253047768,0.5236844941653742,15.6,0:00\n",
      "SAMPLE_GAS\n",
      "#\"Time (ps)\",\"Potential Energy (kJ/mole)\",\"Temperature (K)\",\"Density (g/mL)\",\"Speed (ns/day)\",\"Time Remaining\"\n",
      "0.02,51.96034450469789,4.588350418875178,0.0001793382192547754,0,--\n",
      "0.04,52.61792733776507,13.034562597753565,0.0001793382192547754,30.2,0:00\n",
      "0.06000000000000002,53.57526517610673,17.251957124479418,0.0001793382192547754,28.9,0:00\n",
      "RERUN\n"
     ]
    },
    {
     "name": "stderr",
     "output_type": "stream",
     "text": [
      "100%|██████████| 3/3 [00:00<00:00, 45.54it/s]\n",
      "100%|██████████| 1/1 [00:00<00:00, 96.25it/s]\n",
      "100%|██████████| 3/3 [00:00<00:00, 29.49it/s]\n"
     ]
    },
    {
     "name": "stdout",
     "output_type": "stream",
     "text": [
      "ESTIMATOR\n",
      "CALC han\n"
     ]
    }
   ],
   "source": [
    "os.system(\"cp GMX.top loop-0.top\")\n",
    "Losslist=[]\n",
    "enthalpy_of_evaporation_list=[]\n",
    "energy_gas_list=[]\n",
    "energy_liquid_list=[]\n",
    "nloop=1\n",
    "# sample liquid\n",
    "print(\"SAMPLE_liquid\")\n",
    "try:\n",
    "    runMD(f\"loop-{nloop-1}.top\", \"liquid.pdb\", f\"loop-{nloop}.dcd\", length=length_step)\n",
    "except:\n",
    "    runMD(f\"loop-{nloop-1}.top\", \"liquid.pdb\", f\"loop-{nloop}.dcd\", length=length_step)\n",
    "    \n",
    "# sample GAs\n",
    "print(\"SAMPLE_GAS\")\n",
    "\n",
    "try:\n",
    "    runMD_gas_NVT(f\"loop-{nloop-1}.top\", \"GAS.pdb\", f\"loop-{nloop}-gas.dcd\", length=skip_step+1)\n",
    "except:\n",
    "    runMD_gas_NVT(f\"loop-{nloop-1}.top\", \"GAS.pdb\", f\"loop-{nloop}-gas.dcd\", length=skip_step+1)\n",
    "    \n",
    "#重新计算能量   不可微的计算液态能量 、液态不包含LJ势能的能量 、气态能量\n",
    "print(\"RERUN\")\n",
    "ener = rerun_energy(\"liquid.pdb\", f\"loop-{nloop}.dcd\", f\"loop-{nloop-1}.top\", removeLJ=False, skip=skip_step)\n",
    "energy_liquid_list.append(ener.mean())\n",
    "ener_gas = rerun_energy_gas(\"GAS.pdb\", f\"loop-{nloop}-gas.dcd\", f\"loop-{nloop-1}.top\", removeLJ=False, skip=skip_step).mean()\n",
    "energy_gas_list.append(ener_gas)\n",
    "ener_no_lj = rerun_energy(\"liquid.pdb\", f\"loop-{nloop}.dcd\", f\"loop-{nloop-1}.top\", skip=skip_step)\n",
    "\n",
    "print(\"ESTIMATOR\")\n",
    "traj = md.load(f\"loop-{nloop}.dcd\", top=\"liquid.pdb\")[skip_step:]\n",
    "estimator = ReweightEstimator(ener, base_energies=ener_no_lj, volume=traj.unitcell_volumes)\n",
    "\n",
    "#计算当前蒸发焓\n",
    "print(\"CALC han\")\n",
    "ener_lquid_now = (ener / particle_number).mean()\n",
    "enthalpy_of_evaporation_now = ener_gas - ener_lquid_now + 8.314 * SET_temperature * 0.001\n",
    "enthalpy_of_evaporation_list.append(enthalpy_of_evaporation_now)\n",
    "with open('enthalpy_of_evaporation_list.txt', 'a') as f:\n",
    "    f.write(\"%s\\n\" % str(enthalpy_of_evaporation_now))\n"
   ]
  },
  {
   "cell_type": "code",
   "execution_count": 61,
   "metadata": {},
   "outputs": [
    {
     "name": "stderr",
     "output_type": "stream",
     "text": [
      "100%|██████████| 3/3 [00:00<00:00, 42.52it/s]\n"
     ]
    }
   ],
   "source": [
    "a = rerun_energy(\"liquid.pdb\", f\"loop-{nloop}.dcd\", f\"loop-{nloop-1}.top\", removeLJ=False, skip=skip_step)"
   ]
  },
  {
   "cell_type": "code",
   "execution_count": 62,
   "metadata": {},
   "outputs": [
    {
     "name": "stderr",
     "output_type": "stream",
     "text": [
      "100%|██████████| 3/3 [00:00<00:00,  7.12it/s]\n"
     ]
    }
   ],
   "source": [
    "b = rerun_energy(\"liquid.pdb\", f\"loop-{nloop}.dcd\", f\"loop-{nloop-1}.top\", removeLJ=True, skip=skip_step)"
   ]
  },
  {
   "cell_type": "code",
   "execution_count": 57,
   "metadata": {},
   "outputs": [
    {
     "name": "stdout",
     "output_type": "stream",
     "text": [
      "37.21659175121799\n"
     ]
    }
   ],
   "source": [
    "print(enthalpy_of_evaporation_now)"
   ]
  },
  {
   "cell_type": "code",
   "execution_count": 68,
   "metadata": {},
   "outputs": [
    {
     "name": "stderr",
     "output_type": "stream",
     "text": [
      "100%|██████████| 3/3 [00:01<00:00,  2.17it/s]"
     ]
    },
    {
     "name": "stdout",
     "output_type": "stream",
     "text": [
      "this is nframe 2\n",
      "[[3.4191964 3.3035588 4.1944   ]\n",
      " [3.4458673 3.3379915 4.0948067]\n",
      " [3.3057523 3.2243938 4.2152944]\n",
      " ...\n",
      " [5.4177365 3.5355847 2.864259 ]\n",
      " [5.326687  3.6647923 2.7327852]\n",
      " [5.2525873 3.6593964 2.6698024]]\n",
      "\n"
     ]
    },
    {
     "name": "stderr",
     "output_type": "stream",
     "text": [
      "\n"
     ]
    }
   ],
   "source": [
    "def rerun_dmff_lennard_jones(params, pdb, traj, efunc, skip=0):\n",
    "    samples = md.load(traj, top=pdb)[skip:]\n",
    "    energies = []\n",
    "    nblist = NeighborListFreud(samples.unitcell_vectors[0], 1.0, cov_mat)\n",
    "    xyzs_jnp = jnp.array(samples.xyz)\n",
    "    cell_jnp = jnp.array(samples.unitcell_vectors)\n",
    "    energies = []\n",
    "    nblist = NeighborListFreud(samples.unitcell_vectors[0], 1.0, cov_mat)\n",
    "    xyzs_jnp = jnp.array(samples.xyz)\n",
    "    cell_jnp = jnp.array(samples.unitcell_vectors)\n",
    "    energies = []\n",
    "    for nframe in trange(len(samples)):\n",
    "        frame = samples[nframe]\n",
    "        # calc pair\n",
    "        pairs = jnp.array(nblist.allocate(frame.xyz[0], frame.unitcell_vectors[0]))\n",
    "        ener = efunc(xyzs_jnp[nframe,:,:], cell_jnp[nframe,:,:], pairs, params)\n",
    "        energies.append(ener.reshape((1,)))\n",
    "    energies = jnp.concatenate(energies)\n",
    "    print(\"this is nframe\", nframe)\n",
    "    print(frame.xyz[0])\n",
    "    print()\n",
    "    return energies\n",
    "c = rerun_dmff_lennard_jones(paramset, \"liquid.pdb\", f\"loop-{nloop}.dcd\", lj_force, skip=skip_step)"
   ]
  },
  {
   "cell_type": "code",
   "execution_count": 65,
   "metadata": {},
   "outputs": [
    {
     "data": {
      "text/plain": [
       "Array([ 0.00010779, -0.00236301, -0.0025776 ], dtype=float64)"
      ]
     },
     "execution_count": 65,
     "metadata": {},
     "output_type": "execute_result"
    }
   ],
   "source": [
    "a-b-c"
   ]
  },
  {
   "cell_type": "code",
   "execution_count": null,
   "metadata": {},
   "outputs": [],
   "source": [
    "    \n",
    "# get loss & grad\n",
    "def loss(paramset):\n",
    "    lj_jax = rerun_dmff_lennard_jones(paramset, \"liquid.pdb\", f\"loop-{nloop}.dcd\", lj_force, skip=skip_step)\n",
    "    weight = estimator.estimate_weight(lj_jax)\n",
    "    ener_lquid = (weight * ener) / particle_number \n",
    "    ener_lquid = ener_lquid.mean()\n",
    "    enthalpy_of_evaporation = ener_gas - ener_lquid + 8.314*SET_temperature*0.001\n",
    "    return  jnp.power(enthalpy_of_evaporation - target_han, 2)\n",
    "\n",
    "v_and_g = jax.value_and_grad(loss, 0)\n",
    "v, g = v_and_g(paramset)\n",
    "print(\"Loss:\", v)\n",
    "Losslist.append(v)\n",
    "Losslist_np =jax.device_get(v)\n",
    "\n",
    "with open('Losslist.txt', 'a') as f:\n",
    "    f.write(\"%s\\n\" % str(Losslist_np))\n",
    "    \n",
    "# update parameters\n",
    "updates, opt_state = optimizer.update(g, opt_state)\n",
    "paramset = optax.apply_updates(paramset, updates)\n",
    "paramset = jax.tree_map(lambda x: jnp.clip(x, 0.0, 1e8), paramset)\n",
    "\n",
    "# upate ffinfo\n",
    "lj_gen.overwrite(paramset)\n",
    "prmop.overwriteLennardJones(prm_top, lj_gen.ffinfo)\n",
    "prm_top.save(f\"loop-{nloop}.top\")\n",
    "break\n"
   ]
  },
  {
   "cell_type": "code",
   "execution_count": 31,
   "metadata": {},
   "outputs": [
    {
     "data": {
      "text/plain": [
       "{'epsilon': Array([0.358824 , 0.06176  , 0.45673  , 0.0646888, 0.879314 , 0.001    ],      dtype=float64),\n",
       " 'epsilon_nbfix': Array([], dtype=float64),\n",
       " 'sigma': Array([0.338967, 0.260964, 0.338967, 0.246135, 0.305647, 0.      ],      dtype=float64),\n",
       " 'sigma_nbfix': Array([], dtype=float64)}"
      ]
     },
     "execution_count": 31,
     "metadata": {},
     "output_type": "execute_result"
    }
   ],
   "source": [
    "key = lj_gen.name\n",
    "paramset[key]"
   ]
  },
  {
   "cell_type": "code",
   "execution_count": 26,
   "metadata": {},
   "outputs": [
    {
     "name": "stdout",
     "output_type": "stream",
     "text": [
      "None\n"
     ]
    }
   ],
   "source": [
    "print(paramset.to_jax())"
   ]
  },
  {
   "cell_type": "code",
   "execution_count": 27,
   "metadata": {},
   "outputs": [
    {
     "name": "stderr",
     "output_type": "stream",
     "text": [
      "100%|██████████| 3/3 [00:02<00:00,  1.44it/s]\n"
     ]
    }
   ],
   "source": [
    "v, g = v_and_g(paramset)"
   ]
  },
  {
   "cell_type": "code",
   "execution_count": 29,
   "metadata": {},
   "outputs": [
    {
     "data": {
      "text/plain": [
       "<dmff.api.paramset.ParamSet at 0x7fe8c6cac850>"
      ]
     },
     "execution_count": 29,
     "metadata": {},
     "output_type": "execute_result"
    }
   ],
   "source": [
    "g"
   ]
  },
  {
   "cell_type": "code",
   "execution_count": 34,
   "metadata": {},
   "outputs": [],
   "source": [
    "samples = md.load(\"loop-11.dcd\",top=\"init.pdb\")"
   ]
  },
  {
   "cell_type": "code",
   "execution_count": 35,
   "metadata": {},
   "outputs": [
    {
     "data": {
      "text/plain": [
       "<mdtraj.Trajectory with 1 frames, 8000 atoms, 500 residues, and unitcells at 0x7fe8c78133d0>"
      ]
     },
     "execution_count": 35,
     "metadata": {},
     "output_type": "execute_result"
    }
   ],
   "source": [
    "samples[0]"
   ]
  },
  {
   "cell_type": "code",
   "execution_count": 37,
   "metadata": {},
   "outputs": [
    {
     "data": {
      "text/plain": [
       "array([[[4.415939, 0.      , 0.      ],\n",
       "        [0.      , 4.415939, 0.      ],\n",
       "        [0.      , 0.      , 4.415939]]], dtype=float32)"
      ]
     },
     "execution_count": 37,
     "metadata": {},
     "output_type": "execute_result"
    }
   ],
   "source": [
    "samples[0].unitcell_vectors"
   ]
  },
  {
   "cell_type": "code",
   "execution_count": 38,
   "metadata": {},
   "outputs": [
    {
     "data": {
      "text/plain": [
       "array([[[3.7995355, 2.9408348, 1.4133935],\n",
       "        [3.758309 , 2.847964 , 1.4520082],\n",
       "        [3.8661735, 2.9332044, 1.2929636],\n",
       "        ...,\n",
       "        [4.6403117, 2.387629 , 2.1475122],\n",
       "        [4.5987806, 2.212958 , 2.2514014],\n",
       "        [4.5509157, 2.174051 , 2.1760225]]], dtype=float32)"
      ]
     },
     "execution_count": 38,
     "metadata": {},
     "output_type": "execute_result"
    }
   ],
   "source": [
    "samples[0].xyz"
   ]
  },
  {
   "cell_type": "code",
   "execution_count": null,
   "metadata": {},
   "outputs": [],
   "source": []
  }
 ],
 "metadata": {
  "kernelspec": {
   "display_name": "dmff",
   "language": "python",
   "name": "python3"
  },
  "language_info": {
   "codemirror_mode": {
    "name": "ipython",
    "version": 3
   },
   "file_extension": ".py",
   "mimetype": "text/x-python",
   "name": "python",
   "nbconvert_exporter": "python",
   "pygments_lexer": "ipython3",
   "version": "3.11.6"
  },
  "orig_nbformat": 4
 },
 "nbformat": 4,
 "nbformat_minor": 2
}
